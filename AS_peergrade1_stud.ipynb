{
  "nbformat": 4,
  "nbformat_minor": 0,
  "metadata": {
    "colab": {
      "name": "AS-peergrade1-stud",
      "provenance": [],
      "authorship_tag": "ABX9TyOug1m4lJUnFf3kZlZ0HNMF",
      "include_colab_link": true
    },
    "kernelspec": {
      "name": "python3",
      "display_name": "Python 3"
    }
  },
  "cells": [
    {
      "cell_type": "markdown",
      "metadata": {
        "id": "view-in-github",
        "colab_type": "text"
      },
      "source": [
        "<a href=\"https://colab.research.google.com/github/RJuro/AS2021/blob/main/AS_peergrade1_stud.ipynb\" target=\"_parent\"><img src=\"https://colab.research.google.com/assets/colab-badge.svg\" alt=\"Open In Colab\"/></a>"
      ]
    },
    {
      "cell_type": "markdown",
      "metadata": {
        "id": "qMjR0Tf8wSYu"
      },
      "source": [
        "# Anvendt statistik – Opgave 1 \n",
        "## Peergrade opgave\n",
        "\n",
        "#### Rules of the game:\n",
        "\n",
        "- Don't panic! - Hvis koden ikke virker (men virkede før). Gå tilbage, og kør oppefra ned. Også en god ide at tjekke, at koden er fejlfri ved at gøre denne øvelse undervejs.\n",
        "- ... erstattes med kode\n",
        "- De fleste kodefejl er dumme stavefejl. Vær omhyggelig med kommaer, punkter etc.\n",
        "- Hvis der er noget, som slet ikke kan løses, så kan du bare kommentere ud med `#`\n",
        "- Husk, at output skal kunne ses (f.eks. dine plots)\n",
        "- Du må gerne arbejde i gruppe eller med andre...men du skal uploade self\n",
        "- Opgaven uploades anonymt\n",
        "- Brug objektnavne, der blev defineret i opgaven\n",
        "- Der afleveres som 👉 `PDF` - Se video om hvordan man gør her (su skal køre næste cell for at se den):\n",
        "- Hvor der skal skrives tekstsvar, skal du lave en ny text-cell\n",
        "\n"
      ]
    },
    {
      "cell_type": "code",
      "metadata": {
        "id": "yqfnpYvLAjWe",
        "colab": {
          "base_uri": "https://localhost:8080/",
          "height": 499
        },
        "outputId": "31220d74-a3ea-4101-ab0b-5ae7217a3174"
      },
      "source": [
        "from IPython.display import HTML\n",
        "\n",
        "HTML('<div style=\"position: relative; padding-bottom: 56.25%; height: 0;\"><iframe src=\"https://www.loom.com/embed/5aad27db6faa4c28afe9fc690f0b84d8\" frameborder=\"0\" webkitallowfullscreen mozallowfullscreen allowfullscreen style=\"position: absolute; top: 0; left: 0; width: 100%; height: 100%;\"></iframe></div>')"
      ],
      "execution_count": 1,
      "outputs": [
        {
          "output_type": "execute_result",
          "data": {
            "text/html": [
              "<div style=\"position: relative; padding-bottom: 56.25%; height: 0;\"><iframe src=\"https://www.loom.com/embed/5aad27db6faa4c28afe9fc690f0b84d8\" frameborder=\"0\" webkitallowfullscreen mozallowfullscreen allowfullscreen style=\"position: absolute; top: 0; left: 0; width: 100%; height: 100%;\"></iframe></div>"
            ],
            "text/plain": [
              "<IPython.core.display.HTML object>"
            ]
          },
          "metadata": {},
          "execution_count": 1
        }
      ]
    },
    {
      "cell_type": "markdown",
      "metadata": {
        "id": "6tehxZVGB8wF"
      },
      "source": [
        "#### Kommando til at lave en pæn afleverings PDF via HTML printout\n",
        "`jupyter nbconvert --to html \"/content/notebook.ipynb\"`"
      ]
    },
    {
      "cell_type": "markdown",
      "metadata": {
        "id": "WSHaKv07AyUl"
      },
      "source": [
        "# Opgaven:\n",
        "I denne opgave vil i blive introduceret for Kickstarter data. Kickstarter er en amerikansk internetplatform, hvor virksomheder og start-ups kan søge crowd-funding til interessante projekter og ideer.  \n",
        "Igennem denne opgave vil i blive bedt om at anvende Python (fx i Colab eller Anaconda) til at opnå indsigt i Kickstarter, med udgangspunkt i de funktioner og formler i er blevet introduceret til gennem undervisning og øvelser.   \n",
        "For at indlæse data, skal i bruge en URL, som vist i tidligere arbejdseksempler fra undervisning (både Titanic og Pingvindata). Til Kickstarter opgaven får i her udleveret link der giver adgang til data. \n",
        "Kickstarter URL: `https://sds-aau.github.io/IntroStat/Data/kickstarter.xlsx` (Hint: bruges sammen med pandas read_excel funktionen)"
      ]
    },
    {
      "cell_type": "markdown",
      "metadata": {
        "id": "2KJ2W5vRyIeK"
      },
      "source": [
        "### 1 Indlæsning af data: "
      ]
    },
    {
      "cell_type": "code",
      "metadata": {
        "id": "GUgpb-Ov0CGY"
      },
      "source": [
        "# Start med at hente de pakker i skal bruge. (pandas og seaborn)\n",
        "\n",
        "...\n",
        "..."
      ],
      "execution_count": null,
      "outputs": []
    },
    {
      "cell_type": "code",
      "metadata": {
        "id": "WcHgsCV10NA3"
      },
      "source": [
        "# Indlæs jeres data.  \n",
        "# Note/hint: I skal bruge pandas funktionen .read_excel(), som vist i Notebooks fra undervisning \n",
        "\n",
        "data = pd....('...' )"
      ],
      "execution_count": null,
      "outputs": []
    },
    {
      "cell_type": "markdown",
      "metadata": {
        "id": "k3Xd8FOoyMim"
      },
      "source": [
        "## 2 Første databehandling:"
      ]
    },
    {
      "cell_type": "code",
      "metadata": {
        "id": "meaHwaso0Zfu"
      },
      "source": [
        "# Vis de 5 første rækker af data.\n",
        "..."
      ],
      "execution_count": null,
      "outputs": []
    },
    {
      "cell_type": "code",
      "metadata": {
        "id": "NWZIKJLO0cto"
      },
      "source": [
        "# Giv et overblik over dataets informationer (brug indbygget funktion).\n",
        "\n",
        "..."
      ],
      "execution_count": null,
      "outputs": []
    },
    {
      "cell_type": "code",
      "metadata": {
        "id": "axdA0Ih2wgQm"
      },
      "source": [
        "# Drop manglende værdier på tværs af datasættet (dvs. hvis der mangler én variable for en observation, skal hele observationen ud). \n",
        "\n",
        "\n",
        "data = data....\n"
      ],
      "execution_count": null,
      "outputs": []
    },
    {
      "cell_type": "code",
      "metadata": {
        "id": "MgHeaIP20jzT"
      },
      "source": [
        "# Hvor mange observationer er der nu tilbage? \n",
        "..."
      ],
      "execution_count": null,
      "outputs": []
    },
    {
      "cell_type": "markdown",
      "metadata": {
        "id": "3eGOvtbhyVAs"
      },
      "source": [
        "## 3 Frekvensberegninger & nøgletal:"
      ]
    },
    {
      "cell_type": "markdown",
      "metadata": {
        "id": "uxVGdJEh_HLD"
      },
      "source": [
        "Giv et overblik over hvor mange forskellige kategorier (main_category) der er på Kickstarter?"
      ]
    },
    {
      "cell_type": "code",
      "metadata": {
        "id": "0bPidwBDydk2"
      },
      "source": [
        "..."
      ],
      "execution_count": null,
      "outputs": []
    },
    {
      "cell_type": "markdown",
      "metadata": {
        "id": "M6_CEv0X_d21"
      },
      "source": [
        "Lav en oversigt over hvor mange projekter der er i de 10 mest populære kategorier.  \n",
        "\n",
        "_Hint: Beregn først hvor mange der er i alle kategorier og så kan du bruge indexing til at vise de første 10 à `objekt[:10]`_\n",
        "[mere om det her](\n",
        "https://jakevdp.github.io/PythonDataScienceHandbook/03.02-data-indexing-and-selection.html) "
      ]
    },
    {
      "cell_type": "code",
      "metadata": {
        "id": "cyZ3EdFo0lZc"
      },
      "source": [
        "..."
      ],
      "execution_count": null,
      "outputs": []
    },
    {
      "cell_type": "markdown",
      "metadata": {
        "id": "hxZFU7wn_p7p"
      },
      "source": [
        "Kan du se hvilken kategori der er mest populær? "
      ]
    },
    {
      "cell_type": "code",
      "metadata": {
        "id": "jsZVncQP07hQ"
      },
      "source": [
        "# Giv et overblik over hvor mange lande der er repræsenteret på Kickstarter \n",
        "# Hvor mange danske projekter er der på Kickstarter?  \n",
        "\n",
        "..."
      ],
      "execution_count": null,
      "outputs": []
    },
    {
      "cell_type": "markdown",
      "metadata": {
        "id": "vM4mYf9BC_Ty"
      },
      "source": [
        "DK har ... projekter"
      ]
    },
    {
      "cell_type": "code",
      "metadata": {
        "id": "Ne_BYq2U2hWq"
      },
      "source": [
        "# Hvor meget funding søger projekterne i gennemsnit på tværs af platformen?\n",
        "# Hint: brug variablen ”goal” til at finde det gennemsnitlige indsamlingsmål \n",
        "\n",
        "..."
      ],
      "execution_count": null,
      "outputs": []
    },
    {
      "cell_type": "code",
      "metadata": {
        "id": "QpX-tUvqDHWa"
      },
      "source": [
        "# Beregn 1. og 3. kvartil for samme variable. (flere muligheder at gøre det)\n",
        "..."
      ],
      "execution_count": null,
      "outputs": []
    },
    {
      "cell_type": "code",
      "metadata": {
        "id": "4tAX4Gs_2rX2"
      },
      "source": [
        "# Giv et overblik over hvor meget de forskellige kategorier i gennemsnit søger i funding og vise de top10 kategorier.  \n",
        "# Hint: Her kan der tilføjes ” .sort_values(ascending=False)” for at sortere fra højeste til laveste. \n",
        "\n",
        "data.groupby('...').....mean().sort_values(ascending=False)[:10]"
      ],
      "execution_count": null,
      "outputs": []
    },
    {
      "cell_type": "code",
      "metadata": {
        "id": "qbidCiqY3QI5"
      },
      "source": [
        "# Lav den samme beregning for median. \n",
        "# Bonus: Hvilken kategori søger i gennemsnit/median mest funding, og hvor meget? \n",
        "# Der er ret store forskelle mellem median og gennemsnit her. Har du nogle ideer om hvorfor?  \n",
        "\n",
        "..."
      ],
      "execution_count": null,
      "outputs": []
    },
    {
      "cell_type": "markdown",
      "metadata": {
        "id": "kqKiHdSK0R1a"
      },
      "source": [
        "De fleste projekter søger noget omkring 20k i funding. Men der må være en del outliers med store beløb, som driver gennemsnit op."
      ]
    },
    {
      "cell_type": "code",
      "metadata": {
        "id": "PenYhZMF5FvJ"
      },
      "source": [
        "# Hvor mange støtter (brug variablen ”backers”) har Kickstarter projekterne? \n",
        "# Brug nøgletal til at beskrive gennemsnit, kvartiler og min- og maxværdier på \n",
        "# tværs af samtlige projekter. Hvad kan du sige om den her fordeling? \n",
        "# Hvad siger det (muligvis) om de forskellige projekter? \n",
        "\n",
        "..."
      ],
      "execution_count": null,
      "outputs": []
    },
    {
      "cell_type": "markdown",
      "metadata": {
        "id": "HbOEZlLv0mf5"
      },
      "source": [
        "Gennemsnitlig har projekter 100 støtter. Men værdien er ikke repræsentativ for de fleste projekter pga. en højreskæv fordeling. De fleste projekter vil typisk have mellem 2 og 54 støtter. \n",
        "Projekter med mere end 132 støtter kan betragtes som outliers og atypiske."
      ]
    },
    {
      "cell_type": "markdown",
      "metadata": {
        "id": "sR_2iVEm2SfN"
      },
      "source": [
        "# 4 Visualisering (ikke nemt 😎) "
      ]
    },
    {
      "cell_type": "code",
      "metadata": {
        "id": "dIM7bsc_8ADL"
      },
      "source": [
        "# Histogram over ‘usd_pledged_real’ \n",
        "\n",
        "..."
      ],
      "execution_count": null,
      "outputs": []
    },
    {
      "cell_type": "code",
      "metadata": {
        "id": "5QR0U8-W5bF6"
      },
      "source": [
        "# Boxplot, der viser fordelinger for ‘usd_pledged_real’ vs success (’state’)  \n",
        "\n",
        "..."
      ],
      "execution_count": null,
      "outputs": []
    },
    {
      "cell_type": "code",
      "metadata": {
        "id": "nH5TIW8E7qWp"
      },
      "source": [
        "# En udgave af datasættet uden outliers (værdier for usd_pledged_real over 90 percentil) \n",
        "# og plot de to grafer igen. \n",
        "data_filter = ..."
      ],
      "execution_count": null,
      "outputs": []
    },
    {
      "cell_type": "code",
      "metadata": {
        "id": "WjOFhBa38Ln0"
      },
      "source": [
        "..."
      ],
      "execution_count": null,
      "outputs": []
    },
    {
      "cell_type": "code",
      "metadata": {
        "id": "tIRKMfkO8YMf"
      },
      "source": [
        "..."
      ],
      "execution_count": null,
      "outputs": []
    },
    {
      "cell_type": "markdown",
      "metadata": {
        "id": "rmZTeStkEdrH"
      },
      "source": [
        "#### Fortolk graferne"
      ]
    },
    {
      "cell_type": "markdown",
      "metadata": {
        "id": "6NohvAYU2lH8"
      },
      "source": [
        "blah blah blah...\n"
      ]
    }
  ]
}