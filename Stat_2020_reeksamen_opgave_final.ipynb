{
  "nbformat": 4,
  "nbformat_minor": 0,
  "metadata": {
    "colab": {
      "name": "Stat 2020 - reeksamen - opgave_final",
      "provenance": [],
      "collapsed_sections": [],
      "include_colab_link": true
    },
    "kernelspec": {
      "name": "python3",
      "display_name": "Python 3"
    }
  },
  "cells": [
    {
      "cell_type": "markdown",
      "metadata": {
        "id": "view-in-github",
        "colab_type": "text"
      },
      "source": [
        "<a href=\"https://colab.research.google.com/github/RJuro/AS2021/blob/main/Stat_2020_reeksamen_opgave_final.ipynb\" target=\"_parent\"><img src=\"https://colab.research.google.com/assets/colab-badge.svg\" alt=\"Open In Colab\"/></a>"
      ]
    },
    {
      "cell_type": "markdown",
      "metadata": {
        "id": "gA5nKImMnF5F"
      },
      "source": [
        "### Anvendt Statisik - Re-eksamen \n",
        "### HA E2020"
      ]
    },
    {
      "cell_type": "markdown",
      "metadata": {
        "id": "15AGw5oFnXyS"
      },
      "source": [
        "I denne opgave bliver i introduceret for Amerikanske huspriser, baseret på opslag fra den private salgsdatabase Craigslist\n",
        "\n",
        "![](https://source.unsplash.com/C0OhW5_W6hw)\n",
        "\n",
        "Notebook'en guider dig igennem opgaven. Priser fortolkes i amerikanske dollars ($). \n",
        "\n",
        "Dataset er baseret på datasæt fra http://kaggle.com/\n",
        "uploadet i 2019."
      ]
    },
    {
      "cell_type": "code",
      "metadata": {
        "id": "ZzsNtkE3nWrP"
      },
      "source": [
        "# Importer de pakker der skal bruges til at besvare opgaven her\n",
        "import pandas as pd\n",
        "pd.set_option('display.float_format', lambda x: '%.5f' % x) # slukker for \"scientific notation\"\n",
        "\n",
        "import seaborn as sns\n",
        "sns.set()"
      ],
      "execution_count": 1,
      "outputs": []
    },
    {
      "cell_type": "markdown",
      "metadata": {
        "id": "8zLHhPCEpoXq"
      },
      "source": [
        "data findes på digital eksamen - kan også hentes med link fra Github: https://github.com/SDS-AAU/IntroStat/raw/master/Data/housing_cleaned.csv\n",
        "\n",
        "**Hvis der kommer fejl. Og du kommer ikke videre f.eks in DF er ubrugelig** Lad være med at gå i panik! Gem din notebook, (måske) genstart kernel, kør cellerne oppefra ned (I Colab: automatisk med \"Runtime\" --> \"Run before\"; Jupyter Lab \"Run\" --> \"Run all above selected cell\")\n",
        "\n",
        "Besvarelser (tekst) skrives i felter med \"Svar: ...\" ikke som kommentar i kode-celler"
      ]
    },
    {
      "cell_type": "markdown",
      "metadata": {
        "id": "UCN42eXkBR-d"
      },
      "source": [
        "**1**"
      ]
    },
    {
      "cell_type": "code",
      "metadata": {
        "id": "0dvKxvHpmtIf"
      },
      "source": [
        "# Indlæs data (housing_cleaned.csv)\n",
        "df = pd.read_csv('https://github.com/SDS-AAU/IntroStat/raw/master/Data/housing_cleaned.csv')"
      ],
      "execution_count": 2,
      "outputs": []
    },
    {
      "cell_type": "code",
      "metadata": {
        "colab": {
          "base_uri": "https://localhost:8080/",
          "height": 203
        },
        "id": "8IhBLZzMp_yz",
        "outputId": "e26a6f23-adba-4d90-f67a-8aaa64c5a99c"
      },
      "source": [
        "# vis de første fem rækker af data\n",
        "df.head()"
      ],
      "execution_count": 3,
      "outputs": [
        {
          "output_type": "execute_result",
          "data": {
            "text/html": [
              "<div>\n",
              "<style scoped>\n",
              "    .dataframe tbody tr th:only-of-type {\n",
              "        vertical-align: middle;\n",
              "    }\n",
              "\n",
              "    .dataframe tbody tr th {\n",
              "        vertical-align: top;\n",
              "    }\n",
              "\n",
              "    .dataframe thead th {\n",
              "        text-align: right;\n",
              "    }\n",
              "</style>\n",
              "<table border=\"1\" class=\"dataframe\">\n",
              "  <thead>\n",
              "    <tr style=\"text-align: right;\">\n",
              "      <th></th>\n",
              "      <th>Unnamed: 0</th>\n",
              "      <th>region</th>\n",
              "      <th>price</th>\n",
              "      <th>type</th>\n",
              "      <th>sqfeet</th>\n",
              "      <th>beds</th>\n",
              "      <th>baths</th>\n",
              "      <th>cats_allowed</th>\n",
              "      <th>dogs_allowed</th>\n",
              "      <th>smoking_allowed</th>\n",
              "      <th>wheelchair_access</th>\n",
              "      <th>electric_vehicle_charge</th>\n",
              "      <th>comes_furnished</th>\n",
              "      <th>laundry_options</th>\n",
              "      <th>parking_options</th>\n",
              "      <th>state</th>\n",
              "    </tr>\n",
              "  </thead>\n",
              "  <tbody>\n",
              "    <tr>\n",
              "      <th>0</th>\n",
              "      <td>31147</td>\n",
              "      <td>washington, DC</td>\n",
              "      <td>1199</td>\n",
              "      <td>apartment</td>\n",
              "      <td>695</td>\n",
              "      <td>1</td>\n",
              "      <td>1.00000</td>\n",
              "      <td>1</td>\n",
              "      <td>1</td>\n",
              "      <td>1</td>\n",
              "      <td>0</td>\n",
              "      <td>0</td>\n",
              "      <td>0</td>\n",
              "      <td>laundry on site</td>\n",
              "      <td>off-street parking</td>\n",
              "      <td>dc</td>\n",
              "    </tr>\n",
              "    <tr>\n",
              "      <th>1</th>\n",
              "      <td>264722</td>\n",
              "      <td>columbia</td>\n",
              "      <td>905</td>\n",
              "      <td>apartment</td>\n",
              "      <td>950</td>\n",
              "      <td>2</td>\n",
              "      <td>2.00000</td>\n",
              "      <td>0</td>\n",
              "      <td>0</td>\n",
              "      <td>1</td>\n",
              "      <td>0</td>\n",
              "      <td>0</td>\n",
              "      <td>0</td>\n",
              "      <td>NaN</td>\n",
              "      <td>NaN</td>\n",
              "      <td>sc</td>\n",
              "    </tr>\n",
              "    <tr>\n",
              "      <th>2</th>\n",
              "      <td>169218</td>\n",
              "      <td>southeast missouri</td>\n",
              "      <td>700</td>\n",
              "      <td>house</td>\n",
              "      <td>1700</td>\n",
              "      <td>3</td>\n",
              "      <td>2.50000</td>\n",
              "      <td>1</td>\n",
              "      <td>0</td>\n",
              "      <td>0</td>\n",
              "      <td>0</td>\n",
              "      <td>0</td>\n",
              "      <td>0</td>\n",
              "      <td>w/d in unit</td>\n",
              "      <td>off-street parking</td>\n",
              "      <td>mo</td>\n",
              "    </tr>\n",
              "    <tr>\n",
              "      <th>3</th>\n",
              "      <td>268564</td>\n",
              "      <td>hilton head</td>\n",
              "      <td>1400</td>\n",
              "      <td>townhouse</td>\n",
              "      <td>1350</td>\n",
              "      <td>3</td>\n",
              "      <td>2.50000</td>\n",
              "      <td>0</td>\n",
              "      <td>0</td>\n",
              "      <td>0</td>\n",
              "      <td>0</td>\n",
              "      <td>0</td>\n",
              "      <td>0</td>\n",
              "      <td>w/d in unit</td>\n",
              "      <td>NaN</td>\n",
              "      <td>sc</td>\n",
              "    </tr>\n",
              "    <tr>\n",
              "      <th>4</th>\n",
              "      <td>105979</td>\n",
              "      <td>des moines</td>\n",
              "      <td>875</td>\n",
              "      <td>apartment</td>\n",
              "      <td>976</td>\n",
              "      <td>2</td>\n",
              "      <td>2.00000</td>\n",
              "      <td>1</td>\n",
              "      <td>1</td>\n",
              "      <td>1</td>\n",
              "      <td>0</td>\n",
              "      <td>0</td>\n",
              "      <td>0</td>\n",
              "      <td>w/d in unit</td>\n",
              "      <td>attached garage</td>\n",
              "      <td>ia</td>\n",
              "    </tr>\n",
              "  </tbody>\n",
              "</table>\n",
              "</div>"
            ],
            "text/plain": [
              "   Unnamed: 0              region  ...     parking_options state\n",
              "0       31147      washington, DC  ...  off-street parking    dc\n",
              "1      264722            columbia  ...                 NaN    sc\n",
              "2      169218  southeast missouri  ...  off-street parking    mo\n",
              "3      268564         hilton head  ...                 NaN    sc\n",
              "4      105979          des moines  ...     attached garage    ia\n",
              "\n",
              "[5 rows x 16 columns]"
            ]
          },
          "metadata": {},
          "execution_count": 3
        }
      ]
    },
    {
      "cell_type": "code",
      "metadata": {
        "colab": {
          "base_uri": "https://localhost:8080/"
        },
        "id": "GbJ6cZPzqIbc",
        "outputId": "1d367cb2-b723-4dc6-e386-f3369b53f7b5"
      },
      "source": [
        "# vis information om variable og observationer i data \n",
        "df.info()"
      ],
      "execution_count": 4,
      "outputs": [
        {
          "output_type": "stream",
          "name": "stdout",
          "text": [
            "<class 'pandas.core.frame.DataFrame'>\n",
            "RangeIndex: 25000 entries, 0 to 24999\n",
            "Data columns (total 16 columns):\n",
            " #   Column                   Non-Null Count  Dtype  \n",
            "---  ------                   --------------  -----  \n",
            " 0   Unnamed: 0               25000 non-null  int64  \n",
            " 1   region                   25000 non-null  object \n",
            " 2   price                    25000 non-null  int64  \n",
            " 3   type                     25000 non-null  object \n",
            " 4   sqfeet                   25000 non-null  int64  \n",
            " 5   beds                     25000 non-null  int64  \n",
            " 6   baths                    25000 non-null  float64\n",
            " 7   cats_allowed             25000 non-null  int64  \n",
            " 8   dogs_allowed             25000 non-null  int64  \n",
            " 9   smoking_allowed          25000 non-null  int64  \n",
            " 10  wheelchair_access        25000 non-null  int64  \n",
            " 11  electric_vehicle_charge  25000 non-null  int64  \n",
            " 12  comes_furnished          25000 non-null  int64  \n",
            " 13  laundry_options          19886 non-null  object \n",
            " 14  parking_options          15902 non-null  object \n",
            " 15  state                    25000 non-null  object \n",
            "dtypes: float64(1), int64(10), object(5)\n",
            "memory usage: 3.1+ MB\n"
          ]
        }
      ]
    },
    {
      "cell_type": "markdown",
      "metadata": {
        "id": "uvuj2socBmgE"
      },
      "source": [
        "**2**"
      ]
    },
    {
      "cell_type": "code",
      "metadata": {
        "colab": {
          "base_uri": "https://localhost:8080/"
        },
        "id": "wW8aX9PgqUbQ",
        "outputId": "d7d8a06d-9a55-4eff-ea42-aaba28837809"
      },
      "source": [
        "# giv et overblik over, hvor mange missing der er i hver variabel (med funktion, ikke udledt fra ovenstående)\n",
        "df.isnull().sum()"
      ],
      "execution_count": 5,
      "outputs": [
        {
          "output_type": "execute_result",
          "data": {
            "text/plain": [
              "Unnamed: 0                    0\n",
              "region                        0\n",
              "price                         0\n",
              "type                          0\n",
              "sqfeet                        0\n",
              "beds                          0\n",
              "baths                         0\n",
              "cats_allowed                  0\n",
              "dogs_allowed                  0\n",
              "smoking_allowed               0\n",
              "wheelchair_access             0\n",
              "electric_vehicle_charge       0\n",
              "comes_furnished               0\n",
              "laundry_options            5114\n",
              "parking_options            9098\n",
              "state                         0\n",
              "dtype: int64"
            ]
          },
          "metadata": {},
          "execution_count": 5
        }
      ]
    },
    {
      "cell_type": "markdown",
      "metadata": {
        "id": "m22cZpJoBrew"
      },
      "source": [
        "**3**"
      ]
    },
    {
      "cell_type": "code",
      "metadata": {
        "colab": {
          "base_uri": "https://localhost:8080/"
        },
        "id": "NYFmAdeUrboO",
        "outputId": "f183f628-c891-4330-aa95-bd9528b10b91"
      },
      "source": [
        "# give et overblik over prisfordeling (min, max, median, std.afvigelse - 1 Pandas funktion) \n",
        "df.price.describe()"
      ],
      "execution_count": 6,
      "outputs": [
        {
          "output_type": "execute_result",
          "data": {
            "text/plain": [
              "count      25000.00000\n",
              "mean        1764.99220\n",
              "std        65978.99022\n",
              "min            0.00000\n",
              "25%          801.00000\n",
              "50%         1029.00000\n",
              "75%         1399.00000\n",
              "max     10321189.00000\n",
              "Name: price, dtype: float64"
            ]
          },
          "metadata": {},
          "execution_count": 6
        }
      ]
    },
    {
      "cell_type": "markdown",
      "metadata": {
        "id": "KrumwaI9B18v"
      },
      "source": [
        "**4**"
      ]
    },
    {
      "cell_type": "code",
      "metadata": {
        "colab": {
          "base_uri": "https://localhost:8080/",
          "height": 80
        },
        "id": "l41bHlPNrsao",
        "outputId": "9465877a-c13f-4917-e2b8-59642d12ea37"
      },
      "source": [
        "# find den række med det dyreste hus/lejlighed. Det er nemmest ved at \n",
        "# Ud fra de informationer du har samlet indtil videre: Er det en sansynlig pris eller en fejl (f.eks. dataindsampling, stavefejl)?\n",
        "\n",
        "df.loc[df['price'] == 10321189]"
      ],
      "execution_count": 7,
      "outputs": [
        {
          "output_type": "execute_result",
          "data": {
            "text/html": [
              "<div>\n",
              "<style scoped>\n",
              "    .dataframe tbody tr th:only-of-type {\n",
              "        vertical-align: middle;\n",
              "    }\n",
              "\n",
              "    .dataframe tbody tr th {\n",
              "        vertical-align: top;\n",
              "    }\n",
              "\n",
              "    .dataframe thead th {\n",
              "        text-align: right;\n",
              "    }\n",
              "</style>\n",
              "<table border=\"1\" class=\"dataframe\">\n",
              "  <thead>\n",
              "    <tr style=\"text-align: right;\">\n",
              "      <th></th>\n",
              "      <th>Unnamed: 0</th>\n",
              "      <th>region</th>\n",
              "      <th>price</th>\n",
              "      <th>type</th>\n",
              "      <th>sqfeet</th>\n",
              "      <th>beds</th>\n",
              "      <th>baths</th>\n",
              "      <th>cats_allowed</th>\n",
              "      <th>dogs_allowed</th>\n",
              "      <th>smoking_allowed</th>\n",
              "      <th>wheelchair_access</th>\n",
              "      <th>electric_vehicle_charge</th>\n",
              "      <th>comes_furnished</th>\n",
              "      <th>laundry_options</th>\n",
              "      <th>parking_options</th>\n",
              "      <th>state</th>\n",
              "    </tr>\n",
              "  </thead>\n",
              "  <tbody>\n",
              "    <tr>\n",
              "      <th>19132</th>\n",
              "      <td>15023</td>\n",
              "      <td>visalia-tulare</td>\n",
              "      <td>10321189</td>\n",
              "      <td>apartment</td>\n",
              "      <td>729</td>\n",
              "      <td>3</td>\n",
              "      <td>2.00000</td>\n",
              "      <td>0</td>\n",
              "      <td>0</td>\n",
              "      <td>0</td>\n",
              "      <td>0</td>\n",
              "      <td>0</td>\n",
              "      <td>0</td>\n",
              "      <td>laundry on site</td>\n",
              "      <td>carport</td>\n",
              "      <td>ca</td>\n",
              "    </tr>\n",
              "  </tbody>\n",
              "</table>\n",
              "</div>"
            ],
            "text/plain": [
              "       Unnamed: 0          region  ...  parking_options state\n",
              "19132       15023  visalia-tulare  ...          carport    ca\n",
              "\n",
              "[1 rows x 16 columns]"
            ]
          },
          "metadata": {},
          "execution_count": 7
        }
      ]
    },
    {
      "cell_type": "markdown",
      "metadata": {
        "id": "O6mxf71X68aR"
      },
      "source": [
        "Svar: ..."
      ]
    },
    {
      "cell_type": "markdown",
      "metadata": {
        "id": "_MlPeVo9B42a"
      },
      "source": [
        "**5**"
      ]
    },
    {
      "cell_type": "code",
      "metadata": {
        "id": "xIrGJTzGsL1h"
      },
      "source": [
        "# Med udgangspunkt i \"price\", beskær datasættet til 99. percentil (99 ekskl.) - brug dette datasæt fremadrettet!!!\n",
        "df = df[df.price < df.price.quantile(.99)]"
      ],
      "execution_count": 8,
      "outputs": []
    },
    {
      "cell_type": "markdown",
      "metadata": {
        "id": "Mk-vZCn-B7sn"
      },
      "source": [
        "**6**"
      ]
    },
    {
      "cell_type": "code",
      "metadata": {
        "colab": {
          "base_uri": "https://localhost:8080/"
        },
        "id": "u_teZJyPsNWm",
        "outputId": "155aed65-9b29-4db5-ab49-587d1b79565a"
      },
      "source": [
        "# give et overblik over prisfordeling (min, max, median, std.afvigelse) i det afgrænsede datasæt for at sikre\n",
        "# at ekstremværdier er ude\n",
        "\n",
        "# Hvor mange observationer blev slettet fra dine data?\n",
        "\n",
        "df.price.describe()"
      ],
      "execution_count": 9,
      "outputs": [
        {
          "output_type": "execute_result",
          "data": {
            "text/plain": [
              "count   24749.00000\n",
              "mean     1147.26555\n",
              "std       500.06236\n",
              "min         0.00000\n",
              "25%       800.00000\n",
              "50%      1025.00000\n",
              "75%      1388.00000\n",
              "max      3344.00000\n",
              "Name: price, dtype: float64"
            ]
          },
          "metadata": {},
          "execution_count": 9
        }
      ]
    },
    {
      "cell_type": "markdown",
      "metadata": {
        "id": "0MaPl5CN8IVs"
      },
      "source": [
        "Svar: ..."
      ]
    },
    {
      "cell_type": "markdown",
      "metadata": {
        "id": "LtfVFWgqCAdw"
      },
      "source": [
        "**7**"
      ]
    },
    {
      "cell_type": "code",
      "metadata": {
        "colab": {
          "base_uri": "https://localhost:8080/",
          "height": 355
        },
        "id": "qfXJWlNYsWMS",
        "outputId": "926e6c4b-492e-43f1-90da-7fd14643a42b"
      },
      "source": [
        "# Lav et histogram over prisfordelingen og redegør kort for hvad der kan aflæses.\n",
        "\n",
        "sns.distplot(df.price)"
      ],
      "execution_count": 10,
      "outputs": [
        {
          "output_type": "stream",
          "name": "stderr",
          "text": [
            "/usr/local/lib/python3.7/dist-packages/seaborn/distributions.py:2619: FutureWarning: `distplot` is a deprecated function and will be removed in a future version. Please adapt your code to use either `displot` (a figure-level function with similar flexibility) or `histplot` (an axes-level function for histograms).\n",
            "  warnings.warn(msg, FutureWarning)\n"
          ]
        },
        {
          "output_type": "execute_result",
          "data": {
            "text/plain": [
              "<matplotlib.axes._subplots.AxesSubplot at 0x7f76c03225d0>"
            ]
          },
          "metadata": {},
          "execution_count": 10
        },
        {
          "output_type": "display_data",
          "data": {
            "image/png": "[encoded data removed]",
            "text/plain": [
              "<Figure size 432x288 with 1 Axes>"
            ]
          },
          "metadata": {
            "needs_background": "light"
          }
        }
      ]
    },
    {
      "cell_type": "markdown",
      "metadata": {
        "id": "WeNdE30B8L_J"
      },
      "source": [
        "Svar: ..."
      ]
    },
    {
      "cell_type": "markdown",
      "metadata": {
        "id": "xGZfV_oyCOUE"
      },
      "source": [
        "**8**"
      ]
    },
    {
      "cell_type": "code",
      "metadata": {
        "colab": {
          "base_uri": "https://localhost:8080/"
        },
        "id": "0bo2-m4RuN5f",
        "outputId": "8846a2cb-6a4a-4572-d0e6-8b645ce0fc1b"
      },
      "source": [
        "# Hvor mange forskellige typer udlejningsboliger findes der i data, og hvor mange observationer er der af hver? (brug variablen \"type\")\n",
        "df['type'].value_counts() "
      ],
      "execution_count": 11,
      "outputs": [
        {
          "output_type": "execute_result",
          "data": {
            "text/plain": [
              "apartment          20474\n",
              "house               2143\n",
              "townhouse           1037\n",
              "condo                373\n",
              "duplex               324\n",
              "manufactured         266\n",
              "cottage/cabin         61\n",
              "loft                  37\n",
              "flat                  25\n",
              "in-law                 8\n",
              "assisted living        1\n",
              "Name: type, dtype: int64"
            ]
          },
          "metadata": {},
          "execution_count": 11
        }
      ]
    },
    {
      "cell_type": "markdown",
      "metadata": {
        "id": "-osoev4CCjzO"
      },
      "source": [
        "9"
      ]
    },
    {
      "cell_type": "code",
      "metadata": {
        "colab": {
          "base_uri": "https://localhost:8080/"
        },
        "id": "933zfD2osm32",
        "outputId": "2b167094-5d24-47cc-ae21-c19b25a32b16"
      },
      "source": [
        "# Vis median for \"price\" grupperet på \"type\" \n",
        "# Hvilken type er det dyreste?  \n",
        "df.groupby('type').price.median().sort_values(ascending=False)"
      ],
      "execution_count": 12,
      "outputs": [
        {
          "output_type": "execute_result",
          "data": {
            "text/plain": [
              "type\n",
              "flat              1304.00000\n",
              "condo             1300.00000\n",
              "loft              1190.00000\n",
              "house             1180.00000\n",
              "townhouse         1099.00000\n",
              "cottage/cabin     1050.00000\n",
              "duplex            1049.50000\n",
              "apartment         1014.00000\n",
              "in-law             995.00000\n",
              "manufactured       899.00000\n",
              "assisted living    175.00000\n",
              "Name: price, dtype: float64"
            ]
          },
          "metadata": {},
          "execution_count": 12
        }
      ]
    },
    {
      "cell_type": "markdown",
      "metadata": {
        "id": "LYEb9yEXNk4S"
      },
      "source": [
        "Svar: ..."
      ]
    },
    {
      "cell_type": "markdown",
      "metadata": {
        "id": "TS1k2LNBCmGK"
      },
      "source": [
        "10"
      ]
    },
    {
      "cell_type": "code",
      "metadata": {
        "colab": {
          "base_uri": "https://localhost:8080/",
          "height": 302
        },
        "id": "UI9Gn9_6u2Ew",
        "outputId": "4752902b-f072-4e5f-c22a-93d329f8cc49"
      },
      "source": [
        "# lav et boxplot over den gennemsnitlige \"price\" fordelt på type\n",
        "# Fortolk og samenlign \"appartment\" vs \"house\" ud fra boxplot for de 2 kategorier\n",
        "\n",
        "sns.boxplot(data = df, x = \"price\", y = \"type\")"
      ],
      "execution_count": 13,
      "outputs": [
        {
          "output_type": "execute_result",
          "data": {
            "text/plain": [
              "<matplotlib.axes._subplots.AxesSubplot at 0x7f76b56d7dd0>"
            ]
          },
          "metadata": {},
          "execution_count": 13
        },
        {
          "output_type": "display_data",
          "data": {
            "image/png": "[encoded data removed]",
            "text/plain": [
              "<Figure size 432x288 with 1 Axes>"
            ]
          },
          "metadata": {
            "needs_background": "light"
          }
        }
      ]
    },
    {
      "cell_type": "markdown",
      "metadata": {
        "id": "hA4x2CEb8Rjz"
      },
      "source": [
        "Svar: ..."
      ]
    },
    {
      "cell_type": "markdown",
      "metadata": {
        "id": "UolsBzDmCq-v"
      },
      "source": [
        "11"
      ]
    },
    {
      "cell_type": "code",
      "metadata": {
        "id": "4dFknFjuvzAc"
      },
      "source": [
        "# Filtrer igen datasættet, denne gang med udgangspunkt  i de 5 mest udbredte boligtyper (apartment, house, townhouse, condo, duplex)\n",
        "# brug dette datasæt fremadrettet!!!\n",
        "df = df[df['type'].isin(['apartment', 'house', 'townhouse', 'condo', 'duplex'])]"
      ],
      "execution_count": 14,
      "outputs": []
    },
    {
      "cell_type": "markdown",
      "metadata": {
        "id": "zFF1WrzNDfBn"
      },
      "source": [
        "12"
      ]
    },
    {
      "cell_type": "code",
      "metadata": {
        "colab": {
          "base_uri": "https://localhost:8080/",
          "height": 234
        },
        "id": "s_fvgM0IxnXD",
        "outputId": "352d5635-67e5-47ba-859e-71f2ee2d97d4"
      },
      "source": [
        "# Undersøg om boligerne er dyrere eller billigere hvis hunde er tilladt. \n",
        "# Brug krydstabulering på tværs af ovenstående filtrering, og aggreger median \n",
        "pd.crosstab(df['type'], df['dogs_allowed'], values=df['price'], aggfunc='median')"
      ],
      "execution_count": 15,
      "outputs": [
        {
          "output_type": "execute_result",
          "data": {
            "text/html": [
              "<div>\n",
              "<style scoped>\n",
              "    .dataframe tbody tr th:only-of-type {\n",
              "        vertical-align: middle;\n",
              "    }\n",
              "\n",
              "    .dataframe tbody tr th {\n",
              "        vertical-align: top;\n",
              "    }\n",
              "\n",
              "    .dataframe thead th {\n",
              "        text-align: right;\n",
              "    }\n",
              "</style>\n",
              "<table border=\"1\" class=\"dataframe\">\n",
              "  <thead>\n",
              "    <tr style=\"text-align: right;\">\n",
              "      <th>dogs_allowed</th>\n",
              "      <th>0</th>\n",
              "      <th>1</th>\n",
              "    </tr>\n",
              "    <tr>\n",
              "      <th>type</th>\n",
              "      <th></th>\n",
              "      <th></th>\n",
              "    </tr>\n",
              "  </thead>\n",
              "  <tbody>\n",
              "    <tr>\n",
              "      <th>apartment</th>\n",
              "      <td>995</td>\n",
              "      <td>1022</td>\n",
              "    </tr>\n",
              "    <tr>\n",
              "      <th>condo</th>\n",
              "      <td>1400</td>\n",
              "      <td>1245</td>\n",
              "    </tr>\n",
              "    <tr>\n",
              "      <th>duplex</th>\n",
              "      <td>1000</td>\n",
              "      <td>1195</td>\n",
              "    </tr>\n",
              "    <tr>\n",
              "      <th>house</th>\n",
              "      <td>1200</td>\n",
              "      <td>1149</td>\n",
              "    </tr>\n",
              "    <tr>\n",
              "      <th>townhouse</th>\n",
              "      <td>1296</td>\n",
              "      <td>1050</td>\n",
              "    </tr>\n",
              "  </tbody>\n",
              "</table>\n",
              "</div>"
            ],
            "text/plain": [
              "dogs_allowed     0     1\n",
              "type                    \n",
              "apartment      995  1022\n",
              "condo         1400  1245\n",
              "duplex        1000  1195\n",
              "house         1200  1149\n",
              "townhouse     1296  1050"
            ]
          },
          "metadata": {},
          "execution_count": 15
        }
      ]
    },
    {
      "cell_type": "code",
      "metadata": {
        "colab": {
          "base_uri": "https://localhost:8080/",
          "height": 234
        },
        "id": "v6CzGHRByE3x",
        "outputId": "79b26f3b-fbc0-4dcd-a661-adda72849801"
      },
      "source": [
        "#Undersøg ligeledes prisforskel ift. om katte er tilladte?\n",
        "pd.crosstab(df['type'], df.cats_allowed, values=df.price, aggfunc='median')"
      ],
      "execution_count": 16,
      "outputs": [
        {
          "output_type": "execute_result",
          "data": {
            "text/html": [
              "<div>\n",
              "<style scoped>\n",
              "    .dataframe tbody tr th:only-of-type {\n",
              "        vertical-align: middle;\n",
              "    }\n",
              "\n",
              "    .dataframe tbody tr th {\n",
              "        vertical-align: top;\n",
              "    }\n",
              "\n",
              "    .dataframe thead th {\n",
              "        text-align: right;\n",
              "    }\n",
              "</style>\n",
              "<table border=\"1\" class=\"dataframe\">\n",
              "  <thead>\n",
              "    <tr style=\"text-align: right;\">\n",
              "      <th>cats_allowed</th>\n",
              "      <th>0</th>\n",
              "      <th>1</th>\n",
              "    </tr>\n",
              "    <tr>\n",
              "      <th>type</th>\n",
              "      <th></th>\n",
              "      <th></th>\n",
              "    </tr>\n",
              "  </thead>\n",
              "  <tbody>\n",
              "    <tr>\n",
              "      <th>apartment</th>\n",
              "      <td>995</td>\n",
              "      <td>1020</td>\n",
              "    </tr>\n",
              "    <tr>\n",
              "      <th>condo</th>\n",
              "      <td>1400</td>\n",
              "      <td>1240</td>\n",
              "    </tr>\n",
              "    <tr>\n",
              "      <th>duplex</th>\n",
              "      <td>1000</td>\n",
              "      <td>1125</td>\n",
              "    </tr>\n",
              "    <tr>\n",
              "      <th>house</th>\n",
              "      <td>1250</td>\n",
              "      <td>1100</td>\n",
              "    </tr>\n",
              "    <tr>\n",
              "      <th>townhouse</th>\n",
              "      <td>1280</td>\n",
              "      <td>1050</td>\n",
              "    </tr>\n",
              "  </tbody>\n",
              "</table>\n",
              "</div>"
            ],
            "text/plain": [
              "cats_allowed     0     1\n",
              "type                    \n",
              "apartment      995  1020\n",
              "condo         1400  1240\n",
              "duplex        1000  1125\n",
              "house         1250  1100\n",
              "townhouse     1280  1050"
            ]
          },
          "metadata": {},
          "execution_count": 16
        }
      ]
    },
    {
      "cell_type": "markdown",
      "metadata": {
        "id": "zKkd17CbD8sc"
      },
      "source": [
        "13"
      ]
    },
    {
      "cell_type": "code",
      "metadata": {
        "colab": {
          "base_uri": "https://localhost:8080/",
          "height": 386
        },
        "id": "z715Nlq2znFc",
        "outputId": "53390047-356f-4415-a49c-9f7b8128993d"
      },
      "source": [
        "# Lav en \"kernel density estimation\" (kde) plot\n",
        "# hvor der vises en farve-opdeling på forskellige \"type\"\n",
        "# brug her seaborn's displot funktionen https://seaborn.pydata.org/generated/seaborn.displot.html#seaborn.displot\n",
        "\n",
        "sns.displot(data = df, x='price', hue='type', kind='kde')"
      ],
      "execution_count": 17,
      "outputs": [
        {
          "output_type": "execute_result",
          "data": {
            "text/plain": [
              "<seaborn.axisgrid.FacetGrid at 0x7f76b50be450>"
            ]
          },
          "metadata": {},
          "execution_count": 17
        },
        {
          "output_type": "display_data",
          "data": {
            "image/png": "[encoded data removed]",
            "text/plain": [
              "<Figure size 459.975x360 with 1 Axes>"
            ]
          },
          "metadata": {
            "needs_background": "light"
          }
        }
      ]
    },
    {
      "cell_type": "markdown",
      "metadata": {
        "id": "pnEedmZTD-Sa"
      },
      "source": [
        "14"
      ]
    },
    {
      "cell_type": "code",
      "metadata": {
        "colab": {
          "base_uri": "https://localhost:8080/"
        },
        "id": "vvC0T6tV0LMl",
        "outputId": "fb7d666f-fc57-4cec-9efa-d82124848f4c"
      },
      "source": [
        "# Vis og forklar den prismæssige standardafvigelse for \"type\" - hvordan passer det sammen med  hvad der kan ses i boxplot og KDE?\n",
        "# Note: Sæt degrees of freedom til 0 (ddof=0)\n",
        "df.groupby('type').price.std(ddof=0) "
      ],
      "execution_count": 18,
      "outputs": [
        {
          "output_type": "execute_result",
          "data": {
            "text/plain": [
              "type\n",
              "apartment   477.20231\n",
              "condo       613.66121\n",
              "duplex      509.25652\n",
              "house       637.68664\n",
              "townhouse   492.61397\n",
              "Name: price, dtype: float64"
            ]
          },
          "metadata": {},
          "execution_count": 18
        }
      ]
    },
    {
      "cell_type": "markdown",
      "metadata": {
        "id": "jjZ6AQYiOHA7"
      },
      "source": [
        "Svar: ..."
      ]
    },
    {
      "cell_type": "markdown",
      "metadata": {
        "id": "zeKGP4RtD_do"
      },
      "source": [
        "15"
      ]
    },
    {
      "cell_type": "code",
      "metadata": {
        "id": "W2EGLfrTeJnk",
        "colab": {
          "base_uri": "https://localhost:8080/"
        },
        "outputId": "208a3338-5804-4e2c-bb40-e4e2fb8be712"
      },
      "source": [
        "# giv et overblik over hvor mange observationer der er i hver stat ('state')\n",
        "df.state.value_counts()"
      ],
      "execution_count": 19,
      "outputs": [
        {
          "output_type": "execute_result",
          "data": {
            "text/plain": [
              "fl    2021\n",
              "ca    1941\n",
              "tx    1912\n",
              "nc    1176\n",
              "ga     922\n",
              "mi     898\n",
              "oh     861\n",
              "va     747\n",
              "co     714\n",
              "tn     706\n",
              "pa     658\n",
              "ny     622\n",
              "il     614\n",
              "sc     607\n",
              "al     558\n",
              "or     525\n",
              "ks     525\n",
              "ia     513\n",
              "mn     485\n",
              "md     464\n",
              "wa     456\n",
              "la     451\n",
              "az     425\n",
              "wi     404\n",
              "in     386\n",
              "nj     381\n",
              "ok     368\n",
              "ky     347\n",
              "ut     325\n",
              "ma     321\n",
              "ms     303\n",
              "id     298\n",
              "nd     263\n",
              "ct     262\n",
              "ar     190\n",
              "nm     179\n",
              "ne     165\n",
              "nv     154\n",
              "dc     152\n",
              "ak     133\n",
              "sd     128\n",
              "mo     127\n",
              "de     126\n",
              "ri     110\n",
              "nh     109\n",
              "hi     106\n",
              "mt      99\n",
              "wv      45\n",
              "vt      30\n",
              "me      26\n",
              "wy      13\n",
              "Name: state, dtype: int64"
            ]
          },
          "metadata": {},
          "execution_count": 19
        }
      ]
    },
    {
      "cell_type": "markdown",
      "metadata": {
        "id": "lDHgDusMEGuv"
      },
      "source": [
        "16"
      ]
    },
    {
      "cell_type": "code",
      "metadata": {
        "id": "KLIapqZ5cp22"
      },
      "source": [
        "# Generer et datasæt \"df_florida\", hvor der kun er observationer fra staten florida ('fl')\n",
        "df_florida = df.loc[df['state'] == 'fl']"
      ],
      "execution_count": 20,
      "outputs": []
    },
    {
      "cell_type": "code",
      "metadata": {
        "colab": {
          "base_uri": "https://localhost:8080/"
        },
        "id": "_uCsz7RdeBpu",
        "outputId": "81f70f82-5dbb-41b7-913d-e74cf0861b6d"
      },
      "source": [
        "# Tjek hvor mange regioner der er i Florida, samt hvor mange observationer der er i hver\n",
        "df_florida.region.value_counts()"
      ],
      "execution_count": 21,
      "outputs": [
        {
          "output_type": "execute_result",
          "data": {
            "text/plain": [
              "jacksonville             183\n",
              "sarasota-bradenton       183\n",
              "orlando                  174\n",
              "space coast              173\n",
              "daytona beach            148\n",
              "tampa bay area           145\n",
              "ft myers / SW florida    138\n",
              "tallahassee              134\n",
              "lakeland                 128\n",
              "panama city              110\n",
              "gainesville              103\n",
              "treasure coast           100\n",
              "pensacola                 87\n",
              "south florida             79\n",
              "okaloosa / walton         61\n",
              "ocala                     30\n",
              "florida keys              22\n",
              "st augustine              12\n",
              "heartland florida         11\n",
              "Name: region, dtype: int64"
            ]
          },
          "metadata": {},
          "execution_count": 21
        }
      ]
    },
    {
      "cell_type": "markdown",
      "metadata": {
        "id": "ZIqfQ5TbENX0"
      },
      "source": [
        "17"
      ]
    },
    {
      "cell_type": "code",
      "metadata": {
        "colab": {
          "base_uri": "https://localhost:8080/"
        },
        "id": "fMmvMW1FeUpP",
        "outputId": "39ab7383-316c-4b0e-f81d-08ebc1f5f184"
      },
      "source": [
        "# Lav en oversigt over gennemsnitsprisen for hver region i Florida, og sorter fra højeste til laveste pris \n",
        "df_florida.groupby('region').price.mean().sort_values(ascending=False)"
      ],
      "execution_count": 22,
      "outputs": [
        {
          "output_type": "execute_result",
          "data": {
            "text/plain": [
              "region\n",
              "florida keys            2213.27273\n",
              "south florida           1862.75949\n",
              "st augustine            1403.66667\n",
              "treasure coast          1392.88000\n",
              "sarasota-bradenton      1367.36612\n",
              "orlando                 1319.66092\n",
              "okaloosa / walton       1303.40984\n",
              "panama city             1274.70909\n",
              "ft myers / SW florida   1264.87681\n",
              "tampa bay area          1229.31034\n",
              "space coast             1192.16763\n",
              "gainesville             1097.85437\n",
              "jacksonville            1089.00546\n",
              "daytona beach           1063.07432\n",
              "lakeland                1048.35938\n",
              "heartland florida        989.81818\n",
              "tallahassee              977.59701\n",
              "pensacola                951.33333\n",
              "ocala                    913.20000\n",
              "Name: price, dtype: float64"
            ]
          },
          "metadata": {},
          "execution_count": 22
        }
      ]
    },
    {
      "cell_type": "markdown",
      "metadata": {
        "id": "4ghSwMSjEPWM"
      },
      "source": [
        "18"
      ]
    },
    {
      "cell_type": "code",
      "metadata": {
        "colab": {
          "base_uri": "https://localhost:8080/"
        },
        "id": "6ELrbN6Jkf9a",
        "outputId": "96b1541b-5bdb-457d-d163-00b52cb6f217"
      },
      "source": [
        "#Find ud af om prisen korrelerer med boligstørrelsen ('sqfeet') for hele datasættet df_florida \n",
        "df_florida.price.corr(df_florida.sqfeet)"
      ],
      "execution_count": 23,
      "outputs": [
        {
          "output_type": "execute_result",
          "data": {
            "text/plain": [
              "0.186568469083378"
            ]
          },
          "metadata": {},
          "execution_count": 23
        }
      ]
    },
    {
      "cell_type": "markdown",
      "metadata": {
        "id": "QVP-rYowESve"
      },
      "source": [
        "19"
      ]
    },
    {
      "cell_type": "code",
      "metadata": {
        "id": "rsODaaU0g3Ru"
      },
      "source": [
        "# lav et afgrænset datasæt \"df_jv\", med observationer fra regionen Jacksonville, Florida \n",
        "df_jv = df.loc[(df['region'] == 'jacksonville') & (df['state'] == 'fl')]"
      ],
      "execution_count": 24,
      "outputs": []
    },
    {
      "cell_type": "markdown",
      "metadata": {
        "id": "JGjivbHyEUUB"
      },
      "source": [
        "20"
      ]
    },
    {
      "cell_type": "code",
      "metadata": {
        "colab": {
          "base_uri": "https://localhost:8080/"
        },
        "id": "tnFcCORvg-82",
        "outputId": "7ebe089f-f694-45b2-b3a8-7a15d90c2866"
      },
      "source": [
        "#Tjek korrelationen mellem pris og boligstørrelse i Jacksonville, Florida\n",
        "# Forklar/fortolk forskellen i de to korrelationsberegninger (Florida vs Jacksonville)\n",
        "\n",
        "df_jv.price.corr(df_jv.sqfeet)"
      ],
      "execution_count": 25,
      "outputs": [
        {
          "output_type": "execute_result",
          "data": {
            "text/plain": [
              "0.600643123515491"
            ]
          },
          "metadata": {},
          "execution_count": 25
        }
      ]
    },
    {
      "cell_type": "markdown",
      "metadata": {
        "id": "YyTDntyEg6Nl"
      },
      "source": [
        "Svar: ..."
      ]
    },
    {
      "cell_type": "markdown",
      "metadata": {
        "id": "v4SEnOAOEXrn"
      },
      "source": [
        "21"
      ]
    },
    {
      "cell_type": "code",
      "metadata": {
        "colab": {
          "base_uri": "https://localhost:8080/",
          "height": 386
        },
        "id": "P0xQD2ZNlWmo",
        "outputId": "85f71908-3e8b-4662-e1e5-286c1afb3581"
      },
      "source": [
        "# visualiser, ved hjælp af et scatterplot (seaborn relplot), sammenhængen mellem \"price\" og \"sqfeet\" i Jacksonville, Florida\n",
        "sns.relplot(x=\"price\", y=\"sqfeet\", data=df_jv)"
      ],
      "execution_count": 26,
      "outputs": [
        {
          "output_type": "execute_result",
          "data": {
            "text/plain": [
              "<seaborn.axisgrid.FacetGrid at 0x7f76b567c3d0>"
            ]
          },
          "metadata": {},
          "execution_count": 26
        },
        {
          "output_type": "display_data",
          "data": {
            "image/png": "[encoded data removed]",
            "text/plain": [
              "<Figure size 360x360 with 1 Axes>"
            ]
          },
          "metadata": {
            "needs_background": "light"
          }
        }
      ]
    },
    {
      "cell_type": "markdown",
      "metadata": {
        "id": "kllPzd0XEbPc"
      },
      "source": [
        "Den følgende del ser på priser og kriminalitet. Her bruger vi et datasæt med kriminalitetsstatistik fra US storbyer. Disse data skal aggregeres med huspris-datasættet på delstatsniveau. Derafter fortager vi korrelationsberegninger for at se, om prisniveauet korrelerer med kriminalitet.\n",
        "\n",
        "Data kan indlæses fra github: https://github.com/SDS-AAU/IntroStat/raw/master/Data/crime_per_city.csv\n",
        "\n",
        "22"
      ]
    },
    {
      "cell_type": "code",
      "metadata": {
        "id": "vBAAzTTL3WHS"
      },
      "source": [
        "# Indlæs data crime_per_city.csv\n",
        "crime = pd.read_csv('https://github.com/SDS-AAU/IntroStat/raw/master/Data/crime_per_city.csv')"
      ],
      "execution_count": 29,
      "outputs": []
    },
    {
      "cell_type": "markdown",
      "metadata": {
        "id": "yyTCzQUsGoIH"
      },
      "source": [
        "23"
      ]
    },
    {
      "cell_type": "code",
      "metadata": {
        "colab": {
          "base_uri": "https://localhost:8080/"
        },
        "id": "KJz6Oh8e5ejW",
        "outputId": "72303c50-ca39-4dba-e5de-d96db823cc0b"
      },
      "source": [
        "# beregn gennemsnitsværdier for 'Burglary','Violent Crime' på delstatsniveau ('state_abbr') som ny DataFrame crime_state\n",
        "# 'state_abbr' bliver index i denne DataFrame\n",
        "crime_state = crime.groupby('state_abbr')['Burglary','Violent Crime'].mean()"
      ],
      "execution_count": 30,
      "outputs": [
        {
          "output_type": "stream",
          "name": "stderr",
          "text": [
            "/usr/local/lib/python3.7/dist-packages/ipykernel_launcher.py:3: FutureWarning: Indexing with multiple keys (implicitly converted to a tuple of keys) will be deprecated, use a list instead.\n",
            "  This is separate from the ipykernel package so we can avoid doing imports until\n"
          ]
        }
      ]
    },
    {
      "cell_type": "markdown",
      "metadata": {
        "id": "2V3k9Dk8Gph8"
      },
      "source": [
        "24"
      ]
    },
    {
      "cell_type": "code",
      "metadata": {
        "id": "rDA4Hfge4uEj"
      },
      "source": [
        "# Generér et merget datasæt \"price_n_crime\" ud fra \"df\" og \"crime_state\".\n",
        "# aggreger huspriser og data om gennemsnitlig kriminalitet på delstatsstatsniveau (brug left_on='state', right_index = True som nøgle)\n",
        "price_n_crime = pd.merge(df, crime_state, left_on='state', right_index= True)"
      ],
      "execution_count": 31,
      "outputs": []
    },
    {
      "cell_type": "markdown",
      "metadata": {
        "id": "L8xYZywzGq-l"
      },
      "source": [
        "25"
      ]
    },
    {
      "cell_type": "code",
      "metadata": {
        "colab": {
          "base_uri": "https://localhost:8080/"
        },
        "id": "8iR6mvfr5RVh",
        "outputId": "4a026fc2-cd8f-471b-eadb-653f0bc62c20"
      },
      "source": [
        "# brug price_n_crime DataFrame: beregn og fortolk korrelation for priser vs gennemsnitlige niveauer for indbrudstyveri (burglary)\n",
        "price_n_crime.price.corr(price_n_crime['Burglary'])"
      ],
      "execution_count": 32,
      "outputs": [
        {
          "output_type": "execute_result",
          "data": {
            "text/plain": [
              "-0.2851400722706193"
            ]
          },
          "metadata": {},
          "execution_count": 32
        }
      ]
    },
    {
      "cell_type": "markdown",
      "metadata": {
        "id": "T59Rl_QYhA5p"
      },
      "source": [
        "Svar: ..."
      ]
    }
  ]
}