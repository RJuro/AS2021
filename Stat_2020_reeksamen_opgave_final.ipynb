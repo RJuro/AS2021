{
  "nbformat": 4,
  "nbformat_minor": 0,
  "metadata": {
    "colab": {
      "name": "Stat 2020 - reeksamen - opgave_final",
      "provenance": [],
      "collapsed_sections": [],
      "include_colab_link": true
    },
    "kernelspec": {
      "name": "python3",
      "display_name": "Python 3"
    }
  },
  "cells": [
    {
      "cell_type": "markdown",
      "metadata": {
        "id": "view-in-github",
        "colab_type": "text"
      },
      "source": [
        "<a href=\"https://colab.research.google.com/github/RJuro/AS2021/blob/main/Stat_2020_reeksamen_opgave_final.ipynb\" target=\"_parent\"><img src=\"https://colab.research.google.com/assets/colab-badge.svg\" alt=\"Open In Colab\"/></a>"
      ]
    },
    {
      "cell_type": "markdown",
      "metadata": {
        "id": "gA5nKImMnF5F"
      },
      "source": [
        "### Anvendt Statisik - Re-eksamen \n",
        "### HA E2020"
      ]
    },
    {
      "cell_type": "markdown",
      "metadata": {
        "id": "15AGw5oFnXyS"
      },
      "source": [
        "I denne opgave bliver i introduceret for Amerikanske huspriser, baseret på opslag fra den private salgsdatabase Craigslist\n",
        "\n",
        "![](https://source.unsplash.com/C0OhW5_W6hw)\n",
        "\n",
        "Notebook'en guider dig igennem opgaven. Priser fortolkes i amerikanske dollars ($). \n",
        "\n",
        "Dataset er baseret på datasæt fra http://kaggle.com/\n",
        "uploadet i 2019."
      ]
    },
    {
      "cell_type": "code",
      "metadata": {
        "id": "ZzsNtkE3nWrP"
      },
      "source": [
        "# Importer de pakker der skal bruges til at besvare opgaven her\n",
        "import pandas as pd\n",
        "pd.set_option('display.float_format', lambda x: '%.5f' % x) # slukker for \"scientific notation\"\n",
        "\n",
        "import seaborn as sns\n",
        "sns.set()"
      ],
      "execution_count": null,
      "outputs": []
    },
    {
      "cell_type": "markdown",
      "metadata": {
        "id": "8zLHhPCEpoXq"
      },
      "source": [
        "data findes på digital eksamen - kan også hentes med link fra Github: https://github.com/SDS-AAU/IntroStat/raw/master/Data/housing_cleaned.csv\n",
        "\n",
        "**Hvis der kommer fejl. Og du kommer ikke videre f.eks in DF er ubrugelig** Lad være med at gå i panik! Gem din notebook, (måske) genstart kernel, kør cellerne oppefra ned (I Colab: automatisk med \"Runtime\" --> \"Run before\"; Jupyter Lab \"Run\" --> \"Run all above selected cell\")\n",
        "\n",
        "Besvarelser (tekst) skrives i felter med \"Svar: ...\" ikke som kommentar i kode-celler"
      ]
    },
    {
      "cell_type": "markdown",
      "metadata": {
        "id": "UCN42eXkBR-d"
      },
      "source": [
        "**1**"
      ]
    },
    {
      "cell_type": "code",
      "metadata": {
        "id": "0dvKxvHpmtIf"
      },
      "source": [
        "# Indlæs data (housing_cleaned.csv)\n",
        "df = pd.read_csv('https://github.com/SDS-AAU/IntroStat/raw/master/Data/crime_per_city.csv')"
      ],
      "execution_count": null,
      "outputs": []
    },
    {
      "cell_type": "code",
      "metadata": {
        "colab": {
          "base_uri": "https://localhost:8080/",
          "height": 274
        },
        "id": "8IhBLZzMp_yz",
        "outputId": "e5c9f467-7da4-4845-bad9-9316b2910c0b"
      },
      "source": [
        "# vis de første fem rækker af data\n",
        "df.head()"
      ],
      "execution_count": null,
      "outputs": [
        {
          "output_type": "execute_result",
          "data": {
            "text/html": [
              "<div>\n",
              "<style scoped>\n",
              "    .dataframe tbody tr th:only-of-type {\n",
              "        vertical-align: middle;\n",
              "    }\n",
              "\n",
              "    .dataframe tbody tr th {\n",
              "        vertical-align: top;\n",
              "    }\n",
              "\n",
              "    .dataframe thead th {\n",
              "        text-align: right;\n",
              "    }\n",
              "</style>\n",
              "<table border=\"1\" class=\"dataframe\">\n",
              "  <thead>\n",
              "    <tr style=\"text-align: right;\">\n",
              "      <th></th>\n",
              "      <th>Unnamed: 0</th>\n",
              "      <th>State</th>\n",
              "      <th>City</th>\n",
              "      <th>Population</th>\n",
              "      <th>Violent Crime</th>\n",
              "      <th>Murder</th>\n",
              "      <th>Rape</th>\n",
              "      <th>Robbery</th>\n",
              "      <th>Aggravated Assault</th>\n",
              "      <th>Property Crime</th>\n",
              "      <th>Burglary</th>\n",
              "      <th>Larceny-Theft</th>\n",
              "      <th>Motor Vehicle Theft</th>\n",
              "      <th>Arson</th>\n",
              "      <th>state_abbr</th>\n",
              "    </tr>\n",
              "  </thead>\n",
              "  <tbody>\n",
              "    <tr>\n",
              "      <th>0</th>\n",
              "      <td>0</td>\n",
              "      <td>New Mexico</td>\n",
              "      <td>Albuquerque</td>\n",
              "      <td>558874</td>\n",
              "      <td>883</td>\n",
              "      <td>5.40000</td>\n",
              "      <td>71.90000</td>\n",
              "      <td>247.10000</td>\n",
              "      <td>558.40000</td>\n",
              "      <td>5446.10000</td>\n",
              "      <td>1095.60000</td>\n",
              "      <td>3713.90000</td>\n",
              "      <td>636.60000</td>\n",
              "      <td>15.40000</td>\n",
              "      <td>nm</td>\n",
              "    </tr>\n",
              "    <tr>\n",
              "      <th>1</th>\n",
              "      <td>1</td>\n",
              "      <td>California</td>\n",
              "      <td>Anaheim</td>\n",
              "      <td>346956</td>\n",
              "      <td>317</td>\n",
              "      <td>4.00000</td>\n",
              "      <td>22.80000</td>\n",
              "      <td>120.50000</td>\n",
              "      <td>170.10000</td>\n",
              "      <td>2362.30000</td>\n",
              "      <td>375.00000</td>\n",
              "      <td>1619.80000</td>\n",
              "      <td>367.50000</td>\n",
              "      <td>6.60000</td>\n",
              "      <td>ca</td>\n",
              "    </tr>\n",
              "    <tr>\n",
              "      <th>2</th>\n",
              "      <td>2</td>\n",
              "      <td>Alaska</td>\n",
              "      <td>Anchorage</td>\n",
              "      <td>301306</td>\n",
              "      <td>865</td>\n",
              "      <td>4.00000</td>\n",
              "      <td>130.10000</td>\n",
              "      <td>164.60000</td>\n",
              "      <td>565.90000</td>\n",
              "      <td>3827.00000</td>\n",
              "      <td>456.30000</td>\n",
              "      <td>3059.00000</td>\n",
              "      <td>311.60000</td>\n",
              "      <td>26.90000</td>\n",
              "      <td>ak</td>\n",
              "    </tr>\n",
              "    <tr>\n",
              "      <th>3</th>\n",
              "      <td>3</td>\n",
              "      <td>Texas</td>\n",
              "      <td>Arlington</td>\n",
              "      <td>382976</td>\n",
              "      <td>484</td>\n",
              "      <td>3.40000</td>\n",
              "      <td>53.80000</td>\n",
              "      <td>128.70000</td>\n",
              "      <td>298.20000</td>\n",
              "      <td>3515.10000</td>\n",
              "      <td>644.90000</td>\n",
              "      <td>2633.60000</td>\n",
              "      <td>236.60000</td>\n",
              "      <td>6.80000</td>\n",
              "      <td>tx</td>\n",
              "    </tr>\n",
              "    <tr>\n",
              "      <th>4</th>\n",
              "      <td>4</td>\n",
              "      <td>Georgia</td>\n",
              "      <td>Atlanta</td>\n",
              "      <td>454363</td>\n",
              "      <td>1227</td>\n",
              "      <td>20.50000</td>\n",
              "      <td>33.20000</td>\n",
              "      <td>512.60000</td>\n",
              "      <td>661.10000</td>\n",
              "      <td>5747.40000</td>\n",
              "      <td>1203.90000</td>\n",
              "      <td>3631.00000</td>\n",
              "      <td>912.50000</td>\n",
              "      <td>16.50000</td>\n",
              "      <td>ga</td>\n",
              "    </tr>\n",
              "  </tbody>\n",
              "</table>\n",
              "</div>"
            ],
            "text/plain": [
              "   Unnamed: 0       State         City  ...  Motor Vehicle Theft    Arson  state_abbr\n",
              "0           0  New Mexico  Albuquerque  ...            636.60000 15.40000          nm\n",
              "1           1  California      Anaheim  ...            367.50000  6.60000          ca\n",
              "2           2      Alaska    Anchorage  ...            311.60000 26.90000          ak\n",
              "3           3       Texas    Arlington  ...            236.60000  6.80000          tx\n",
              "4           4     Georgia      Atlanta  ...            912.50000 16.50000          ga\n",
              "\n",
              "[5 rows x 15 columns]"
            ]
          },
          "metadata": {
            "tags": []
          },
          "execution_count": 6
        }
      ]
    },
    {
      "cell_type": "code",
      "metadata": {
        "colab": {
          "base_uri": "https://localhost:8080/"
        },
        "id": "GbJ6cZPzqIbc",
        "outputId": "176f0fcc-b914-4baf-a1e9-e7e1f8078ef5"
      },
      "source": [
        "# vis information om variable og observationer i data \n",
        "df.info()"
      ],
      "execution_count": null,
      "outputs": [
        {
          "output_type": "stream",
          "text": [
            "<class 'pandas.core.frame.DataFrame'>\n",
            "RangeIndex: 25000 entries, 0 to 24999\n",
            "Data columns (total 16 columns):\n",
            " #   Column                   Non-Null Count  Dtype  \n",
            "---  ------                   --------------  -----  \n",
            " 0   Unnamed: 0               25000 non-null  int64  \n",
            " 1   region                   25000 non-null  object \n",
            " 2   price                    25000 non-null  int64  \n",
            " 3   type                     25000 non-null  object \n",
            " 4   sqfeet                   25000 non-null  int64  \n",
            " 5   beds                     25000 non-null  int64  \n",
            " 6   baths                    25000 non-null  float64\n",
            " 7   cats_allowed             25000 non-null  int64  \n",
            " 8   dogs_allowed             25000 non-null  int64  \n",
            " 9   smoking_allowed          25000 non-null  int64  \n",
            " 10  wheelchair_access        25000 non-null  int64  \n",
            " 11  electric_vehicle_charge  25000 non-null  int64  \n",
            " 12  comes_furnished          25000 non-null  int64  \n",
            " 13  laundry_options          19886 non-null  object \n",
            " 14  parking_options          15902 non-null  object \n",
            " 15  state                    25000 non-null  object \n",
            "dtypes: float64(1), int64(10), object(5)\n",
            "memory usage: 3.1+ MB\n"
          ],
          "name": "stdout"
        }
      ]
    },
    {
      "cell_type": "markdown",
      "metadata": {
        "id": "uvuj2socBmgE"
      },
      "source": [
        "**2**"
      ]
    },
    {
      "cell_type": "code",
      "metadata": {
        "colab": {
          "base_uri": "https://localhost:8080/"
        },
        "id": "wW8aX9PgqUbQ",
        "outputId": "6e22e425-69d5-4fe7-9fef-792541ed43ce"
      },
      "source": [
        "# giv et overblik over, hvor mange missing der er i hver variabel (med funktion, ikke udledt fra ovenstående)\n",
        "df.isnull().sum()"
      ],
      "execution_count": null,
      "outputs": [
        {
          "output_type": "execute_result",
          "data": {
            "text/plain": [
              "Unnamed: 0                    0\n",
              "region                        0\n",
              "price                         0\n",
              "type                          0\n",
              "sqfeet                        0\n",
              "beds                          0\n",
              "baths                         0\n",
              "cats_allowed                  0\n",
              "dogs_allowed                  0\n",
              "smoking_allowed               0\n",
              "wheelchair_access             0\n",
              "electric_vehicle_charge       0\n",
              "comes_furnished               0\n",
              "laundry_options            5114\n",
              "parking_options            9098\n",
              "state                         0\n",
              "dtype: int64"
            ]
          },
          "metadata": {
            "tags": []
          },
          "execution_count": 5
        }
      ]
    },
    {
      "cell_type": "markdown",
      "metadata": {
        "id": "m22cZpJoBrew"
      },
      "source": [
        "**3**"
      ]
    },
    {
      "cell_type": "code",
      "metadata": {
        "colab": {
          "base_uri": "https://localhost:8080/"
        },
        "id": "NYFmAdeUrboO",
        "outputId": "9b78c34d-842b-4d99-9c7f-cf0bd920296f"
      },
      "source": [
        "# give et overblik over prisfordeling (min, max, median, std.afvigelse - 1 Pandas funktion) \n",
        "df.price.describe()"
      ],
      "execution_count": null,
      "outputs": [
        {
          "output_type": "execute_result",
          "data": {
            "text/plain": [
              "count      25000.00000\n",
              "mean        1764.99220\n",
              "std        65978.99022\n",
              "min            0.00000\n",
              "25%          801.00000\n",
              "50%         1029.00000\n",
              "75%         1399.00000\n",
              "max     10321189.00000\n",
              "Name: price, dtype: float64"
            ]
          },
          "metadata": {
            "tags": []
          },
          "execution_count": 6
        }
      ]
    },
    {
      "cell_type": "markdown",
      "metadata": {
        "id": "KrumwaI9B18v"
      },
      "source": [
        "**4**"
      ]
    },
    {
      "cell_type": "code",
      "metadata": {
        "colab": {
          "base_uri": "https://localhost:8080/",
          "height": 134
        },
        "id": "l41bHlPNrsao",
        "outputId": "9fc0ac69-10ee-4824-8804-37de453f04d9"
      },
      "source": [
        "# find den række med det dyreste hus/lejlighed. Det er nemmest ved at \n",
        "# Ud fra de informationer du har samlet indtil videre: Er det en sansynlig pris eller en fejl (f.eks. dataindsampling, stavefejl)?\n",
        "\n",
        "df.loc[df['price'] == 10321189]"
      ],
      "execution_count": null,
      "outputs": [
        {
          "output_type": "execute_result",
          "data": {
            "text/html": [
              "<div>\n",
              "<style scoped>\n",
              "    .dataframe tbody tr th:only-of-type {\n",
              "        vertical-align: middle;\n",
              "    }\n",
              "\n",
              "    .dataframe tbody tr th {\n",
              "        vertical-align: top;\n",
              "    }\n",
              "\n",
              "    .dataframe thead th {\n",
              "        text-align: right;\n",
              "    }\n",
              "</style>\n",
              "<table border=\"1\" class=\"dataframe\">\n",
              "  <thead>\n",
              "    <tr style=\"text-align: right;\">\n",
              "      <th></th>\n",
              "      <th>Unnamed: 0</th>\n",
              "      <th>region</th>\n",
              "      <th>price</th>\n",
              "      <th>type</th>\n",
              "      <th>sqfeet</th>\n",
              "      <th>beds</th>\n",
              "      <th>baths</th>\n",
              "      <th>cats_allowed</th>\n",
              "      <th>dogs_allowed</th>\n",
              "      <th>smoking_allowed</th>\n",
              "      <th>wheelchair_access</th>\n",
              "      <th>electric_vehicle_charge</th>\n",
              "      <th>comes_furnished</th>\n",
              "      <th>laundry_options</th>\n",
              "      <th>parking_options</th>\n",
              "      <th>state</th>\n",
              "    </tr>\n",
              "  </thead>\n",
              "  <tbody>\n",
              "    <tr>\n",
              "      <th>19132</th>\n",
              "      <td>15023</td>\n",
              "      <td>visalia-tulare</td>\n",
              "      <td>10321189</td>\n",
              "      <td>apartment</td>\n",
              "      <td>729</td>\n",
              "      <td>3</td>\n",
              "      <td>2.00000</td>\n",
              "      <td>0</td>\n",
              "      <td>0</td>\n",
              "      <td>0</td>\n",
              "      <td>0</td>\n",
              "      <td>0</td>\n",
              "      <td>0</td>\n",
              "      <td>laundry on site</td>\n",
              "      <td>carport</td>\n",
              "      <td>ca</td>\n",
              "    </tr>\n",
              "  </tbody>\n",
              "</table>\n",
              "</div>"
            ],
            "text/plain": [
              "       Unnamed: 0          region  ...  parking_options state\n",
              "19132       15023  visalia-tulare  ...          carport    ca\n",
              "\n",
              "[1 rows x 16 columns]"
            ]
          },
          "metadata": {
            "tags": []
          },
          "execution_count": 7
        }
      ]
    },
    {
      "cell_type": "markdown",
      "metadata": {
        "id": "O6mxf71X68aR"
      },
      "source": [
        "Svar: ..."
      ]
    },
    {
      "cell_type": "markdown",
      "metadata": {
        "id": "_MlPeVo9B42a"
      },
      "source": [
        "**5**"
      ]
    },
    {
      "cell_type": "code",
      "metadata": {
        "id": "xIrGJTzGsL1h"
      },
      "source": [
        "# Med udgangspunkt i \"price\", beskær datasættet til 99. percentil (99 ekskl.) - brug dette datasæt fremadrettet!!!\n",
        "df = df[df.price < df.price.quantile(.99)]"
      ],
      "execution_count": null,
      "outputs": []
    },
    {
      "cell_type": "markdown",
      "metadata": {
        "id": "Mk-vZCn-B7sn"
      },
      "source": [
        "**6**"
      ]
    },
    {
      "cell_type": "code",
      "metadata": {
        "colab": {
          "base_uri": "https://localhost:8080/"
        },
        "id": "u_teZJyPsNWm",
        "outputId": "f29c7404-6bfa-41bf-b282-030a6a8aa746"
      },
      "source": [
        "# give et overblik over prisfordeling (min, max, median, std.afvigelse) i det afgrænsede datasæt for at sikre\n",
        "# at ekstremværdier er ude\n",
        "\n",
        "# Hvor mange observationer blev slettet fra dine data?\n",
        "\n",
        "df.price.describe()"
      ],
      "execution_count": null,
      "outputs": [
        {
          "output_type": "execute_result",
          "data": {
            "text/plain": [
              "count   23750.00000\n",
              "mean     1084.33629\n",
              "std       398.74171\n",
              "min         0.00000\n",
              "25%       799.00000\n",
              "50%      1000.00000\n",
              "75%      1330.00000\n",
              "max      2254.00000\n",
              "Name: price, dtype: float64"
            ]
          },
          "metadata": {
            "tags": []
          },
          "execution_count": 9
        }
      ]
    },
    {
      "cell_type": "markdown",
      "metadata": {
        "id": "0MaPl5CN8IVs"
      },
      "source": [
        "Svar: ..."
      ]
    },
    {
      "cell_type": "markdown",
      "metadata": {
        "id": "LtfVFWgqCAdw"
      },
      "source": [
        "**7**"
      ]
    },
    {
      "cell_type": "code",
      "metadata": {
        "colab": {
          "base_uri": "https://localhost:8080/",
          "height": 356
        },
        "id": "qfXJWlNYsWMS",
        "outputId": "d392c1e0-25ab-4f02-b0a9-bdfaeb4539d3"
      },
      "source": [
        "# Lav et histogram over prisfordelingen og redegør kort for hvad der kan aflæses.\n",
        "\n",
        "sns.distplot(df.price)"
      ],
      "execution_count": null,
      "outputs": [
        {
          "output_type": "stream",
          "text": [
            "/usr/local/lib/python3.6/dist-packages/seaborn/distributions.py:2551: FutureWarning: `distplot` is a deprecated function and will be removed in a future version. Please adapt your code to use either `displot` (a figure-level function with similar flexibility) or `histplot` (an axes-level function for histograms).\n",
            "  warnings.warn(msg, FutureWarning)\n"
          ],
          "name": "stderr"
        },
        {
          "output_type": "execute_result",
          "data": {
            "text/plain": [
              "<matplotlib.axes._subplots.AxesSubplot at 0x7fbd9d038390>"
            ]
          },
          "metadata": {
            "tags": []
          },
          "execution_count": 10
        },
        {
          "output_type": "display_data",
          "data": {
            "image/png": "[encoded data removed]",
            "text/plain": [
              "<Figure size 432x288 with 1 Axes>"
            ]
          },
          "metadata": {
            "tags": [],
            "needs_background": "light"
          }
        }
      ]
    },
    {
      "cell_type": "markdown",
      "metadata": {
        "id": "WeNdE30B8L_J"
      },
      "source": [
        "Svar: ..."
      ]
    },
    {
      "cell_type": "markdown",
      "metadata": {
        "id": "xGZfV_oyCOUE"
      },
      "source": [
        "**8**"
      ]
    },
    {
      "cell_type": "code",
      "metadata": {
        "colab": {
          "base_uri": "https://localhost:8080/"
        },
        "id": "0bo2-m4RuN5f",
        "outputId": "34675eaa-e7eb-4632-9d19-4c23309f14d9"
      },
      "source": [
        "# Hvor mange forskellige typer udlejningsboliger findes der i data, og hvor mange observationer er der af hver? (brug variablen \"type\")\n",
        "df['type'].value_counts() "
      ],
      "execution_count": null,
      "outputs": [
        {
          "output_type": "execute_result",
          "data": {
            "text/plain": [
              "apartment          19772\n",
              "house               1959\n",
              "townhouse            984\n",
              "condo                335\n",
              "duplex               308\n",
              "manufactured         266\n",
              "cottage/cabin         60\n",
              "loft                  35\n",
              "flat                  22\n",
              "in-law                 8\n",
              "assisted living        1\n",
              "Name: type, dtype: int64"
            ]
          },
          "metadata": {
            "tags": []
          },
          "execution_count": 11
        }
      ]
    },
    {
      "cell_type": "markdown",
      "metadata": {
        "id": "-osoev4CCjzO"
      },
      "source": [
        "9"
      ]
    },
    {
      "cell_type": "code",
      "metadata": {
        "colab": {
          "base_uri": "https://localhost:8080/"
        },
        "id": "933zfD2osm32",
        "outputId": "9bbb5179-7eaf-4bac-d399-69c03551ba73"
      },
      "source": [
        "# Vis median for \"price\" grupperet på \"type\" \n",
        "# Hvilken type er det dyreste?  \n",
        "df.groupby('type').price.median().sort_values(ascending=False)"
      ],
      "execution_count": null,
      "outputs": [
        {
          "output_type": "execute_result",
          "data": {
            "text/plain": [
              "type\n",
              "flat              1287.50000\n",
              "condo             1265.00000\n",
              "loft              1185.00000\n",
              "house             1099.00000\n",
              "townhouse         1053.00000\n",
              "cottage/cabin     1025.00000\n",
              "duplex            1000.00000\n",
              "apartment          999.00000\n",
              "in-law             995.00000\n",
              "manufactured       899.00000\n",
              "assisted living    175.00000\n",
              "Name: price, dtype: float64"
            ]
          },
          "metadata": {
            "tags": []
          },
          "execution_count": 13
        }
      ]
    },
    {
      "cell_type": "markdown",
      "metadata": {
        "id": "LYEb9yEXNk4S"
      },
      "source": [
        "Svar: ..."
      ]
    },
    {
      "cell_type": "markdown",
      "metadata": {
        "id": "TS1k2LNBCmGK"
      },
      "source": [
        "10"
      ]
    },
    {
      "cell_type": "code",
      "metadata": {
        "colab": {
          "base_uri": "https://localhost:8080/",
          "height": 302
        },
        "id": "UI9Gn9_6u2Ew",
        "outputId": "7950ffa5-631a-4c99-9467-005c89fbd479"
      },
      "source": [
        "# lav et boxplot over den gennemsnitlige \"price\" fordelt på type\n",
        "# Fortolk og samenlign \"appartment\" vs \"house\" ud fra boxplot for de 2 kategorier\n",
        "\n",
        "sns.boxplot(data = df, x = \"price\", y = \"type\")"
      ],
      "execution_count": null,
      "outputs": [
        {
          "output_type": "execute_result",
          "data": {
            "text/plain": [
              "<matplotlib.axes._subplots.AxesSubplot at 0x7fbd99c2a5f8>"
            ]
          },
          "metadata": {
            "tags": []
          },
          "execution_count": 16
        },
        {
          "output_type": "display_data",
          "data": {
            "image/png": "[encoded data removed]",
            "text/plain": [
              "<Figure size 432x288 with 1 Axes>"
            ]
          },
          "metadata": {
            "tags": [],
            "needs_background": "light"
          }
        }
      ]
    },
    {
      "cell_type": "markdown",
      "metadata": {
        "id": "hA4x2CEb8Rjz"
      },
      "source": [
        "Svar: ..."
      ]
    },
    {
      "cell_type": "markdown",
      "metadata": {
        "id": "UolsBzDmCq-v"
      },
      "source": [
        "11"
      ]
    },
    {
      "cell_type": "code",
      "metadata": {
        "id": "4dFknFjuvzAc"
      },
      "source": [
        "# Filtrer igen datasættet, denne gang med udgangspunkt  i de 5 mest udbredte boligtyper (apartment, house, townhouse, condo, duplex)\n",
        "# brug dette datasæt fremadrettet!!!\n",
        "df = df[df['type'].isin(['apartment', 'house', 'townhouse', 'condo', 'duplex'])]"
      ],
      "execution_count": null,
      "outputs": []
    },
    {
      "cell_type": "markdown",
      "metadata": {
        "id": "zFF1WrzNDfBn"
      },
      "source": [
        "12"
      ]
    },
    {
      "cell_type": "code",
      "metadata": {
        "colab": {
          "base_uri": "https://localhost:8080/",
          "height": 235
        },
        "id": "s_fvgM0IxnXD",
        "outputId": "5991db30-5fc4-48aa-fb67-b7c8933133fe"
      },
      "source": [
        "# Undersøg om boligerne er dyrere eller billigere hvis hunde er tilladt. \n",
        "# Brug krydstabulering på tværs af ovenstående filtrering, og aggreger median \n",
        "pd.crosstab(df['type'], df['dogs_allowed'], values=df['price'], aggfunc='median')"
      ],
      "execution_count": null,
      "outputs": [
        {
          "output_type": "execute_result",
          "data": {
            "text/html": [
              "<div>\n",
              "<style scoped>\n",
              "    .dataframe tbody tr th:only-of-type {\n",
              "        vertical-align: middle;\n",
              "    }\n",
              "\n",
              "    .dataframe tbody tr th {\n",
              "        vertical-align: top;\n",
              "    }\n",
              "\n",
              "    .dataframe thead th {\n",
              "        text-align: right;\n",
              "    }\n",
              "</style>\n",
              "<table border=\"1\" class=\"dataframe\">\n",
              "  <thead>\n",
              "    <tr style=\"text-align: right;\">\n",
              "      <th>dogs_allowed</th>\n",
              "      <th>0</th>\n",
              "      <th>1</th>\n",
              "    </tr>\n",
              "    <tr>\n",
              "      <th>type</th>\n",
              "      <th></th>\n",
              "      <th></th>\n",
              "    </tr>\n",
              "  </thead>\n",
              "  <tbody>\n",
              "    <tr>\n",
              "      <th>apartment</th>\n",
              "      <td>975</td>\n",
              "      <td>1002</td>\n",
              "    </tr>\n",
              "    <tr>\n",
              "      <th>condo</th>\n",
              "      <td>1300</td>\n",
              "      <td>1213</td>\n",
              "    </tr>\n",
              "    <tr>\n",
              "      <th>duplex</th>\n",
              "      <td>995</td>\n",
              "      <td>1125</td>\n",
              "    </tr>\n",
              "    <tr>\n",
              "      <th>house</th>\n",
              "      <td>1100</td>\n",
              "      <td>1050</td>\n",
              "    </tr>\n",
              "    <tr>\n",
              "      <th>townhouse</th>\n",
              "      <td>1275</td>\n",
              "      <td>1032</td>\n",
              "    </tr>\n",
              "  </tbody>\n",
              "</table>\n",
              "</div>"
            ],
            "text/plain": [
              "dogs_allowed     0     1\n",
              "type                    \n",
              "apartment      975  1002\n",
              "condo         1300  1213\n",
              "duplex         995  1125\n",
              "house         1100  1050\n",
              "townhouse     1275  1032"
            ]
          },
          "metadata": {
            "tags": []
          },
          "execution_count": 18
        }
      ]
    },
    {
      "cell_type": "code",
      "metadata": {
        "colab": {
          "base_uri": "https://localhost:8080/",
          "height": 235
        },
        "id": "v6CzGHRByE3x",
        "outputId": "31d9cbb4-7e74-40d7-957b-26eb01c84bef"
      },
      "source": [
        "#Undersøg ligeledes prisforskel ift. om katte er tilladte?\n",
        "pd.crosstab(df['type'], df.cats_allowed, values=df.price, aggfunc='median')"
      ],
      "execution_count": null,
      "outputs": [
        {
          "output_type": "execute_result",
          "data": {
            "text/html": [
              "<div>\n",
              "<style scoped>\n",
              "    .dataframe tbody tr th:only-of-type {\n",
              "        vertical-align: middle;\n",
              "    }\n",
              "\n",
              "    .dataframe tbody tr th {\n",
              "        vertical-align: top;\n",
              "    }\n",
              "\n",
              "    .dataframe thead th {\n",
              "        text-align: right;\n",
              "    }\n",
              "</style>\n",
              "<table border=\"1\" class=\"dataframe\">\n",
              "  <thead>\n",
              "    <tr style=\"text-align: right;\">\n",
              "      <th>cats_allowed</th>\n",
              "      <th>0</th>\n",
              "      <th>1</th>\n",
              "    </tr>\n",
              "    <tr>\n",
              "      <th>type</th>\n",
              "      <th></th>\n",
              "      <th></th>\n",
              "    </tr>\n",
              "  </thead>\n",
              "  <tbody>\n",
              "    <tr>\n",
              "      <th>apartment</th>\n",
              "      <td>974</td>\n",
              "      <td>1000</td>\n",
              "    </tr>\n",
              "    <tr>\n",
              "      <th>condo</th>\n",
              "      <td>1350</td>\n",
              "      <td>1209</td>\n",
              "    </tr>\n",
              "    <tr>\n",
              "      <th>duplex</th>\n",
              "      <td>1000</td>\n",
              "      <td>1050</td>\n",
              "    </tr>\n",
              "    <tr>\n",
              "      <th>house</th>\n",
              "      <td>1150</td>\n",
              "      <td>1025</td>\n",
              "    </tr>\n",
              "    <tr>\n",
              "      <th>townhouse</th>\n",
              "      <td>1250</td>\n",
              "      <td>1032</td>\n",
              "    </tr>\n",
              "  </tbody>\n",
              "</table>\n",
              "</div>"
            ],
            "text/plain": [
              "cats_allowed     0     1\n",
              "type                    \n",
              "apartment      974  1000\n",
              "condo         1350  1209\n",
              "duplex        1000  1050\n",
              "house         1150  1025\n",
              "townhouse     1250  1032"
            ]
          },
          "metadata": {
            "tags": []
          },
          "execution_count": 19
        }
      ]
    },
    {
      "cell_type": "markdown",
      "metadata": {
        "id": "zKkd17CbD8sc"
      },
      "source": [
        "13"
      ]
    },
    {
      "cell_type": "code",
      "metadata": {
        "colab": {
          "base_uri": "https://localhost:8080/",
          "height": 386
        },
        "id": "z715Nlq2znFc",
        "outputId": "139ffb04-2e6c-4566-be91-45cc898b5c73"
      },
      "source": [
        "# Lav en \"kernel density estimation\" (kde) plot\n",
        "# hvor der vises en farve-opdeling på forskellige \"type\"\n",
        "# brug her seaborn's displot funktionen https://seaborn.pydata.org/generated/seaborn.displot.html#seaborn.displot\n",
        "\n",
        "sns.displot(data = df, x='price', hue='type', kind='kde')"
      ],
      "execution_count": null,
      "outputs": [
        {
          "output_type": "execute_result",
          "data": {
            "text/plain": [
              "<seaborn.axisgrid.FacetGrid at 0x7fbd995fa550>"
            ]
          },
          "metadata": {
            "tags": []
          },
          "execution_count": 22
        },
        {
          "output_type": "display_data",
          "data": {
            "image/png": "[encoded data removed]",
            "text/plain": [
              "<Figure size 459.975x360 with 1 Axes>"
            ]
          },
          "metadata": {
            "tags": [],
            "needs_background": "light"
          }
        }
      ]
    },
    {
      "cell_type": "markdown",
      "metadata": {
        "id": "pnEedmZTD-Sa"
      },
      "source": [
        "14"
      ]
    },
    {
      "cell_type": "code",
      "metadata": {
        "colab": {
          "base_uri": "https://localhost:8080/"
        },
        "id": "vvC0T6tV0LMl",
        "outputId": "44f19c37-8105-4a80-c345-cffb8cae1734"
      },
      "source": [
        "# Vis og forklar den prismæssige standardafvigelse for \"type\" - hvordan passer det sammen med  hvad der kan ses i boxplot og KDE?\n",
        "# Note: Sæt degrees of freedom til 0 (ddof=0)\n",
        "df.groupby('type').price.std(ddof=0) "
      ],
      "execution_count": null,
      "outputs": [
        {
          "output_type": "execute_result",
          "data": {
            "text/plain": [
              "type\n",
              "apartment   304.96060\n",
              "condo       339.80135\n",
              "duplex      296.03307\n",
              "house       356.98044\n",
              "townhouse   291.14254\n",
              "Name: price, dtype: float64"
            ]
          },
          "metadata": {
            "tags": []
          },
          "execution_count": 18
        }
      ]
    },
    {
      "cell_type": "markdown",
      "metadata": {
        "id": "jjZ6AQYiOHA7"
      },
      "source": [
        "Svar: ..."
      ]
    },
    {
      "cell_type": "markdown",
      "metadata": {
        "id": "zeKGP4RtD_do"
      },
      "source": [
        "15"
      ]
    },
    {
      "cell_type": "code",
      "metadata": {
        "id": "W2EGLfrTeJnk",
        "colab": {
          "base_uri": "https://localhost:8080/"
        },
        "outputId": "d013e148-8bdf-4f37-ccf7-5373bbc39819"
      },
      "source": [
        "# giv et overblik over hvor mange observationer der er i hver stat ('state')\n",
        "df.state.value_counts()"
      ],
      "execution_count": null,
      "outputs": [
        {
          "output_type": "execute_result",
          "data": {
            "text/plain": [
              "fl    1802\n",
              "tx    1774\n",
              "nc    1132\n",
              "ca     988\n",
              "ga     903\n",
              "mi     860\n",
              "oh     829\n",
              "va     704\n",
              "tn     675\n",
              "sc     569\n",
              "pa     568\n",
              "il     559\n",
              "al     553\n",
              "co     530\n",
              "ny     522\n",
              "ks     519\n",
              "ia     506\n",
              "or     449\n",
              "la     432\n",
              "mn     427\n",
              "az     392\n",
              "in     380\n",
              "md     376\n",
              "ok     367\n",
              "wi     367\n",
              "ky     342\n",
              "wa     330\n",
              "ms     302\n",
              "ut     298\n",
              "id     282\n",
              "nd     246\n",
              "ct     210\n",
              "nj     199\n",
              "ar     183\n",
              "nm     173\n",
              "ma     163\n",
              "ne     162\n",
              "nv     143\n",
              "sd     126\n",
              "mo     125\n",
              "ak     120\n",
              "de     108\n",
              "mt      90\n",
              "ri      67\n",
              "dc      65\n",
              "nh      52\n",
              "wv      44\n",
              "hi      32\n",
              "vt      23\n",
              "me      21\n",
              "wy      13\n",
              "Name: state, dtype: int64"
            ]
          },
          "metadata": {
            "tags": []
          },
          "execution_count": 19
        }
      ]
    },
    {
      "cell_type": "markdown",
      "metadata": {
        "id": "lDHgDusMEGuv"
      },
      "source": [
        "16"
      ]
    },
    {
      "cell_type": "code",
      "metadata": {
        "id": "KLIapqZ5cp22"
      },
      "source": [
        "# Generer et datasæt \"df_florida\", hvor der kun er observationer fra staten florida ('fl')\n",
        "df_florida = df.loc[df['state'] == 'fl']"
      ],
      "execution_count": null,
      "outputs": []
    },
    {
      "cell_type": "code",
      "metadata": {
        "colab": {
          "base_uri": "https://localhost:8080/"
        },
        "id": "_uCsz7RdeBpu",
        "outputId": "35cc678d-c98b-4362-d6aa-5e39c202ea93"
      },
      "source": [
        "# Tjek hvor mange regioner der er i Florida, samt hvor mange observationer der er i hver\n",
        "df_florida.region.value_counts()"
      ],
      "execution_count": null,
      "outputs": [
        {
          "output_type": "execute_result",
          "data": {
            "text/plain": [
              "jacksonville             175\n",
              "space coast              160\n",
              "sarasota-bradenton       156\n",
              "orlando                  153\n",
              "daytona beach            143\n",
              "tallahassee              133\n",
              "tampa bay area           128\n",
              "lakeland                 127\n",
              "ft myers / SW florida    121\n",
              "panama city               99\n",
              "gainesville               92\n",
              "pensacola                 87\n",
              "treasure coast            84\n",
              "okaloosa / walton         57\n",
              "south florida             33\n",
              "ocala                     29\n",
              "heartland florida         11\n",
              "st augustine               9\n",
              "florida keys               5\n",
              "Name: region, dtype: int64"
            ]
          },
          "metadata": {
            "tags": []
          },
          "execution_count": 21
        }
      ]
    },
    {
      "cell_type": "markdown",
      "metadata": {
        "id": "ZIqfQ5TbENX0"
      },
      "source": [
        "17"
      ]
    },
    {
      "cell_type": "code",
      "metadata": {
        "colab": {
          "base_uri": "https://localhost:8080/"
        },
        "id": "fMmvMW1FeUpP",
        "outputId": "0c479a77-e769-4f31-e2dd-9abf249a7c96"
      },
      "source": [
        "# Lav en oversigt over gennemsnitsprisen for hver region i Florida, og sorter fra højeste til laveste pris \n",
        "df_florida.groupby('region').price.mean().sort_values(ascending=False)"
      ],
      "execution_count": null,
      "outputs": [
        {
          "output_type": "execute_result",
          "data": {
            "text/plain": [
              "region\n",
              "south florida           1449.66667\n",
              "treasure coast          1306.14286\n",
              "sarasota-bradenton      1250.82051\n",
              "okaloosa / walton       1250.73684\n",
              "orlando                 1229.28758\n",
              "panama city             1189.33333\n",
              "ft myers / SW florida   1174.15702\n",
              "tampa bay area          1146.49219\n",
              "st augustine            1136.00000\n",
              "space coast             1129.64375\n",
              "florida keys            1076.00000\n",
              "jacksonville            1056.61714\n",
              "lakeland                1042.75591\n",
              "daytona beach           1038.53147\n",
              "gainesville             1016.44565\n",
              "heartland florida        989.81818\n",
              "tallahassee              972.16541\n",
              "pensacola                951.33333\n",
              "ocala                    886.96552\n",
              "Name: price, dtype: float64"
            ]
          },
          "metadata": {
            "tags": []
          },
          "execution_count": 23
        }
      ]
    },
    {
      "cell_type": "markdown",
      "metadata": {
        "id": "4ghSwMSjEPWM"
      },
      "source": [
        "18"
      ]
    },
    {
      "cell_type": "code",
      "metadata": {
        "colab": {
          "base_uri": "https://localhost:8080/"
        },
        "id": "6ELrbN6Jkf9a",
        "outputId": "8e160c53-5e9c-4909-9a1b-5070806cff22"
      },
      "source": [
        "#Find ud af om prisen korrelerer med boligstørrelsen ('sqfeet') for hele datasættet df_florida \n",
        "df_florida.price.corr(df_florida.sqfeet)"
      ],
      "execution_count": null,
      "outputs": [
        {
          "output_type": "execute_result",
          "data": {
            "text/plain": [
              "0.1366327317051715"
            ]
          },
          "metadata": {
            "tags": []
          },
          "execution_count": 24
        }
      ]
    },
    {
      "cell_type": "markdown",
      "metadata": {
        "id": "QVP-rYowESve"
      },
      "source": [
        "19"
      ]
    },
    {
      "cell_type": "code",
      "metadata": {
        "id": "rsODaaU0g3Ru"
      },
      "source": [
        "# lav et afgrænset datasæt \"df_jv\", med observationer fra regionen Jacksonville, Florida \n",
        "df_jv = df.loc[(df['region'] == 'jacksonville') & (df['state'] == 'fl')]"
      ],
      "execution_count": null,
      "outputs": []
    },
    {
      "cell_type": "markdown",
      "metadata": {
        "id": "JGjivbHyEUUB"
      },
      "source": [
        "20"
      ]
    },
    {
      "cell_type": "code",
      "metadata": {
        "colab": {
          "base_uri": "https://localhost:8080/"
        },
        "id": "tnFcCORvg-82",
        "outputId": "c7da607e-feb6-4175-8e46-8a1994fa1e24"
      },
      "source": [
        "#Tjek korrelationen mellem pris og boligstørrelse i Jacksonville, Florida\n",
        "# Forklar/fortolk forskellen i de to korrelationsberegninger (Florida vs Jacksonville)\n",
        "\n",
        "df_jv.price.corr(df_jv.sqfeet)"
      ],
      "execution_count": null,
      "outputs": [
        {
          "output_type": "execute_result",
          "data": {
            "text/plain": [
              "0.6062333857717063"
            ]
          },
          "metadata": {
            "tags": []
          },
          "execution_count": 26
        }
      ]
    },
    {
      "cell_type": "markdown",
      "metadata": {
        "id": "YyTDntyEg6Nl"
      },
      "source": [
        "Svar: ..."
      ]
    },
    {
      "cell_type": "markdown",
      "metadata": {
        "id": "v4SEnOAOEXrn"
      },
      "source": [
        "21"
      ]
    },
    {
      "cell_type": "code",
      "metadata": {
        "colab": {
          "base_uri": "https://localhost:8080/",
          "height": 399
        },
        "id": "P0xQD2ZNlWmo",
        "outputId": "18082f51-30b4-4780-a7f3-674bd9725e44"
      },
      "source": [
        "# visualiser, ved hjælp af et scatterplot (seaborn relplot), sammenhængen mellem \"price\" og \"sqfeet\" i Jacksonville, Florida\n",
        "sns.relplot(x=\"price\", y=\"sqfeet\", data=df_jv)"
      ],
      "execution_count": null,
      "outputs": [
        {
          "output_type": "execute_result",
          "data": {
            "text/plain": [
              "<seaborn.axisgrid.FacetGrid at 0x7f8e64dfd588>"
            ]
          },
          "metadata": {
            "tags": []
          },
          "execution_count": 27
        },
        {
          "output_type": "display_data",
          "data": {
            "image/png": "[encoded data removed]",
            "text/plain": [
              "<Figure size 360x360 with 1 Axes>"
            ]
          },
          "metadata": {
            "tags": []
          }
        }
      ]
    },
    {
      "cell_type": "markdown",
      "metadata": {
        "id": "kllPzd0XEbPc"
      },
      "source": [
        "Den følgende del ser på priser og kriminalitet. Her bruger vi et datasæt med kriminalitetsstatistik fra US storbyer. Disse data skal aggregeres med huspris-datasættet på delstatsniveau. Derafter fortager vi korrelationsberegninger for at se, om prisniveauet korrelerer med kriminalitet.\n",
        "\n",
        "Data kan indlæses fra github: https://github.com/SDS-AAU/IntroStat/raw/master/Data/crime_per_city.csv\n",
        "\n",
        "22"
      ]
    },
    {
      "cell_type": "code",
      "metadata": {
        "id": "vBAAzTTL3WHS"
      },
      "source": [
        "# Indlæs data crime_per_city.csv\n",
        "crime = pd.read_csv('crime_per_city.csv')"
      ],
      "execution_count": null,
      "outputs": []
    },
    {
      "cell_type": "markdown",
      "metadata": {
        "id": "yyTCzQUsGoIH"
      },
      "source": [
        "23"
      ]
    },
    {
      "cell_type": "code",
      "metadata": {
        "colab": {
          "base_uri": "https://localhost:8080/"
        },
        "id": "KJz6Oh8e5ejW",
        "outputId": "45fb5229-cc35-4e6d-c977-5115041c5789"
      },
      "source": [
        "# beregn gennemsnitsværdier for 'Burglary','Violent Crime' på delstatsniveau ('state_abbr') som ny DataFrame crime_state\n",
        "# 'state_abbr' bliver index i denne DataFrame\n",
        "crime_state = crime.groupby('state_abbr')['Burglary','Violent Crime'].mean()"
      ],
      "execution_count": null,
      "outputs": [
        {
          "output_type": "stream",
          "text": [
            "/usr/local/lib/python3.6/dist-packages/ipykernel_launcher.py:3: FutureWarning: Indexing with multiple keys (implicitly converted to a tuple of keys) will be deprecated, use a list instead.\n",
            "  This is separate from the ipykernel package so we can avoid doing imports until\n"
          ],
          "name": "stderr"
        }
      ]
    },
    {
      "cell_type": "markdown",
      "metadata": {
        "id": "2V3k9Dk8Gph8"
      },
      "source": [
        "24"
      ]
    },
    {
      "cell_type": "code",
      "metadata": {
        "id": "rDA4Hfge4uEj"
      },
      "source": [
        "# Generér et merget datasæt \"price_n_crime\" ud fra \"df\" og \"crime_state\".\n",
        "# aggreger huspriser og data om gennemsnitlig kriminalitet på delstatsstatsniveau (brug left_on='state', right_index = True som nøgle)\n",
        "price_n_crime = pd.merge(df, crime_state, left_on='state', right_index= True)"
      ],
      "execution_count": null,
      "outputs": []
    },
    {
      "cell_type": "markdown",
      "metadata": {
        "id": "L8xYZywzGq-l"
      },
      "source": [
        "25"
      ]
    },
    {
      "cell_type": "code",
      "metadata": {
        "colab": {
          "base_uri": "https://localhost:8080/"
        },
        "id": "8iR6mvfr5RVh",
        "outputId": "3a923cad-7115-441f-9ed1-e1fe8eaac986"
      },
      "source": [
        "# brug price_n_crime DataFrame: beregn og fortolk korrelation for priser vs gennemsnitlige niveauer for indbrudstyveri (burglary)\n",
        "price_n_crime.price.corr(price_n_crime['Burglary'])"
      ],
      "execution_count": null,
      "outputs": [
        {
          "output_type": "execute_result",
          "data": {
            "text/plain": [
              "-0.22295521168952775"
            ]
          },
          "metadata": {
            "tags": []
          },
          "execution_count": 66
        }
      ]
    },
    {
      "cell_type": "markdown",
      "metadata": {
        "id": "T59Rl_QYhA5p"
      },
      "source": [
        "Svar: ..."
      ]
    }
  ]
}