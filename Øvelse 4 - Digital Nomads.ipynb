{
 "cells": [
  {
   "cell_type": "markdown",
   "id": "f3890cfb",
   "metadata": {},
   "source": [
    "# Øvelse 4 - Digital Nomads"
   ]
  },
  {
   "cell_type": "markdown",
   "id": "49e1cfe0",
   "metadata": {},
   "source": [
    "I denne øvelse kommer vi til, at arbejde med datamanipulation, merging af DataFrames og visualiseringer af forskellige variable. Vi kommer til primært til at kigge på hvordan man kan sikre sig, at ens data har rimelige værdier, hvordan man kan berige sin data ved, at slå flere DataFrames sammen, og hvordan man kan bruge dette til at skabe nogle mere sigende visualiseringer."
   ]
  },
  {
   "cell_type": "code",
   "execution_count": null,
   "id": "3e027a4a",
   "metadata": {},
   "outputs": [],
   "source": [
    "# Vi importerer de nødvendige libraries\n",
    "import pandas as pd\n",
    "import numpy as np\n",
    "import matplotlib.pyplot as plt\n",
    "import seaborn as sns"
   ]
  },
  {
   "cell_type": "code",
   "execution_count": null,
   "id": "d00fbcd5",
   "metadata": {},
   "outputs": [],
   "source": [
    "# Vi importerer vores data\n",
    "trips_data = pd.read_csv('https://sds-aau.github.io/SDS-master/M1/data/trips.csv')\n",
    "people_data = pd.read_csv('https://sds-aau.github.io/SDS-master/M1/data/people.csv')\n",
    "country_data = pd.read_csv('https://sds-aau.github.io/SDS-master/M1/data/countrylist.csv')"
   ]
  },
  {
   "cell_type": "code",
   "execution_count": null,
   "id": "9b3b3344",
   "metadata": {},
   "outputs": [],
   "source": [
    "# Vi konverterer det importerede data til DataFrames\n",
    "trips = pd.DataFrame(trips_data)\n",
    "people = pd.DataFrame(people_data)\n",
    "country = pd.DataFrame(country_data)"
   ]
  },
  {
   "cell_type": "markdown",
   "id": "074460b8",
   "metadata": {},
   "source": [
    "## 1 - Datamanipulation og Overblik"
   ]
  },
  {
   "cell_type": "code",
   "execution_count": null,
   "id": "ed9f0cb6",
   "metadata": {},
   "outputs": [],
   "source": [
    "# 1.1: Hvordan ser de første 5 rækker af trips dataframen ud og hvilke kolonner arbejder vi med?\n"
   ]
  },
  {
   "cell_type": "code",
   "execution_count": null,
   "id": "dca87f34",
   "metadata": {},
   "outputs": [],
   "source": [
    "# 1.2: Er der nogle rækker med manglende data i trips dataframen?\n",
    "# 1.3: Hvilke datatyper arbejder vi med?\n"
   ]
  },
  {
   "cell_type": "markdown",
   "id": "7bc65b7a",
   "metadata": {},
   "source": [
    "Som det kan ses har vi to kolonner i vores `trips` DataFrame som er af datatypen `object`. Vi vil gerne have at datoer i vores DataFrames er formatteret som `datetime`. Her kan vi bruge funnktionen `pd.to_datetime()` til at konvertere vores kolonner til datatypen `datetime`. Her er vi nødt til, at bruge parametret `errors='coerce'` for, at sikre at fejl bliver håndteret korrekt."
   ]
  },
  {
   "cell_type": "code",
   "execution_count": null,
   "id": "c0683720",
   "metadata": {},
   "outputs": [],
   "source": [
    "# 1.4: Konverter kolonnerne date_end og date_start til datatypen datetime.\n",
    "trips['date_start'] = pd.to_datetime(___, errors=___)\n",
    "trips['date_end'] = pd.to_datetime(___, errors=___)"
   ]
  },
  {
   "cell_type": "code",
   "execution_count": null,
   "id": "73e3f5b6",
   "metadata": {},
   "outputs": [],
   "source": [
    "# 1.5: Udregn længden af rejserne i kolonnen trip_duration:\n",
    "# Dette kan gøres ved at trække slut tidspunktet fra startstidspunktet. \n",
    "trips['trip_duration'] = (___ - ___) / np.timedelta64(1, 'D')"
   ]
  },
  {
   "cell_type": "code",
   "execution_count": null,
   "id": "1f6d4fcc",
   "metadata": {},
   "outputs": [],
   "source": [
    "# 1.6: Hvordan ser vores nye kolonne ud, hvad er max og hvad er min trip duration?\n",
    "print(___)\n",
    "print(___)"
   ]
  },
  {
   "cell_type": "markdown",
   "id": "f183f9e4",
   "metadata": {},
   "source": [
    "Det ser ud til, at vi har nogle start og slutdatoer der ligger udenfor det der ville være forventeligt. Vi kan kigge nærmere på det vha. et boxplot. Brug funktionen `sns.boxplot()` til at lave et boxplot af `trip_duration`."
   ]
  },
  {
   "cell_type": "code",
   "execution_count": null,
   "id": "5bec0265",
   "metadata": {},
   "outputs": [],
   "source": [
    "# 1.7: Lav et boxplot af trip_duration for at tjekke for outliers:\n"
   ]
  },
  {
   "cell_type": "markdown",
   "id": "fc39d166",
   "metadata": {},
   "source": [
    "Som det kan ses ser det helt underligt ud med mængden og størrelsen af de outliers der er. Vi vil derfor gerne forsøge, at manipulere vores datasæt så det kun indeholder starttidspunkter der er før dags dato og sluttidspunkter efter den første startsdato i vores DataFrame."
   ]
  },
  {
   "cell_type": "code",
   "execution_count": null,
   "id": "1bcc78f9",
   "metadata": {},
   "outputs": [],
   "source": [
    "# 1.8: Hvad er den første dato i vores DataFrame?\n"
   ]
  },
  {
   "cell_type": "code",
   "execution_count": null,
   "id": "5a639c84",
   "metadata": {},
   "outputs": [],
   "source": [
    "# 1.9: Filtrer trips, så startdatoer efter dags dato og slutdatoer før 1970-01-01 er filtreret væk.\n",
    "trips = trips[\n",
    "    (___ < '___') &\n",
    "    (___ > '___')\n",
    "]"
   ]
  },
  {
   "cell_type": "code",
   "execution_count": null,
   "id": "e89a70cb",
   "metadata": {},
   "outputs": [],
   "source": [
    "# 1.10: Hvad er min og max duration efter vi har filtreret vores dataframe?\n",
    "print(___)\n",
    "print(___)"
   ]
  },
  {
   "cell_type": "markdown",
   "id": "a030624f",
   "metadata": {},
   "source": [
    "Som det kan ses har vi stadig trip_durations der er udenfor det vi ville forvente. Derfor er vi nødt at lave flere manipulationer af dataframen. Vi kan se på spredningen af vores trip_duration ved at udregne kvantiler. Her vil vi især gerne se kvantilerne 0.01 og 0.99:"
   ]
  },
  {
   "cell_type": "code",
   "execution_count": null,
   "id": "f69b6835",
   "metadata": {},
   "outputs": [],
   "source": [
    "# 1.11: Udregn kvantilerne 0.01, 0.25, 0.5, 0.75 og 0.99 i vores kolonne 'trip_duration'\n",
    "___"
   ]
  },
  {
   "cell_type": "markdown",
   "id": "6b1c237b",
   "metadata": {},
   "source": [
    "Vi vil gerne have filtreret vores dataframe så vi kun har `trip_duration` der er mellem 0.01 kvantil og 0.99 kvantil. Vi kan derfor filtrere på vores DataFrame igen."
   ]
  },
  {
   "cell_type": "code",
   "execution_count": null,
   "id": "a5a1dc4f",
   "metadata": {},
   "outputs": [],
   "source": [
    "# 1.12: Filtrer vores trips DataFrame, så vi kun har data mellem 0.01 og 0.99 kvantiler på trips_duration:\n",
    "# Vi kan filtrere vores kolonner som vi gjorde i 1.9. Her vil vi blot filtrere på trips['trip_duration'].quantile()\n",
    "trips = trips[\n",
    "    (___ > ___.quantile(___)) &\n",
    "    (___ < ___.quantile(___))\n",
    "]"
   ]
  },
  {
   "cell_type": "code",
   "execution_count": null,
   "id": "95a01679",
   "metadata": {},
   "outputs": [],
   "source": [
    "# 1.13: Tjek at trip_duration max og min er nogenlunde fornuftige nu:\n",
    "print(\"Min. Duration is: \", ___)\n",
    "print(\"Max duration is: \", ___)"
   ]
  },
  {
   "cell_type": "markdown",
   "id": "40d7d0ac",
   "metadata": {},
   "source": [
    "Efter vi har klargjort vores `trips` DataFrame vil vi gerne have vores `trips` DataFrame og vores `country` DataFrame slået sammen. Dette kan vi gøre vha. funktionen `pd.merge()` funktionen. Vi har dog brug for, at se hvilke kolonner vores `country` DataFrame indeholder."
   ]
  },
  {
   "cell_type": "code",
   "execution_count": null,
   "id": "24432cf6",
   "metadata": {},
   "outputs": [],
   "source": [
    "# 1.14: Hvilke kolonner indeholder vores country dataframe?\n",
    "___"
   ]
  },
  {
   "cell_type": "markdown",
   "id": "c4b5382c",
   "metadata": {},
   "source": [
    "Her kan vi se at kolonnen `alpha_2` er den samme som vores kolonne `country_code` i trips dataframen. Vi vil derfor gerne omdøbe kolonnen `alpha_2` i vores country dataframe. Dette kan vi gøre vha. funktionen `df.rename()` hvor vi gerne vil gøre det inplace."
   ]
  },
  {
   "cell_type": "code",
   "execution_count": null,
   "id": "76890b73",
   "metadata": {},
   "outputs": [],
   "source": [
    "# 1.15: Omdøb kolonnen alpha_2 til country_code i country dataframen:\n",
    "country.rename(columns={'___':'___'}, inplace=True)"
   ]
  },
  {
   "cell_type": "code",
   "execution_count": null,
   "id": "41520545",
   "metadata": {},
   "outputs": [],
   "source": [
    "# 1.16: Brug pd.merge til at merge de to dataframes på country_code:\n",
    "merged = pd.merge(___, ___, on='___')"
   ]
  },
  {
   "cell_type": "code",
   "execution_count": null,
   "id": "960a9da0",
   "metadata": {},
   "outputs": [],
   "source": [
    "# 1.17: Hvordan ser de første 5 rækker ud af vores nye DataFrame?\n"
   ]
  },
  {
   "cell_type": "markdown",
   "id": "b2044322",
   "metadata": {},
   "source": [
    "## 2 - Visualiseringer og Dataforståelse"
   ]
  },
  {
   "cell_type": "code",
   "execution_count": null,
   "id": "237b6e91",
   "metadata": {},
   "outputs": [],
   "source": [
    "# 2.1: Brug groupby til at give et overblik over gennemsnittet af trip_duration i de forskellige regioner:\n"
   ]
  },
  {
   "cell_type": "code",
   "execution_count": null,
   "id": "e0ab2361",
   "metadata": {},
   "outputs": [],
   "source": [
    "# 2.2: Brug groupby til at give et overblik over medianen af trip_duration i de forskellige regioner: \n"
   ]
  },
  {
   "cell_type": "code",
   "execution_count": null,
   "id": "583902b0",
   "metadata": {},
   "outputs": [],
   "source": [
    "# 2.3: Brug groupby til at give et overblik over standardafvigelsen af trip_duration i de forskellige regioner: \n"
   ]
  },
  {
   "cell_type": "code",
   "execution_count": null,
   "id": "b5dac5cf",
   "metadata": {},
   "outputs": [],
   "source": [
    "# 2.4: Lav et FacetGrid med boxplots der visualiserer spredningen af trip_duration i de forskellige regioner:\n",
    "g = sns.FacetGrid(___, col='___', col_wrap=3, sharex=False)\n",
    "g.map(sns.___, '___')"
   ]
  },
  {
   "cell_type": "markdown",
   "id": "dc7ecf90",
   "metadata": {},
   "source": [
    "Som det kan ses i de ovenstående boxplots, har vi stadig en del outliers. Dette er ikke en fejl, blot sådan vores data ser ud. Dette er også forventeligt ud fra hvordan gennemsnittet, medianen og standardafvigelsen er. Vi vil dog gerne prøve at se hvordan fordelingen er i interquartile range. For at gøre dette kan vi filtrere vores data ud fra vores viden om boxplots og outliers. Vi prøver at, lave et FacetGrid igen med merged DataFramen, men hvor vi filtrerer alle rækker med en trip_duration over 100 væk."
   ]
  },
  {
   "cell_type": "code",
   "execution_count": null,
   "id": "a765e1cd",
   "metadata": {},
   "outputs": [],
   "source": [
    "# 2.5: Lav et FacetGrid med boxplots der visualiserer spredningen af trip_duration i de forskellige regioner:\n",
    "# Brug merged[merged.trip_duration < 100] som data\n",
    "g = sns.FacetGrid(___, col='___', col_wrap=3, sharex=False)\n",
    "g.map(sns.___, '___')"
   ]
  },
  {
   "cell_type": "code",
   "execution_count": null,
   "id": "fa9c0863",
   "metadata": {},
   "outputs": [],
   "source": [
    "# 2.6: Hvor mange lande er der i vores merged DataFrame? (Husk funktionen .nunique())\n"
   ]
  },
  {
   "cell_type": "code",
   "execution_count": null,
   "id": "925e3ff7",
   "metadata": {},
   "outputs": [],
   "source": [
    "# 2.7: Hvilket land har modtaget flest besøgende?\n"
   ]
  },
  {
   "cell_type": "code",
   "execution_count": null,
   "id": "47aae90a",
   "metadata": {},
   "outputs": [],
   "source": [
    "# 2.8: Hvilken region har modtaget færrest besøgende?\n"
   ]
  }
 ],
 "metadata": {
  "kernelspec": {
   "display_name": "Python 3 (ipykernel)",
   "language": "python",
   "name": "python3"
  },
  "language_info": {
   "codemirror_mode": {
    "name": "ipython",
    "version": 3
   },
   "file_extension": ".py",
   "mimetype": "text/x-python",
   "name": "python",
   "nbconvert_exporter": "python",
   "pygments_lexer": "ipython3",
   "version": "3.9.7"
  }
 },
 "nbformat": 4,
 "nbformat_minor": 5
}
