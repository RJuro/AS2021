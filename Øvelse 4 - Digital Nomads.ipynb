{
 "cells": [
  {
   "cell_type": "markdown",
   "id": "a4e0acb8",
   "metadata": {},
   "source": [
    "# Øvelse 4 - Digital Nomads"
   ]
  },
  {
   "cell_type": "markdown",
   "id": "f2f41909",
   "metadata": {},
   "source": [
    "I denne øvelse kommer vi til, at arbejde med datamanipulation, merging af DataFrames og visualiseringer af forskellige variable. Vi kommer til primært til at kigge på hvordan man kan sikre sig, at ens data har rimelige værdier, hvordan man kan berige sin data ved, at slå flere DataFrames sammen, og hvordan man kan bruge dette til at skabe nogle mere sigende visualiseringer."
   ]
  },
  {
   "cell_type": "code",
   "execution_count": 38,
   "id": "3a8b8a30",
   "metadata": {},
   "outputs": [],
   "source": [
    "# Vi importerer de nødvendige libraries\n",
    "import pandas as pd\n",
    "import numpy as np\n",
    "import matplotlib.pyplot as plt\n",
    "import seaborn as sns"
   ]
  },
  {
   "cell_type": "code",
   "execution_count": 39,
   "id": "c1f0717b",
   "metadata": {},
   "outputs": [],
   "source": [
    "# Vi importerer vores data\n",
    "trips_data = pd.read_csv('https://sds-aau.github.io/SDS-master/M1/data/trips.csv')\n",
    "people_data = pd.read_csv('https://sds-aau.github.io/SDS-master/M1/data/people.csv')\n",
    "country_data = pd.read_csv('https://sds-aau.github.io/SDS-master/M1/data/countrylist.csv')"
   ]
  },
  {
   "cell_type": "code",
   "execution_count": 40,
   "id": "ec28297c",
   "metadata": {},
   "outputs": [],
   "source": [
    "# Vi konverterer det importerede data til DataFrames\n",
    "trips = pd.DataFrame(trips_data)\n",
    "people = pd.DataFrame(people_data)\n",
    "country = pd.DataFrame(country_data)"
   ]
  },
  {
   "cell_type": "markdown",
   "id": "0bb56187",
   "metadata": {},
   "source": [
    "## 1 - Datamanipulation og Overblik"
   ]
  },
  {
   "cell_type": "code",
   "execution_count": 41,
   "id": "32bbdbc0",
   "metadata": {},
   "outputs": [
    {
     "data": {
      "text/html": [
       "<div>\n",
       "<style scoped>\n",
       "    .dataframe tbody tr th:only-of-type {\n",
       "        vertical-align: middle;\n",
       "    }\n",
       "\n",
       "    .dataframe tbody tr th {\n",
       "        vertical-align: top;\n",
       "    }\n",
       "\n",
       "    .dataframe thead th {\n",
       "        text-align: right;\n",
       "    }\n",
       "</style>\n",
       "<table border=\"1\" class=\"dataframe\">\n",
       "  <thead>\n",
       "    <tr style=\"text-align: right;\">\n",
       "      <th></th>\n",
       "      <th>Unnamed: 0</th>\n",
       "      <th>username</th>\n",
       "      <th>country</th>\n",
       "      <th>country_code</th>\n",
       "      <th>country_slug</th>\n",
       "      <th>date_end</th>\n",
       "      <th>date_start</th>\n",
       "      <th>latitude</th>\n",
       "      <th>longitude</th>\n",
       "      <th>place</th>\n",
       "      <th>place_slug</th>\n",
       "    </tr>\n",
       "  </thead>\n",
       "  <tbody>\n",
       "    <tr>\n",
       "      <th>0</th>\n",
       "      <td>0</td>\n",
       "      <td>@lewellenmichael</td>\n",
       "      <td>Mexico</td>\n",
       "      <td>MX</td>\n",
       "      <td>mexico</td>\n",
       "      <td>2018-06-15</td>\n",
       "      <td>2018-06-04</td>\n",
       "      <td>21</td>\n",
       "      <td>-101</td>\n",
       "      <td>Guanajuato</td>\n",
       "      <td>mexico</td>\n",
       "    </tr>\n",
       "    <tr>\n",
       "      <th>1</th>\n",
       "      <td>1</td>\n",
       "      <td>@lewellenmichael</td>\n",
       "      <td>Mexico</td>\n",
       "      <td>MX</td>\n",
       "      <td>mexico</td>\n",
       "      <td>2018-06-03</td>\n",
       "      <td>2018-05-31</td>\n",
       "      <td>19</td>\n",
       "      <td>-99</td>\n",
       "      <td>Mexico City</td>\n",
       "      <td>mexico-city-mexico</td>\n",
       "    </tr>\n",
       "    <tr>\n",
       "      <th>2</th>\n",
       "      <td>2</td>\n",
       "      <td>@lewellenmichael</td>\n",
       "      <td>Mexico</td>\n",
       "      <td>MX</td>\n",
       "      <td>mexico</td>\n",
       "      <td>2017-11-05</td>\n",
       "      <td>2017-11-01</td>\n",
       "      <td>21</td>\n",
       "      <td>-86</td>\n",
       "      <td>Cancun</td>\n",
       "      <td>cancun-mexico</td>\n",
       "    </tr>\n",
       "    <tr>\n",
       "      <th>3</th>\n",
       "      <td>3</td>\n",
       "      <td>@lewellenmichael</td>\n",
       "      <td>Jordan</td>\n",
       "      <td>JO</td>\n",
       "      <td>jordan</td>\n",
       "      <td>2017-08-07</td>\n",
       "      <td>2017-07-24</td>\n",
       "      <td>31</td>\n",
       "      <td>35</td>\n",
       "      <td>Amman</td>\n",
       "      <td>amman-jordan</td>\n",
       "    </tr>\n",
       "    <tr>\n",
       "      <th>4</th>\n",
       "      <td>4</td>\n",
       "      <td>@waylandchin</td>\n",
       "      <td>China</td>\n",
       "      <td>CN</td>\n",
       "      <td>china</td>\n",
       "      <td>2017-03-18</td>\n",
       "      <td>2017-02-17</td>\n",
       "      <td>40</td>\n",
       "      <td>122</td>\n",
       "      <td>Yingkou</td>\n",
       "      <td>china</td>\n",
       "    </tr>\n",
       "  </tbody>\n",
       "</table>\n",
       "</div>"
      ],
      "text/plain": [
       "   Unnamed: 0          username country country_code country_slug    date_end  \\\n",
       "0           0  @lewellenmichael  Mexico           MX       mexico  2018-06-15   \n",
       "1           1  @lewellenmichael  Mexico           MX       mexico  2018-06-03   \n",
       "2           2  @lewellenmichael  Mexico           MX       mexico  2017-11-05   \n",
       "3           3  @lewellenmichael  Jordan           JO       jordan  2017-08-07   \n",
       "4           4      @waylandchin   China           CN        china  2017-03-18   \n",
       "\n",
       "   date_start  latitude  longitude        place          place_slug  \n",
       "0  2018-06-04        21       -101   Guanajuato              mexico  \n",
       "1  2018-05-31        19        -99  Mexico City  mexico-city-mexico  \n",
       "2  2017-11-01        21        -86       Cancun       cancun-mexico  \n",
       "3  2017-07-24        31         35        Amman        amman-jordan  \n",
       "4  2017-02-17        40        122      Yingkou               china  "
      ]
     },
     "execution_count": 41,
     "metadata": {},
     "output_type": "execute_result"
    }
   ],
   "source": [
    "# 1.1: Hvordan ser de første 5 rækker af trips dataframen ud og hvilke kolonner arbejder vi med?\n",
    "trips.head()"
   ]
  },
  {
   "cell_type": "code",
   "execution_count": 42,
   "id": "f20c2de3",
   "metadata": {},
   "outputs": [
    {
     "name": "stdout",
     "output_type": "stream",
     "text": [
      "<class 'pandas.core.frame.DataFrame'>\n",
      "RangeIndex: 46510 entries, 0 to 46509\n",
      "Data columns (total 11 columns):\n",
      " #   Column        Non-Null Count  Dtype \n",
      "---  ------        --------------  ----- \n",
      " 0   Unnamed: 0    46510 non-null  int64 \n",
      " 1   username      46510 non-null  object\n",
      " 2   country       46473 non-null  object\n",
      " 3   country_code  45909 non-null  object\n",
      " 4   country_slug  46473 non-null  object\n",
      " 5   date_end      46335 non-null  object\n",
      " 6   date_start    46510 non-null  object\n",
      " 7   latitude      46510 non-null  int64 \n",
      " 8   longitude     46510 non-null  int64 \n",
      " 9   place         46510 non-null  object\n",
      " 10  place_slug    46473 non-null  object\n",
      "dtypes: int64(3), object(8)\n",
      "memory usage: 3.9+ MB\n"
     ]
    }
   ],
   "source": [
    "# 1.2: Er der nogle rækker med manglende data i trips dataframen?\n",
    "# 1.3: Hvilke datatyper arbejder vi med?\n",
    "trips.info()"
   ]
  },
  {
   "cell_type": "markdown",
   "id": "efa6559a",
   "metadata": {},
   "source": [
    "Som det kan ses har vi to kolonner i vores `trips` DataFrame som er af datatypen `object`. Vi vil gerne have at datoer i vores DataFrames er formatteret som `datetime`. Her kan vi bruge funnktionen `pd.to_datetime()` til at konvertere vores kolonner til datatypen `datetime`. Her er vi nødt til, at bruge parametret `errors='coerce'` for, at sikre at fejl bliver håndteret korrekt."
   ]
  },
  {
   "cell_type": "code",
   "execution_count": 43,
   "id": "6ca02950",
   "metadata": {},
   "outputs": [],
   "source": [
    "# 1.4: Konverter kolonnerne date_end og date_start til datatypen datetime.\n",
    "trips['date_start'] = pd.to_datetime(trips['date_start'], errors='coerce')\n",
    "trips['date_end'] = pd.to_datetime(trips['date_end'], errors='coerce')"
   ]
  },
  {
   "cell_type": "markdown",
   "id": "5015758a",
   "metadata": {},
   "source": [
    "Vi konverterer igen vores to datokolonner til `datetime`. Dette er en god ide at gøre hver gang man arbejder med datoer i en DataFrame. Vi bruger parametret `errors='coerce'` for at fortælle DataFramen, at den skal medtage de fejl der er men give dem værdien `NaT` (Not a Time)."
   ]
  },
  {
   "cell_type": "code",
   "execution_count": 44,
   "id": "08c617c8",
   "metadata": {},
   "outputs": [],
   "source": [
    "# 1.5: Udregn længden af rejserne i kolonnen trip_duration:\n",
    "# Dette kan gøres ved at trække slut tidspunktet fra startstidspunktet. \n",
    "trips['trip_duration'] = (trips['date_end'] - trips['date_start']) / np.timedelta64(1, 'D')"
   ]
  },
  {
   "cell_type": "markdown",
   "id": "eb4b752d",
   "metadata": {},
   "source": [
    "Vi udregner rejselængden ved at trække startdatoen fra slutdatoen. Vi dividerer med `np.timedelta64(1, 'D')` for, at vores output værdi er i datatypen `float`. Dette giver os bedre mulighed for, at bruge quantiles, filtreringer osv."
   ]
  },
  {
   "cell_type": "code",
   "execution_count": 45,
   "id": "bce4337a",
   "metadata": {},
   "outputs": [
    {
     "name": "stdout",
     "output_type": "stream",
     "text": [
      "-16831.0\n",
      "74633.0\n"
     ]
    }
   ],
   "source": [
    "# 1.6: Hvordan ser vores nye kolonne ud, hvad er max og hvad er min trip duration?\n",
    "print(trips['trip_duration'].min())\n",
    "print(trips['trip_duration'].max())"
   ]
  },
  {
   "cell_type": "markdown",
   "id": "1ed38b24",
   "metadata": {},
   "source": [
    "Det ser ud til, at vi har nogle start og slutdatoer der ligger udenfor det der ville være forventeligt. Vi kan kigge nærmere på det vha. et boxplot. Brug funktionen `sns.boxplot()` til at lave et boxplot af `trip_duration`."
   ]
  },
  {
   "cell_type": "code",
   "execution_count": 46,
   "id": "5a58f2d6",
   "metadata": {},
   "outputs": [
    {
     "name": "stderr",
     "output_type": "stream",
     "text": [
      "C:\\Users\\Sebastian Linde\\AppData\\Local\\Packages\\PythonSoftwareFoundation.Python.3.9_qbz5n2kfra8p0\\LocalCache\\local-packages\\Python39\\site-packages\\seaborn\\_decorators.py:36: FutureWarning: Pass the following variable as a keyword arg: x. From version 0.12, the only valid positional argument will be `data`, and passing other arguments without an explicit keyword will result in an error or misinterpretation.\n",
      "  warnings.warn(\n"
     ]
    },
    {
     "data": {
      "text/plain": [
       "<AxesSubplot:xlabel='trip_duration'>"
      ]
     },
     "execution_count": 46,
     "metadata": {},
     "output_type": "execute_result"
    },
    {
     "data": {
      "image/png": "[encoded data removed]",
      "text/plain": [
       "<Figure size 432x288 with 1 Axes>"
      ]
     },
     "metadata": {
      "needs_background": "light"
     },
     "output_type": "display_data"
    }
   ],
   "source": [
    "# 1.7: Lav et boxplot af trip_duration for at tjekke for outliers:\n",
    "sns.boxplot(trips['trip_duration'])"
   ]
  },
  {
   "cell_type": "markdown",
   "id": "700bb075",
   "metadata": {},
   "source": [
    "Som det kan ses ser det helt underligt ud med mængden og størrelsen af de outliers der er. Vi vil derfor gerne forsøge, at manipulere vores datasæt så det kun indeholder starttidspunkter der er før dags dato og sluttidspunkter efter den første startsdato i vores DataFrame."
   ]
  },
  {
   "cell_type": "code",
   "execution_count": 47,
   "id": "424561a4",
   "metadata": {},
   "outputs": [
    {
     "data": {
      "text/plain": [
       "Timestamp('1970-01-01 00:00:00')"
      ]
     },
     "execution_count": 47,
     "metadata": {},
     "output_type": "execute_result"
    }
   ],
   "source": [
    "# 1.8: Hvad er den første dato i vores DataFrame?\n",
    "trips['date_start'].min()"
   ]
  },
  {
   "cell_type": "code",
   "execution_count": 48,
   "id": "42defd74",
   "metadata": {},
   "outputs": [],
   "source": [
    "# 1.9: Filtrer trips, så startdatoer efter dags dato og slutdatoer før 1970-01-01 er filtreret væk.\n",
    "trips = trips[\n",
    "    (trips.date_end > '1970-01-01') &\n",
    "    (trips.date_start < '2021-01-01')\n",
    "]"
   ]
  },
  {
   "cell_type": "markdown",
   "id": "024ed473",
   "metadata": {},
   "source": [
    "Vi filtrerer på start- og slutdatoerne for, at få frasorteret de rækker, som ikke har en fornuftig værdi."
   ]
  },
  {
   "cell_type": "code",
   "execution_count": 49,
   "id": "2aa208ab",
   "metadata": {},
   "outputs": [
    {
     "name": "stdout",
     "output_type": "stream",
     "text": [
      "0.0\n",
      "74633.0\n"
     ]
    }
   ],
   "source": [
    "# 1.10: Hvad er min og max duration efter vi har filtreret vores dataframe?\n",
    "print(trips.trip_duration.min())\n",
    "print(trips.trip_duration.max())"
   ]
  },
  {
   "cell_type": "markdown",
   "id": "3d329235",
   "metadata": {},
   "source": [
    "Som det kan ses har vi stadig trip_durations der er udenfor det vi ville forvente. Derfor er vi nødt at lave flere manipulationer af dataframen. Vi kan se på spredningen af vores trip_duration ved at udregne kvantiler. Her vil vi især gerne se kvantilerne 0.01 og 0.99:"
   ]
  },
  {
   "cell_type": "code",
   "execution_count": 50,
   "id": "f181a048",
   "metadata": {},
   "outputs": [
    {
     "data": {
      "text/plain": [
       "0.01      0.00\n",
       "0.25      3.00\n",
       "0.50      7.00\n",
       "0.75     23.00\n",
       "0.99    639.32\n",
       "Name: trip_duration, dtype: float64"
      ]
     },
     "execution_count": 50,
     "metadata": {},
     "output_type": "execute_result"
    }
   ],
   "source": [
    "# 1.11: Udregn kvantilerne 0.01, 0.25, 0.5, 0.75 og 0.99 i vores kolonne 'trip_duration'\n",
    "trips.trip_duration.quantile([0.01,0.25,0.5,0.75,0.99])"
   ]
  },
  {
   "cell_type": "markdown",
   "id": "f1c42986",
   "metadata": {},
   "source": [
    "Vi vil gerne have filtreret vores dataframe så vi kun har `trip_duration` der er mellem 0.01 kvantil og 0.99 kvantil. Vi kan derfor filtrere på vores DataFrame igen."
   ]
  },
  {
   "cell_type": "code",
   "execution_count": 51,
   "id": "97bb19e7",
   "metadata": {},
   "outputs": [],
   "source": [
    "# 1.12: Filtrer vores trips DataFrame, så vi kun har data mellem 0.01 og 0.99 kvantiler på trips_duration:\n",
    "# Vi kan filtrere vores kolonner som vi gjorde i 1.9. Her vil vi blot filtrere på trips['trip_duration'].quantile()\n",
    "trips = trips[\n",
    "    (trips['trip_duration'] > trips['trip_duration'].quantile(0.01)) &\n",
    "    (trips['trip_duration'] < trips['trip_duration'].quantile(0.99))\n",
    "]"
   ]
  },
  {
   "cell_type": "markdown",
   "id": "10892866",
   "metadata": {},
   "source": [
    "Vi filtrerer her på `trip_duration` fordi vi efter vores filtrering stadig så nogle outliers i vores rejselængde som ikke gav mening. "
   ]
  },
  {
   "cell_type": "code",
   "execution_count": 52,
   "id": "f42f5f95",
   "metadata": {},
   "outputs": [
    {
     "name": "stdout",
     "output_type": "stream",
     "text": [
      "Min. Duration is:  1.0\n",
      "Max duration is:  638.0\n"
     ]
    }
   ],
   "source": [
    "# 1.13: Tjek at trip_duration max og min er nogenlunde fornuftige nu:\n",
    "print(\"Min. Duration is: \", trips['trip_duration'].min())\n",
    "print(\"Max duration is: \", trips['trip_duration'].max())"
   ]
  },
  {
   "cell_type": "markdown",
   "id": "9a4df4ae",
   "metadata": {},
   "source": [
    "Efter vi har klargjort vores `trips` DataFrame vil vi gerne have vores `trips` DataFrame og vores `country` DataFrame slået sammen. Dette kan vi gøre vha. funktionen `pd.merge()` funktionen. Vi har dog brug for, at se hvilke kolonner vores `country` DataFrame indeholder."
   ]
  },
  {
   "cell_type": "code",
   "execution_count": 53,
   "id": "e525e39d",
   "metadata": {},
   "outputs": [
    {
     "data": {
      "text/html": [
       "<div>\n",
       "<style scoped>\n",
       "    .dataframe tbody tr th:only-of-type {\n",
       "        vertical-align: middle;\n",
       "    }\n",
       "\n",
       "    .dataframe tbody tr th {\n",
       "        vertical-align: top;\n",
       "    }\n",
       "\n",
       "    .dataframe thead th {\n",
       "        text-align: right;\n",
       "    }\n",
       "</style>\n",
       "<table border=\"1\" class=\"dataframe\">\n",
       "  <thead>\n",
       "    <tr style=\"text-align: right;\">\n",
       "      <th></th>\n",
       "      <th>alpha_2</th>\n",
       "      <th>region</th>\n",
       "      <th>sub_region</th>\n",
       "    </tr>\n",
       "  </thead>\n",
       "  <tbody>\n",
       "    <tr>\n",
       "      <th>0</th>\n",
       "      <td>AF</td>\n",
       "      <td>Asia</td>\n",
       "      <td>Southern Asia</td>\n",
       "    </tr>\n",
       "    <tr>\n",
       "      <th>1</th>\n",
       "      <td>AX</td>\n",
       "      <td>Europe</td>\n",
       "      <td>Northern Europe</td>\n",
       "    </tr>\n",
       "    <tr>\n",
       "      <th>2</th>\n",
       "      <td>AL</td>\n",
       "      <td>Europe</td>\n",
       "      <td>Southern Europe</td>\n",
       "    </tr>\n",
       "    <tr>\n",
       "      <th>3</th>\n",
       "      <td>DZ</td>\n",
       "      <td>Africa</td>\n",
       "      <td>Northern Africa</td>\n",
       "    </tr>\n",
       "    <tr>\n",
       "      <th>4</th>\n",
       "      <td>AS</td>\n",
       "      <td>Oceania</td>\n",
       "      <td>Polynesia</td>\n",
       "    </tr>\n",
       "  </tbody>\n",
       "</table>\n",
       "</div>"
      ],
      "text/plain": [
       "  alpha_2   region       sub_region\n",
       "0      AF     Asia    Southern Asia\n",
       "1      AX   Europe  Northern Europe\n",
       "2      AL   Europe  Southern Europe\n",
       "3      DZ   Africa  Northern Africa\n",
       "4      AS  Oceania        Polynesia"
      ]
     },
     "execution_count": 53,
     "metadata": {},
     "output_type": "execute_result"
    }
   ],
   "source": [
    "# 1.14: Hvilke kolonner indeholder vores country dataframe?\n",
    "country.head()"
   ]
  },
  {
   "cell_type": "markdown",
   "id": "444522e0",
   "metadata": {},
   "source": [
    "Her kan vi se at kolonnen `alpha_2` er den samme som vores kolonne `country_code` i trips dataframen. Vi vil derfor gerne omdøbe kolonnen `alpha_2` i vores country dataframe. Dette kan vi gøre vha. funktionen `df.rename()` hvor vi gerne vil gøre det inplace."
   ]
  },
  {
   "cell_type": "code",
   "execution_count": 54,
   "id": "30b5b6c8",
   "metadata": {},
   "outputs": [],
   "source": [
    "# 1.15: Omdøb kolonnen alpha_2 til country_code i country dataframen:\n",
    "country.rename(columns={'alpha_2':'country_code'}, inplace=True)"
   ]
  },
  {
   "cell_type": "markdown",
   "id": "7a91dc03",
   "metadata": {},
   "source": [
    "Vi omdøber kolonnen `alpha_2` til `country_code` vha. funktionen `.rename`. Heri giver vi argumentet `columns={'alpha_2':'country_code'}`. Det vi giver argumentet i klammerne `{}` er i Python kaldet en dictionary (forkortet dict), som er en datatype. En dictionary har keys (nøgler) og values (værdier). Hver value har en key som den er knyttet op på. En value kan være hvilken som helst datatype, men keys skal være enten strings (tekststrenge), numbers (float eller integer), eller tuples (fx. (3,2)). Hvis i vil læse mere om dictionaries er her en fin guide: https://www.geeksforgeeks.org/python-dictionary/\n",
    "\n",
    "Det er dog ikke nødvendigt, at kunne i dette fag."
   ]
  },
  {
   "cell_type": "code",
   "execution_count": 55,
   "id": "90ee4870",
   "metadata": {},
   "outputs": [],
   "source": [
    "# 1.16: Brug pd.merge til at merge de to dataframes på country_code:\n",
    "merged = pd.merge(trips, country, on='country_code')"
   ]
  },
  {
   "cell_type": "code",
   "execution_count": 56,
   "id": "ad00b189",
   "metadata": {},
   "outputs": [
    {
     "data": {
      "text/html": [
       "<div>\n",
       "<style scoped>\n",
       "    .dataframe tbody tr th:only-of-type {\n",
       "        vertical-align: middle;\n",
       "    }\n",
       "\n",
       "    .dataframe tbody tr th {\n",
       "        vertical-align: top;\n",
       "    }\n",
       "\n",
       "    .dataframe thead th {\n",
       "        text-align: right;\n",
       "    }\n",
       "</style>\n",
       "<table border=\"1\" class=\"dataframe\">\n",
       "  <thead>\n",
       "    <tr style=\"text-align: right;\">\n",
       "      <th></th>\n",
       "      <th>Unnamed: 0</th>\n",
       "      <th>username</th>\n",
       "      <th>country</th>\n",
       "      <th>country_code</th>\n",
       "      <th>country_slug</th>\n",
       "      <th>date_end</th>\n",
       "      <th>date_start</th>\n",
       "      <th>latitude</th>\n",
       "      <th>longitude</th>\n",
       "      <th>place</th>\n",
       "      <th>place_slug</th>\n",
       "      <th>trip_duration</th>\n",
       "      <th>region</th>\n",
       "      <th>sub_region</th>\n",
       "    </tr>\n",
       "  </thead>\n",
       "  <tbody>\n",
       "    <tr>\n",
       "      <th>0</th>\n",
       "      <td>0</td>\n",
       "      <td>@lewellenmichael</td>\n",
       "      <td>Mexico</td>\n",
       "      <td>MX</td>\n",
       "      <td>mexico</td>\n",
       "      <td>2018-06-15</td>\n",
       "      <td>2018-06-04</td>\n",
       "      <td>21</td>\n",
       "      <td>-101</td>\n",
       "      <td>Guanajuato</td>\n",
       "      <td>mexico</td>\n",
       "      <td>11.0</td>\n",
       "      <td>Americas</td>\n",
       "      <td>Latin America and the Caribbean</td>\n",
       "    </tr>\n",
       "    <tr>\n",
       "      <th>1</th>\n",
       "      <td>1</td>\n",
       "      <td>@lewellenmichael</td>\n",
       "      <td>Mexico</td>\n",
       "      <td>MX</td>\n",
       "      <td>mexico</td>\n",
       "      <td>2018-06-03</td>\n",
       "      <td>2018-05-31</td>\n",
       "      <td>19</td>\n",
       "      <td>-99</td>\n",
       "      <td>Mexico City</td>\n",
       "      <td>mexico-city-mexico</td>\n",
       "      <td>3.0</td>\n",
       "      <td>Americas</td>\n",
       "      <td>Latin America and the Caribbean</td>\n",
       "    </tr>\n",
       "    <tr>\n",
       "      <th>2</th>\n",
       "      <td>2</td>\n",
       "      <td>@lewellenmichael</td>\n",
       "      <td>Mexico</td>\n",
       "      <td>MX</td>\n",
       "      <td>mexico</td>\n",
       "      <td>2017-11-05</td>\n",
       "      <td>2017-11-01</td>\n",
       "      <td>21</td>\n",
       "      <td>-86</td>\n",
       "      <td>Cancun</td>\n",
       "      <td>cancun-mexico</td>\n",
       "      <td>4.0</td>\n",
       "      <td>Americas</td>\n",
       "      <td>Latin America and the Caribbean</td>\n",
       "    </tr>\n",
       "    <tr>\n",
       "      <th>3</th>\n",
       "      <td>62</td>\n",
       "      <td>@jtompl</td>\n",
       "      <td>Mexico</td>\n",
       "      <td>MX</td>\n",
       "      <td>mexico</td>\n",
       "      <td>2017-09-25</td>\n",
       "      <td>2017-09-10</td>\n",
       "      <td>19</td>\n",
       "      <td>-99</td>\n",
       "      <td>Mexico City</td>\n",
       "      <td>mexico-city-mexico</td>\n",
       "      <td>15.0</td>\n",
       "      <td>Americas</td>\n",
       "      <td>Latin America and the Caribbean</td>\n",
       "    </tr>\n",
       "    <tr>\n",
       "      <th>4</th>\n",
       "      <td>63</td>\n",
       "      <td>@jtompl</td>\n",
       "      <td>Mexico</td>\n",
       "      <td>MX</td>\n",
       "      <td>mexico</td>\n",
       "      <td>2017-09-10</td>\n",
       "      <td>2017-09-01</td>\n",
       "      <td>20</td>\n",
       "      <td>-87</td>\n",
       "      <td>Tulum</td>\n",
       "      <td>tulum-mexico</td>\n",
       "      <td>9.0</td>\n",
       "      <td>Americas</td>\n",
       "      <td>Latin America and the Caribbean</td>\n",
       "    </tr>\n",
       "  </tbody>\n",
       "</table>\n",
       "</div>"
      ],
      "text/plain": [
       "   Unnamed: 0          username country country_code country_slug   date_end  \\\n",
       "0           0  @lewellenmichael  Mexico           MX       mexico 2018-06-15   \n",
       "1           1  @lewellenmichael  Mexico           MX       mexico 2018-06-03   \n",
       "2           2  @lewellenmichael  Mexico           MX       mexico 2017-11-05   \n",
       "3          62           @jtompl  Mexico           MX       mexico 2017-09-25   \n",
       "4          63           @jtompl  Mexico           MX       mexico 2017-09-10   \n",
       "\n",
       "  date_start  latitude  longitude        place          place_slug  \\\n",
       "0 2018-06-04        21       -101   Guanajuato              mexico   \n",
       "1 2018-05-31        19        -99  Mexico City  mexico-city-mexico   \n",
       "2 2017-11-01        21        -86       Cancun       cancun-mexico   \n",
       "3 2017-09-10        19        -99  Mexico City  mexico-city-mexico   \n",
       "4 2017-09-01        20        -87        Tulum        tulum-mexico   \n",
       "\n",
       "   trip_duration    region                       sub_region  \n",
       "0           11.0  Americas  Latin America and the Caribbean  \n",
       "1            3.0  Americas  Latin America and the Caribbean  \n",
       "2            4.0  Americas  Latin America and the Caribbean  \n",
       "3           15.0  Americas  Latin America and the Caribbean  \n",
       "4            9.0  Americas  Latin America and the Caribbean  "
      ]
     },
     "execution_count": 56,
     "metadata": {},
     "output_type": "execute_result"
    }
   ],
   "source": [
    "# 1.17: Hvordan ser de første 5 rækker ud af vores nye DataFrame?\n",
    "merged.head()"
   ]
  },
  {
   "cell_type": "markdown",
   "id": "df7166ef",
   "metadata": {},
   "source": [
    "## 2 - Visualiseringer og Dataforståelse"
   ]
  },
  {
   "cell_type": "code",
   "execution_count": 57,
   "id": "42e5d295",
   "metadata": {},
   "outputs": [
    {
     "data": {
      "text/plain": [
       "region\n",
       "Africa      22.847027\n",
       "Americas    28.952632\n",
       "Asia        21.421855\n",
       "Europe      23.861637\n",
       "Oceania     32.518310\n",
       "Name: trip_duration, dtype: float64"
      ]
     },
     "execution_count": 57,
     "metadata": {},
     "output_type": "execute_result"
    }
   ],
   "source": [
    "# 2.1: Brug groupby til at give et overblik over gennemsnittet af trip_duration i de forskellige regioner:\n",
    "merged.groupby('region').trip_duration.mean()"
   ]
  },
  {
   "cell_type": "code",
   "execution_count": 58,
   "id": "7f1826e9",
   "metadata": {},
   "outputs": [
    {
     "data": {
      "text/plain": [
       "region\n",
       "Africa      7.0\n",
       "Americas    7.0\n",
       "Asia        7.0\n",
       "Europe      6.0\n",
       "Oceania     9.5\n",
       "Name: trip_duration, dtype: float64"
      ]
     },
     "execution_count": 58,
     "metadata": {},
     "output_type": "execute_result"
    }
   ],
   "source": [
    "# 2.2: Brug groupby til at give et overblik over medianen af trip_duration i de forskellige regioner: \n",
    "merged.groupby('region').trip_duration.median()"
   ]
  },
  {
   "cell_type": "code",
   "execution_count": 59,
   "id": "794a0687",
   "metadata": {},
   "outputs": [
    {
     "data": {
      "text/plain": [
       "region\n",
       "Africa      53.296241\n",
       "Americas    64.994722\n",
       "Asia        43.997037\n",
       "Europe      58.184984\n",
       "Oceania     63.528215\n",
       "Name: trip_duration, dtype: float64"
      ]
     },
     "execution_count": 59,
     "metadata": {},
     "output_type": "execute_result"
    }
   ],
   "source": [
    "# 2.3: Brug groupby til at give et overblik over standardafvigelsen af trip_duration i de forskellige regioner: \n",
    "merged.groupby('region').trip_duration.std()"
   ]
  },
  {
   "cell_type": "code",
   "execution_count": 60,
   "id": "6a6a21a6",
   "metadata": {},
   "outputs": [
    {
     "name": "stderr",
     "output_type": "stream",
     "text": [
      "C:\\Users\\Sebastian Linde\\AppData\\Local\\Packages\\PythonSoftwareFoundation.Python.3.9_qbz5n2kfra8p0\\LocalCache\\local-packages\\Python39\\site-packages\\seaborn\\axisgrid.py:643: UserWarning: Using the boxplot function without specifying `order` is likely to produce an incorrect plot.\n",
      "  warnings.warn(warning)\n"
     ]
    },
    {
     "data": {
      "text/plain": [
       "<seaborn.axisgrid.FacetGrid at 0x21863fa64f0>"
      ]
     },
     "execution_count": 60,
     "metadata": {},
     "output_type": "execute_result"
    },
    {
     "data": {
      "image/png": "[encoded data removed]",
      "text/plain": [
       "<Figure size 648x432 with 5 Axes>"
      ]
     },
     "metadata": {
      "needs_background": "light"
     },
     "output_type": "display_data"
    }
   ],
   "source": [
    "# 2.4: Lav et FacetGrid med boxplots der visualiserer spredningen af trip_duration i de forskellige regioner:\n",
    "g = sns.FacetGrid(merged, col='region', col_wrap=3, sharex=False)\n",
    "g.map(sns.boxplot, 'trip_duration')"
   ]
  },
  {
   "cell_type": "markdown",
   "id": "e3f2b700",
   "metadata": {},
   "source": [
    "Som det kan ses i de ovenstående boxplots, har vi stadig en del outliers. Dette er ikke en fejl, blot sådan vores data ser ud. Dette er også forventeligt ud fra hvordan gennemsnittet, medianen og standardafvigelsen er. Vi vil dog gerne prøve at se hvordan fordelingen er i interquartile range. For at gøre dette kan vi filtrere vores data ud fra vores viden om boxplots og outliers. Vi prøver at, lave et FacetGrid igen med merged DataFramen, men hvor vi filtrerer alle rækker med en trip_duration over 100 væk."
   ]
  },
  {
   "cell_type": "code",
   "execution_count": 61,
   "id": "8f220bd1",
   "metadata": {},
   "outputs": [
    {
     "name": "stderr",
     "output_type": "stream",
     "text": [
      "C:\\Users\\Sebastian Linde\\AppData\\Local\\Packages\\PythonSoftwareFoundation.Python.3.9_qbz5n2kfra8p0\\LocalCache\\local-packages\\Python39\\site-packages\\seaborn\\axisgrid.py:643: UserWarning: Using the boxplot function without specifying `order` is likely to produce an incorrect plot.\n",
      "  warnings.warn(warning)\n"
     ]
    },
    {
     "data": {
      "text/plain": [
       "<seaborn.axisgrid.FacetGrid at 0x2186383c400>"
      ]
     },
     "execution_count": 61,
     "metadata": {},
     "output_type": "execute_result"
    },
    {
     "data": {
      "image/png": "[encoded data removed]",
      "text/plain": [
       "<Figure size 648x432 with 5 Axes>"
      ]
     },
     "metadata": {
      "needs_background": "light"
     },
     "output_type": "display_data"
    }
   ],
   "source": [
    "# 2.5: Lav et FacetGrid med boxplots der visualiserer spredningen af trip_duration i de forskellige regioner:\n",
    "# Brug merged[merged.trip_duration < 100] som data\n",
    "g = sns.FacetGrid(merged[merged.trip_duration < 100], col='region', col_wrap=3, sharex=False)\n",
    "g.map(sns.boxplot, 'trip_duration')"
   ]
  },
  {
   "cell_type": "code",
   "execution_count": 62,
   "id": "54f7535d",
   "metadata": {},
   "outputs": [
    {
     "data": {
      "text/plain": [
       "239"
      ]
     },
     "execution_count": 62,
     "metadata": {},
     "output_type": "execute_result"
    }
   ],
   "source": [
    "# 2.6: Hvor mange lande er der i vores merged DataFrame? (Husk funktionen .nunique())\n",
    "merged.country.nunique()"
   ]
  },
  {
   "cell_type": "code",
   "execution_count": 63,
   "id": "e541b20c",
   "metadata": {},
   "outputs": [
    {
     "data": {
      "text/plain": [
       "United States          7195\n",
       "Thailand               3301\n",
       "Spain                  1911\n",
       "Germany                1868\n",
       "France                 1428\n",
       "                       ... \n",
       "Kurdistan                 1\n",
       "Abkhazia                  1\n",
       "Saint Barthélemy          1\n",
       "Saint Martin              1\n",
       "Khammouane Province       1\n",
       "Name: country, Length: 239, dtype: int64"
      ]
     },
     "execution_count": 63,
     "metadata": {},
     "output_type": "execute_result"
    }
   ],
   "source": [
    "# 2.7: Hvilket land har modtaget flest besøgende?\n",
    "merged.country.value_counts()"
   ]
  },
  {
   "cell_type": "code",
   "execution_count": 64,
   "id": "49dd983f",
   "metadata": {},
   "outputs": [
    {
     "data": {
      "text/plain": [
       "Europe      14845\n",
       "Asia        12592\n",
       "Americas    12118\n",
       "Africa       1497\n",
       "Oceania      1420\n",
       "Name: region, dtype: int64"
      ]
     },
     "execution_count": 64,
     "metadata": {},
     "output_type": "execute_result"
    }
   ],
   "source": [
    "# 2.8: Hvilken region har modtaget færrest besøgende?\n",
    "merged.region.value_counts()"
   ]
  },
  {
   "cell_type": "markdown",
   "id": "6ac7fa62",
   "metadata": {},
   "source": [
    "## Idéer til ekstra øvelse:"
   ]
  },
  {
   "cell_type": "markdown",
   "id": "c59b9c75",
   "metadata": {},
   "source": [
    "Vi kigger nu på `people` DataFramen."
   ]
  },
  {
   "cell_type": "code",
   "execution_count": 65,
   "id": "7893f680",
   "metadata": {},
   "outputs": [
    {
     "data": {
      "text/html": [
       "<div>\n",
       "<style scoped>\n",
       "    .dataframe tbody tr th:only-of-type {\n",
       "        vertical-align: middle;\n",
       "    }\n",
       "\n",
       "    .dataframe tbody tr th {\n",
       "        vertical-align: top;\n",
       "    }\n",
       "\n",
       "    .dataframe thead th {\n",
       "        text-align: right;\n",
       "    }\n",
       "</style>\n",
       "<table border=\"1\" class=\"dataframe\">\n",
       "  <thead>\n",
       "    <tr style=\"text-align: right;\">\n",
       "      <th></th>\n",
       "      <th>Unnamed: 0</th>\n",
       "      <th>username</th>\n",
       "      <th>followers</th>\n",
       "      <th>following</th>\n",
       "      <th>work_raw</th>\n",
       "      <th>education_raw</th>\n",
       "    </tr>\n",
       "  </thead>\n",
       "  <tbody>\n",
       "    <tr>\n",
       "      <th>0</th>\n",
       "      <td>0</td>\n",
       "      <td>@lewellenmichael</td>\n",
       "      <td>1</td>\n",
       "      <td>2</td>\n",
       "      <td>Software Dev, Startup Founder, Finance, Crypto...</td>\n",
       "      <td>High School, Bachelor's Degree</td>\n",
       "    </tr>\n",
       "    <tr>\n",
       "      <th>1</th>\n",
       "      <td>1</td>\n",
       "      <td>@waylandchin</td>\n",
       "      <td>0</td>\n",
       "      <td>2</td>\n",
       "      <td>NaN</td>\n",
       "      <td>NaN</td>\n",
       "    </tr>\n",
       "    <tr>\n",
       "      <th>2</th>\n",
       "      <td>2</td>\n",
       "      <td>@karan</td>\n",
       "      <td>2</td>\n",
       "      <td>1</td>\n",
       "      <td>NaN</td>\n",
       "      <td>NaN</td>\n",
       "    </tr>\n",
       "    <tr>\n",
       "      <th>3</th>\n",
       "      <td>3</td>\n",
       "      <td>@skaboss217</td>\n",
       "      <td>0</td>\n",
       "      <td>1</td>\n",
       "      <td>NaN</td>\n",
       "      <td>NaN</td>\n",
       "    </tr>\n",
       "    <tr>\n",
       "      <th>4</th>\n",
       "      <td>4</td>\n",
       "      <td>@apwn</td>\n",
       "      <td>17</td>\n",
       "      <td>426</td>\n",
       "      <td>Web Dev</td>\n",
       "      <td>NaN</td>\n",
       "    </tr>\n",
       "  </tbody>\n",
       "</table>\n",
       "</div>"
      ],
      "text/plain": [
       "   Unnamed: 0          username  followers  following  \\\n",
       "0           0  @lewellenmichael          1          2   \n",
       "1           1      @waylandchin          0          2   \n",
       "2           2            @karan          2          1   \n",
       "3           3       @skaboss217          0          1   \n",
       "4           4             @apwn         17        426   \n",
       "\n",
       "                                            work_raw  \\\n",
       "0  Software Dev, Startup Founder, Finance, Crypto...   \n",
       "1                                                NaN   \n",
       "2                                                NaN   \n",
       "3                                                NaN   \n",
       "4                                            Web Dev   \n",
       "\n",
       "                    education_raw  \n",
       "0  High School, Bachelor's Degree  \n",
       "1                             NaN  \n",
       "2                             NaN  \n",
       "3                             NaN  \n",
       "4                             NaN  "
      ]
     },
     "execution_count": 65,
     "metadata": {},
     "output_type": "execute_result"
    }
   ],
   "source": [
    "# Første 5 rækker af people\n",
    "people.head()"
   ]
  },
  {
   "cell_type": "code",
   "execution_count": 66,
   "id": "21898604",
   "metadata": {},
   "outputs": [
    {
     "name": "stdout",
     "output_type": "stream",
     "text": [
      "<class 'pandas.core.frame.DataFrame'>\n",
      "RangeIndex: 4016 entries, 0 to 4015\n",
      "Data columns (total 6 columns):\n",
      " #   Column         Non-Null Count  Dtype \n",
      "---  ------         --------------  ----- \n",
      " 0   Unnamed: 0     4016 non-null   int64 \n",
      " 1   username       4016 non-null   object\n",
      " 2   followers      4016 non-null   int64 \n",
      " 3   following      4016 non-null   int64 \n",
      " 4   work_raw       1582 non-null   object\n",
      " 5   education_raw  451 non-null    object\n",
      "dtypes: int64(3), object(3)\n",
      "memory usage: 188.4+ KB\n"
     ]
    }
   ],
   "source": [
    "# Information om kolonnerne og dataen\n",
    "people.info()"
   ]
  },
  {
   "cell_type": "markdown",
   "id": "05f08195",
   "metadata": {},
   "source": [
    "Hvis i gerne vil arbejde videre med dataen her så kommer her nogle forslag:\n",
    "* Det ser ud til, at der er en del rækker med manglende data i både work_raw og education_raw. Dette er ikke nødvendigvis en fejl, men det kan give os nogle udfordringer. Hvordan kan man få rettet disse fejl og få fyldt kolonnerne så dataen er sigende? (Overvej funktionen `.fillna()`).\n",
    "* Nogle af rækkerne i `work_raw`og `education_raw` har flere værdier. Overvej hvordan vi kan gøre hvis vi gerne vil se antallet af fx. 'Startup Founder', antallet af folk med 'Master's Degree', eller antallet af 'Startup Founder' som også har en 'Bachelor's Degree'. Her er der en funktion der hedder `.contains()`, som kan bruges til at \"søge\" i tekststrenge, brug den som et filter. \n",
    "* Hvordan kan vi beregne hvem der har flest følgere som også er 'Startup Founder'.\n",
    "* Forsøg, at brug `pd.merge()` til, at merge vores `merged` DataFrame med `people` DataFramen.\n",
    "* Hvilket land besøger 'Startup Founder' mest?\n",
    "* Af de folk der besøger regionen 'Europe' hvilken uddannelse har flest af dem?\n",
    "\n",
    "Det er lidt eksempler på hvad i kunne arbejde lidt videre med. Men det er kun fantasien der sætter grænser. Så i kunne også arbejde med, at visualisere de forskellige ting, vha. de visualiseringsteknikker i har lært."
   ]
  }
 ],
 "metadata": {
  "kernelspec": {
   "display_name": "Python 3 (ipykernel)",
   "language": "python",
   "name": "python3"
  },
  "language_info": {
   "codemirror_mode": {
    "name": "ipython",
    "version": 3
   },
   "file_extension": ".py",
   "mimetype": "text/x-python",
   "name": "python",
   "nbconvert_exporter": "python",
   "pygments_lexer": "ipython3",
   "version": "3.9.7"
  }
 },
 "nbformat": 4,
 "nbformat_minor": 5
}
