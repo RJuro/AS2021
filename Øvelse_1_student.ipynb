{
  "nbformat": 4,
  "nbformat_minor": 0,
  "metadata": {
    "colab": {
      "name": "Øvelse 1.ipynb",
      "provenance": [],
      "collapsed_sections": [],
      "include_colab_link": true
    },
    "kernelspec": {
      "name": "python3",
      "display_name": "Python 3"
    },
    "language_info": {
      "name": "python"
    }
  },
  "cells": [
    {
      "cell_type": "markdown",
      "metadata": {
        "id": "view-in-github",
        "colab_type": "text"
      },
      "source": [
        "<a href=\"https://colab.research.google.com/github/RJuro/AS2021/blob/main/%C3%98velse_1_student.ipynb\" target=\"_parent\"><img src=\"https://colab.research.google.com/assets/colab-badge.svg\" alt=\"Open In Colab\"/></a>"
      ]
    },
    {
      "cell_type": "markdown",
      "metadata": {
        "id": "Rwjxhsd5PLk2"
      },
      "source": [
        "# HA 1. Semester Anvendt Statistik - Øvelse 1\n",
        "## Libraries\n",
        "I Python bruger man **libraries**, eller pakker, som giver mulighed for at bruge funktioner og kode som er skrevet af andre i forvejen. Når man importerer libraries, så importerer man dermed en eksisterende Python kode som man kan bruge. I denne notebook starter vi med at importere nogle få, vigtige, pakker, der giver mulighed for at hente og formatere data, og for at foretage simpel deskriptiv statistik. \n",
        "\n",
        "Den første pakke er **pandas**. pandas bruges til at arbjede med data i Python. Ved hjælp af pandas kan vi hente data fra eksterne kilder, såsom Excel-filer, csv-filer, osv. Ydermere, kan pandas bruges til at rengøre, formattere, og modellere data. \n",
        "\n",
        "Når vi arbejder med data er det vigtigt at kunne visualisere og præsentere det på en måde som er overskuelig og som får leveret den besked man ønsker. Til at gøre dette bruger vi pakken **seaborn**, som er en pakke i Python der bruges til at lave plots og visualiseringer.\n",
        "\n",
        "\n"
      ]
    },
    {
      "cell_type": "code",
      "metadata": {
        "id": "Hn9_Jw-m8waM"
      },
      "source": [
        "# Vi bruger hashtag til at sætte kommentarer i Python. På den måde kan vi sørge for at koden er forståelig og læsbar for andre\n",
        "\n",
        "# Vi importerer libraries eller pakker til Python med forkortelser, da man så skal skrive mindre i koden efterfølgende. \n",
        "import pandas as pd # Pandas er det library der oftest bruges til at arbejde med datasæt, som i Pandas hedder DataFrames eller df.\n",
        "import seaborn as sns # Seaborn er et library der kan bruges til at lave forskellige visualiseringer af data."
      ],
      "execution_count": null,
      "outputs": []
    },
    {
      "cell_type": "markdown",
      "metadata": {
        "id": "riNet-8cnZbK"
      },
      "source": [
        "## Data import i Python\n",
        "I dette fag er det data vi ønsker at arbejde med typisk givet igennem enten Excel-filer eller CSV-filer. CSV-filer minder om Excel filer, men i stedet for, at dataen er i forskellige kolonner er det i en kolonne og opdelt med kommaer. CSV er en forkortelse for Comma Separated Values.\n",
        " \n",
        "I det nedenstående trækkes data fra en fil på **GitHub**, men stien i parantesen kunne også være en sti til en lokal fil på jeres computer."
      ]
    },
    {
      "cell_type": "code",
      "metadata": {
        "id": "ynrgu8Gy9RG-"
      },
      "source": [
        "# Ved at bruge funktionen 'read_csv' fra Pandas pakken kan vi importere data fra csv-filer. \n",
        "HR_df = pd.read_csv('https://raw.githubusercontent.com/STLinde/Anvendt-Statistik/main/HRDataset_v14.csv')"
      ],
      "execution_count": null,
      "outputs": []
    },
    {
      "cell_type": "markdown",
      "metadata": {
        "id": "CG81jLJgoRJ3"
      },
      "source": [
        "## Funktioner i Python\n",
        "For at lære mere om det data vi arbejder med kan vi bruge funktioner i Python. En funktion kaldes ved at skrive navnet på DataFramen, i vores tilfælde HR_df og skrive funktionen direkte efter med punktum som afgrænser. Således: df.funktion(). Funktioner kan også bruges til at ændre dataen og lave beregninger på dataen."
      ]
    },
    {
      "cell_type": "code",
      "metadata": {
        "id": "crPahT_C5amd"
      },
      "source": [
        "# Når vi har lavet vores DataFrame fra CSV filen, kan vi bruge funktionen \"head()\" til at se de øverste 5 rækker af data i DataFramen. \n",
        "HR_df.head()"
      ],
      "execution_count": null,
      "outputs": []
    },
    {
      "cell_type": "code",
      "metadata": {
        "id": "ULxq4tix1HQZ"
      },
      "source": [
        "# Data er ikke altid fuldkommen. Hvilke kolonner har manglende data?\n",
        "# For at se information omkring kolonnenavnene, antallet af tomme celler i hver kolonne, samt data typen i kolonnerne kan vi bruge funktionen \"info()\"\n",
        "\n"
      ],
      "execution_count": null,
      "outputs": []
    },
    {
      "cell_type": "markdown",
      "metadata": {
        "id": "SDRIG_3Iovb7"
      },
      "source": [
        "# Valg af kolonner og summering\n",
        "Når vi arbejder med data er det ofte brugbart, at kunne lave nogle lave nogle summerende beregninger på dataen. Hvis man vil kigge på hvordan fordelingen er på de forskellige værdier i en kolonne kan man bruge funktionen \"value_counts()\". Ved at skrive et punktum efter navnet på DataFramen og efter punktummet angive navnet på den kolonne man vil se på kan man gruppere dataen. Eksempelvis kan man udregne hvor mange der er i hver afdeling ved at skrive:\n",
        "\n",
        "HR_df.Department.value_counts().\n",
        "\n",
        "Her gør vi brug af muligheden for at binde funktioner sammen. Vi skriver først navnet på DataFramen, herefter angiver vi at vi vil kigge på kolonnen \"Department\" og sidst angiver vi at vi gerne vil beregne antallet i hver kategori i kolonnen \"Department\".\n",
        "\n",
        "Når man angiver hvilken kolonne man vil kigge på kan det gøres på to måder:\n",
        "\n",
        "HR_df.Kolonnenavn\n",
        "HR_df[\"Kolonnenavn\"]\n",
        "\n",
        "De to ovenstående stykker kode gør det samme. Og man kan bruge funktioner ved at skrive punktum efter og funktionens navn på begge."
      ]
    },
    {
      "cell_type": "code",
      "metadata": {
        "id": "fyZJ7zmB2Nrc"
      },
      "source": [
        "# Hvor mange af medarbejderne er hhv. mænd og kvinder?\n",
        "\n"
      ],
      "execution_count": null,
      "outputs": []
    },
    {
      "cell_type": "markdown",
      "metadata": {
        "id": "v8nhuhmJqXoc"
      },
      "source": [
        "Nogle gange er det gavnligt at beregne procenter (%) når man kigger på summerende statistikker. Dette kan eksempelvis gøres ved, at bruge argumentet \"normalize=True\" i funktionen value_counts(). Argumenter angives i parentesen som afslutter navnet på den funktion man kalder.\n",
        "\n",
        "I det ovenstående eksempel med afdelinger kan vi gøre det på følgende måde:\n",
        "\n",
        "HR_df.Department.value_counts(normalize=True).\n",
        "\n",
        "Her er \"True\" en bestemt datatype der kaldes en Boolean. En **Boolean** datatype kan kun være sand eller falsk, i Python \"True\" eller \"False\". Her er det vigtigt, at det første bogstav er stort og at der ikke bruges anførselstegn eller apostroffer. "
      ]
    },
    {
      "cell_type": "code",
      "metadata": {
        "id": "78yUVImo5183"
      },
      "source": [
        "# Hvor mange procent (%) er der er hver køn?\n",
        "\n"
      ],
      "execution_count": null,
      "outputs": []
    },
    {
      "cell_type": "markdown",
      "metadata": {
        "id": "8ievdMkcrfCG"
      },
      "source": [
        "## Gennemsnit og median\n",
        "I beskrivende statistik beregener vi ofte gennemsnittet af nogle variable ud. Dette kan gøres i Python ved at bruge funktionen \"mean()\"."
      ]
    },
    {
      "cell_type": "code",
      "metadata": {
        "id": "ixdf73fU1-9N"
      },
      "source": [
        "# Hvad er gennemsnitslønnen for alle medarbejdere?\n",
        "\n"
      ],
      "execution_count": null,
      "outputs": []
    },
    {
      "cell_type": "markdown",
      "metadata": {
        "id": "g5E1W5JsvklO"
      },
      "source": [
        "En anden statistik der kan give os information omkring hvordan en bestemt variable er fordelt er medianen. Denne kan beregenes i Python ved at bruge funktionen \"median()\"."
      ]
    },
    {
      "cell_type": "code",
      "metadata": {
        "id": "rK5PvI2r6k1V"
      },
      "source": [
        "# Hvad er medianlønnen for alle medarbejderne i vores datasæt?\n",
        "\n"
      ],
      "execution_count": null,
      "outputs": []
    },
    {
      "cell_type": "markdown",
      "metadata": {
        "id": "1p65a0t1v6vo"
      },
      "source": [
        "## Gruppering af data og beregning på grupperet data\n",
        "Hvis man ønsker at beregne for eksempel gennemsnitslønnen fordelt på en bestemt kolonne i dataen kan man bruge funktionen \"groupby()\". Denne skrives direkte efter navnet på DataFramen. For eksempel kan man beregne gennemsnitslønnen for de forskellige stillinger medarbejderne har ved at skrive: \n",
        "\n",
        "HR_df.groupby(\"Position\").Salary.mean()."
      ]
    },
    {
      "cell_type": "code",
      "metadata": {
        "id": "FZuomC2m2FhU"
      },
      "source": [
        "# Hvad er gennemsnitslønnen for hvert køn?\n",
        "\n"
      ],
      "execution_count": null,
      "outputs": []
    },
    {
      "cell_type": "code",
      "metadata": {
        "id": "PSmi0h3u2KND"
      },
      "source": [
        "# Hvad er gennemsnitslønnen for hver afdeling?\n",
        "\n"
      ],
      "execution_count": null,
      "outputs": []
    },
    {
      "cell_type": "markdown",
      "metadata": {
        "id": "1ypTOuUEwnV1"
      },
      "source": [
        "For at gå mere i dybden kan man gruppere dataen på mere en én kolonne. Dette gøres ved at angive en liste som argument i funktionen \"groupby()\".\n",
        "En liste er en datatype i Python som angives mellem brackets og afgrænses med komma: [Item1, Item2, ..., Itemn].\n",
        "Når der grupperes på flere kolonner er outputtet af koden en tabel."
      ]
    },
    {
      "cell_type": "code",
      "metadata": {
        "id": "DOR2ZqsG6Vt5"
      },
      "source": [
        "# Hvad er gennemsnitslønnen for hvert køn i hver afdeling?\n",
        "\n"
      ],
      "execution_count": null,
      "outputs": []
    },
    {
      "cell_type": "code",
      "metadata": {
        "id": "t091IkNl6s84"
      },
      "source": [
        "# Hvor mange medarbejdere er der i hver kategori af kolonnen \"PerformanceScore\"?\n",
        "\n"
      ],
      "execution_count": null,
      "outputs": []
    },
    {
      "cell_type": "markdown",
      "metadata": {
        "id": "cDcTWT3dxzwX"
      },
      "source": [
        "For at filtrere dataen i en DataFrame på specifikke værdier af en kolonne kan det gøres ved at skrive navnet på DataFramen og derefter det filter man vil bruge i brackets: df[df[\"Kolonnenavn\"] == \"Værdi\"]. \n",
        "\n",
        "Hvis vi for eksempelvis gerne vil udregne gennemsnitslønnen for medarbejdere i afdelingen \"Production\" kan vi gøre det på følgende måde: \n",
        "\n",
        "HR_df[HR_df[\"Department\"] == \"Production\"].Salary.mean()"
      ]
    },
    {
      "cell_type": "code",
      "metadata": {
        "id": "ctk5_d2J69bd"
      },
      "source": [
        "# Hvad er gennemsnitslønnen for de medarbejdere der har \"PerformanceScore\" \"Fully Meets\"?\n",
        "\n"
      ],
      "execution_count": null,
      "outputs": []
    },
    {
      "cell_type": "markdown",
      "metadata": {
        "id": "HfTyeijDyoZ9"
      },
      "source": [
        "Vi kan også bruge funktionen \"groupby()\" til at se hvordan den ovenstående gennemsnitsløn er fordelt på mænd og kvinder."
      ]
    },
    {
      "cell_type": "code",
      "metadata": {
        "id": "5q-JDs_Ly1Fy"
      },
      "source": [
        "# Hvad er gennemsnitslønnen fordelt på mænd og kvinder, som har \"PerformanceScore\" == \"Fully Meets\"?\n"
      ],
      "execution_count": null,
      "outputs": []
    },
    {
      "cell_type": "markdown",
      "metadata": {
        "id": "HgB_fZOGy3ST"
      },
      "source": [
        "Når vi filtrerer i en DataFrame som vi lige har gjort, kan det også gøres med mere end et filter. For at gøre dette skal man sætte parantes om de forskellige filtre og skrive & imellem. Eksempelvis hvis vi vil filtrere på kvinder der ikke er i afdelingen Production kan vi gøre som følgende: \n",
        "\n",
        "HR_Df[(HR_df[\"Department\"] != \"Production\") & (HR_df[\"Sex\"] == \"F\")]\n",
        "\n",
        "Her bruger vi \"!=\" i stedet for \"==\". Hvor \"==\" betyder \"er lig med\", så betyder \"!=\" \"er ikke lig med\"."
      ]
    },
    {
      "cell_type": "code",
      "metadata": {
        "id": "OZTwZ6-9FENg"
      },
      "source": [
        "# Hvad er gennemsnitslønnen for de medarbejdere der har \"PerformanceScore\" == \"Fully Meets\" og \"EmploymentStatus\" != \"Terminated for Cause\" fordelt på køn?\n"
      ],
      "execution_count": null,
      "outputs": []
    },
    {
      "cell_type": "markdown",
      "metadata": {
        "id": "rAL6ARDG0IY4"
      },
      "source": [
        "## Visualisering med Seaborn\n",
        "I beskrivende statistik er det meget brugbart at kunne visualisere og plotte forskellige variable. Dette giver et overblik som ikke er nemt at, få ved kun at se værdierne for de forskellige variable. \n",
        "\n",
        "I Python bruger vi pakken Seaborn til at lave disse plots. \n",
        "\n",
        "For eksempel kan vi lave et såkaldt **Swarmplot** som viser hvordan en bestemt variabel er fordelt over hele variablens.\n",
        "\n",
        "Vi kan gøre dette ved at bruge pakken Seaborn og funktionen \"sns.swarmplot()\". Her skrives den data vi vil plotte i parantesen.\n",
        "\n"
      ]
    },
    {
      "cell_type": "code",
      "metadata": {
        "id": "kwo5Nl4R1I6k"
      },
      "source": [
        "# Lav et swarmplot for lønnen i vores datasæt.\n"
      ],
      "execution_count": null,
      "outputs": []
    },
    {
      "cell_type": "markdown",
      "metadata": {
        "id": "rxAljHiZ5m6L"
      },
      "source": [
        "Vi kan også lave et **histogram** ved at bruge funktionen \"sns.distplot()\". Her fordeles de forskellige medarbejderes løn i bins (eller kasser), som dækker et interval. Vi angiver antallet af bins som argument i funktionen. For eksempel:\n",
        "\n",
        "sns.distplot(data, bins=20)."
      ]
    },
    {
      "cell_type": "code",
      "metadata": {
        "id": "847hvId-5ocG"
      },
      "source": [
        "# Lav et histogram med 20 søjler for at se fordelingen af løn i vores DataFrame.\n"
      ],
      "execution_count": null,
      "outputs": []
    }
  ]
}