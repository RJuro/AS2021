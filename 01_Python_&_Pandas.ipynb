{
  "nbformat": 4,
  "nbformat_minor": 0,
  "metadata": {
    "colab": {
      "name": "Python & Pandas.ipynb",
      "provenance": [],
      "authorship_tag": "ABX9TyPv21c4yPWz2Dm+FO5U4TgC",
      "include_colab_link": true
    },
    "kernelspec": {
      "name": "python3",
      "display_name": "Python 3"
    },
    "language_info": {
      "name": "python"
    }
  },
  "cells": [
    {
      "cell_type": "markdown",
      "metadata": {
        "id": "view-in-github",
        "colab_type": "text"
      },
      "source": [
        "<a href=\"https://colab.research.google.com/github/RJuro/AS2021/blob/main/01_Python_%26_Pandas.ipynb\" target=\"_parent\"><img src=\"https://colab.research.google.com/assets/colab-badge.svg\" alt=\"Open In Colab\"/></a>"
      ]
    },
    {
      "cell_type": "markdown",
      "metadata": {
        "id": "fCYzvrtAsdKk"
      },
      "source": [
        "### Python Intro\n",
        "\n",
        "- Simple datatyper\n",
        "- Grundlæggende matematiske operationer\n",
        "- Lister\n",
        "- Funktioner\n",
        "- Control Flow\n"
      ]
    },
    {
      "cell_type": "markdown",
      "metadata": {
        "id": "CURX7B8MErQB"
      },
      "source": [
        "#### Simple datatyper\n",
        "- Integers - hele tal **6**\n",
        "- Floating-Point Numbers - decimaltal **3.2**\n",
        "- Boolean - digital data type / bit **True / False**\n",
        "- String - text **Roman**"
      ]
    },
    {
      "cell_type": "code",
      "metadata": {
        "id": "hOAkrlc_Fl0E"
      },
      "source": [
        "import pandas as pd\n",
        "import numpy as np"
      ],
      "execution_count": null,
      "outputs": []
    },
    {
      "cell_type": "code",
      "metadata": {
        "id": "B6REsp_PDnSu"
      },
      "source": [
        "i = 6\n",
        "print(i, type(i))"
      ],
      "execution_count": null,
      "outputs": []
    },
    {
      "cell_type": "code",
      "metadata": {
        "id": "zGSsNf0HDnSu"
      },
      "source": [
        "x = 3.2\n",
        "print(x, type(x))"
      ],
      "execution_count": null,
      "outputs": []
    },
    {
      "cell_type": "code",
      "metadata": {
        "id": "hUEiXuqFFyEJ"
      },
      "source": [
        "t = i == 6\n",
        "print(t, type(t))"
      ],
      "execution_count": null,
      "outputs": []
    },
    {
      "cell_type": "code",
      "metadata": {
        "id": "4XLozuqmDnSv"
      },
      "source": [
        "s = 'Hello'\n",
        "print(s, type(s))"
      ],
      "execution_count": null,
      "outputs": []
    },
    {
      "cell_type": "markdown",
      "metadata": {
        "id": "OUbaOzCNGhZ8"
      },
      "source": [
        "#### Grundlæggende matematiske operationer"
      ]
    },
    {
      "cell_type": "code",
      "metadata": {
        "id": "BQTuxXmTDnSw"
      },
      "source": [
        "a = 2.0\n",
        "b = 3.0\n",
        "print(a+b, a*b, a-b, a/b, a**2, a+b**2, (a+b)**2)"
      ],
      "execution_count": null,
      "outputs": []
    },
    {
      "cell_type": "code",
      "metadata": {
        "id": "itozIzkcG8HE"
      },
      "source": [
        "c = a + b\n",
        "print(c)"
      ],
      "execution_count": null,
      "outputs": []
    },
    {
      "cell_type": "code",
      "metadata": {
        "id": "Bge7gG0WPJrD"
      },
      "source": [
        "a + b == c"
      ],
      "execution_count": null,
      "outputs": []
    },
    {
      "cell_type": "code",
      "metadata": {
        "id": "PhCZm_-jPMfC"
      },
      "source": [
        "a + b < c"
      ],
      "execution_count": null,
      "outputs": []
    },
    {
      "cell_type": "markdown",
      "metadata": {
        "id": "cWONRfDiP9Ka"
      },
      "source": [
        "#### Lister\n",
        "\n",
        "man kan pakke alt i en liste :-)"
      ]
    },
    {
      "cell_type": "code",
      "metadata": {
        "id": "ruE3G1bkQBjl"
      },
      "source": [
        "l = ['Eskil', 1.0, sqrt]\n",
        "type(l)"
      ],
      "execution_count": null,
      "outputs": []
    },
    {
      "cell_type": "code",
      "metadata": {
        "id": "8EqId_HKQLga"
      },
      "source": [
        "l[2]"
      ],
      "execution_count": null,
      "outputs": []
    },
    {
      "cell_type": "code",
      "metadata": {
        "id": "GbE9PAtlQOQ1"
      },
      "source": [
        "l[0]"
      ],
      "execution_count": null,
      "outputs": []
    },
    {
      "cell_type": "code",
      "metadata": {
        "id": "kcJfx16YQRjc"
      },
      "source": [
        "l.append('Roman')"
      ],
      "execution_count": null,
      "outputs": []
    },
    {
      "cell_type": "code",
      "metadata": {
        "id": "HGGJ8RYqQTc2"
      },
      "source": [
        "l"
      ],
      "execution_count": null,
      "outputs": []
    },
    {
      "cell_type": "code",
      "metadata": {
        "id": "sC4vvCtwQUpG"
      },
      "source": [
        "l.extend(['Marie',37])"
      ],
      "execution_count": null,
      "outputs": []
    },
    {
      "cell_type": "code",
      "metadata": {
        "id": "_86NPdToQb5M"
      },
      "source": [
        "l"
      ],
      "execution_count": null,
      "outputs": []
    },
    {
      "cell_type": "code",
      "metadata": {
        "id": "jvB_UegHQdN4"
      },
      "source": [
        "l.pop(2)"
      ],
      "execution_count": null,
      "outputs": []
    },
    {
      "cell_type": "code",
      "metadata": {
        "id": "-chlUUU7Qk_Q"
      },
      "source": [
        "l"
      ],
      "execution_count": null,
      "outputs": []
    },
    {
      "cell_type": "markdown",
      "metadata": {
        "id": "9OX29mYHQ4Hg"
      },
      "source": [
        "#### Funktioner\n",
        "\n",
        "Funktioner har (normalt) in og outputs. $a$ og $b$ er vores input her og funktionen producerer $\\sqrt{a^2 + b^2}$ som output.\n",
        "\n",
        "Vi prøver lige ...\n",
        "\n",
        "$\\begin{align} a^2 + b^2 = c^2 \\rightarrow c = \\sqrt{a^2 + b^2} \\end{align}$ "
      ]
    },
    {
      "cell_type": "code",
      "metadata": {
        "id": "uoljW9OmQ5zk"
      },
      "source": [
        "def pythagoras(a, b):\n",
        "  return sqrt(a**2 + b**2)"
      ],
      "execution_count": null,
      "outputs": []
    },
    {
      "cell_type": "code",
      "metadata": {
        "id": "nUQZy3mKmyrA"
      },
      "source": [
        "some_list = [(2,4),(6,7),(8,9),(1,6)]"
      ],
      "execution_count": null,
      "outputs": []
    },
    {
      "cell_type": "code",
      "metadata": {
        "id": "_6EWL4DfoDV2"
      },
      "source": [
        "pd.DataFrame(some_list)"
      ],
      "execution_count": null,
      "outputs": []
    },
    {
      "cell_type": "code",
      "metadata": {
        "id": "zToH_kdEoRT3"
      },
      "source": [
        "[pythagoras(stuff[0],stuff[1]) for stuff in some_list]"
      ],
      "execution_count": null,
      "outputs": []
    },
    {
      "cell_type": "code",
      "metadata": {
        "id": "_uJ4UQ0XTVit"
      },
      "source": [
        "# Hvis man gør det rigtigt, så er det en god ide at kommentere hvad der sker. \n",
        "# Her er det en no-brainer men funktioner kan blive indviklede og\n",
        "# det er good-practice at skrive \"docstrings\" til en anden eller en selv (i)\n",
        "\n",
        "def pythagoras(a, b):\n",
        "    \"\"\"\n",
        "    Computes the length of the hypotenuse of a right triangle\n",
        "    \n",
        "    Arguments\n",
        "    a, b: the two lengths of the right triangle\n",
        "    \"\"\"\n",
        "    \n",
        "    return sqrt(a**2 + b**2)"
      ],
      "execution_count": null,
      "outputs": []
    },
    {
      "cell_type": "markdown",
      "metadata": {
        "id": "5Pr3ESb0TvT2"
      },
      "source": [
        "##### Mini-assignment\n",
        "* Lav en funktion, som tager to punkter $(x_1, y_1), (x_2, y_2)$ på en linje og beregner hældning $a$\n",
        "\n",
        "$$ y = ax + b$$\n",
        "\n",
        "$$ a = \\frac{y_2- y_1}{x_2 - x_1}$$"
      ]
    },
    {
      "cell_type": "code",
      "metadata": {
        "id": "fh4kJ7IVUyRa"
      },
      "source": [
        "plt.plot((1,2), (2,3), 'ro-')\n",
        "plt.plot((1,2), (2,2), 'bo-')\n",
        "plt.plot((2,2), (2,3), 'bo-')"
      ],
      "execution_count": null,
      "outputs": []
    },
    {
      "cell_type": "code",
      "metadata": {
        "id": "qy97WE5rVyea"
      },
      "source": [
        "#(1,2); (2,3)\n",
        "\n",
        "\n",
        "(3-2)/(2-1)"
      ],
      "execution_count": null,
      "outputs": []
    },
    {
      "cell_type": "code",
      "metadata": {
        "id": "bke6LXD7qDzV"
      },
      "source": [
        "def slope(x1,x2,y1,y2):\n",
        "  return ((y2-y1)/(x2-x1))"
      ],
      "execution_count": null,
      "outputs": []
    },
    {
      "cell_type": "code",
      "metadata": {
        "id": "59UicaGSqX5l"
      },
      "source": [
        "slope(2,3,4,5)"
      ],
      "execution_count": null,
      "outputs": []
    },
    {
      "cell_type": "markdown",
      "metadata": {
        "id": "XC1zOcA4QsWr"
      },
      "source": [
        "#### Control flow"
      ]
    },
    {
      "cell_type": "code",
      "metadata": {
        "id": "ygJEozBgQuPz"
      },
      "source": [
        "def isNegative(n):\n",
        "    if n < 0:\n",
        "        return True\n",
        "    else:\n",
        "        return False"
      ],
      "execution_count": null,
      "outputs": []
    },
    {
      "cell_type": "code",
      "metadata": {
        "id": "dqV786xWr2F0"
      },
      "source": [
        "\n",
        "some_numbers = np.random.randint(-10,10, size=20)"
      ],
      "execution_count": null,
      "outputs": []
    },
    {
      "cell_type": "code",
      "metadata": {
        "id": "5IIFjV-Dsc49"
      },
      "source": [
        "sum([isNegative(x) for x in some_numbers])"
      ],
      "execution_count": null,
      "outputs": []
    },
    {
      "cell_type": "markdown",
      "metadata": {
        "id": "kMAqK3nWXsit"
      },
      "source": [
        "##### Mini-assignment\n",
        "* Lav en funktion `KtoC` som regner Kelvin om til Celcius\n",
        "$$ C = K - 273.15 \\quad \\text{ved} \\quad C\\geq - 273.15$$\n",
        "Funktionen udgiver `None` hvis $C < -273.15$"
      ]
    },
    {
      "cell_type": "code",
      "metadata": {
        "id": "rjGZ8W4FrNf3"
      },
      "source": [
        "def KtoC(k):\n",
        "  c = k - 273.15\n",
        "  if c >= -273.15:\n",
        "    return c\n",
        "  else:\n",
        "    return None"
      ],
      "execution_count": null,
      "outputs": []
    },
    {
      "cell_type": "code",
      "metadata": {
        "id": "DfP7GJEftz9o"
      },
      "source": [
        "def KtoC(k):\n",
        "  c = k - 273.15\n",
        "  if c < -273.15:\n",
        "    return None\n",
        "  else:\n",
        "    return c"
      ],
      "execution_count": null,
      "outputs": []
    },
    {
      "cell_type": "code",
      "metadata": {
        "id": "l2f5BtM3Y7Tx"
      },
      "source": [
        "list(range(10))"
      ],
      "execution_count": null,
      "outputs": []
    },
    {
      "cell_type": "code",
      "metadata": {
        "id": "YtN40_szulYb"
      },
      "source": [
        "np.random.randint(-10,10, size=10)"
      ],
      "execution_count": null,
      "outputs": []
    },
    {
      "cell_type": "code",
      "metadata": {
        "id": "0L8QT-Piu7qA"
      },
      "source": [
        "for number in [1,3,6,7,8]:\n",
        "  print(number)\n",
        "  print('🙄')"
      ],
      "execution_count": null,
      "outputs": []
    },
    {
      "cell_type": "code",
      "metadata": {
        "id": "sIgL1stnYyqH"
      },
      "source": [
        "# for-loop\n",
        "\n",
        "even = [] # tom liste\n",
        "\n",
        "for i in [0, 1, 2, 3, 4, 5, 6, 7, 8, 9]:\n",
        "    even.append(i*2)\n",
        "\n",
        "\n",
        "print(even)"
      ],
      "execution_count": null,
      "outputs": []
    },
    {
      "cell_type": "code",
      "metadata": {
        "id": "LbP_odmPZJz_"
      },
      "source": [
        "# list-comprehension \n",
        "\n",
        "even = [2*i for i in range(10)]\n",
        "\n",
        "print(even)"
      ],
      "execution_count": null,
      "outputs": []
    },
    {
      "cell_type": "markdown",
      "metadata": {
        "id": "CTY9Xdb_ZZRr"
      },
      "source": [
        "##### Mini-assignment\n",
        "1. Beregn summen af integers  1 ... 100 ved at bruge `sum`, for-loop\n",
        "2. Beregn summen af integers  1 ... 100 ved at bruge partial-sum formula\n",
        "$$ \\sum_{k=1}^n k = 1 + 2 + \\cdots + (n-1) + n = \\frac{n(n+1)}{2}$$"
      ]
    },
    {
      "cell_type": "code",
      "metadata": {
        "id": "2nf3zlOMwfq3"
      },
      "source": [
        "# brug sum\n",
        "\n",
        "sum(range(1,101))"
      ],
      "execution_count": null,
      "outputs": []
    },
    {
      "cell_type": "markdown",
      "metadata": {
        "id": "kyF1FN8sFdar"
      },
      "source": [
        "### Python fresh-up\n",
        "\n",
        "- Simple datatyper\n",
        "- Grundlæggende matematiske operationer\n",
        "- Lister\n",
        "- Funktioner\n",
        "- Control Flow\n"
      ]
    },
    {
      "cell_type": "markdown",
      "metadata": {
        "id": "YIDPvFfvFdat"
      },
      "source": [
        "#### Simple datatyper\n",
        "- Integers - hele tal **6**\n",
        "- Floating-Point Numbers - decimaltal **3.2**\n",
        "- Boolean - digital data type / bit **True / False**\n",
        "- String - text **Roman*"
      ]
    },
    {
      "cell_type": "code",
      "metadata": {
        "id": "5hPpd26kFdat"
      },
      "source": [
        "i = 6\n",
        "print(i, type(i))"
      ],
      "execution_count": null,
      "outputs": []
    },
    {
      "cell_type": "code",
      "metadata": {
        "id": "EK5_0d8gFdat"
      },
      "source": [
        "x = 3.2\n",
        "print(x, type(x))"
      ],
      "execution_count": null,
      "outputs": []
    },
    {
      "cell_type": "code",
      "metadata": {
        "id": "rTgzYSLqFdau"
      },
      "source": [
        "t = i == 6\n",
        "print(t, type(t))"
      ],
      "execution_count": null,
      "outputs": []
    },
    {
      "cell_type": "code",
      "metadata": {
        "id": "zIRjhqnjFdau"
      },
      "source": [
        "s = 'Hello'\n",
        "print(s, type(s))"
      ],
      "execution_count": null,
      "outputs": []
    },
    {
      "cell_type": "markdown",
      "metadata": {
        "id": "ObGYpykCFdau"
      },
      "source": [
        "#### Grundlæggende matematiske operationer"
      ]
    },
    {
      "cell_type": "code",
      "metadata": {
        "id": "SKHZAw4mFdav"
      },
      "source": [
        "a = 2.0\n",
        "b = 3.0\n",
        "print(a+b, a*b, a-b, a/b, a**2, a+b**2, (a+b)**2)"
      ],
      "execution_count": null,
      "outputs": []
    },
    {
      "cell_type": "code",
      "metadata": {
        "id": "_4rsY_Q2Fdav"
      },
      "source": [
        "c = a + b\n",
        "print(c)"
      ],
      "execution_count": null,
      "outputs": []
    },
    {
      "cell_type": "code",
      "metadata": {
        "id": "RUFXp1FRFdav"
      },
      "source": [
        "a + b == c"
      ],
      "execution_count": null,
      "outputs": []
    },
    {
      "cell_type": "code",
      "metadata": {
        "id": "rF4iugZnFdaw"
      },
      "source": [
        "a + b < c"
      ],
      "execution_count": null,
      "outputs": []
    },
    {
      "cell_type": "markdown",
      "metadata": {
        "id": "-gi1Ta5dFdaw"
      },
      "source": [
        "#### Lister\n",
        "\n",
        "man kan pakke alt i en liste :-)"
      ]
    },
    {
      "cell_type": "code",
      "metadata": {
        "id": "qRPwTAkTFdaw"
      },
      "source": [
        "l = ['Eskil', 1.0, sqrt]\n",
        "type(l)"
      ],
      "execution_count": null,
      "outputs": []
    },
    {
      "cell_type": "code",
      "metadata": {
        "id": "QBN7zUzCFdaw"
      },
      "source": [
        "l[2]"
      ],
      "execution_count": null,
      "outputs": []
    },
    {
      "cell_type": "code",
      "metadata": {
        "id": "ysAfR8ZzFday"
      },
      "source": [
        "l[0]"
      ],
      "execution_count": null,
      "outputs": []
    },
    {
      "cell_type": "code",
      "metadata": {
        "id": "G21SVZZBFday"
      },
      "source": [
        "l.append('Roman')"
      ],
      "execution_count": null,
      "outputs": []
    },
    {
      "cell_type": "code",
      "metadata": {
        "id": "GemMng2eFday"
      },
      "source": [
        "l"
      ],
      "execution_count": null,
      "outputs": []
    },
    {
      "cell_type": "code",
      "metadata": {
        "id": "5VOeyQ_5Fdaz"
      },
      "source": [
        "l.extend(['Marie',37])"
      ],
      "execution_count": null,
      "outputs": []
    },
    {
      "cell_type": "code",
      "metadata": {
        "id": "i6568idnFdaz"
      },
      "source": [
        "l"
      ],
      "execution_count": null,
      "outputs": []
    },
    {
      "cell_type": "code",
      "metadata": {
        "id": "434FaMCLFdaz"
      },
      "source": [
        "l.pop(2)"
      ],
      "execution_count": null,
      "outputs": []
    },
    {
      "cell_type": "code",
      "metadata": {
        "id": "3jMzZgPJFdaz"
      },
      "source": [
        "l"
      ],
      "execution_count": null,
      "outputs": []
    },
    {
      "cell_type": "markdown",
      "metadata": {
        "id": "PfmY26LQFdaz"
      },
      "source": [
        "#### Funktioner\n",
        "\n",
        "Funktioner har (normalt) in og outputs. $a$ og $b$ er vores input her og funktionen producerer $\\sqrt{a^2 + b^2}$ som output.\n",
        "\n",
        "Vi prøver lige ...\n",
        "\n",
        "$\\begin{align} a^2 + b^2 = c^2 \\rightarrow c = \\sqrt{a^2 + b^2} \\end{align}$ "
      ]
    },
    {
      "cell_type": "code",
      "metadata": {
        "id": "pP-8pdr1Fda1"
      },
      "source": [
        "def pythagoras(a, b):\n",
        "  return sqrt(a**2 + b**2)"
      ],
      "execution_count": null,
      "outputs": []
    },
    {
      "cell_type": "code",
      "metadata": {
        "id": "HvLMQLKNFda2"
      },
      "source": [
        "some_list = [(2,4),(6,7),(8,9),(1,6)]"
      ],
      "execution_count": null,
      "outputs": []
    },
    {
      "cell_type": "code",
      "metadata": {
        "id": "4hYVgap2Fda2"
      },
      "source": [
        "pd.DataFrame(some_list)"
      ],
      "execution_count": null,
      "outputs": []
    },
    {
      "cell_type": "code",
      "metadata": {
        "id": "CsYDr8p3Fda2"
      },
      "source": [
        "[pythagoras(stuff[0],stuff[1]) for stuff in some_list]"
      ],
      "execution_count": null,
      "outputs": []
    },
    {
      "cell_type": "code",
      "metadata": {
        "id": "Gv7hVeAsFda2"
      },
      "source": [
        "# Hvis man gør det rigtigt, så er det en god ide at kommentere hvad der sker. \n",
        "# Her er det en no-brainer men funktioner kan blive indviklede og\n",
        "# det er good-practice at skrive \"docstrings\" til en anden eller en selv (i)\n",
        "\n",
        "def pythagoras(a, b):\n",
        "    \"\"\"\n",
        "    Computes the length of the hypotenuse of a right triangle\n",
        "    \n",
        "    Arguments\n",
        "    a, b: the two lengths of the right triangle\n",
        "    \"\"\"\n",
        "    \n",
        "    return sqrt(a**2 + b**2)"
      ],
      "execution_count": null,
      "outputs": []
    },
    {
      "cell_type": "markdown",
      "metadata": {
        "id": "iLnOcsT5Fda3"
      },
      "source": [
        "##### Mini-assignment\n",
        "* Lav en funktion, som tager to punkter $(x_1, y_1), (x_2, y_2)$ på en linje og beregner hældning $a$\n",
        "\n",
        "$$ y = ax + b$$\n",
        "\n",
        "$$ a = \\frac{y_2- y_1}{x_2 - x_1}$$"
      ]
    },
    {
      "cell_type": "code",
      "metadata": {
        "id": "bYPe6NMIFda3"
      },
      "source": [
        "plt.plot((1,2), (2,3), 'ro-')\n",
        "plt.plot((1,2), (2,2), 'bo-')\n",
        "plt.plot((2,2), (2,3), 'bo-')"
      ],
      "execution_count": null,
      "outputs": []
    },
    {
      "cell_type": "code",
      "metadata": {
        "id": "ullK8sn8Fda3"
      },
      "source": [
        "#(1,2); (2,3)\n",
        "\n",
        "\n",
        "(3-2)/(2-1)"
      ],
      "execution_count": null,
      "outputs": []
    },
    {
      "cell_type": "code",
      "metadata": {
        "id": "AK9fpNVpFda4"
      },
      "source": [
        "def slope(x1,x2,y1,y2):\n",
        "  return ((y2-y1)/(x2-x1))"
      ],
      "execution_count": null,
      "outputs": []
    },
    {
      "cell_type": "code",
      "metadata": {
        "id": "EAdcDvQsFda4"
      },
      "source": [
        "slope(2,3,4,5)"
      ],
      "execution_count": null,
      "outputs": []
    },
    {
      "cell_type": "markdown",
      "metadata": {
        "id": "Sn1WlMASFda4"
      },
      "source": [
        "#### Control flow"
      ]
    },
    {
      "cell_type": "code",
      "metadata": {
        "id": "t8XrV19TFda4"
      },
      "source": [
        "def isNegative(n):\n",
        "    if n < 0:\n",
        "        return True\n",
        "    else:\n",
        "        return False"
      ],
      "execution_count": null,
      "outputs": []
    },
    {
      "cell_type": "code",
      "metadata": {
        "id": "PiDhA_ZoFda5"
      },
      "source": [
        "\n",
        "some_numbers = np.random.randint(-10,10, size=20)"
      ],
      "execution_count": null,
      "outputs": []
    },
    {
      "cell_type": "code",
      "metadata": {
        "id": "DnhZZdj4Fda5"
      },
      "source": [
        "sum([isNegative(x) for x in some_numbers])"
      ],
      "execution_count": null,
      "outputs": []
    },
    {
      "cell_type": "markdown",
      "metadata": {
        "id": "D4shd2O5Fda5"
      },
      "source": [
        "##### Mini-assignment\n",
        "* Lav en funktion `KtoC` som regner Kelvin om til Celcius\n",
        "$$ C = K - 273.15 \\quad \\text{ved} \\quad C\\geq - 273.15$$\n",
        "Funktionen udgiver `None` hvis $C < -273.15$"
      ]
    },
    {
      "cell_type": "code",
      "metadata": {
        "id": "hXHfc6GRFda5"
      },
      "source": [
        "def KtoC(k):\n",
        "  c = k - 273.15\n",
        "  if c >= -273.15:\n",
        "    return c\n",
        "  else:\n",
        "    return None"
      ],
      "execution_count": null,
      "outputs": []
    },
    {
      "cell_type": "code",
      "metadata": {
        "id": "n3Panby-Fda5"
      },
      "source": [
        "def KtoC(k):\n",
        "  c = k - 273.15\n",
        "  if c < -273.15:\n",
        "    return None\n",
        "  else:\n",
        "    return c"
      ],
      "execution_count": null,
      "outputs": []
    },
    {
      "cell_type": "code",
      "metadata": {
        "id": "AQgMy_CBFda5"
      },
      "source": [
        "list(range(10))"
      ],
      "execution_count": null,
      "outputs": []
    },
    {
      "cell_type": "code",
      "metadata": {
        "id": "ktSufH-bFda5"
      },
      "source": [
        "np.random.randint(-10,10, size=10)"
      ],
      "execution_count": null,
      "outputs": []
    },
    {
      "cell_type": "code",
      "metadata": {
        "id": "8lCtTKOtFda6"
      },
      "source": [
        "for number in [1,3,6,7,8]:\n",
        "  print(number)\n",
        "  print('🙄')"
      ],
      "execution_count": null,
      "outputs": []
    },
    {
      "cell_type": "code",
      "metadata": {
        "id": "5yruM4dxFda6"
      },
      "source": [
        "# for-loop\n",
        "\n",
        "even = [] # tom liste\n",
        "\n",
        "for i in [0, 1, 2, 3, 4, 5, 6, 7, 8, 9]:\n",
        "    even.append(i*2)\n",
        "\n",
        "\n",
        "print(even)"
      ],
      "execution_count": null,
      "outputs": []
    },
    {
      "cell_type": "code",
      "metadata": {
        "id": "_pWRNVj5Fda6"
      },
      "source": [
        "# list-comprehension \n",
        "\n",
        "even = [2*i for i in range(10)]\n",
        "\n",
        "print(even)"
      ],
      "execution_count": null,
      "outputs": []
    },
    {
      "cell_type": "markdown",
      "metadata": {
        "id": "wlpH6OguFda7"
      },
      "source": [
        "##### Mini-assignment\n",
        "1. Beregn summen af integers  1 ... 100 ved at bruge `sum`, for-loop\n",
        "2. Beregn summen af integers  1 ... 100 ved at bruge partial-sum formula\n",
        "$$ \\sum_{k=1}^n k = 1 + 2 + \\cdots + (n-1) + n = \\frac{n(n+1)}{2}$$"
      ]
    },
    {
      "cell_type": "code",
      "metadata": {
        "id": "sIqhaQCVFda7"
      },
      "source": [
        "# brug sum\n",
        "\n",
        "sum(range(1,101))"
      ],
      "execution_count": null,
      "outputs": []
    },
    {
      "cell_type": "code",
      "metadata": {
        "id": "v_q4t0vlFda7"
      },
      "source": [
        "# for-loop\n",
        "\n",
        "summe_1_100 = 0\n",
        "\n",
        "for i in range(1,101):\n",
        "  summe_1_100 = summe_1_100 + i\n",
        "\n",
        "summe_1_100"
      ],
      "execution_count": null,
      "outputs": []
    },
    {
      "cell_type": "code",
      "metadata": {
        "id": "M4_24a7dFda7"
      },
      "source": [
        "z = 1"
      ],
      "execution_count": null,
      "outputs": []
    },
    {
      "cell_type": "code",
      "metadata": {
        "id": "NBADYZ8nFda7"
      },
      "source": [
        "(100*(100+1))/2"
      ],
      "execution_count": null,
      "outputs": []
    },
    {
      "cell_type": "code",
      "metadata": {
        "id": "IwayYms1xeiS"
      },
      "source": [
        "# for-loop\n",
        "\n",
        "summe_1_100 = 0\n",
        "\n",
        "for i in range(1,101):\n",
        "  summe_1_100 = summe_1_100 + i\n",
        "\n",
        "summe_1_100"
      ],
      "execution_count": null,
      "outputs": []
    },
    {
      "cell_type": "code",
      "metadata": {
        "id": "DrLX_Fip2iXj"
      },
      "source": [
        "z = 1"
      ],
      "execution_count": null,
      "outputs": []
    },
    {
      "cell_type": "code",
      "metadata": {
        "id": "vjKKpFkqzSl4"
      },
      "source": [
        "(100*(100+1))/2"
      ],
      "execution_count": null,
      "outputs": []
    },
    {
      "cell_type": "markdown",
      "metadata": {
        "id": "aeksJijUEVSV"
      },
      "source": [
        "# Pandas\n",
        "* Collection of instruments/methods for data processing and analysis\n",
        "* Fundamental: Two-dimensional (row and column) tabular data (DataFrame)\n",
        "* Important subtype: Series - one-dimensional data with an index"
      ]
    },
    {
      "cell_type": "markdown",
      "metadata": {
        "id": "k9j7QpLuEVSa"
      },
      "source": [
        "# Series I\n",
        "* One-dimensional data\n",
        "* Data is labeled with an index\n",
        "* Series consist of pairs (index, data)"
      ]
    },
    {
      "cell_type": "markdown",
      "metadata": {
        "id": "Vhyt6sWSEVSj"
      },
      "source": [
        "# DataFrame\n",
        "1. Forming\n",
        "2. Pretty-printing\n",
        "3. Slicing columns and selecting"
      ]
    },
    {
      "cell_type": "code",
      "metadata": {
        "id": "7jw3jAo3EVSj"
      },
      "source": [
        "data = [['Henrik Pedersen', 42, 'Associate Professor'], \n",
        "        ['Susanne Smed', 49, 'Professor'], \n",
        "        ['Kirstine Bak', 27, 'Ph.d.-student'],\n",
        "        ['Hans Hansen', 55, 'Professor']]\n",
        "a = pd.DataFrame(data, columns=['Name', 'Age', 'Category'])"
      ],
      "execution_count": null,
      "outputs": []
    },
    {
      "cell_type": "code",
      "metadata": {
        "id": "VUf6u5hVEVSk"
      },
      "source": [
        "a"
      ],
      "execution_count": null,
      "outputs": []
    },
    {
      "cell_type": "code",
      "metadata": {
        "id": "tdXoEputEVSk"
      },
      "source": [
        "a.shape"
      ],
      "execution_count": null,
      "outputs": []
    },
    {
      "cell_type": "code",
      "metadata": {
        "id": "ruDFPOF0EVSk"
      },
      "source": [
        "a['Name']  #or a.Name"
      ],
      "execution_count": null,
      "outputs": []
    },
    {
      "cell_type": "code",
      "metadata": {
        "id": "SIjrk4J6EVSb"
      },
      "source": [
        "import pandas as pd\n",
        "a = pd.Series([4, 2, 7, 8, 4, 4])\n",
        "a"
      ],
      "execution_count": null,
      "outputs": []
    },
    {
      "cell_type": "code",
      "metadata": {
        "id": "z6DcITm7EVSc"
      },
      "source": [
        "a[2]"
      ],
      "execution_count": null,
      "outputs": []
    },
    {
      "cell_type": "code",
      "metadata": {
        "id": "mW1WrKkcEVSd"
      },
      "source": [
        "a*2 + 4"
      ],
      "execution_count": null,
      "outputs": []
    },
    {
      "cell_type": "code",
      "metadata": {
        "id": "4qrVZwjvEVSd"
      },
      "source": [
        "a.unique()"
      ],
      "execution_count": null,
      "outputs": []
    },
    {
      "cell_type": "code",
      "metadata": {
        "id": "tZDt7rxYEVSe"
      },
      "source": [
        "a[2]"
      ],
      "execution_count": null,
      "outputs": []
    },
    {
      "cell_type": "code",
      "metadata": {
        "id": "21Ngr5YuEVSf"
      },
      "source": [
        "a.isin([2, 4])"
      ],
      "execution_count": null,
      "outputs": []
    },
    {
      "cell_type": "markdown",
      "metadata": {
        "id": "lh_JpHeZEVSg"
      },
      "source": [
        "# Series II\n",
        "* Indexing using non-integer-based indexing"
      ]
    },
    {
      "cell_type": "code",
      "metadata": {
        "id": "0UcsWcAiEVSh"
      },
      "source": [
        "a = pd.Series([4, 2, 7, 8], index=['Spring', 'Summer', 'Autumn', 'Winter'])\n",
        "a"
      ],
      "execution_count": null,
      "outputs": []
    },
    {
      "cell_type": "code",
      "metadata": {
        "id": "Sj5cChKYEVSh"
      },
      "source": [
        "a['Winter']"
      ],
      "execution_count": null,
      "outputs": []
    },
    {
      "cell_type": "markdown",
      "metadata": {
        "id": "nhQG5DxsEVSm"
      },
      "source": [
        "## Difference between a view and a copy"
      ]
    },
    {
      "cell_type": "code",
      "metadata": {
        "id": "l-dfcg8yEVSn"
      },
      "source": [
        "a[2:4]['Age'] += 1\n",
        "a"
      ],
      "execution_count": null,
      "outputs": []
    },
    {
      "cell_type": "code",
      "metadata": {
        "id": "nsRn5ANPEVSn"
      },
      "source": [
        "a.loc[2:4, 'Age'] += 1\n",
        "a"
      ],
      "execution_count": null,
      "outputs": []
    },
    {
      "cell_type": "markdown",
      "metadata": {
        "id": "0eR-AlmOEVSn"
      },
      "source": [
        "## Manipulation and arithmetic"
      ]
    },
    {
      "cell_type": "code",
      "metadata": {
        "id": "qEfMw1TNEVSn"
      },
      "source": [
        "a['Age'] += 1"
      ],
      "execution_count": null,
      "outputs": []
    },
    {
      "cell_type": "code",
      "metadata": {
        "id": "oePsR8YmEVSn"
      },
      "source": [
        "a['Compensation'] = [44000, 66000, 30000, 65000]"
      ],
      "execution_count": null,
      "outputs": []
    },
    {
      "cell_type": "code",
      "metadata": {
        "id": "Ux2oGn59EVSn"
      },
      "source": [
        "a"
      ],
      "execution_count": null,
      "outputs": []
    },
    {
      "cell_type": "markdown",
      "metadata": {
        "id": "pvK2WANvEVSn"
      },
      "source": [
        "## Membership and comparison"
      ]
    },
    {
      "cell_type": "code",
      "metadata": {
        "id": "yLn-DlQBEVSo"
      },
      "source": [
        "a.Category.isin(['Professor'])"
      ],
      "execution_count": null,
      "outputs": []
    },
    {
      "cell_type": "code",
      "metadata": {
        "id": "xQebw7JSEVSo"
      },
      "source": [
        "a[a.Category.isin(['Professor'])]"
      ],
      "execution_count": null,
      "outputs": []
    },
    {
      "cell_type": "code",
      "metadata": {
        "id": "h1GRZ_i-EVSo"
      },
      "source": [
        "a.Compensation > 50000"
      ],
      "execution_count": null,
      "outputs": []
    },
    {
      "cell_type": "code",
      "metadata": {
        "id": "vlm-QzGdEVSo"
      },
      "source": [
        "del a['Compensation']\n",
        "a"
      ],
      "execution_count": null,
      "outputs": []
    },
    {
      "cell_type": "markdown",
      "metadata": {
        "id": "kcHmdwYjEVSp"
      },
      "source": [
        "# Statistics\n",
        "* First-order"
      ]
    },
    {
      "cell_type": "code",
      "metadata": {
        "id": "yYNp7zyqEVSp"
      },
      "source": [
        "a.mean()"
      ],
      "execution_count": null,
      "outputs": []
    },
    {
      "cell_type": "code",
      "metadata": {
        "id": "ideH777wEVSp"
      },
      "source": [
        "a.Age.mean()"
      ],
      "execution_count": null,
      "outputs": []
    },
    {
      "cell_type": "code",
      "metadata": {
        "id": "arJtikxiEVSp"
      },
      "source": [
        "a.median()"
      ],
      "execution_count": null,
      "outputs": []
    },
    {
      "cell_type": "markdown",
      "metadata": {
        "id": "FRPKJH6WEVSp"
      },
      "source": [
        "## Second-order statistics\n",
        "Pearson correlation coefficient\n",
        "$$ r_{xy} = \\frac{\\sum_{i=1}^n (x_i - \\bar x)(y_i - \\bar y)}{\\sqrt{\\sum_{i=1}^n (x_i - \\bar x)}\\sqrt{\\sum_{i=1}^n (yi - \\bar y)}}$$"
      ]
    },
    {
      "cell_type": "code",
      "metadata": {
        "id": "-zpfFAhSEVSp"
      },
      "source": [
        "a['Compensation'] = [44000, 66000, 30000, 65000]\n",
        "a.corr()"
      ],
      "execution_count": null,
      "outputs": []
    },
    {
      "cell_type": "code",
      "metadata": {
        "id": "mI8n68RhEVSp"
      },
      "source": [
        "a.cov()"
      ],
      "execution_count": null,
      "outputs": []
    }
  ]
}