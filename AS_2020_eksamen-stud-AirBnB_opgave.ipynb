{
  "nbformat": 4,
  "nbformat_minor": 0,
  "metadata": {
    "colab": {
      "name": "Copy of Copy of AS 2020 - AirBnB - opgave",
      "provenance": [],
      "collapsed_sections": [],
      "include_colab_link": true
    },
    "kernelspec": {
      "name": "python3",
      "display_name": "Python 3"
    }
  },
  "cells": [
    {
      "cell_type": "markdown",
      "metadata": {
        "id": "view-in-github",
        "colab_type": "text"
      },
      "source": [
        "<a href=\"https://colab.research.google.com/github/RJuro/AS2021/blob/main/AS_2020_eksamen-stud-AirBnB_opgave.ipynb\" target=\"_parent\"><img src=\"https://colab.research.google.com/assets/colab-badge.svg\" alt=\"Open In Colab\"/></a>"
      ]
    },
    {
      "cell_type": "markdown",
      "metadata": {
        "id": "PsXbXY70Em6y"
      },
      "source": [
        "# Anvendt Statistik Eksamen\n",
        "## HA - E2020\n",
        "\n",
        "\n",
        "I dag skal vi analysere AirBnB udlejning i København. Hvor ligger de dyreste steder? Hvem er de professionelle værter, der driver husleje op i hovedstaden, og hvilke faktorer har potentielt indflydelse på priserne på platformen?\n",
        "\n",
        "![](https://source.unsplash.com/fEJ6x-OnfXo)\n",
        "\n",
        "Notebook'en guider dig igennem opgaven. Priser fortolkes i DKK (selvom der ses $ i data grundet scraping fejl)\n",
        "\n",
        "Dataset er baseret på datasæt fra http://insideairbnb.com/\n",
        "opdateret Juni 2020."
      ]
    },
    {
      "cell_type": "markdown",
      "metadata": {
        "id": "6b3mRFpME1vb"
      },
      "source": [
        "## 1. EDA - Beskrivende statistik\n",
        "I den første del af opgaven skal I indlæse data og give et indledende overblik over indholdet i det givne AirBnB datasæt. "
      ]
    },
    {
      "cell_type": "code",
      "metadata": {
        "id": "mD_qlC6RHZEQ"
      },
      "source": [
        "import pandas as pd\n",
        "import seaborn as sns\n",
        "sns.set()"
      ],
      "execution_count": null,
      "outputs": []
    },
    {
      "cell_type": "markdown",
      "metadata": {
        "id": "upIQtfpqVe5w"
      },
      "source": [
        "Data kan findes på digital eksamen, moodle (csv.gz filer og på GitHub)\n",
        "\n",
        "* data airbnb: `https://sds-aau.github.io/IntroStat/Data/airbnb.csv.gz`\n",
        "* data cykelstativer: `https://sds-aau.github.io/IntroStat/Data/cykel.csv.gz`\n",
        "\n",
        "**der bruges gzip komprimering**"
      ]
    },
    {
      "cell_type": "code",
      "metadata": {
        "id": "aizJZrj4FIXB"
      },
      "source": [
        "# Indlæs data\n",
        "df = pd.read_csv('https://sds-aau.github.io/IntroStat/Data/airbnb.csv.gz', compression='gzip')"
      ],
      "execution_count": null,
      "outputs": []
    },
    {
      "cell_type": "code",
      "metadata": {
        "id": "tEA931xwFNrs"
      },
      "source": [
        "# Giv et overblik over variable og videre information i datasættet\n",
        "# df.oplysninger()"
      ],
      "execution_count": null,
      "outputs": []
    },
    {
      "cell_type": "code",
      "metadata": {
        "id": "tQquH9UhFb4L"
      },
      "source": [
        "# Vis hvilke variable, der har manglende værdier\n"
      ],
      "execution_count": null,
      "outputs": []
    },
    {
      "cell_type": "code",
      "metadata": {
        "id": "V0ivDIt_MUTD"
      },
      "source": [
        "#Drop variable alle host_ variable på nær host_id (den skal bruges til analyse)\n",
        "#Drop også \"neighbourhood\", \"city\", 'square_feet'\n",
        "\n",
        "# du kan bruge df.columns komando for nemmere copy-paste af variablenavne \n",
        "\n",
        "\n",
        "df.XXX(['XXX', 'XXX'], axis = 'XXX', inplace=True)"
      ],
      "execution_count": null,
      "outputs": []
    },
    {
      "cell_type": "code",
      "metadata": {
        "id": "FazPu4hUFRzp"
      },
      "source": [
        "# Vis datasættets 5 første rækker\n"
      ],
      "execution_count": null,
      "outputs": []
    },
    {
      "cell_type": "markdown",
      "metadata": {
        "id": "kN9cXHwnJ_rg"
      },
      "source": [
        "## 2. Rengøring og rensning af data"
      ]
    },
    {
      "cell_type": "code",
      "metadata": {
        "id": "62bxSykCJxHI"
      },
      "source": [
        "# Udsmid manglende værdier i variable hvor der mangler op til og med 103 observationer \n",
        "# dvs. variable med flere manglende observationer end 103 skal ikke renses for manglende observationer\n",
        "\n",
        "df.XXX(XX=['XXX'], inplace=True)"
      ],
      "execution_count": null,
      "outputs": []
    },
    {
      "cell_type": "code",
      "metadata": {
        "id": "3_8QmcGlLmYe"
      },
      "source": [
        "# Her omdannes \"price\" til en float (numerisk variabel) og får fjernet \"$\" og \",\" - det har vi gjort for jer.\n",
        "df.price = df.price.replace('[\\$,]', '', regex=True).astype(float)"
      ],
      "execution_count": null,
      "outputs": []
    },
    {
      "cell_type": "markdown",
      "metadata": {
        "id": "ic3pmmG9jz30"
      },
      "source": [
        "## 3. Frekvensberegninger "
      ]
    },
    {
      "cell_type": "code",
      "metadata": {
        "id": "mKUIHVw-OEE_"
      },
      "source": [
        "# Hvor mange AirBnB værelser/lejligheder findes i de forskellige bydele? - \"neighbourhood_cleansed\"\n",
        "# Hvilken bydel har flest udbudte værelser/lejligheder? \n"
      ],
      "execution_count": null,
      "outputs": []
    },
    {
      "cell_type": "code",
      "metadata": {
        "id": "zVOJ_xEmlNCV"
      },
      "source": [
        "# Beskriv frekvensfordelinger for \"price\" variablen (min, max, mean, std.afv.)\n"
      ],
      "execution_count": null,
      "outputs": []
    },
    {
      "cell_type": "markdown",
      "metadata": {
        "id": "WIc_Wckehain"
      },
      "source": [
        "Fortolk beskrivende statistikker over variablen. Hvad for en fordeling ses der? Hvordan kan man muligvis forklare maksimalværdien?\n",
        "\n"
      ]
    },
    {
      "cell_type": "code",
      "metadata": {
        "id": "8zsLr24XmV1s"
      },
      "source": [
        "# Med udgangspunkt i \"price\", beskær datasættet til 95. percentil (95 inkl.)\n"
      ],
      "execution_count": null,
      "outputs": []
    },
    {
      "cell_type": "code",
      "metadata": {
        "id": "QGU3IRp5nIc7"
      },
      "source": [
        "# Tjek maxprisen for en AirBnB lejlighed efter subsetting. \n"
      ],
      "execution_count": null,
      "outputs": []
    },
    {
      "cell_type": "code",
      "metadata": {
        "id": "mapxY20MvGdK"
      },
      "source": [
        "# Lav et histogram over prisfordelingen\n",
        "sns.XXX"
      ],
      "execution_count": null,
      "outputs": []
    },
    {
      "cell_type": "markdown",
      "metadata": {
        "id": "BrH6-IbYkvmL"
      },
      "source": [
        "Hvordan er fordelingen nu (venstreskæv, højreskæv, normaltfordelt? - kan man sige det bare ved at analysere visuelt?) "
      ]
    },
    {
      "cell_type": "code",
      "metadata": {
        "id": "WPFEWarUrlwq"
      },
      "source": [
        "# Vis den gennemsnitlige \"price\" grupperet på \"neighbourhood_cleansed\" \n",
        "# Hvilket nabolag er det dyreste?  Husk at sortere\n",
        "\n",
        "XXX"
      ],
      "execution_count": null,
      "outputs": []
    },
    {
      "cell_type": "code",
      "metadata": {
        "id": "TCstAqdfsRcl"
      },
      "source": [
        "# lav et boxplot over den gennemsnitlige \"price\" fordelt på nabolag\n",
        "\n",
        "sns.XXX"
      ],
      "execution_count": null,
      "outputs": []
    },
    {
      "cell_type": "code",
      "metadata": {
        "id": "WXuJRkkdqRrH"
      },
      "source": [
        "# Lav en optælling af observationer for de forskellige typer af boliger - \"property_type\"\n"
      ],
      "execution_count": null,
      "outputs": []
    },
    {
      "cell_type": "code",
      "metadata": {
        "id": "nTOcsJzxn5L6"
      },
      "source": [
        "# filrer data, således der kun beholdes observationer af de 3 hyppigste kategorier\n",
        "# her bruger vi \"isin\" kommando for at definere tilladte kategorier\n",
        "\n",
        "df = df[df.property_type.isin(['XXX','XXX'])]"
      ],
      "execution_count": null,
      "outputs": []
    },
    {
      "cell_type": "code",
      "metadata": {
        "id": "XACDYNKBtyZL"
      },
      "source": [
        "# Lav en optælling af observationer for de forskellige typer af værelser - \"room_type\"\n"
      ],
      "execution_count": null,
      "outputs": []
    },
    {
      "cell_type": "code",
      "metadata": {
        "id": "9P__TsdjowP9"
      },
      "source": [
        "# fortag den samme filtrering for \"room_type\", hvor der kun beholdes de 2 hyppigste kategorier\n",
        "df = df[df.room_type.isin(['XXX','XXX'])]"
      ],
      "execution_count": null,
      "outputs": []
    },
    {
      "cell_type": "code",
      "metadata": {
        "id": "am0O3KH1yI3B"
      },
      "source": [
        "# Hvad er den bydel med den højeste andel af huse ('House') på platformen? Brug pd.crosstab og normaliseing \n",
        "# (columns eller index lige efter den rækkefølge som du indlæser dine variable)\n",
        "\n",
        "pd.crosstab(XXX, XXX, normalize='XXX')"
      ],
      "execution_count": null,
      "outputs": []
    },
    {
      "cell_type": "code",
      "metadata": {
        "id": "CW9aaCgryNRj"
      },
      "source": [
        "# Brug crosstab igen til at finde gennemsnitlige priser (defineres som values og aggfunc - \n",
        "# læs documentation for funktionen) opdelt på bydele og hustyper)\n",
        "\n",
        "pd.crosstab(XXX, XXX, values=df.price, aggfunc='mean')"
      ],
      "execution_count": null,
      "outputs": []
    },
    {
      "cell_type": "code",
      "metadata": {
        "id": "Ag-I5pswBymO"
      },
      "source": [
        "# Lav en \"kernel density estimation\" (kde) plot\n",
        "# hvor der vises en farve-opdeling på forskellige \"property_type\"\n",
        "# brug her seaborn's displot funktionen https://seaborn.pydata.org/generated/seaborn.displot.html#seaborn.displot\n",
        "\n",
        "sns.displot(data = XX, x='XXX', hue='XXX', kind='kde')"
      ],
      "execution_count": null,
      "outputs": []
    },
    {
      "cell_type": "code",
      "metadata": {
        "id": "zJaedRtkyySe"
      },
      "source": [
        "#Vis den prismæssige standardafvigelse for \"property_type\" \n",
        "# Note: Sæt degrees of freedom til 0 (ddof=0)\n"
      ],
      "execution_count": null,
      "outputs": []
    },
    {
      "cell_type": "markdown",
      "metadata": {
        "id": "cbFStp3RvbA8"
      },
      "source": [
        "Hvordan kan standardafvigelsen og forskelle i standardafvigelsen mellem kategorierne fortolkes?\n"
      ]
    },
    {
      "cell_type": "markdown",
      "metadata": {
        "id": "piGcgKI30HMi"
      },
      "source": [
        "## 4. Bivariat Analyse"
      ]
    },
    {
      "cell_type": "markdown",
      "metadata": {
        "id": "ykxzZc1Z4OF6"
      },
      "source": [
        "Hvad korrelerer mere med price af et sted - antal af værelser eller hvor mange, som kan sove der?"
      ]
    },
    {
      "cell_type": "code",
      "metadata": {
        "id": "z0jioxxV4eyU"
      },
      "source": [
        "# price vs bedrooms\n",
        "\n"
      ],
      "execution_count": null,
      "outputs": []
    },
    {
      "cell_type": "code",
      "metadata": {
        "id": "UNC8-yQt4F9n"
      },
      "source": [
        "# price vs accomodates\n",
        "\n"
      ],
      "execution_count": null,
      "outputs": []
    },
    {
      "cell_type": "code",
      "metadata": {
        "id": "bEYjz0Jo27w7"
      },
      "source": [
        "# Big is beautiful: Hvor er der mest sammenhæng mellem antal af gæster (accomodates) og \n",
        "# prisen - beregn korrelation per bydel (groupby)\n"
      ],
      "execution_count": null,
      "outputs": []
    },
    {
      "cell_type": "code",
      "metadata": {
        "id": "19SJP3YWSGer"
      },
      "source": [
        "# Ligesom med price variablen, skal \"cleaning_fee\" også have fjernet \"$\" og \",\", og gøres til en float (numerisk variabel) \n",
        "df.cleaning_fee = df.cleaning_fee.replace('[\\$,]', '', regex=True).astype(float)"
      ],
      "execution_count": null,
      "outputs": []
    },
    {
      "cell_type": "code",
      "metadata": {
        "id": "38gh2_V4SGeu"
      },
      "source": [
        "# Udfyld manglende observationer i cleaning fee med 0\n",
        "\n",
        "df.cleaning_fee.XX(X, inplace=True)"
      ],
      "execution_count": null,
      "outputs": []
    },
    {
      "cell_type": "code",
      "metadata": {
        "id": "W6v6Ctn36q3z"
      },
      "source": [
        "# beregn korrelationskoefficienten for \"price\" og \"cleaning_fee\" - er der en sammenhæng (hvis ja, er den stærk, moderat, svag)? Kan du fortolke det?\n"
      ],
      "execution_count": null,
      "outputs": []
    },
    {
      "cell_type": "code",
      "metadata": {
        "id": "HXbgQ6DgzNYE"
      },
      "source": [
        "# lav et plot, der visualiserer sammenhæng mellem \"price\" og \"cleaning_fee\". Hvad kan du sige om outliers her?\n",
        "\n",
        "sns.XXX(x=\"XXX\", y=\"XXX\", data=XXX)"
      ],
      "execution_count": null,
      "outputs": []
    },
    {
      "cell_type": "code",
      "metadata": {
        "id": "HBfwNlUFSGew"
      },
      "source": [
        "# Lav en ny variabel \"total_price\" ud fra \"price\" og \"cleaning_fee\" (sammenlæg de to værdier fra )\n",
        "df['total_price'] = df.price + df.cleaning_fee"
      ],
      "execution_count": null,
      "outputs": []
    },
    {
      "cell_type": "code",
      "metadata": {
        "id": "2hyoiU77Z7bs"
      },
      "source": [
        "# definer en dataframe hvor der kun medtages observationer med > 10 reviews \"number_of_reviews\"\n",
        "\n",
        "high_review_df = df[df.XXX > 10]"
      ],
      "execution_count": null,
      "outputs": []
    },
    {
      "cell_type": "code",
      "metadata": {
        "id": "0A-vtIOgbHSs"
      },
      "source": [
        "# sammenlign korrelationer mellem total_price vs accomodates OG price vs accomodates\n",
        "# fortolk de to korrelationskoefficienter\n",
        "\n",
        "\n",
        "# total_price vs accomodates\n",
        "df.total_price.XXX()"
      ],
      "execution_count": null,
      "outputs": []
    },
    {
      "cell_type": "code",
      "metadata": {
        "id": "yi5b37j76Myb"
      },
      "source": [
        "# price vs accomodates\n",
        "df.price.XXX()"
      ],
      "execution_count": null,
      "outputs": []
    },
    {
      "cell_type": "markdown",
      "metadata": {
        "id": "WJp_qSBeNMZ9"
      },
      "source": [
        "### 5. Datamanipulation\n",
        "\n",
        "Du arbejder for AirBnB som analytiker og webudvikler og bliver opfordret til at lave en ny indikator på platformen, som viser hvor mange cykelstativer, der er i bydelen, hvor lejligheden/værelset ligger.\n",
        "\n"
      ]
    },
    {
      "cell_type": "code",
      "metadata": {
        "id": "-H8xUOWqNNlw"
      },
      "source": [
        "# Hent data fra region Hovedstaden som ligger i cykel.csv.gz - husk compression...\n",
        "cykel = "
      ],
      "execution_count": null,
      "outputs": []
    },
    {
      "cell_type": "code",
      "metadata": {
        "id": "Pw1RLFQb_o0K"
      },
      "source": [
        "# giv et kort overblik over datasæt og første rækker\n"
      ],
      "execution_count": null,
      "outputs": []
    },
    {
      "cell_type": "code",
      "metadata": {
        "id": "L1zIaOx9cH_n"
      },
      "source": [
        ""
      ],
      "execution_count": null,
      "outputs": []
    },
    {
      "cell_type": "code",
      "metadata": {
        "id": "c39iNvGYcaRc"
      },
      "source": [
        "# lav en beregning af hvor mange cykelstativer, der er per bydel (definer et series objekt 'cykel_per_bydel')\n",
        "# her kan der bruges groupby eller en simpel optælling\n",
        "\n",
        "cykel_per_bydel = cykel.XXX\n",
        "\n",
        "cykel_per_bydel.name = 'n_cykel_stativer'"
      ],
      "execution_count": null,
      "outputs": []
    },
    {
      "cell_type": "code",
      "metadata": {
        "id": "CT2HYEe_c1H4"
      },
      "source": [
        "cykel_per_bydel"
      ],
      "execution_count": null,
      "outputs": []
    },
    {
      "cell_type": "code",
      "metadata": {
        "id": "t0_F6k__c6o2"
      },
      "source": [
        "# lav en beregning af hvor mange cykel parkeringspladser, der er per bydel (definer et series objekt 'cykel_ppladser_bydel')\n",
        "# brug her summen af antal_pladser per neighbourhood_cleansed\n",
        "\n",
        "cykel_ppladser_bydel = cykel.XXX\n",
        "cykel_ppladser_bydel.name = 'n_cykel_ppladser'"
      ],
      "execution_count": null,
      "outputs": []
    },
    {
      "cell_type": "code",
      "metadata": {
        "id": "tXgxb9gJeUgF"
      },
      "source": [
        "cykel_ppladser_bydel"
      ],
      "execution_count": null,
      "outputs": []
    },
    {
      "cell_type": "code",
      "metadata": {
        "id": "KewQnvnqdk3X"
      },
      "source": [
        "# lav en merge af vores airbnb data med cykel_per_bydel, hvor der bruges neighbourhood_cleansed \n",
        "# som nøgle. Husk at bruge left_on= parameter for dine Airbnb data og right_index=True (siden det er en merge af en DF og et Series objekt)\n",
        "df = pd.merge(XX, XX, left_on='neighbourhood_cleansed', right_index=True)"
      ],
      "execution_count": null,
      "outputs": []
    },
    {
      "cell_type": "code",
      "metadata": {
        "id": "IcPNaialdmYQ"
      },
      "source": [
        "# Lav det samme for cykel_ppladser_bydel\n",
        "\n",
        "df = pd.merge(XXX, XXX, XXX, XXX)"
      ],
      "execution_count": null,
      "outputs": []
    },
    {
      "cell_type": "code",
      "metadata": {
        "id": "HegQk-LGediz"
      },
      "source": [
        "# Beregn korrelation mellem \"n_cykel_ppladser\" og \"number_of_reviews\"\n",
        "# Kan man antage, at en bedre cykelparkeringssituation i bydelen hjælper med at få flere gæster (og dermed flere reviews)?\n",
        "# Husk...ingen/lav korrelation er også en mulighed :-)\n",
        "\n"
      ],
      "execution_count": null,
      "outputs": []
    }
  ]
}