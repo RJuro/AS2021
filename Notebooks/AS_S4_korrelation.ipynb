{
  "nbformat": 4,
  "nbformat_minor": 0,
  "metadata": {
    "colab": {
      "name": "AS_S4_korrelation",
      "provenance": [],
      "collapsed_sections": [
        "636GleX-kngX"
      ],
      "include_colab_link": true
    },
    "kernelspec": {
      "name": "python3",
      "display_name": "Python 3"
    }
  },
  "cells": [
    {
      "cell_type": "markdown",
      "metadata": {
        "id": "view-in-github",
        "colab_type": "text"
      },
      "source": [
        "<a href=\"https://colab.research.google.com/github/RJuro/AS2021/blob/main/Notebooks/AS_S4_korrelation.ipynb\" target=\"_parent\"><img src=\"https://colab.research.google.com/assets/colab-badge.svg\" alt=\"Open In Colab\"/></a>"
      ]
    },
    {
      "cell_type": "code",
      "metadata": {
        "id": "2rCkZuusew6y"
      },
      "source": [
        "import pandas as pd #pandas (som næsten altid)\n",
        "import numpy as np #numpy hvis der skal laves mere komplekse beregninger\n",
        "import seaborn as sns #seaborn til plots\n",
        " \n",
        "from matplotlib import pyplot as plt #plot control\n",
        " \n",
        "sns.set() #plot style\n",
        " \n",
        " \n",
        "from IPython.display import HTML #Youtube embed"
      ],
      "execution_count": null,
      "outputs": []
    },
    {
      "cell_type": "markdown",
      "metadata": {
        "id": "_yH-TbYZ_qGz"
      },
      "source": [
        "# Anvendt statistik S2 - Hands-on\n",
        "\n",
        "Her kommer vi til at se på et datasæt af pingviner (man kan læse mere om data her: https://github.com/allisonhorst/palmerpenguins)\n",
        "\n",
        "![](https://github.com/allisonhorst/palmerpenguins/raw/master/man/figures/lter_penguins.png)\n",
        "\n",
        "Hvis du har 2 minutter og vil vide mere om disse pingviner, så er der en kort video om dem..."
      ]
    },
    {
      "cell_type": "markdown",
      "metadata": {
        "id": "rdKY2tW4lzwS"
      },
      "source": [
        "## Bivariat analyse\n",
        "Ind til videre har vi som udgangspunkt bearbejdet enkelte variable som udgangspunkt for analyse og visualisering. I dette afsnit vil i blive introduceret for *bivariat* analyse, hvor man undersøger sammenhængen mellem to variable i et datasæt. Her vil i, blandt andet, blive introduceret for *kovarians* og *Pearson's korrelations koefficient*.\n",
        "\n",
        "---\n",
        "\n",
        "Som det første vil i blive introduceret for, hvordan man visualiserer fordelingen mellem to variable. Denne visualisering opstilles i en graf ved at sætte en variabel på x-aksen og en variabel på y-aksen. Her opdeles datasættets observationer i grafen, alt efter hvordan de placerer sig i mellem variablen x og variablen y. Dette kaldes et *scatter plot*"
      ]
    },
    {
      "cell_type": "code",
      "metadata": {
        "id": "_14N5YHHkpG9"
      },
      "source": [
        "# Vi åbner vores penvin data direkte fra github\n",
        "penguins = pd.read_csv(\"https://github.com/allisonhorst/palmerpenguins/raw/5b5891f01b52ae26ad8cb9755ec93672f49328a8/data/penguins_size.csv\")"
      ],
      "execution_count": null,
      "outputs": []
    },
    {
      "cell_type": "code",
      "metadata": {
        "id": "faDaEkGI0tmH"
      },
      "source": [
        "# her sletter vi alle rækker, hvor der mangler data for en eller anden variabel\n",
        "\n",
        "penguins = penguins.dropna()"
      ],
      "execution_count": null,
      "outputs": []
    },
    {
      "cell_type": "code",
      "metadata": {
        "id": "Ri_VZrFI0wWX"
      },
      "source": [
        "penguins.info()"
      ],
      "execution_count": null,
      "outputs": []
    },
    {
      "cell_type": "code",
      "metadata": {
        "id": "0_omxw7Da2Ej"
      },
      "source": [
        "penguins.head()"
      ],
      "execution_count": null,
      "outputs": []
    },
    {
      "cell_type": "code",
      "metadata": {
        "id": "uvGeWDA2bqCS"
      },
      "source": [
        "# Med Seaborn\n",
        "sns.relplot(x=\"body_mass_g\", y=\"flipper_length_mm\", data=penguins);"
      ],
      "execution_count": null,
      "outputs": []
    },
    {
      "cell_type": "code",
      "metadata": {
        "id": "GG60VHk8b3xW"
      },
      "source": [
        "# Seaborn does it fancy\n",
        "sns.relplot(x=\"body_mass_g\", y=\"flipper_length_mm\", hue=\"species_short\", style=\"sex\", data=penguins)"
      ],
      "execution_count": null,
      "outputs": []
    },
    {
      "cell_type": "code",
      "metadata": {
        "id": "O26zlVYSUrkJ"
      },
      "source": [
        "# (avanceret) stats import\n",
        "import scipy.stats as stats"
      ],
      "execution_count": null,
      "outputs": []
    },
    {
      "cell_type": "code",
      "metadata": {
        "id": "HsYz4mRwVJO4"
      },
      "source": [
        "penguins['flipper_length_normalized'] = stats.zscore(penguins.flipper_length_mm)"
      ],
      "execution_count": null,
      "outputs": []
    },
    {
      "cell_type": "code",
      "metadata": {
        "id": "inFkrWNOV-Aj"
      },
      "source": [
        "penguins['body_mass_normalized']  = stats.zscore(penguins.body_mass_g)"
      ],
      "execution_count": null,
      "outputs": []
    },
    {
      "cell_type": "code",
      "metadata": {
        "id": "mRqCbpoGXIJv"
      },
      "source": [
        "sns.relplot(x = 'body_mass_normalized', y = 'flipper_length_normalized', hue=\"species_short\", style=\"sex\", data=penguins )"
      ],
      "execution_count": null,
      "outputs": []
    },
    {
      "cell_type": "markdown",
      "metadata": {
        "id": "mejSMateoZhV"
      },
      "source": [
        "#### Kovarians\n",
        "Kovarians er et mål for sammenhængen mellem to skaleringsafhængige variable - altså, hvor meget en variabel vil ændres når en anden variabel ændres.  "
      ]
    },
    {
      "cell_type": "code",
      "metadata": {
        "id": "zZ45IG2ygzV7"
      },
      "source": [
        "# Kovarians matrix med pandas\n",
        "penguins[['body_mass_g', 'flipper_length_mm']].cov()"
      ],
      "execution_count": null,
      "outputs": []
    },
    {
      "cell_type": "code",
      "metadata": {
        "id": "gLUvpcFUluDA"
      },
      "source": [
        "# Kovarians\n",
        "penguins.body_mass_g.cov(penguins.flipper_length_mm)"
      ],
      "execution_count": null,
      "outputs": []
    },
    {
      "cell_type": "markdown",
      "metadata": {
        "id": "tzqLesHWpbPp"
      },
      "source": [
        "#### Korrelations koefficient (Pearson's R)\n",
        "Eftersom kovarians er udregnet med baggrund i de givne variables skalering, giver det ikke analytisk mening at udlede indsigt fra kovariansen alene. Man anvender derfor korrelations koefficienten til at standardisere værdierne i variablene. \n",
        "\n",
        "Korrelations koefficienten vil altid have en værdi mellem -1 og 1. Hvis koefficienten er tæt på 1 vil der være en *positiv* sammenhæng mellem x og y (når x stiger, stiger y også). Hvis koefficienten er tæt på -1 vil der være en *negativ* sammenhæng mellem x og y (når x stiger, falder y). Værdier tæt på 0 indikerer at der er lav eller ingen sammenhæng mellem x og y (når x stiger, gør y hvad den vil). "
      ]
    },
    {
      "cell_type": "code",
      "metadata": {
        "id": "bTs1IeBN1Irf"
      },
      "source": [
        "# Pandas .corr() kan anvendes til at vurdere korrelationen mellem samtlige numeriske variable i et datasæt. \n",
        "penguins.corr()"
      ],
      "execution_count": null,
      "outputs": []
    },
    {
      "cell_type": "code",
      "metadata": {
        "id": "tysuFOTlihog"
      },
      "source": [
        "# Korrelations matrix med pandas\n",
        "# Note: Der er forskellige måder at udregne korrelation, hvor Pearson's er den mest udbredte. \n",
        "# Pandas .corr() har pearson som default, men kan ændres efter behov.\n",
        "penguins[['body_mass_g', 'flipper_length_mm']].corr(method='pearson')"
      ],
      "execution_count": null,
      "outputs": []
    },
    {
      "cell_type": "code",
      "metadata": {
        "id": "TuYCOgbcl4Ow"
      },
      "source": [
        "# Pearson's R (korrelations koefficient)\n",
        "penguins.body_mass_g.corr(penguins.flipper_length_mm)"
      ],
      "execution_count": null,
      "outputs": []
    },
    {
      "cell_type": "code",
      "metadata": {
        "id": "gz9v2japZDuG"
      },
      "source": [
        "# Ud med de normaliserede igen\n",
        "penguins = penguins.drop(['body_mass_normalized', 'flipper_length_normalized'], axis = 'columns')"
      ],
      "execution_count": null,
      "outputs": []
    },
    {
      "cell_type": "code",
      "metadata": {
        "id": "eqN5soWgYbOd"
      },
      "source": [
        "sns.pairplot(penguins, hue=\"species_short\")"
      ],
      "execution_count": null,
      "outputs": []
    },
    {
      "cell_type": "markdown",
      "metadata": {
        "id": "qoHjCfPvtUdG"
      },
      "source": [
        "### Klasseøvelse\n",
        "Udregn korrelations koefficient for næblængde ift. næbdybde for samtlige observationer og for hver af de 3 racer - Visualiser det i et scatterplot. "
      ]
    },
    {
      "cell_type": "markdown",
      "metadata": {
        "id": "PeKHX6QHwxqs"
      },
      "source": [
        "##### Løsning "
      ]
    },
    {
      "cell_type": "markdown",
      "metadata": {
        "id": "cMr4623B1v1n"
      },
      "source": [
        "###### Svar 1"
      ]
    },
    {
      "cell_type": "code",
      "metadata": {
        "id": "LTGbsjGIzmkN"
      },
      "source": [
        "penguins.culmen_length_mm.corr(penguins.culmen_depth_mm)"
      ],
      "execution_count": null,
      "outputs": []
    },
    {
      "cell_type": "markdown",
      "metadata": {
        "id": "SqI9c8JD13A6"
      },
      "source": [
        "###### Svar 2"
      ]
    },
    {
      "cell_type": "code",
      "metadata": {
        "id": "XcgT_eG0xmgZ"
      },
      "source": [
        "penguins.groupby('species_short').culmen_length_mm.corr(penguins.culmen_depth_mm)"
      ],
      "execution_count": null,
      "outputs": []
    },
    {
      "cell_type": "markdown",
      "metadata": {
        "id": "EG-g2PX_162k"
      },
      "source": [
        "###### Svar 3"
      ]
    },
    {
      "cell_type": "code",
      "metadata": {
        "id": "yE3iiJdszJSk"
      },
      "source": [
        "sns.relplot(x=\"culmen_length_mm\", y=\"culmen_depth_mm\", hue=\"species_short\", data=penguins);"
      ],
      "execution_count": null,
      "outputs": []
    }
  ]
}
