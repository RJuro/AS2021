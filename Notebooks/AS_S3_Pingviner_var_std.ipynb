{
  "nbformat": 4,
  "nbformat_minor": 0,
  "metadata": {
    "colab": {
      "name": "AS-S3-Pingviner",
      "provenance": [],
      "collapsed_sections": [
        "636GleX-kngX"
      ],
      "include_colab_link": true
    },
    "kernelspec": {
      "name": "python3",
      "display_name": "Python 3"
    }
  },
  "cells": [
    {
      "cell_type": "markdown",
      "metadata": {
        "id": "view-in-github",
        "colab_type": "text"
      },
      "source": [
        "<a href=\"https://colab.research.google.com/github/RJuro/AS2021/blob/main/Notebooks/AS_S3_Pingviner_var_std.ipynb\" target=\"_parent\"><img src=\"https://colab.research.google.com/assets/colab-badge.svg\" alt=\"Open In Colab\"/></a>"
      ]
    },
    {
      "cell_type": "code",
      "metadata": {
        "id": "2rCkZuusew6y"
      },
      "source": [
        "import pandas as pd #pandas (som næsten altid)\n",
        "import numpy as np #numpy hvis der skal laves mere komplekse beregninger\n",
        "import seaborn as sns #seaborn til plots\n",
        " \n",
        "from matplotlib import pyplot as plt #plot control\n",
        " \n",
        "sns.set() #plot style\n",
        " \n",
        " \n",
        "from IPython.display import HTML #Youtube embed"
      ],
      "execution_count": 1,
      "outputs": []
    },
    {
      "cell_type": "markdown",
      "metadata": {
        "id": "_yH-TbYZ_qGz"
      },
      "source": [
        "# Anvendt statistik S2 - Hands-on\n",
        "\n",
        "Her kommer vi til at se på et datasæt af pingviner (man kan læse mere om data her: https://github.com/allisonhorst/palmerpenguins)\n",
        "\n",
        "![](https://github.com/allisonhorst/palmerpenguins/raw/master/man/figures/lter_penguins.png)\n",
        "\n",
        "Hvis du har 2 minutter og vil vide mere om disse pingviner, så er der en kort video om dem..."
      ]
    },
    {
      "cell_type": "code",
      "metadata": {
        "id": "deQx4zZlA7Zc",
        "colab": {
          "base_uri": "https://localhost:8080/",
          "height": 421
        },
        "outputId": "6cc2fa1e-f5a2-4a88-faf4-e64cefbb9c86"
      },
      "source": [
        "HTML('<iframe width=\"700\" height=\"400\" src=\"https://www.youtube-nocookie.com/embed/QS5jpQ6cpsg\" frameborder=\"0\" allow=\"accelerometer; autoplay; encrypted-media; gyroscope; picture-in-picture\" allowfullscreen></iframe>')"
      ],
      "execution_count": 2,
      "outputs": [
        {
          "output_type": "execute_result",
          "data": {
            "text/html": [
              "<iframe width=\"700\" height=\"400\" src=\"https://www.youtube-nocookie.com/embed/QS5jpQ6cpsg\" frameborder=\"0\" allow=\"accelerometer; autoplay; encrypted-media; gyroscope; picture-in-picture\" allowfullscreen></iframe>"
            ],
            "text/plain": [
              "<IPython.core.display.HTML object>"
            ]
          },
          "metadata": {},
          "execution_count": 2
        }
      ]
    },
    {
      "cell_type": "code",
      "metadata": {
        "id": "_14N5YHHkpG9"
      },
      "source": [
        "# Vi åbner vores penvin data direkte fra github\n",
        "penguins = pd.read_csv(\"https://github.com/allisonhorst/palmerpenguins/raw/5b5891f01b52ae26ad8cb9755ec93672f49328a8/data/penguins_size.csv\")"
      ],
      "execution_count": 3,
      "outputs": []
    },
    {
      "cell_type": "code",
      "metadata": {
        "id": "S7j22qFB0XtY",
        "colab": {
          "base_uri": "https://localhost:8080/",
          "height": 206
        },
        "outputId": "30555d1c-5fbc-4507-9a02-a7321cbe5119"
      },
      "source": [
        "# første 5 rækker\n",
        "penguins.head()"
      ],
      "execution_count": 4,
      "outputs": [
        {
          "output_type": "execute_result",
          "data": {
            "text/html": [
              "<div>\n",
              "<style scoped>\n",
              "    .dataframe tbody tr th:only-of-type {\n",
              "        vertical-align: middle;\n",
              "    }\n",
              "\n",
              "    .dataframe tbody tr th {\n",
              "        vertical-align: top;\n",
              "    }\n",
              "\n",
              "    .dataframe thead th {\n",
              "        text-align: right;\n",
              "    }\n",
              "</style>\n",
              "<table border=\"1\" class=\"dataframe\">\n",
              "  <thead>\n",
              "    <tr style=\"text-align: right;\">\n",
              "      <th></th>\n",
              "      <th>species_short</th>\n",
              "      <th>island</th>\n",
              "      <th>culmen_length_mm</th>\n",
              "      <th>culmen_depth_mm</th>\n",
              "      <th>flipper_length_mm</th>\n",
              "      <th>body_mass_g</th>\n",
              "      <th>sex</th>\n",
              "    </tr>\n",
              "  </thead>\n",
              "  <tbody>\n",
              "    <tr>\n",
              "      <th>0</th>\n",
              "      <td>Adelie</td>\n",
              "      <td>Torgersen</td>\n",
              "      <td>39.1</td>\n",
              "      <td>18.7</td>\n",
              "      <td>181.0</td>\n",
              "      <td>3750.0</td>\n",
              "      <td>MALE</td>\n",
              "    </tr>\n",
              "    <tr>\n",
              "      <th>1</th>\n",
              "      <td>Adelie</td>\n",
              "      <td>Torgersen</td>\n",
              "      <td>39.5</td>\n",
              "      <td>17.4</td>\n",
              "      <td>186.0</td>\n",
              "      <td>3800.0</td>\n",
              "      <td>FEMALE</td>\n",
              "    </tr>\n",
              "    <tr>\n",
              "      <th>2</th>\n",
              "      <td>Adelie</td>\n",
              "      <td>Torgersen</td>\n",
              "      <td>40.3</td>\n",
              "      <td>18.0</td>\n",
              "      <td>195.0</td>\n",
              "      <td>3250.0</td>\n",
              "      <td>FEMALE</td>\n",
              "    </tr>\n",
              "    <tr>\n",
              "      <th>3</th>\n",
              "      <td>Adelie</td>\n",
              "      <td>Torgersen</td>\n",
              "      <td>NaN</td>\n",
              "      <td>NaN</td>\n",
              "      <td>NaN</td>\n",
              "      <td>NaN</td>\n",
              "      <td>NaN</td>\n",
              "    </tr>\n",
              "    <tr>\n",
              "      <th>4</th>\n",
              "      <td>Adelie</td>\n",
              "      <td>Torgersen</td>\n",
              "      <td>36.7</td>\n",
              "      <td>19.3</td>\n",
              "      <td>193.0</td>\n",
              "      <td>3450.0</td>\n",
              "      <td>FEMALE</td>\n",
              "    </tr>\n",
              "  </tbody>\n",
              "</table>\n",
              "</div>"
            ],
            "text/plain": [
              "  species_short     island  ...  body_mass_g     sex\n",
              "0        Adelie  Torgersen  ...       3750.0    MALE\n",
              "1        Adelie  Torgersen  ...       3800.0  FEMALE\n",
              "2        Adelie  Torgersen  ...       3250.0  FEMALE\n",
              "3        Adelie  Torgersen  ...          NaN     NaN\n",
              "4        Adelie  Torgersen  ...       3450.0  FEMALE\n",
              "\n",
              "[5 rows x 7 columns]"
            ]
          },
          "metadata": {},
          "execution_count": 4
        }
      ]
    },
    {
      "cell_type": "code",
      "metadata": {
        "id": "vUWsnxxJluSE",
        "colab": {
          "base_uri": "https://localhost:8080/"
        },
        "outputId": "ca647e8c-6a9d-4c85-805a-8ee0f564dc5a"
      },
      "source": [
        "# info viser, at der er nogle datapunkter, der mangler...\n",
        "penguins.info()"
      ],
      "execution_count": 5,
      "outputs": [
        {
          "output_type": "stream",
          "name": "stdout",
          "text": [
            "<class 'pandas.core.frame.DataFrame'>\n",
            "RangeIndex: 344 entries, 0 to 343\n",
            "Data columns (total 7 columns):\n",
            " #   Column             Non-Null Count  Dtype  \n",
            "---  ------             --------------  -----  \n",
            " 0   species_short      344 non-null    object \n",
            " 1   island             344 non-null    object \n",
            " 2   culmen_length_mm   342 non-null    float64\n",
            " 3   culmen_depth_mm    342 non-null    float64\n",
            " 4   flipper_length_mm  342 non-null    float64\n",
            " 5   body_mass_g        342 non-null    float64\n",
            " 6   sex                334 non-null    object \n",
            "dtypes: float64(4), object(3)\n",
            "memory usage: 18.9+ KB\n"
          ]
        }
      ]
    },
    {
      "cell_type": "code",
      "metadata": {
        "id": "faDaEkGI0tmH"
      },
      "source": [
        "# her sletter vi alle rækker, hvor der mangler data for en eller anden variabel\n",
        "\n",
        "penguins = penguins.dropna()"
      ],
      "execution_count": 6,
      "outputs": []
    },
    {
      "cell_type": "code",
      "metadata": {
        "id": "Ri_VZrFI0wWX",
        "colab": {
          "base_uri": "https://localhost:8080/"
        },
        "outputId": "bf69c4e8-65a1-4f22-dc72-0c9924cde90e"
      },
      "source": [
        "penguins.info()"
      ],
      "execution_count": 7,
      "outputs": [
        {
          "output_type": "stream",
          "name": "stdout",
          "text": [
            "<class 'pandas.core.frame.DataFrame'>\n",
            "Int64Index: 334 entries, 0 to 343\n",
            "Data columns (total 7 columns):\n",
            " #   Column             Non-Null Count  Dtype  \n",
            "---  ------             --------------  -----  \n",
            " 0   species_short      334 non-null    object \n",
            " 1   island             334 non-null    object \n",
            " 2   culmen_length_mm   334 non-null    float64\n",
            " 3   culmen_depth_mm    334 non-null    float64\n",
            " 4   flipper_length_mm  334 non-null    float64\n",
            " 5   body_mass_g        334 non-null    float64\n",
            " 6   sex                334 non-null    object \n",
            "dtypes: float64(4), object(3)\n",
            "memory usage: 20.9+ KB\n"
          ]
        }
      ]
    },
    {
      "cell_type": "markdown",
      "metadata": {
        "id": "XAd16mPIDHap"
      },
      "source": [
        "## Simple frekvens beregninger\n",
        "\n",
        "- Hvor mange han/hun pingviner?\n",
        "- Hvor mange pingviner af de forskellige arter?\n",
        "- Hvor mange øer er der?\n",
        "- Gennemsnit for `body_mass_g` (vægt) per køn og art.\n"
      ]
    },
    {
      "cell_type": "code",
      "metadata": {
        "id": "DxbVZgAvDGiG",
        "colab": {
          "base_uri": "https://localhost:8080/"
        },
        "outputId": "c2888967-87fa-4acf-b671-ec4105b37ae7"
      },
      "source": [
        "# Hvor mange han/hun pengviner?\n",
        "penguins.sex.value_counts()"
      ],
      "execution_count": 8,
      "outputs": [
        {
          "output_type": "execute_result",
          "data": {
            "text/plain": [
              "MALE      168\n",
              "FEMALE    165\n",
              ".           1\n",
              "Name: sex, dtype: int64"
            ]
          },
          "metadata": {},
          "execution_count": 8
        }
      ]
    },
    {
      "cell_type": "code",
      "metadata": {
        "id": "8On3lYXbECkV",
        "colab": {
          "base_uri": "https://localhost:8080/"
        },
        "outputId": "49e09463-cdc3-4343-96cd-28765bd9929f"
      },
      "source": [
        "# Hvor mange pengviner af de forskellige arter?\n",
        "penguins.species_short.value_counts()"
      ],
      "execution_count": 9,
      "outputs": [
        {
          "output_type": "execute_result",
          "data": {
            "text/plain": [
              "Adelie       146\n",
              "Gentoo       120\n",
              "Chinstrap     68\n",
              "Name: species_short, dtype: int64"
            ]
          },
          "metadata": {},
          "execution_count": 9
        }
      ]
    },
    {
      "cell_type": "code",
      "metadata": {
        "id": "a4A3udBfEC37",
        "colab": {
          "base_uri": "https://localhost:8080/"
        },
        "outputId": "9ababe1a-1fde-4a83-e153-94fdd93f3225"
      },
      "source": [
        "# Hvor mange øer (observationer af forskellige) er der?\n",
        "penguins.island.value_counts()"
      ],
      "execution_count": 10,
      "outputs": [
        {
          "output_type": "execute_result",
          "data": {
            "text/plain": [
              "Biscoe       164\n",
              "Dream        123\n",
              "Torgersen     47\n",
              "Name: island, dtype: int64"
            ]
          },
          "metadata": {},
          "execution_count": 10
        }
      ]
    },
    {
      "cell_type": "code",
      "metadata": {
        "id": "PQIXnBaFEDSc",
        "colab": {
          "base_uri": "https://localhost:8080/"
        },
        "outputId": "329a4fa9-4c3c-4aa4-9fb3-9cd5cfa8fd78"
      },
      "source": [
        "# Gennemsnit for body_mass_g (vægt) per køn.\n",
        "penguins[penguins.sex == 'MALE'].body_mass_g.mean()"
      ],
      "execution_count": 11,
      "outputs": [
        {
          "output_type": "execute_result",
          "data": {
            "text/plain": [
              "4545.684523809524"
            ]
          },
          "metadata": {},
          "execution_count": 11
        }
      ]
    },
    {
      "cell_type": "code",
      "metadata": {
        "id": "cx09NjZLE8Kw",
        "colab": {
          "base_uri": "https://localhost:8080/"
        },
        "outputId": "302b0502-fe42-484d-8c9c-4355b4d6438e"
      },
      "source": [
        "penguins[penguins.sex == 'FEMALE'].body_mass_g.mean()"
      ],
      "execution_count": 12,
      "outputs": [
        {
          "output_type": "execute_result",
          "data": {
            "text/plain": [
              "3862.2727272727275"
            ]
          },
          "metadata": {},
          "execution_count": 12
        }
      ]
    },
    {
      "cell_type": "code",
      "metadata": {
        "id": "AqU80ipYFqYe",
        "colab": {
          "base_uri": "https://localhost:8080/"
        },
        "outputId": "5c4d7d3c-15fc-4dfe-8b38-7b8a11079991"
      },
      "source": [
        "# Gennemsnit for body_mass_g (vægt) per art.\n",
        "\n",
        "penguins.species_short.unique() # vi starter med at se på hvor mange unike arter der er"
      ],
      "execution_count": 13,
      "outputs": [
        {
          "output_type": "execute_result",
          "data": {
            "text/plain": [
              "array(['Adelie', 'Chinstrap', 'Gentoo'], dtype=object)"
            ]
          },
          "metadata": {},
          "execution_count": 13
        }
      ]
    },
    {
      "cell_type": "code",
      "metadata": {
        "id": "CRIWwROhEDqd",
        "colab": {
          "base_uri": "https://localhost:8080/"
        },
        "outputId": "1ed0d6db-ebd2-4aa8-ff5a-90091f85bea0"
      },
      "source": [
        "penguins.groupby(by='species_short').body_mass_g.mean() # groupby og mean er en nem måde at beregne det hele med lidt kode..."
      ],
      "execution_count": 14,
      "outputs": [
        {
          "output_type": "execute_result",
          "data": {
            "text/plain": [
              "species_short\n",
              "Adelie       3706.164384\n",
              "Chinstrap    3733.088235\n",
              "Gentoo       5090.625000\n",
              "Name: body_mass_g, dtype: float64"
            ]
          },
          "metadata": {},
          "execution_count": 14
        }
      ]
    },
    {
      "cell_type": "markdown",
      "metadata": {
        "id": "FF3BBtEwFStE"
      },
      "source": [
        "![](https://jakevdp.github.io/PythonDataScienceHandbook/figures/03.08-split-apply-combine.png)\n",
        "\n",
        "Mere om groupby og aggregation\n",
        "(https://jakevdp.github.io/PythonDataScienceHandbook/03.08-aggregation-and-grouping.html)"
      ]
    },
    {
      "cell_type": "markdown",
      "metadata": {
        "id": "JMuLwOetKcid"
      },
      "source": [
        "## Beregning af nøgletal der beskriver fordeling\n",
        "\n",
        "- median\n",
        "- percentiler"
      ]
    },
    {
      "cell_type": "code",
      "metadata": {
        "id": "pyBGIwjqKl_j",
        "colab": {
          "base_uri": "https://localhost:8080/"
        },
        "outputId": "c7ce5a00-abaf-4dbc-d290-2d9bcb958167"
      },
      "source": [
        "# median\n",
        "penguins.body_mass_g.median()"
      ],
      "execution_count": 15,
      "outputs": [
        {
          "output_type": "execute_result",
          "data": {
            "text/plain": [
              "4050.0"
            ]
          },
          "metadata": {},
          "execution_count": 15
        }
      ]
    },
    {
      "cell_type": "code",
      "metadata": {
        "id": "ffntE6L7K0HY",
        "colab": {
          "base_uri": "https://localhost:8080/"
        },
        "outputId": "40ebd416-1261-40f4-825d-0846e0eda6fb"
      },
      "source": [
        "# 25 percentil\n",
        "penguins.body_mass_g.quantile(q=0.25)"
      ],
      "execution_count": 16,
      "outputs": [
        {
          "output_type": "execute_result",
          "data": {
            "text/plain": [
              "3550.0"
            ]
          },
          "metadata": {},
          "execution_count": 16
        }
      ]
    },
    {
      "cell_type": "code",
      "metadata": {
        "id": "nNFGhSWzLrz-",
        "colab": {
          "base_uri": "https://localhost:8080/"
        },
        "outputId": "71ffcf65-d05a-461f-be1c-0e77c5925af5"
      },
      "source": [
        "# 75 percentil\n",
        "penguins.body_mass_g.quantile(q=0.75)"
      ],
      "execution_count": 17,
      "outputs": [
        {
          "output_type": "execute_result",
          "data": {
            "text/plain": [
              "4793.75"
            ]
          },
          "metadata": {},
          "execution_count": 17
        }
      ]
    },
    {
      "cell_type": "code",
      "metadata": {
        "id": "twfktbBXLXyW",
        "colab": {
          "base_uri": "https://localhost:8080/"
        },
        "outputId": "45428fd4-6a28-44be-a8bf-3b138d2bac72"
      },
      "source": [
        "# med numpy:\n",
        "\n",
        "np.percentile(penguins.body_mass_g, 25)\n",
        "\n",
        "# hvis der er manglende data, så skal vi bruge \"nanpercentile\" i numpy\n",
        "# np.nanpercentile(penguins.body_mass_g, 25) \n"
      ],
      "execution_count": 18,
      "outputs": [
        {
          "output_type": "execute_result",
          "data": {
            "text/plain": [
              "3550.0"
            ]
          },
          "metadata": {},
          "execution_count": 18
        }
      ]
    },
    {
      "cell_type": "code",
      "metadata": {
        "id": "MCvpziRWn3wE",
        "colab": {
          "base_uri": "https://localhost:8080/"
        },
        "outputId": "c8ba4019-d613-498e-d33e-c7489465543a"
      },
      "source": [
        "# eller:\n",
        "\n",
        "penguins.body_mass_g.describe()"
      ],
      "execution_count": 19,
      "outputs": [
        {
          "output_type": "execute_result",
          "data": {
            "text/plain": [
              "count     334.000000\n",
              "mean     4209.056886\n",
              "std       804.836129\n",
              "min      2700.000000\n",
              "25%      3550.000000\n",
              "50%      4050.000000\n",
              "75%      4793.750000\n",
              "max      6300.000000\n",
              "Name: body_mass_g, dtype: float64"
            ]
          },
          "metadata": {},
          "execution_count": 19
        }
      ]
    },
    {
      "cell_type": "code",
      "metadata": {
        "id": "v9x62fWHv0tR",
        "colab": {
          "base_uri": "https://localhost:8080/",
          "height": 175
        },
        "outputId": "f8522f1c-5e67-4702-a5e7-4b6d93c5a9bf"
      },
      "source": [
        "# og det kan man også bruge i kombination med groupby!\n",
        "\n",
        "penguins.groupby('species_short').body_mass_g.describe()"
      ],
      "execution_count": 20,
      "outputs": [
        {
          "output_type": "execute_result",
          "data": {
            "text/html": [
              "<div>\n",
              "<style scoped>\n",
              "    .dataframe tbody tr th:only-of-type {\n",
              "        vertical-align: middle;\n",
              "    }\n",
              "\n",
              "    .dataframe tbody tr th {\n",
              "        vertical-align: top;\n",
              "    }\n",
              "\n",
              "    .dataframe thead th {\n",
              "        text-align: right;\n",
              "    }\n",
              "</style>\n",
              "<table border=\"1\" class=\"dataframe\">\n",
              "  <thead>\n",
              "    <tr style=\"text-align: right;\">\n",
              "      <th></th>\n",
              "      <th>count</th>\n",
              "      <th>mean</th>\n",
              "      <th>std</th>\n",
              "      <th>min</th>\n",
              "      <th>25%</th>\n",
              "      <th>50%</th>\n",
              "      <th>75%</th>\n",
              "      <th>max</th>\n",
              "    </tr>\n",
              "    <tr>\n",
              "      <th>species_short</th>\n",
              "      <th></th>\n",
              "      <th></th>\n",
              "      <th></th>\n",
              "      <th></th>\n",
              "      <th></th>\n",
              "      <th></th>\n",
              "      <th></th>\n",
              "      <th></th>\n",
              "    </tr>\n",
              "  </thead>\n",
              "  <tbody>\n",
              "    <tr>\n",
              "      <th>Adelie</th>\n",
              "      <td>146.0</td>\n",
              "      <td>3706.164384</td>\n",
              "      <td>458.620135</td>\n",
              "      <td>2850.0</td>\n",
              "      <td>3362.5</td>\n",
              "      <td>3700.0</td>\n",
              "      <td>4000.0</td>\n",
              "      <td>4775.0</td>\n",
              "    </tr>\n",
              "    <tr>\n",
              "      <th>Chinstrap</th>\n",
              "      <td>68.0</td>\n",
              "      <td>3733.088235</td>\n",
              "      <td>384.335081</td>\n",
              "      <td>2700.0</td>\n",
              "      <td>3487.5</td>\n",
              "      <td>3700.0</td>\n",
              "      <td>3950.0</td>\n",
              "      <td>4800.0</td>\n",
              "    </tr>\n",
              "    <tr>\n",
              "      <th>Gentoo</th>\n",
              "      <td>120.0</td>\n",
              "      <td>5090.625000</td>\n",
              "      <td>499.759002</td>\n",
              "      <td>3950.0</td>\n",
              "      <td>4700.0</td>\n",
              "      <td>5050.0</td>\n",
              "      <td>5500.0</td>\n",
              "      <td>6300.0</td>\n",
              "    </tr>\n",
              "  </tbody>\n",
              "</table>\n",
              "</div>"
            ],
            "text/plain": [
              "               count         mean         std  ...     50%     75%     max\n",
              "species_short                                  ...                        \n",
              "Adelie         146.0  3706.164384  458.620135  ...  3700.0  4000.0  4775.0\n",
              "Chinstrap       68.0  3733.088235  384.335081  ...  3700.0  3950.0  4800.0\n",
              "Gentoo         120.0  5090.625000  499.759002  ...  5050.0  5500.0  6300.0\n",
              "\n",
              "[3 rows x 8 columns]"
            ]
          },
          "metadata": {},
          "execution_count": 20
        }
      ]
    },
    {
      "cell_type": "markdown",
      "metadata": {
        "id": "a1XZewjcGJ1z"
      },
      "source": [
        "## Visualisering af numeriske variable og fordelinger\n",
        "\n",
        "Her kigger vi på forskellige muligheder at visualisere og præsentere fordelinger af én variable i Python med Seaborn\n",
        "\n",
        "*   Swarmplot\n",
        "*   Boxplot\n",
        "* Histogram (KDE-plot) mm\n",
        "\n"
      ]
    },
    {
      "cell_type": "code",
      "metadata": {
        "id": "2aZsZOleJJH0",
        "colab": {
          "base_uri": "https://localhost:8080/",
          "height": 357
        },
        "outputId": "f4f72734-f040-4f4d-fe7e-ea268e79a1b9"
      },
      "source": [
        "# plot body_mass_g for alle pengviner som swarmplat\n",
        "\n",
        "sns.swarmplot(penguins.body_mass_g)\n"
      ],
      "execution_count": 21,
      "outputs": [
        {
          "output_type": "stream",
          "name": "stderr",
          "text": [
            "/usr/local/lib/python3.7/dist-packages/seaborn/_decorators.py:43: FutureWarning: Pass the following variable as a keyword arg: x. From version 0.12, the only valid positional argument will be `data`, and passing other arguments without an explicit keyword will result in an error or misinterpretation.\n",
            "  FutureWarning\n"
          ]
        },
        {
          "output_type": "execute_result",
          "data": {
            "text/plain": [
              "<matplotlib.axes._subplots.AxesSubplot at 0x7feca65aea10>"
            ]
          },
          "metadata": {},
          "execution_count": 21
        },
        {
          "output_type": "display_data",
          "data": {
            "image/png": "[encoded data removed]",
            "text/plain": [
              "<Figure size 432x288 with 1 Axes>"
            ]
          },
          "metadata": {
            "needs_background": "light"
          }
        }
      ]
    },
    {
      "cell_type": "code",
      "metadata": {
        "id": "Ag-gDoYTJhNa",
        "colab": {
          "base_uri": "https://localhost:8080/",
          "height": 427
        },
        "outputId": "2d72b228-802b-4d2f-ad02-004b5f47c82d"
      },
      "source": [
        "#lidt større og med overskrift\n",
        "plt.figure(figsize=(10,5))\n",
        "plt.title('Vægt pingviner')\n",
        "\n",
        "sns.swarmplot(penguins.body_mass_g)"
      ],
      "execution_count": 22,
      "outputs": [
        {
          "output_type": "stream",
          "name": "stderr",
          "text": [
            "/usr/local/lib/python3.7/dist-packages/seaborn/_decorators.py:43: FutureWarning: Pass the following variable as a keyword arg: x. From version 0.12, the only valid positional argument will be `data`, and passing other arguments without an explicit keyword will result in an error or misinterpretation.\n",
            "  FutureWarning\n"
          ]
        },
        {
          "output_type": "execute_result",
          "data": {
            "text/plain": [
              "<matplotlib.axes._subplots.AxesSubplot at 0x7feca65ae850>"
            ]
          },
          "metadata": {},
          "execution_count": 22
        },
        {
          "output_type": "display_data",
          "data": {
            "image/png": "[encoded data removed]",
            "text/plain": [
              "<Figure size 720x360 with 1 Axes>"
            ]
          },
          "metadata": {
            "needs_background": "light"
          }
        }
      ]
    },
    {
      "cell_type": "markdown",
      "metadata": {
        "id": "CYx16wYUJ1tx"
      },
      "source": [
        "En swarmplot er nok den nemmeste visualisering af en variable. Her plottes bare punkter for hver pengvin på 1 akse. Bagefer sorteres punkterne lidt...\n",
        "\n",
        "Nedenunder er den udgave uden sortering (stripplot)"
      ]
    },
    {
      "cell_type": "code",
      "metadata": {
        "id": "NMrYYIWMJ0P8",
        "colab": {
          "base_uri": "https://localhost:8080/",
          "height": 427
        },
        "outputId": "f11f26f5-f57d-42d8-af79-894d40664ca6"
      },
      "source": [
        "#lidt større og med overskrift\n",
        "plt.figure(figsize=(10,5))\n",
        "plt.title('Vægt pingviner')\n",
        "\n",
        "sns.stripplot(penguins.body_mass_g)"
      ],
      "execution_count": 23,
      "outputs": [
        {
          "output_type": "stream",
          "name": "stderr",
          "text": [
            "/usr/local/lib/python3.7/dist-packages/seaborn/_decorators.py:43: FutureWarning: Pass the following variable as a keyword arg: x. From version 0.12, the only valid positional argument will be `data`, and passing other arguments without an explicit keyword will result in an error or misinterpretation.\n",
            "  FutureWarning\n"
          ]
        },
        {
          "output_type": "execute_result",
          "data": {
            "text/plain": [
              "<matplotlib.axes._subplots.AxesSubplot at 0x7fec9d4f6390>"
            ]
          },
          "metadata": {},
          "execution_count": 23
        },
        {
          "output_type": "display_data",
          "data": {
            "image/png": "[encoded data removed]",
            "text/plain": [
              "<Figure size 720x360 with 1 Axes>"
            ]
          },
          "metadata": {
            "needs_background": "light"
          }
        }
      ]
    },
    {
      "cell_type": "markdown",
      "metadata": {
        "id": "jP9HOBOpKPSG"
      },
      "source": [
        "En swarmplot siger ikke alt for meget. Lad os prøve at lave en boxplot\n",
        "\n",
        "![](https://miro.medium.com/max/1400/1*2c21SkzJMf3frPXPAR_gZA.png)"
      ]
    },
    {
      "cell_type": "code",
      "metadata": {
        "id": "a74EO2cIKOLp",
        "colab": {
          "base_uri": "https://localhost:8080/",
          "height": 318
        },
        "outputId": "959bea17-4df9-4f15-f3df-e826234331e2"
      },
      "source": [
        "plt.figure(figsize=(10,3))\n",
        "plt.title('Vægt pingviner')\n",
        "\n",
        "sns.boxplot(penguins.body_mass_g)\n"
      ],
      "execution_count": 24,
      "outputs": [
        {
          "output_type": "stream",
          "name": "stderr",
          "text": [
            "/usr/local/lib/python3.7/dist-packages/seaborn/_decorators.py:43: FutureWarning: Pass the following variable as a keyword arg: x. From version 0.12, the only valid positional argument will be `data`, and passing other arguments without an explicit keyword will result in an error or misinterpretation.\n",
            "  FutureWarning\n"
          ]
        },
        {
          "output_type": "execute_result",
          "data": {
            "text/plain": [
              "<matplotlib.axes._subplots.AxesSubplot at 0x7fec9cfa7990>"
            ]
          },
          "metadata": {},
          "execution_count": 24
        },
        {
          "output_type": "display_data",
          "data": {
            "image/png": "[encoded data removed]",
            "text/plain": [
              "<Figure size 720x216 with 1 Axes>"
            ]
          },
          "metadata": {
            "needs_background": "light"
          }
        }
      ]
    },
    {
      "cell_type": "code",
      "metadata": {
        "id": "yVxl4qkPozpG",
        "colab": {
          "base_uri": "https://localhost:8080/",
          "height": 353
        },
        "outputId": "ea71fdb3-98ce-4fac-c473-ce4066d772c5"
      },
      "source": [
        "plt.figure(figsize=(10,3))\n",
        "plt.title('Vægt pingviner')\n",
        "\n",
        "# to plots over hinanden\n",
        "g = sns.boxplot(penguins.body_mass_g) # g = defineres for at kunne beskrive X-akse\n",
        "sns.swarmplot(penguins.body_mass_g, palette='Oranges')\n",
        "\n",
        "g.set(xlabel='Vægt i g')"
      ],
      "execution_count": 25,
      "outputs": [
        {
          "output_type": "stream",
          "name": "stderr",
          "text": [
            "/usr/local/lib/python3.7/dist-packages/seaborn/_decorators.py:43: FutureWarning: Pass the following variable as a keyword arg: x. From version 0.12, the only valid positional argument will be `data`, and passing other arguments without an explicit keyword will result in an error or misinterpretation.\n",
            "  FutureWarning\n",
            "/usr/local/lib/python3.7/dist-packages/seaborn/_decorators.py:43: FutureWarning: Pass the following variable as a keyword arg: x. From version 0.12, the only valid positional argument will be `data`, and passing other arguments without an explicit keyword will result in an error or misinterpretation.\n",
            "  FutureWarning\n"
          ]
        },
        {
          "output_type": "execute_result",
          "data": {
            "text/plain": [
              "[Text(0.5, 0, 'Vægt i g')]"
            ]
          },
          "metadata": {},
          "execution_count": 25
        },
        {
          "output_type": "display_data",
          "data": {
            "image/png": "[encoded data removed]",
            "text/plain": [
              "<Figure size 720x216 with 1 Axes>"
            ]
          },
          "metadata": {
            "needs_background": "light"
          }
        }
      ]
    },
    {
      "cell_type": "code",
      "metadata": {
        "id": "uudk6uOdqecY",
        "colab": {
          "base_uri": "https://localhost:8080/",
          "height": 427
        },
        "outputId": "f0fa07b7-509c-4d86-c71e-dba1cce28fe8"
      },
      "source": [
        "# opdeling: han/hun - pingviner\n",
        "\n",
        "plt.figure(figsize=(10,6))\n",
        "plt.title('Vægt pingviner')\n",
        "\n",
        "sns.boxplot(data = penguins, x = \"body_mass_g\", y = \"sex\")"
      ],
      "execution_count": 26,
      "outputs": [
        {
          "output_type": "execute_result",
          "data": {
            "text/plain": [
              "<matplotlib.axes._subplots.AxesSubplot at 0x7fec9cf99b90>"
            ]
          },
          "metadata": {},
          "execution_count": 26
        },
        {
          "output_type": "display_data",
          "data": {
            "image/png": "[encoded data removed]",
            "text/plain": [
              "<Figure size 720x432 with 1 Axes>"
            ]
          },
          "metadata": {
            "needs_background": "light"
          }
        }
      ]
    },
    {
      "cell_type": "code",
      "metadata": {
        "id": "m5N5DtayqSIi",
        "colab": {
          "base_uri": "https://localhost:8080/"
        },
        "outputId": "aa67a887-121b-41fd-b024-e43f7cfe1f78"
      },
      "source": [
        "penguins.sex.unique()"
      ],
      "execution_count": 27,
      "outputs": [
        {
          "output_type": "execute_result",
          "data": {
            "text/plain": [
              "array(['MALE', 'FEMALE', '.'], dtype=object)"
            ]
          },
          "metadata": {},
          "execution_count": 27
        }
      ]
    },
    {
      "cell_type": "code",
      "metadata": {
        "id": "iRafK0vKpXvp",
        "colab": {
          "base_uri": "https://localhost:8080/",
          "height": 427
        },
        "outputId": "78509d73-8f66-4af9-bbf3-2c6d807c07e5"
      },
      "source": [
        "# opdeling: han/hun - pingviner\n",
        "\n",
        "plt.figure(figsize=(10,6))\n",
        "plt.title('Vægt pingviner')\n",
        "\n",
        "sns.boxplot(data = penguins[penguins.sex.isin(['MALE', 'FEMALE'])], x = \"body_mass_g\", y = \"sex\")"
      ],
      "execution_count": 28,
      "outputs": [
        {
          "output_type": "execute_result",
          "data": {
            "text/plain": [
              "<matplotlib.axes._subplots.AxesSubplot at 0x7fec9ce7fa90>"
            ]
          },
          "metadata": {},
          "execution_count": 28
        },
        {
          "output_type": "display_data",
          "data": {
            "image/png": "[encoded data removed]",
            "text/plain": [
              "<Figure size 720x432 with 1 Axes>"
            ]
          },
          "metadata": {
            "needs_background": "light"
          }
        }
      ]
    },
    {
      "cell_type": "code",
      "metadata": {
        "id": "1_rViV7Oqj-K",
        "colab": {
          "base_uri": "https://localhost:8080/",
          "height": 427
        },
        "outputId": "30b6b213-9754-4481-8bb5-4f751a110b33"
      },
      "source": [
        "# opdeling på art og køn\n",
        "\n",
        "# opdeling: han/hun - pingviner\n",
        "\n",
        "plt.figure(figsize=(10,6))\n",
        "plt.title('Vægt pingviner')\n",
        "\n",
        "sns.boxplot(data = penguins[penguins.sex.isin(['MALE', 'FEMALE'])], x = \"body_mass_g\", y = \"species_short\" , hue = \"sex\")"
      ],
      "execution_count": 29,
      "outputs": [
        {
          "output_type": "execute_result",
          "data": {
            "text/plain": [
              "<matplotlib.axes._subplots.AxesSubplot at 0x7fec9cef0650>"
            ]
          },
          "metadata": {},
          "execution_count": 29
        },
        {
          "output_type": "display_data",
          "data": {
            "image/png": "[encoded data removed]",
            "text/plain": [
              "<Figure size 720x432 with 1 Axes>"
            ]
          },
          "metadata": {
            "needs_background": "light"
          }
        }
      ]
    },
    {
      "cell_type": "markdown",
      "metadata": {
        "id": "fTUDUkexrQxx"
      },
      "source": [
        "Kan vi bruge flere \"datapunkter\" som input til vores visualisering? Yes! Vi kan prøve at lave et histogram.\n",
        "\n",
        "Lad os prøve at udvikle et histogram først fra bunden.\n"
      ]
    },
    {
      "cell_type": "code",
      "metadata": {
        "id": "_no1xGt6rPj6"
      },
      "source": [
        "#Vi kan skære vores data i intervaller (som aldersgrupper i Titanic)\n",
        "\n",
        "penguins_cat = pd.cut(penguins.body_mass_g, bins = 15) #vi gemmer det i en ny \"Series\" udenfor vores penguins DataFrame"
      ],
      "execution_count": 30,
      "outputs": []
    },
    {
      "cell_type": "code",
      "metadata": {
        "id": "mXKFlpPSt3Rn",
        "colab": {
          "base_uri": "https://localhost:8080/"
        },
        "outputId": "d40ddcaf-5b2f-4542-ebba-069807a5b496"
      },
      "source": [
        "# og sådan ser det ud hvis vi tæller hvor mange pingviner der findes inden for grupperne\n",
        "penguins_cat.value_counts(sort=False)"
      ],
      "execution_count": 31,
      "outputs": [
        {
          "output_type": "execute_result",
          "data": {
            "text/plain": [
              "(2696.4, 2940.0]     8\n",
              "(2940.0, 3180.0]    14\n",
              "(3180.0, 3420.0]    34\n",
              "(3420.0, 3660.0]    45\n",
              "(3660.0, 3900.0]    49\n",
              "(3900.0, 4140.0]    27\n",
              "(4140.0, 4380.0]    27\n",
              "(4380.0, 4620.0]    25\n",
              "(4620.0, 4860.0]    28\n",
              "(4860.0, 5100.0]    22\n",
              "(5100.0, 5340.0]    13\n",
              "(5340.0, 5580.0]    20\n",
              "(5580.0, 5820.0]    13\n",
              "(5820.0, 6060.0]     8\n",
              "(6060.0, 6300.0]     1\n",
              "Name: body_mass_g, dtype: int64"
            ]
          },
          "metadata": {},
          "execution_count": 31
        }
      ]
    },
    {
      "cell_type": "code",
      "metadata": {
        "id": "tdWe7flEtKR1",
        "colab": {
          "base_uri": "https://localhost:8080/",
          "height": 367
        },
        "outputId": "13192011-82d3-4518-f0e4-a06f59d60342"
      },
      "source": [
        "# og så kan vi lige plotte det (bare ved at bruge pandas indbyggede plot funktioner)\n",
        "penguins_cat.value_counts(sort=False).plot(kind='bar')"
      ],
      "execution_count": 32,
      "outputs": [
        {
          "output_type": "execute_result",
          "data": {
            "text/plain": [
              "<matplotlib.axes._subplots.AxesSubplot at 0x7fec9ccdafd0>"
            ]
          },
          "metadata": {},
          "execution_count": 32
        },
        {
          "output_type": "display_data",
          "data": {
            "image/png": "[encoded data removed]",
            "text/plain": [
              "<Figure size 432x288 with 1 Axes>"
            ]
          },
          "metadata": {
            "needs_background": "light"
          }
        }
      ]
    },
    {
      "cell_type": "code",
      "metadata": {
        "id": "fHg5gdhkulLb",
        "colab": {
          "base_uri": "https://localhost:8080/",
          "height": 427
        },
        "outputId": "f39391ce-59d5-4513-b39b-2b8fa87b0266"
      },
      "source": [
        "# Det kan også gøres nemmere\n",
        "\n",
        "plt.figure(figsize=(10,5))\n",
        "plt.title('Vægt Pingviner')\n",
        "\n",
        "g = sns.distplot(penguins.body_mass_g, hist = True, kde = False, bins=15)\n",
        "\n",
        "g.set(xlabel='Vægt i g')"
      ],
      "execution_count": 33,
      "outputs": [
        {
          "output_type": "stream",
          "name": "stderr",
          "text": [
            "/usr/local/lib/python3.7/dist-packages/seaborn/distributions.py:2557: FutureWarning: `distplot` is a deprecated function and will be removed in a future version. Please adapt your code to use either `displot` (a figure-level function with similar flexibility) or `histplot` (an axes-level function for histograms).\n",
            "  warnings.warn(msg, FutureWarning)\n"
          ]
        },
        {
          "output_type": "execute_result",
          "data": {
            "text/plain": [
              "[Text(0.5, 0, 'Vægt i g')]"
            ]
          },
          "metadata": {},
          "execution_count": 33
        },
        {
          "output_type": "display_data",
          "data": {
            "image/png": "[encoded data removed]",
            "text/plain": [
              "<Figure size 720x360 with 1 Axes>"
            ]
          },
          "metadata": {
            "needs_background": "light"
          }
        }
      ]
    },
    {
      "cell_type": "code",
      "metadata": {
        "id": "jJLLqk6Gu2Xw",
        "colab": {
          "base_uri": "https://localhost:8080/",
          "height": 462
        },
        "outputId": "7bc8e934-3406-4a9d-9d99-b6de3579ada8"
      },
      "source": [
        "# Her tilføjer vi lige KDE og rug\n",
        "plt.figure(figsize=(10,5))\n",
        "plt.title('Vægt Pingviner')\n",
        "\n",
        "g = sns.distplot(penguins.body_mass_g, hist = True, kde = True, rug=True, bins=15)\n",
        "\n",
        "g.set(xlabel='Vægt i g')"
      ],
      "execution_count": 34,
      "outputs": [
        {
          "output_type": "stream",
          "name": "stderr",
          "text": [
            "/usr/local/lib/python3.7/dist-packages/seaborn/distributions.py:2557: FutureWarning: `distplot` is a deprecated function and will be removed in a future version. Please adapt your code to use either `displot` (a figure-level function with similar flexibility) or `histplot` (an axes-level function for histograms).\n",
            "  warnings.warn(msg, FutureWarning)\n",
            "/usr/local/lib/python3.7/dist-packages/seaborn/distributions.py:2056: FutureWarning: The `axis` variable is no longer used and will be removed. Instead, assign variables directly to `x` or `y`.\n",
            "  warnings.warn(msg, FutureWarning)\n"
          ]
        },
        {
          "output_type": "execute_result",
          "data": {
            "text/plain": [
              "[Text(0.5, 0, 'Vægt i g')]"
            ]
          },
          "metadata": {},
          "execution_count": 34
        },
        {
          "output_type": "display_data",
          "data": {
            "image/png": "[encoded data removed]",
            "text/plain": [
              "<Figure size 720x360 with 1 Axes>"
            ]
          },
          "metadata": {
            "needs_background": "light"
          }
        }
      ]
    },
    {
      "cell_type": "code",
      "metadata": {
        "id": "y-m9jr0QvHtc",
        "colab": {
          "base_uri": "https://localhost:8080/",
          "height": 671
        },
        "outputId": "0823b0af-29d0-4aed-8aeb-ec0c22d4c052"
      },
      "source": [
        "# Og så kan vi lige lave 3 histogrammer i en plot\n",
        "\n",
        "g = sns.FacetGrid(penguins, hue=\"species_short\", height=7, aspect=1.5)\n",
        "g = g.map(sns.distplot, \"body_mass_g\", bins=20)\n",
        "g.add_legend()\n",
        "plt.title('Vægt pingviner')"
      ],
      "execution_count": 35,
      "outputs": [
        {
          "output_type": "stream",
          "name": "stderr",
          "text": [
            "/usr/local/lib/python3.7/dist-packages/seaborn/distributions.py:2557: FutureWarning: `distplot` is a deprecated function and will be removed in a future version. Please adapt your code to use either `displot` (a figure-level function with similar flexibility) or `histplot` (an axes-level function for histograms).\n",
            "  warnings.warn(msg, FutureWarning)\n",
            "/usr/local/lib/python3.7/dist-packages/seaborn/distributions.py:2557: FutureWarning: `distplot` is a deprecated function and will be removed in a future version. Please adapt your code to use either `displot` (a figure-level function with similar flexibility) or `histplot` (an axes-level function for histograms).\n",
            "  warnings.warn(msg, FutureWarning)\n",
            "/usr/local/lib/python3.7/dist-packages/seaborn/distributions.py:2557: FutureWarning: `distplot` is a deprecated function and will be removed in a future version. Please adapt your code to use either `displot` (a figure-level function with similar flexibility) or `histplot` (an axes-level function for histograms).\n",
            "  warnings.warn(msg, FutureWarning)\n"
          ]
        },
        {
          "output_type": "execute_result",
          "data": {
            "text/plain": [
              "Text(0.5, 1.0, 'Vægt pingviner')"
            ]
          },
          "metadata": {},
          "execution_count": 35
        },
        {
          "output_type": "display_data",
          "data": {
            "image/png": "[encoded data removed]",
            "text/plain": [
              "<Figure size 848.85x504 with 1 Axes>"
            ]
          },
          "metadata": {
            "needs_background": "light"
          }
        }
      ]
    },
    {
      "cell_type": "markdown",
      "metadata": {
        "id": "S8tbUXoW0-IV"
      },
      "source": [
        "## Varians og standard-afvigelse\n",
        "I dette afsnit vil vi kigge nærmere på fordelingen af observationer. I de ovenstående afsnit kunne man gennem, blandt andet, boxplot og swarmplot se, at nogle af observationerne i data havde relativt stor afstand til de resterende punkter. Disse observationer er meget normale i det meste data, og bliver beskrevet som outliers. \n",
        "\n",
        "Selvom gennemsnit ofte kan give et fint indblik i hvordan en variabel fordeler sig, kan outliers have stor påvirkning på et gennemsnit. Spredningen er afgørende for hvor stor *usikkerhed* der er i målene for centrale tendenser, eksempelvis gennemsnit. \n",
        "\n",
        "Her vil i blive præsenteret for **varians** og **standardafvigelse**, to metoder til at vurdere spredning af data. \n",
        "\n",
        "---\n",
        "\n",
        "**Varians** er betegnet som gennemsnittet af de kvadrerede afvigelser fra middelværdien\n"
      ]
    },
    {
      "cell_type": "code",
      "metadata": {
        "id": "pSgSsq0PYsH5",
        "colab": {
          "base_uri": "https://localhost:8080/"
        },
        "outputId": "d6a2bd61-61a4-4b65-9f01-5d2bf0e5e858"
      },
      "source": [
        "# Manuel måde at udregne varians\n",
        "# Note: kun for at vise hvordan det ser ud \"under the hood\". Som i kan se, giver numpy's funktion samme output, og er meget simplere.\n",
        "diff = penguins.body_mass_g-penguins.body_mass_g.mean()\n",
        "diff_sq = diff**2\n",
        "varians_ex = diff_sq.mean()\n",
        "varians_ex"
      ],
      "execution_count": 36,
      "outputs": [
        {
          "output_type": "execute_result",
          "data": {
            "text/plain": [
              "645821.7901771307"
            ]
          },
          "metadata": {},
          "execution_count": 36
        }
      ]
    },
    {
      "cell_type": "code",
      "metadata": {
        "id": "NoTmV-16aFr9",
        "colab": {
          "base_uri": "https://localhost:8080/"
        },
        "outputId": "6651dffb-02e0-4266-dbb3-3b10416914fc"
      },
      "source": [
        "# Med numpy's indbyggede funktion\n",
        "varians_np = np.var(penguins.body_mass_g)\n",
        "varians_np"
      ],
      "execution_count": 37,
      "outputs": [
        {
          "output_type": "execute_result",
          "data": {
            "text/plain": [
              "645821.7901771307"
            ]
          },
          "metadata": {},
          "execution_count": 37
        }
      ]
    },
    {
      "cell_type": "code",
      "metadata": {
        "id": "yerAYGz0FL_c",
        "colab": {
          "base_uri": "https://localhost:8080/",
          "height": 35
        },
        "outputId": "baf2583b-f33e-498e-ece6-a48a900e0256"
      },
      "source": [
        "# OBS: Pandas antager at man arbejder med nøgletal for stikprøve\n",
        "\n",
        "penguins.body_mass_g.var(ddof=0)"
      ],
      "execution_count": null,
      "outputs": [
        {
          "output_type": "execute_result",
          "data": {
            "text/plain": [
              "645821.7901771307"
            ]
          },
          "metadata": {
            "tags": []
          },
          "execution_count": 59
        }
      ]
    },
    {
      "cell_type": "markdown",
      "metadata": {
        "id": "FyPHN4w-izeI"
      },
      "source": [
        "Eftersom variansen viser de kvadrerede afvigelser, bliver tallet i dette tilfælde meget højt. Vi er interesserede i at finde den gennemsnitlige spredning for observationerne i en variabel. Den kan vi finde ved at udregne kvadratroden af variansen, også kendt som standardafvigelsen. \n",
        "**Standardafvigelsen** er altså den gennemsnitlige afstand fra middelværdien i en variabel. "
      ]
    },
    {
      "cell_type": "code",
      "metadata": {
        "id": "qo8FM3wDbWuY",
        "colab": {
          "base_uri": "https://localhost:8080/",
          "height": 35
        },
        "outputId": "9cec24c5-8902-4a24-f3fa-0f3289901451"
      },
      "source": [
        "# Igen er den manuelle udregning medført, for at vise hvad der foregår når i anvender den hurtige løsning fra numpy: np.std()\n",
        "std_ex = np.sqrt(varians_np)\n",
        "print(std_ex)"
      ],
      "execution_count": null,
      "outputs": [
        {
          "output_type": "stream",
          "text": [
            "803.6303815667566\n"
          ],
          "name": "stdout"
        }
      ]
    },
    {
      "cell_type": "code",
      "metadata": {
        "id": "dZe0wVoccGPA",
        "colab": {
          "base_uri": "https://localhost:8080/",
          "height": 35
        },
        "outputId": "b8affba8-7db1-4299-f020-47966357a805"
      },
      "source": [
        "# Numpy's funktion for standardafvigelse\n",
        "# Note: læg mærke til at man kalder den oprindelige variabel i np.std(). man behøver derfor ikke at udregne variansen manuelt når man kun er interesseret i standardafvigelsen til videre analyser. \n",
        "# variansen er inddraget her for at vise den manuelle metode til at udføre de matematiske formler der ligger til grund for de funktioner i anvender i Python/excel\n",
        "std_np = np.std(penguins.body_mass_g)\n",
        "std_np"
      ],
      "execution_count": null,
      "outputs": [
        {
          "output_type": "execute_result",
          "data": {
            "text/plain": [
              "803.6303815667566"
            ]
          },
          "metadata": {
            "tags": []
          },
          "execution_count": 61
        }
      ]
    },
    {
      "cell_type": "code",
      "metadata": {
        "id": "3pigpS8lFl2J",
        "colab": {
          "base_uri": "https://localhost:8080/",
          "height": 35
        },
        "outputId": "3635f15e-850f-4347-d379-a1b5667e4746"
      },
      "source": [
        "# Eller i hverdagsbrug:\n",
        "\n",
        "penguins.body_mass_g.std() #Stikprøve"
      ],
      "execution_count": null,
      "outputs": [
        {
          "output_type": "execute_result",
          "data": {
            "text/plain": [
              "804.836129253923"
            ]
          },
          "metadata": {
            "tags": []
          },
          "execution_count": 62
        }
      ]
    },
    {
      "cell_type": "code",
      "metadata": {
        "id": "Rj_sZVtuFsz2",
        "colab": {
          "base_uri": "https://localhost:8080/",
          "height": 35
        },
        "outputId": "c3e5678e-c47e-4ef5-c06e-0c7544909f8c"
      },
      "source": [
        "penguins.body_mass_g.std(ddof=0)"
      ],
      "execution_count": null,
      "outputs": [
        {
          "output_type": "execute_result",
          "data": {
            "text/plain": [
              "803.6303815667566"
            ]
          },
          "metadata": {
            "tags": []
          },
          "execution_count": 63
        }
      ]
    },
    {
      "cell_type": "markdown",
      "metadata": {
        "id": "636GleX-kngX"
      },
      "source": [
        "#### Øvelse: I ovenstående eksempel lærte vi, at den gennemsnitlige vægtvariation mellem alle pingviner er ca. 800 gram. Find standardafvigelsen for hver af de tre pingvinarter. \n",
        "\n",
        "Hint: groupby er meget alsidig, se hvad der sker hvis man kalder std() i forlængelse af grupperingen. "
      ]
    },
    {
      "cell_type": "code",
      "metadata": {
        "id": "cFbOcVMbLgqA"
      },
      "source": [
        "#muligt svar 1\n",
        "adelie = penguins[penguins.species_short == 'Adelie']"
      ],
      "execution_count": 38,
      "outputs": []
    },
    {
      "cell_type": "code",
      "metadata": {
        "id": "X9jcuoTvLnme",
        "colab": {
          "base_uri": "https://localhost:8080/"
        },
        "outputId": "1727d3aa-8562-4020-cb95-5390147c6b40"
      },
      "source": [
        "adelie.body_mass_g.std(ddof=0)"
      ],
      "execution_count": 39,
      "outputs": [
        {
          "output_type": "execute_result",
          "data": {
            "text/plain": [
              "457.0468191507876"
            ]
          },
          "metadata": {},
          "execution_count": 39
        }
      ]
    },
    {
      "cell_type": "code",
      "metadata": {
        "id": "1dwIEXEFK_s7",
        "colab": {
          "base_uri": "https://localhost:8080/"
        },
        "outputId": "3ce3f958-7f95-41a7-beb5-18e4fb00ddbc"
      },
      "source": [
        "# bedste svar/ hurtigste. \n",
        "# note ddof er degrees of freedom. Svar med default ddof(1) bliver også accepteret\n",
        "penguins.groupby('species_short').body_mass_g.std(ddof=0)"
      ],
      "execution_count": 40,
      "outputs": [
        {
          "output_type": "execute_result",
          "data": {
            "text/plain": [
              "species_short\n",
              "Adelie       457.046819\n",
              "Chinstrap    381.498621\n",
              "Gentoo       497.672316\n",
              "Name: body_mass_g, dtype: float64"
            ]
          },
          "metadata": {},
          "execution_count": 40
        }
      ]
    },
    {
      "cell_type": "markdown",
      "metadata": {
        "id": "I240cIYZK4jb"
      },
      "source": [
        "## Øvelse!\n",
        "\n",
        "Går tilbage til kickstarter data og bruge standardafvigelsen som værktøj til at argumentere følgende:\n",
        "\n",
        "Lav et subset uden outliers til højre (kun store værdier), hvor betingelsen er: outlier >= Q3 + 1.5*IQR.\n",
        "\n",
        "Herfra:\n",
        "\n",
        "Comics, design, music og games er de projektkategorier, hvor vi kan se den største mangfoldighed mht beløb, som bliver pledged (usd_pledged_real).\n",
        "\n",
        "Design, journalism og food er dog i toppen, hvis vi kun ser på projekter, som kommer igennem."
      ]
    }
  ]
}