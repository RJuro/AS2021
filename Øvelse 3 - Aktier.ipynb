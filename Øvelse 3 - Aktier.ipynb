{
 "cells": [
  {
   "cell_type": "markdown",
   "id": "a233ee22",
   "metadata": {},
   "source": [
    "# Øvelse 3 - Aktier"
   ]
  },
  {
   "cell_type": "markdown",
   "id": "b692a7dc",
   "metadata": {},
   "source": [
    "I denne øvelse vil vi komme til at arbejde primært med varians, kovarians og korrelation. Disse er mål for hvordan variable bevæger sig. Varians fortæller os noget om hvordan en variabel svinger/ varierer. Kovarians og korrelation fortæller os noget om hvordan to variable bevæger sig i forhold til hinanden."
   ]
  },
  {
   "cell_type": "code",
   "execution_count": null,
   "id": "6c64aed7",
   "metadata": {},
   "outputs": [],
   "source": [
    "# Vi importerer de nødvendige libraries.\n",
    "import pandas as pd # pandas for at arbejde med data.\n",
    "import numpy as np # numpy for at lave udregninger.\n",
    "import matplotlib.pyplot as plt # matplotlib.pyplot for at styre vores plots.\n",
    "import seaborn as sns # seaborn for at lave plots.\n",
    "\n",
    "sns.set()"
   ]
  },
  {
   "cell_type": "code",
   "execution_count": null,
   "id": "3a26925f",
   "metadata": {},
   "outputs": [],
   "source": [
    "# Vi importerer vores aktiedata\n",
    "data = pd.read_csv('https://raw.githubusercontent.com/STLinde/Anvendt-Statistik/main/data.csv')\n",
    "df = pd.DataFrame(data)"
   ]
  },
  {
   "cell_type": "markdown",
   "id": "06b69025",
   "metadata": {},
   "source": [
    "## 1: Overblik, Indledende Data Analyse"
   ]
  },
  {
   "cell_type": "markdown",
   "id": "57442808",
   "metadata": {
    "id": "57442808"
   },
   "source": [
    "**NB: Skriv besvarelser og forklaringer på spørgsmålene i tekstboksene under hvert spørgsmål, efter i har skrevet den påkrævede kode og kørt den.**"
   ]
  },
  {
   "cell_type": "markdown",
   "id": "77dbe257",
   "metadata": {
    "id": "77dbe257"
   },
   "source": [
    "Når man begynder at arbejde med ny data, så er det altid en god idé at skabe sig et overblik over dataen, for at vide hvad man arbejder med. I Øvelse 1 så vi hvordan man kan bruge `head()` og `info()` til at skabe sig et overblik."
   ]
  },
  {
   "cell_type": "code",
   "execution_count": null,
   "id": "5b2ed0e2",
   "metadata": {},
   "outputs": [],
   "source": [
    "# 1.1 Hvordan ser de første 5 rækker ud i dataen?\n",
    "# 1.2: Hvilke aktier arbejder vi med?\n"
   ]
  },
  {
   "cell_type": "markdown",
   "id": "24bde03c",
   "metadata": {},
   "source": [
    "*1.1 SVAR:*"
   ]
  },
  {
   "cell_type": "markdown",
   "id": "c991b6b7",
   "metadata": {},
   "source": [
    "*1.2 SVAR:*"
   ]
  },
  {
   "cell_type": "code",
   "execution_count": null,
   "id": "048284c7",
   "metadata": {},
   "outputs": [],
   "source": [
    "# 1.3: Hvilke datatyper indeholder dataen?\n",
    "# 1.4: Mangler der noget data?\n"
   ]
  },
  {
   "cell_type": "markdown",
   "id": "1ad1f483",
   "metadata": {},
   "source": [
    "*1.3 SVAR:*"
   ]
  },
  {
   "cell_type": "markdown",
   "id": "cb602a11",
   "metadata": {},
   "source": [
    "*1.4 SVAR:*"
   ]
  },
  {
   "cell_type": "markdown",
   "id": "8d7ff3de",
   "metadata": {},
   "source": [
    "Vi kan omdanne kolonnen date til datatypen datetime ved at bruge funktionen `pd.to_datetime()`"
   ]
  },
  {
   "cell_type": "code",
   "execution_count": null,
   "id": "da4849ee",
   "metadata": {},
   "outputs": [],
   "source": [
    "# 1.5 Konverter 'Date' kolonnen til datetime datatype:\n",
    "df['date'] = "
   ]
  },
  {
   "cell_type": "markdown",
   "id": "085107b8",
   "metadata": {},
   "source": [
    "Vi kan bruge funktionen `pd.set_index()` til at bruge en kolonne som index."
   ]
  },
  {
   "cell_type": "code",
   "execution_count": null,
   "id": "7f2fa961",
   "metadata": {
    "scrolled": false
   },
   "outputs": [],
   "source": [
    "# 1.6: Brug 'Date' kolonnen som index for vores DataFrame:\n"
   ]
  },
  {
   "cell_type": "markdown",
   "id": "31bffb61",
   "metadata": {},
   "source": [
    "*1.7: Hvad er den første og sidste dato i vores DataFrame? SVAR:*"
   ]
  },
  {
   "cell_type": "markdown",
   "id": "480d7397",
   "metadata": {},
   "source": [
    "## 2: Varians, Kovarians, Korrelation"
   ]
  },
  {
   "cell_type": "markdown",
   "id": "fa272ef5",
   "metadata": {},
   "source": [
    "I dette afsnit kommer vi til kort at genbesøge varians, og derefter går vi over i udregningen af kovarians og korrelation. "
   ]
  },
  {
   "cell_type": "code",
   "execution_count": null,
   "id": "6d8e9a25",
   "metadata": {},
   "outputs": [],
   "source": [
    "# 2.1: Udregn variansen for aktierne i datasættet. \n"
   ]
  },
  {
   "cell_type": "code",
   "execution_count": null,
   "id": "c97cf849",
   "metadata": {},
   "outputs": [],
   "source": [
    "# 2.2: Udregn standardafvigelsen for aktierne i datasættet.\n"
   ]
  },
  {
   "cell_type": "markdown",
   "id": "188f8d95",
   "metadata": {},
   "source": [
    "Kovarians er et mål for hvor meget og hvordan to variable svinger sammen. Det vil sige covarians giver os et mål for hvordan en variabel bevæger sig når den anden variabel bevæger sig. "
   ]
  },
  {
   "cell_type": "code",
   "execution_count": null,
   "id": "5fb55e87",
   "metadata": {
    "scrolled": false
   },
   "outputs": [],
   "source": [
    "# 2.3: Lav et scatterplot med APPL som X-akse og MSFT som Y-akse:\n",
    "plt.figure(figsize=(10,10))\n"
   ]
  },
  {
   "cell_type": "markdown",
   "id": "5cc23b8f",
   "metadata": {},
   "source": [
    "*2.4: Hvad fortæller ovenstående plot os omkring forholdet mellem Apple aktier og Microsoft aktier? SVAR:*"
   ]
  },
  {
   "cell_type": "code",
   "execution_count": null,
   "id": "e5c55bf9",
   "metadata": {},
   "outputs": [],
   "source": [
    "# 2.5: Lav et scatterplot af AAPL på X-aksen og WFC på Y-aksen:\n",
    "plt.figure(figsize=(10,10))\n",
    "\n"
   ]
  },
  {
   "cell_type": "markdown",
   "id": "3dc1d892",
   "metadata": {},
   "source": [
    "*2.6: Hvad fortæller ovenstående plot os omkring forholdet mellem Apple aktier og Wells Fargo aktier? SVAR:*"
   ]
  },
  {
   "cell_type": "markdown",
   "id": "2e995053",
   "metadata": {},
   "source": [
    "Kovarians udregnes næsten på samme måde som varians. Den eneste forskel er at i stedet for at sætte differencen vi udregnede i anden potens, ganges differencen for den ene variabel med differencen for den anden variabel:\n",
    "$$cov_{x,y} = \\frac{1}{n} * ((x_1 -\\bar{x})(y_1 - \\bar{y}) + ... + (x_i - \\bar{x})(y_i - \\bar{y})) = \\sum_{i=1}^{n} (x_i -\\bar{x})(y_i-\\bar{y})$$\n",
    "\n",
    "Her er $n$ antallet af observationer, $\\bar{x}$ gennemsnittet af x og $\\bar{y}$ gennemsnittet af y.\n",
    "\n",
    "Vi kan bruge numpy eller pandas til at udregne kovariansen mellem to aktier i vores datasæt:\n",
    "\n",
    "`np.cov(aktie1, aktie2)`\n",
    "`df[[aktie1, aktie2]].cov()`"
   ]
  },
  {
   "cell_type": "code",
   "execution_count": null,
   "id": "e2d2a5b1",
   "metadata": {},
   "outputs": [],
   "source": [
    "# 2.7: Udregn kovariansen mellem AAPL og WFC vha. pandas:\n"
   ]
  },
  {
   "cell_type": "code",
   "execution_count": null,
   "id": "748b5591",
   "metadata": {},
   "outputs": [],
   "source": [
    "# 2.8: Udregn kovariansen mellem AAPL og MSFT vha. numpy:\n"
   ]
  },
  {
   "cell_type": "markdown",
   "id": "ef9dec7e",
   "metadata": {},
   "source": [
    "Kovariansen kan også udregnes i pandas uden, at returnere en kovarians matrix:\n",
    "`df[aktie1].cov(df[aktie2])`"
   ]
  },
  {
   "cell_type": "code",
   "execution_count": null,
   "id": "575c0b04",
   "metadata": {},
   "outputs": [],
   "source": [
    "# 2.9: Udregn kovariansen mellem AAPL og GOOG.\n"
   ]
  },
  {
   "cell_type": "markdown",
   "id": "35e39a1d",
   "metadata": {},
   "source": [
    "Kovariansen er ikke nem at fortolke som den er her. Derfor bruger man ofte korrelation (Pearson's R) til at skabe et mål for hvordan to variable bevæger sig i forhold til hinanden. Korrelationskoefficienten vil altid være mellem -1 og 1. Når korrelationen mellem to variable er tæt på 1 vil de bevæge sig med hinanden, dvs. i vores aktieeksempel vil de to aktier man udregner det for vil den begge gå op og ned på samme tid. Hvis korrelationen mellem to variable er tæt på -1 vil de bevæge sig modsat hinanden, dvs. i vores eksempel vil den ene aktiepris falde når den anden aktiepris stiger. "
   ]
  },
  {
   "cell_type": "markdown",
   "id": "da392d78",
   "metadata": {},
   "source": [
    "Korrelationen udregnes ved at dividere kovariansen med produktet mellem variansen for de to variable. Korrelationen er typisk betegnet med det græske bogstav rho $\\rho$:\n",
    "$$\\rho_{x,y} = \\frac{cov_{x,y}}{\\sigma_x*\\sigma_y}$$"
   ]
  },
  {
   "cell_type": "markdown",
   "id": "914e84f2",
   "metadata": {},
   "source": [
    "Vi kan bruge `df.corr()` til at udregne samtlige korrelationer mellem numeriske variable i et datasæt."
   ]
  },
  {
   "cell_type": "markdown",
   "id": "71d7f8a7",
   "metadata": {},
   "source": [
    "Vi kan ligesom med kovariansen bruge `df[aktie1].corr(df[aktie2])` til at udregne korrelationen mellem to variable."
   ]
  },
  {
   "cell_type": "code",
   "execution_count": null,
   "id": "1288f951",
   "metadata": {},
   "outputs": [],
   "source": [
    "# 2.10: Udregn korrelationen mellem AAPL og MSFT:\n"
   ]
  },
  {
   "cell_type": "code",
   "execution_count": null,
   "id": "85216a08",
   "metadata": {},
   "outputs": [],
   "source": [
    "# 2.11: Udregn korrelationkoefficienterne for alle aktier i datasættet:\n"
   ]
  },
  {
   "cell_type": "markdown",
   "id": "62860f02",
   "metadata": {},
   "source": [
    "*2.12: Hvad fortæller de ovenstående korrelationer os omkring forholdet mellem aktierne (tag udgangspunkt i et par stykker)? SVAR:*"
   ]
  },
  {
   "cell_type": "markdown",
   "id": "def0885a",
   "metadata": {},
   "source": [
    "## 3 - Visualiseringer"
   ]
  },
  {
   "cell_type": "code",
   "execution_count": null,
   "id": "9e7ddef8",
   "metadata": {},
   "outputs": [],
   "source": [
    "# 3.1: Lav lineplots med TSLA, WFC, og AAPL som y-værdier og datoen som x-akse (husk at det er indexet der holder datoen).\n",
    "# For at lave flere lineplots i en, så skriver i sns.lineplot(x=df.index, y=df.aktie1) flere gange.\n",
    "# Brug parametret 'label='TSLA' for Tesla aktien når i definerer lineplottet for Tesla. Gør det samme for de andre aktier. \n"
   ]
  },
  {
   "cell_type": "markdown",
   "id": "f6bfee03",
   "metadata": {},
   "source": [
    "Som det kan ses er det svære at udlede noget af grafen derfor plotter man tit afkastet i stedet. Afkastet på flg. måde:\n",
    "$$ \\frac{x_1 - x_0}{x_0}$$"
   ]
  },
  {
   "cell_type": "code",
   "execution_count": null,
   "id": "8898a40d",
   "metadata": {},
   "outputs": [],
   "source": [
    "# 3.2: Udregn afkastet for WFC og AAPL og gem dem i variablerne:\n",
    "# Følg TSLA eksemplet:\n",
    "tsla_return = (df['TSLA'] - df['TSLA'].shift(-1))/df['TSLA'].shift(-1)\n",
    "wfc_return = \n",
    "aapl_return = "
   ]
  },
  {
   "cell_type": "code",
   "execution_count": null,
   "id": "d387c023",
   "metadata": {},
   "outputs": [],
   "source": [
    "# 3.2: Lav lineplots med tsla_return, wfc_return, og aapl_return som y-værdier og datoen som x-akse.\n"
   ]
  },
  {
   "cell_type": "markdown",
   "id": "43fe8bd5",
   "metadata": {},
   "source": [
    "*3.3: Hvad kan vi se ud fra ovenstående plots? SVAR:*"
   ]
  },
  {
   "cell_type": "markdown",
   "id": "fc6fbf4a",
   "metadata": {},
   "source": [
    "Vi kan lave vores DataFrame om til at være på månedsbasis ved at bruge funktionen `df.resample('M).mean()'."
   ]
  },
  {
   "cell_type": "code",
   "execution_count": null,
   "id": "c2f883a7",
   "metadata": {},
   "outputs": [],
   "source": [
    "# Vi laver en ny DataFrame med måneds data: \n",
    "df_month = df.resample('M').mean()\n",
    "df_month.head()"
   ]
  },
  {
   "cell_type": "code",
   "execution_count": null,
   "id": "40bc0ac7",
   "metadata": {},
   "outputs": [],
   "source": [
    "# 3.4: Udregn afkastet for TSLA, WFC og AAPL på baggrund af df_month og gem dem i variablene:\n",
    "tsla_return_month = (df_month['TSLA'] - df_month['TSLA'].shift(-1))/df_month['TSLA'].shift(-1)\n",
    "wfc_return_month =\n",
    "aapl_return_month = "
   ]
  },
  {
   "cell_type": "code",
   "execution_count": null,
   "id": "c72f4195",
   "metadata": {},
   "outputs": [],
   "source": [
    "# 3.5: Lav lineplots med tsla_return_month, wfc_return_month, og aapl_return_month som y-værdier og datoen som x-akse.\n",
    "# Husk at bruge den nye DataFrame\n"
   ]
  }
 ],
 "metadata": {
  "kernelspec": {
   "display_name": "Python 3 (ipykernel)",
   "language": "python",
   "name": "python3"
  },
  "language_info": {
   "codemirror_mode": {
    "name": "ipython",
    "version": 3
   },
   "file_extension": ".py",
   "mimetype": "text/x-python",
   "name": "python",
   "nbconvert_exporter": "python",
   "pygments_lexer": "ipython3",
   "version": "3.9.7"
  }
 },
 "nbformat": 4,
 "nbformat_minor": 5
}
