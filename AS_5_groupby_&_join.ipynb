{
  "nbformat": 4,
  "nbformat_minor": 0,
  "metadata": {
    "colab": {
      "name": "AS 5: groupby & join.ipynb",
      "provenance": [],
      "authorship_tag": "ABX9TyNi8E5d6rkK6FXnUgu2AqXT",
      "include_colab_link": true
    },
    "kernelspec": {
      "name": "python3",
      "display_name": "Python 3"
    }
  },
  "cells": [
    {
      "cell_type": "markdown",
      "metadata": {
        "id": "view-in-github",
        "colab_type": "text"
      },
      "source": [
        "<a href=\"https://colab.research.google.com/github/RJuro/AS2021/blob/main/AS_5_groupby_%26_join.ipynb\" target=\"_parent\"><img src=\"https://colab.research.google.com/assets/colab-badge.svg\" alt=\"Open In Colab\"/></a>"
      ]
    },
    {
      "cell_type": "markdown",
      "metadata": {
        "id": "ZNRPlP26uLIK"
      },
      "source": [
        "# Groupby & Join (merge)\n",
        "\n",
        "I denne tutorial arbejder vi med **MovieLens 100k data** for at se på nogle datamanipulerings teknikker\n",
        "tutorial udvider en opgave lavet af Kevin Markham som kan findes her: https://github.com/justmarkham/pandas-videos/blob/master/pandas_merge.ipynb\n",
        "\n",
        "\n",
        "Vores opgave er at beregne den gennemsnitlige bedømmelse samt antallet af bedømmelser for en film og tilføje disse oplysninger til en film-dataframe\n"
      ]
    },
    {
      "cell_type": "code",
      "metadata": {
        "id": "Fry_KQ-7v4m4"
      },
      "source": [
        "# Vi bruger kun pandas her\n",
        "import pandas as pd"
      ],
      "execution_count": null,
      "outputs": []
    },
    {
      "cell_type": "code",
      "metadata": {
        "id": "BNoB_R5RuPzn"
      },
      "source": [
        "# Definere webadresser med data (husk, du kan altid uploade/åbne data lokalt)\n",
        "movies_url= \"https://raw.githubusercontent.com/justmarkham/pandas-videos/master/data/u.item\"\n",
        "ratings_url = \"https://github.com/justmarkham/pandas-videos/raw/master/data/u.data\""
      ],
      "execution_count": null,
      "outputs": []
    },
    {
      "cell_type": "code",
      "metadata": {
        "id": "3tVM1BFPvGbJ",
        "colab": {
          "base_uri": "https://localhost:8080/",
          "height": 195
        },
        "outputId": "df6ef9b4-8dd1-456b-9fe6-0fab5383d46f"
      },
      "source": [
        "# åbne film\n",
        "\n",
        "movie_cols = ['movie_id', 'title']\n",
        "movies = pd.read_table(movies_url, sep='|', header=None, names=movie_cols, usecols=[0, 1])\n",
        "movies.head()"
      ],
      "execution_count": null,
      "outputs": [
        {
          "output_type": "execute_result",
          "data": {
            "text/html": [
              "<div>\n",
              "<style scoped>\n",
              "    .dataframe tbody tr th:only-of-type {\n",
              "        vertical-align: middle;\n",
              "    }\n",
              "\n",
              "    .dataframe tbody tr th {\n",
              "        vertical-align: top;\n",
              "    }\n",
              "\n",
              "    .dataframe thead th {\n",
              "        text-align: right;\n",
              "    }\n",
              "</style>\n",
              "<table border=\"1\" class=\"dataframe\">\n",
              "  <thead>\n",
              "    <tr style=\"text-align: right;\">\n",
              "      <th></th>\n",
              "      <th>movie_id</th>\n",
              "      <th>title</th>\n",
              "    </tr>\n",
              "  </thead>\n",
              "  <tbody>\n",
              "    <tr>\n",
              "      <th>0</th>\n",
              "      <td>1</td>\n",
              "      <td>Toy Story (1995)</td>\n",
              "    </tr>\n",
              "    <tr>\n",
              "      <th>1</th>\n",
              "      <td>2</td>\n",
              "      <td>GoldenEye (1995)</td>\n",
              "    </tr>\n",
              "    <tr>\n",
              "      <th>2</th>\n",
              "      <td>3</td>\n",
              "      <td>Four Rooms (1995)</td>\n",
              "    </tr>\n",
              "    <tr>\n",
              "      <th>3</th>\n",
              "      <td>4</td>\n",
              "      <td>Get Shorty (1995)</td>\n",
              "    </tr>\n",
              "    <tr>\n",
              "      <th>4</th>\n",
              "      <td>5</td>\n",
              "      <td>Copycat (1995)</td>\n",
              "    </tr>\n",
              "  </tbody>\n",
              "</table>\n",
              "</div>"
            ],
            "text/plain": [
              "   movie_id              title\n",
              "0         1   Toy Story (1995)\n",
              "1         2   GoldenEye (1995)\n",
              "2         3  Four Rooms (1995)\n",
              "3         4  Get Shorty (1995)\n",
              "4         5     Copycat (1995)"
            ]
          },
          "metadata": {
            "tags": []
          },
          "execution_count": 29
        }
      ]
    },
    {
      "cell_type": "markdown",
      "metadata": {
        "id": "ok0b18zUx6Cl"
      },
      "source": [
        "Som du kan se har vi her et tildalde af en CSV fil, som ikke har headers (1. række med navne på kolonner) og | som symbol, der adskiller kolonner.\n",
        "Pandas giver os mulighed at indlæse filen men vi skal være eksplicite omkring disse specielle egenskaber af CSVen"
      ]
    },
    {
      "cell_type": "code",
      "metadata": {
        "id": "D83SZSaJv-rM",
        "colab": {
          "base_uri": "https://localhost:8080/",
          "height": 34
        },
        "outputId": "e536a759-e673-4fed-9a4d-b18ef6c3dfa9"
      },
      "source": [
        "# Hvor mange 'unikke' film er der\n",
        "movies.movie_id.nunique()"
      ],
      "execution_count": null,
      "outputs": [
        {
          "output_type": "execute_result",
          "data": {
            "text/plain": [
              "1682"
            ]
          },
          "metadata": {
            "tags": []
          },
          "execution_count": 30
        }
      ]
    },
    {
      "cell_type": "code",
      "metadata": {
        "id": "hIYbSqFoveKJ",
        "colab": {
          "base_uri": "https://localhost:8080/",
          "height": 195
        },
        "outputId": "08fba201-feb5-4a9d-863e-de7955eeef8b"
      },
      "source": [
        "# Vi åbner ratings\n",
        "\n",
        "rating_cols = ['user_id', 'movie_id', 'rating', 'timestamp']\n",
        "ratings = pd.read_table(ratings_url, sep='\\t', header=None, names=rating_cols)\n",
        "ratings.head()"
      ],
      "execution_count": null,
      "outputs": [
        {
          "output_type": "execute_result",
          "data": {
            "text/html": [
              "<div>\n",
              "<style scoped>\n",
              "    .dataframe tbody tr th:only-of-type {\n",
              "        vertical-align: middle;\n",
              "    }\n",
              "\n",
              "    .dataframe tbody tr th {\n",
              "        vertical-align: top;\n",
              "    }\n",
              "\n",
              "    .dataframe thead th {\n",
              "        text-align: right;\n",
              "    }\n",
              "</style>\n",
              "<table border=\"1\" class=\"dataframe\">\n",
              "  <thead>\n",
              "    <tr style=\"text-align: right;\">\n",
              "      <th></th>\n",
              "      <th>user_id</th>\n",
              "      <th>movie_id</th>\n",
              "      <th>rating</th>\n",
              "      <th>timestamp</th>\n",
              "    </tr>\n",
              "  </thead>\n",
              "  <tbody>\n",
              "    <tr>\n",
              "      <th>0</th>\n",
              "      <td>196</td>\n",
              "      <td>242</td>\n",
              "      <td>3</td>\n",
              "      <td>881250949</td>\n",
              "    </tr>\n",
              "    <tr>\n",
              "      <th>1</th>\n",
              "      <td>186</td>\n",
              "      <td>302</td>\n",
              "      <td>3</td>\n",
              "      <td>891717742</td>\n",
              "    </tr>\n",
              "    <tr>\n",
              "      <th>2</th>\n",
              "      <td>22</td>\n",
              "      <td>377</td>\n",
              "      <td>1</td>\n",
              "      <td>878887116</td>\n",
              "    </tr>\n",
              "    <tr>\n",
              "      <th>3</th>\n",
              "      <td>244</td>\n",
              "      <td>51</td>\n",
              "      <td>2</td>\n",
              "      <td>880606923</td>\n",
              "    </tr>\n",
              "    <tr>\n",
              "      <th>4</th>\n",
              "      <td>166</td>\n",
              "      <td>346</td>\n",
              "      <td>1</td>\n",
              "      <td>886397596</td>\n",
              "    </tr>\n",
              "  </tbody>\n",
              "</table>\n",
              "</div>"
            ],
            "text/plain": [
              "   user_id  movie_id  rating  timestamp\n",
              "0      196       242       3  881250949\n",
              "1      186       302       3  891717742\n",
              "2       22       377       1  878887116\n",
              "3      244        51       2  880606923\n",
              "4      166       346       1  886397596"
            ]
          },
          "metadata": {
            "tags": []
          },
          "execution_count": 31
        }
      ]
    },
    {
      "cell_type": "code",
      "metadata": {
        "id": "oF_ROiG2v6vV",
        "colab": {
          "base_uri": "https://localhost:8080/",
          "height": 34
        },
        "outputId": "f06137dd-52ae-469a-cb75-e3dddbf9bf6f"
      },
      "source": [
        "# hvor mange unikke film-id er der? burde være lige så mange som der er film!\n",
        "\n",
        "movies.movie_id.nunique()"
      ],
      "execution_count": null,
      "outputs": [
        {
          "output_type": "execute_result",
          "data": {
            "text/plain": [
              "1682"
            ]
          },
          "metadata": {
            "tags": []
          },
          "execution_count": 32
        }
      ]
    },
    {
      "cell_type": "code",
      "metadata": {
        "id": "wpZUfn3awLjP",
        "colab": {
          "base_uri": "https://localhost:8080/",
          "height": 134
        },
        "outputId": "f9a89945-8692-477d-d692-7af4e72bf6c2"
      },
      "source": [
        "# oprette Series med gennemsnitlige filmbedømmelser\n",
        "\n",
        "avg_ratings_series = ratings.groupby(by='movie_id')['rating'].mean()\n",
        "\n",
        "avg_ratings_series.head()"
      ],
      "execution_count": null,
      "outputs": [
        {
          "output_type": "execute_result",
          "data": {
            "text/plain": [
              "movie_id\n",
              "1    3.878319\n",
              "2    3.206107\n",
              "3    3.033333\n",
              "4    3.550239\n",
              "5    3.302326\n",
              "Name: rating, dtype: float64"
            ]
          },
          "metadata": {
            "tags": []
          },
          "execution_count": 33
        }
      ]
    },
    {
      "cell_type": "code",
      "metadata": {
        "id": "M1GnFB1p4EYf",
        "colab": {
          "base_uri": "https://localhost:8080/",
          "height": 134
        },
        "outputId": "7cfea84c-cf6d-4535-c6c2-211ca1acebf1"
      },
      "source": [
        "# oprette Series med det antal ratings en film har modtaget\n",
        "n_ratings_series = ratings.groupby(by='movie_id')['rating'].size()\n",
        "\n",
        "n_ratings_series.name = 'n_ratings'\n",
        "\n",
        "n_ratings_series.head()"
      ],
      "execution_count": null,
      "outputs": [
        {
          "output_type": "execute_result",
          "data": {
            "text/plain": [
              "movie_id\n",
              "1    452\n",
              "2    131\n",
              "3     90\n",
              "4    209\n",
              "5     86\n",
              "Name: n_ratings, dtype: int64"
            ]
          },
          "metadata": {
            "tags": []
          },
          "execution_count": 34
        }
      ]
    },
    {
      "cell_type": "code",
      "metadata": {
        "id": "oTx5tfim4cpo",
        "colab": {
          "base_uri": "https://localhost:8080/",
          "height": 195
        },
        "outputId": "dceac15c-de2c-4e55-b05c-b01fa3ca9f40"
      },
      "source": [
        "# Merge de gennemsnitlige bedømmelser sammen med movies dataframe\n",
        "\n",
        "movies_extended = pd.merge(movies, avg_ratings_series, left_on='movie_id', right_index=True)\n",
        "\n",
        "movies_extended.head()"
      ],
      "execution_count": null,
      "outputs": [
        {
          "output_type": "execute_result",
          "data": {
            "text/html": [
              "<div>\n",
              "<style scoped>\n",
              "    .dataframe tbody tr th:only-of-type {\n",
              "        vertical-align: middle;\n",
              "    }\n",
              "\n",
              "    .dataframe tbody tr th {\n",
              "        vertical-align: top;\n",
              "    }\n",
              "\n",
              "    .dataframe thead th {\n",
              "        text-align: right;\n",
              "    }\n",
              "</style>\n",
              "<table border=\"1\" class=\"dataframe\">\n",
              "  <thead>\n",
              "    <tr style=\"text-align: right;\">\n",
              "      <th></th>\n",
              "      <th>movie_id</th>\n",
              "      <th>title</th>\n",
              "      <th>rating</th>\n",
              "    </tr>\n",
              "  </thead>\n",
              "  <tbody>\n",
              "    <tr>\n",
              "      <th>0</th>\n",
              "      <td>1</td>\n",
              "      <td>Toy Story (1995)</td>\n",
              "      <td>3.878319</td>\n",
              "    </tr>\n",
              "    <tr>\n",
              "      <th>1</th>\n",
              "      <td>2</td>\n",
              "      <td>GoldenEye (1995)</td>\n",
              "      <td>3.206107</td>\n",
              "    </tr>\n",
              "    <tr>\n",
              "      <th>2</th>\n",
              "      <td>3</td>\n",
              "      <td>Four Rooms (1995)</td>\n",
              "      <td>3.033333</td>\n",
              "    </tr>\n",
              "    <tr>\n",
              "      <th>3</th>\n",
              "      <td>4</td>\n",
              "      <td>Get Shorty (1995)</td>\n",
              "      <td>3.550239</td>\n",
              "    </tr>\n",
              "    <tr>\n",
              "      <th>4</th>\n",
              "      <td>5</td>\n",
              "      <td>Copycat (1995)</td>\n",
              "      <td>3.302326</td>\n",
              "    </tr>\n",
              "  </tbody>\n",
              "</table>\n",
              "</div>"
            ],
            "text/plain": [
              "   movie_id              title    rating\n",
              "0         1   Toy Story (1995)  3.878319\n",
              "1         2   GoldenEye (1995)  3.206107\n",
              "2         3  Four Rooms (1995)  3.033333\n",
              "3         4  Get Shorty (1995)  3.550239\n",
              "4         5     Copycat (1995)  3.302326"
            ]
          },
          "metadata": {
            "tags": []
          },
          "execution_count": 35
        }
      ]
    },
    {
      "cell_type": "code",
      "metadata": {
        "id": "J1_-BbKD5mjN",
        "colab": {
          "base_uri": "https://localhost:8080/",
          "height": 195
        },
        "outputId": "a56f9a09-aa7b-4dd1-d0f4-5f627c75eaab"
      },
      "source": [
        "# Merge antallet af ratings til movies_extended dataframe\n",
        "\n",
        "movies_extended = pd.merge(movies_extended, n_ratings_series, left_on='movie_id', right_index=True)\n",
        "\n",
        "movies_extended.head()"
      ],
      "execution_count": null,
      "outputs": [
        {
          "output_type": "execute_result",
          "data": {
            "text/html": [
              "<div>\n",
              "<style scoped>\n",
              "    .dataframe tbody tr th:only-of-type {\n",
              "        vertical-align: middle;\n",
              "    }\n",
              "\n",
              "    .dataframe tbody tr th {\n",
              "        vertical-align: top;\n",
              "    }\n",
              "\n",
              "    .dataframe thead th {\n",
              "        text-align: right;\n",
              "    }\n",
              "</style>\n",
              "<table border=\"1\" class=\"dataframe\">\n",
              "  <thead>\n",
              "    <tr style=\"text-align: right;\">\n",
              "      <th></th>\n",
              "      <th>movie_id</th>\n",
              "      <th>title</th>\n",
              "      <th>rating</th>\n",
              "      <th>n_ratings</th>\n",
              "    </tr>\n",
              "  </thead>\n",
              "  <tbody>\n",
              "    <tr>\n",
              "      <th>0</th>\n",
              "      <td>1</td>\n",
              "      <td>Toy Story (1995)</td>\n",
              "      <td>3.878319</td>\n",
              "      <td>452</td>\n",
              "    </tr>\n",
              "    <tr>\n",
              "      <th>1</th>\n",
              "      <td>2</td>\n",
              "      <td>GoldenEye (1995)</td>\n",
              "      <td>3.206107</td>\n",
              "      <td>131</td>\n",
              "    </tr>\n",
              "    <tr>\n",
              "      <th>2</th>\n",
              "      <td>3</td>\n",
              "      <td>Four Rooms (1995)</td>\n",
              "      <td>3.033333</td>\n",
              "      <td>90</td>\n",
              "    </tr>\n",
              "    <tr>\n",
              "      <th>3</th>\n",
              "      <td>4</td>\n",
              "      <td>Get Shorty (1995)</td>\n",
              "      <td>3.550239</td>\n",
              "      <td>209</td>\n",
              "    </tr>\n",
              "    <tr>\n",
              "      <th>4</th>\n",
              "      <td>5</td>\n",
              "      <td>Copycat (1995)</td>\n",
              "      <td>3.302326</td>\n",
              "      <td>86</td>\n",
              "    </tr>\n",
              "  </tbody>\n",
              "</table>\n",
              "</div>"
            ],
            "text/plain": [
              "   movie_id              title    rating  n_ratings\n",
              "0         1   Toy Story (1995)  3.878319        452\n",
              "1         2   GoldenEye (1995)  3.206107        131\n",
              "2         3  Four Rooms (1995)  3.033333         90\n",
              "3         4  Get Shorty (1995)  3.550239        209\n",
              "4         5     Copycat (1995)  3.302326         86"
            ]
          },
          "metadata": {
            "tags": []
          },
          "execution_count": 36
        }
      ]
    },
    {
      "cell_type": "code",
      "metadata": {
        "id": "ResJ7FqA6rjn",
        "colab": {
          "base_uri": "https://localhost:8080/",
          "height": 402
        },
        "outputId": "66500796-821a-4989-88f7-4bf1ab6d933d"
      },
      "source": [
        "# Hvad er filmen med den højeste gennemsnitlige bedømmelse?\n",
        "\n",
        "movies_extended.sort_values(by='rating', ascending=False)"
      ],
      "execution_count": null,
      "outputs": [
        {
          "output_type": "execute_result",
          "data": {
            "text/html": [
              "<div>\n",
              "<style scoped>\n",
              "    .dataframe tbody tr th:only-of-type {\n",
              "        vertical-align: middle;\n",
              "    }\n",
              "\n",
              "    .dataframe tbody tr th {\n",
              "        vertical-align: top;\n",
              "    }\n",
              "\n",
              "    .dataframe thead th {\n",
              "        text-align: right;\n",
              "    }\n",
              "</style>\n",
              "<table border=\"1\" class=\"dataframe\">\n",
              "  <thead>\n",
              "    <tr style=\"text-align: right;\">\n",
              "      <th></th>\n",
              "      <th>movie_id</th>\n",
              "      <th>title</th>\n",
              "      <th>rating</th>\n",
              "      <th>n_ratings</th>\n",
              "    </tr>\n",
              "  </thead>\n",
              "  <tbody>\n",
              "    <tr>\n",
              "      <th>813</th>\n",
              "      <td>814</td>\n",
              "      <td>Great Day in Harlem, A (1994)</td>\n",
              "      <td>5.0</td>\n",
              "      <td>1</td>\n",
              "    </tr>\n",
              "    <tr>\n",
              "      <th>1598</th>\n",
              "      <td>1599</td>\n",
              "      <td>Someone Else's America (1995)</td>\n",
              "      <td>5.0</td>\n",
              "      <td>1</td>\n",
              "    </tr>\n",
              "    <tr>\n",
              "      <th>1200</th>\n",
              "      <td>1201</td>\n",
              "      <td>Marlene Dietrich: Shadow and Light (1996)</td>\n",
              "      <td>5.0</td>\n",
              "      <td>1</td>\n",
              "    </tr>\n",
              "    <tr>\n",
              "      <th>1121</th>\n",
              "      <td>1122</td>\n",
              "      <td>They Made Me a Criminal (1939)</td>\n",
              "      <td>5.0</td>\n",
              "      <td>1</td>\n",
              "    </tr>\n",
              "    <tr>\n",
              "      <th>1652</th>\n",
              "      <td>1653</td>\n",
              "      <td>Entertaining Angels: The Dorothy Day Story (1996)</td>\n",
              "      <td>5.0</td>\n",
              "      <td>1</td>\n",
              "    </tr>\n",
              "    <tr>\n",
              "      <th>...</th>\n",
              "      <td>...</td>\n",
              "      <td>...</td>\n",
              "      <td>...</td>\n",
              "      <td>...</td>\n",
              "    </tr>\n",
              "    <tr>\n",
              "      <th>1567</th>\n",
              "      <td>1568</td>\n",
              "      <td>Vermont Is For Lovers (1992)</td>\n",
              "      <td>1.0</td>\n",
              "      <td>1</td>\n",
              "    </tr>\n",
              "    <tr>\n",
              "      <th>1566</th>\n",
              "      <td>1567</td>\n",
              "      <td>Careful (1992)</td>\n",
              "      <td>1.0</td>\n",
              "      <td>1</td>\n",
              "    </tr>\n",
              "    <tr>\n",
              "      <th>1565</th>\n",
              "      <td>1566</td>\n",
              "      <td>Man from Down Under, The (1943)</td>\n",
              "      <td>1.0</td>\n",
              "      <td>1</td>\n",
              "    </tr>\n",
              "    <tr>\n",
              "      <th>1564</th>\n",
              "      <td>1565</td>\n",
              "      <td>Daens (1992)</td>\n",
              "      <td>1.0</td>\n",
              "      <td>1</td>\n",
              "    </tr>\n",
              "    <tr>\n",
              "      <th>851</th>\n",
              "      <td>852</td>\n",
              "      <td>Bloody Child, The (1996)</td>\n",
              "      <td>1.0</td>\n",
              "      <td>1</td>\n",
              "    </tr>\n",
              "  </tbody>\n",
              "</table>\n",
              "<p>1682 rows × 4 columns</p>\n",
              "</div>"
            ],
            "text/plain": [
              "      movie_id  ... n_ratings\n",
              "813        814  ...         1\n",
              "1598      1599  ...         1\n",
              "1200      1201  ...         1\n",
              "1121      1122  ...         1\n",
              "1652      1653  ...         1\n",
              "...        ...  ...       ...\n",
              "1567      1568  ...         1\n",
              "1566      1567  ...         1\n",
              "1565      1566  ...         1\n",
              "1564      1565  ...         1\n",
              "851        852  ...         1\n",
              "\n",
              "[1682 rows x 4 columns]"
            ]
          },
          "metadata": {
            "tags": []
          },
          "execution_count": 37
        }
      ]
    },
    {
      "cell_type": "markdown",
      "metadata": {
        "id": "27Twn-oQ8nJd"
      },
      "source": [
        "# Så er det din tur!"
      ]
    },
    {
      "cell_type": "markdown",
      "metadata": {
        "id": "L93rZeCu7FcQ"
      },
      "source": [
        "\n",
        "- Hvad er filmen med den højeste rating, når vi kun overvejer film, der i det mindste fik et \"rimeligt\" antal bedømmelser (f.eks.> 25. percentil)\n",
        "- Ældre film havde dog flere chancer for at få ratings. Hvad kan der gøres for at afhjælpe dette problem.\n",
        "- Kan du identificere folk, der bedømmer rigtig meget?\n",
        "- Er nogle brugere måske alt for kritiske eller alt for positive (outliers)? Måske skulle vi filtrere deres anmeldelser fra?\n",
        "- Hvilke andre spørgsmål kan du komme med? Prøv at finde 2-3 andre og løse dem.\n",
        "\n",
        "\n",
        "## Opgave til gruppen\n",
        "\n",
        "Brug data herfra: https://github.com/fivethirtyeight/data/blob/master/alcohol-consumption/drinks.csv om alkoholforbrug på verdensplan (pr. indbygger) for 2010.\n",
        "Du kan læse artiklen baseret på dataene her: [Dear Mona Followup: Where Do People Drink The Most Beer, Wine And Spirits?](https://fivethirtyeight.com/features/dear-mona-followup-where-do-people-drink-the-most-beer-wine-and-spirits/)\n",
        "\n",
        "\n",
        "Prøv at beregne det samlede forbrugstal ved at gange tallene pr. Indbygger med befolkningen i landene i 2010\n",
        "https://github.com/datasets/population/blob/master/data/population.csv\n",
        "\n",
        "I Python kan du bruge Contrycode-pakken: https://pypi.org/project/countrycode/ til at omdanne contry-navne til koder for mere præcise joins (contry-navne skrives ofte på forskellige måder)\n",
        "\n",
        "du kan installere pakken enten fra terminal (på din maskine) eller med `!pip install countrycode` fra jupyter (virker også i Colab)\n",
        "\n",
        "\n"
      ]
    },
    {
      "cell_type": "code",
      "metadata": {
        "id": "IKEnrFZ49-FM"
      },
      "source": [
        ""
      ],
      "execution_count": null,
      "outputs": []
    }
  ]
}