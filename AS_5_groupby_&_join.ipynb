{
  "nbformat": 4,
  "nbformat_minor": 0,
  "metadata": {
    "colab": {
      "name": "AS 5: groupby & join.ipynb",
      "provenance": [],
      "authorship_tag": "ABX9TyNW5BDjkAoQSBb1lPVpZGfY",
      "include_colab_link": true
    },
    "kernelspec": {
      "name": "python3",
      "display_name": "Python 3"
    }
  },
  "cells": [
    {
      "cell_type": "markdown",
      "metadata": {
        "id": "view-in-github",
        "colab_type": "text"
      },
      "source": [
        "<a href=\"https://colab.research.google.com/github/RJuro/AS2021/blob/main/AS_5_groupby_%26_join.ipynb\" target=\"_parent\"><img src=\"https://colab.research.google.com/assets/colab-badge.svg\" alt=\"Open In Colab\"/></a>"
      ]
    },
    {
      "cell_type": "markdown",
      "metadata": {
        "id": "ZNRPlP26uLIK"
      },
      "source": [
        "# Groupby & Join (merge)\n",
        "\n",
        "I denne tutorial arbejder vi med **MovieLens 100k data** for at se på nogle datamanipulerings teknikker\n",
        "tutorial udvider en opgave lavet af Kevin Markham som kan findes her: https://github.com/justmarkham/pandas-videos/blob/master/pandas_merge.ipynb\n",
        "\n",
        "\n",
        "Vores opgave er at beregne den gennemsnitlige bedømmelse samt antallet af bedømmelser for en film og tilføje disse oplysninger til en film-dataframe\n"
      ]
    },
    {
      "cell_type": "code",
      "metadata": {
        "id": "Fry_KQ-7v4m4"
      },
      "source": [
        "# Vi bruger kun pandas her\n",
        "import pandas as pd"
      ],
      "execution_count": null,
      "outputs": []
    },
    {
      "cell_type": "code",
      "metadata": {
        "id": "BNoB_R5RuPzn"
      },
      "source": [
        "# Definere webadresser med data (husk, du kan altid uploade/åbne data lokalt)\n",
        "movies_url= \"https://raw.githubusercontent.com/justmarkham/pandas-videos/master/data/u.item\"\n",
        "ratings_url = \"https://github.com/justmarkham/pandas-videos/raw/master/data/u.data\""
      ],
      "execution_count": null,
      "outputs": []
    },
    {
      "cell_type": "code",
      "metadata": {
        "id": "3tVM1BFPvGbJ"
      },
      "source": [
        "# åbne film\n",
        "\n",
        "movie_cols = ['movie_id', 'title']\n",
        "movies = pd.read_table(movies_url, sep='|', header=None, names=movie_cols, usecols=[0, 1])\n",
        "movies.head()"
      ],
      "execution_count": null,
      "outputs": []
    },
    {
      "cell_type": "markdown",
      "metadata": {
        "id": "ok0b18zUx6Cl"
      },
      "source": [
        "Som du kan se har vi her et tildalde af en CSV fil, som ikke har headers (1. række med navne på kolonner) og | som symbol, der adskiller kolonner.\n",
        "Pandas giver os mulighed at indlæse filen men vi skal være eksplicite omkring disse specielle egenskaber af CSVen"
      ]
    },
    {
      "cell_type": "code",
      "metadata": {
        "id": "8xpPuRBU9NNM"
      },
      "source": [
        "movies.info()"
      ],
      "execution_count": null,
      "outputs": []
    },
    {
      "cell_type": "code",
      "metadata": {
        "id": "D83SZSaJv-rM"
      },
      "source": [
        "# Hvor mange 'unikke' film er der\n",
        "movies.movie_id.nunique()"
      ],
      "execution_count": null,
      "outputs": []
    },
    {
      "cell_type": "code",
      "metadata": {
        "id": "hIYbSqFoveKJ"
      },
      "source": [
        "# Vi åbner ratings\n",
        "\n",
        "rating_cols = ['user_id', 'movie_id', 'rating', 'timestamp']\n",
        "ratings = pd.read_table(ratings_url, sep='\\t', header=None, names=rating_cols)\n",
        "ratings.head()"
      ],
      "execution_count": null,
      "outputs": []
    },
    {
      "cell_type": "code",
      "metadata": {
        "id": "lwWrHKco-bPr"
      },
      "source": [
        "ratings.index = pd.to_datetime(ratings['timestamp'], unit='s')"
      ],
      "execution_count": null,
      "outputs": []
    },
    {
      "cell_type": "code",
      "metadata": {
        "id": "4e_u9oMg9aoz"
      },
      "source": [
        "ratings.info()"
      ],
      "execution_count": null,
      "outputs": []
    },
    {
      "cell_type": "code",
      "metadata": {
        "id": "oF_ROiG2v6vV"
      },
      "source": [
        "# hvor mange unikke film-id er der? burde være lige så mange som der er film!\n",
        "\n",
        "ratings.movie_id.nunique()"
      ],
      "execution_count": null,
      "outputs": []
    },
    {
      "cell_type": "code",
      "metadata": {
        "id": "wpZUfn3awLjP"
      },
      "source": [
        "# oprette Series med gennemsnitlige filmbedømmelser\n",
        "\n",
        "avg_ratings_series = ratings.groupby(by='movie_id')['rating'].mean()\n",
        "\n",
        "avg_ratings_series.head()"
      ],
      "execution_count": null,
      "outputs": []
    },
    {
      "cell_type": "code",
      "metadata": {
        "id": "M1GnFB1p4EYf"
      },
      "source": [
        "# oprette Series med det antal ratings en film har modtaget\n",
        "n_ratings_series = ratings.groupby(by='movie_id')['rating'].size()\n",
        "\n",
        "n_ratings_series.name = 'n_ratings'\n",
        "\n",
        "n_ratings_series.head()"
      ],
      "execution_count": null,
      "outputs": []
    },
    {
      "cell_type": "code",
      "metadata": {
        "id": "oTx5tfim4cpo"
      },
      "source": [
        "# Merge de gennemsnitlige bedømmelser sammen med movies dataframe\n",
        "\n",
        "movies_extended = pd.merge(movies, avg_ratings_series, left_on='movie_id', right_index=True)\n",
        "\n",
        "movies_extended.head()"
      ],
      "execution_count": null,
      "outputs": []
    },
    {
      "cell_type": "code",
      "metadata": {
        "id": "J1_-BbKD5mjN"
      },
      "source": [
        "# Merge antallet af ratings til movies_extended dataframe\n",
        "\n",
        "movies_extended = pd.merge(movies_extended, n_ratings_series, left_on='movie_id', right_index=True)\n",
        "\n",
        "movies_extended.head()"
      ],
      "execution_count": null,
      "outputs": []
    },
    {
      "cell_type": "code",
      "metadata": {
        "id": "ResJ7FqA6rjn"
      },
      "source": [
        "# Hvad er filmen med den højeste gennemsnitlige bedømmelse?\n",
        "\n",
        "movies_extended.sort_values(by='rating', ascending=False)"
      ],
      "execution_count": null,
      "outputs": []
    },
    {
      "cell_type": "markdown",
      "metadata": {
        "id": "27Twn-oQ8nJd"
      },
      "source": [
        "# Så er det din tur!"
      ]
    },
    {
      "cell_type": "markdown",
      "metadata": {
        "id": "L93rZeCu7FcQ"
      },
      "source": [
        "\n",
        "- Hvad er filmen med den højeste rating, når vi kun overvejer film, der i det mindste fik et \"rimeligt\" antal bedømmelser (f.eks.> 25. percentil)\n",
        "- Ældre film havde dog flere chancer for at få ratings. Hvad kan der gøres for at afhjælpe dette problem.\n",
        "- Kan du identificere folk, der bedømmer rigtig meget?\n",
        "- Er nogle brugere måske alt for kritiske eller alt for positive (outliers)? Måske skulle vi filtrere deres anmeldelser fra?\n",
        "- Hvilke andre spørgsmål kan du komme med? Prøv at finde 2-3 andre og løse dem.\n",
        "\n",
        "\n",
        "## Opgave til gruppen\n",
        "\n",
        "Brug data herfra: https://github.com/fivethirtyeight/data/blob/master/alcohol-consumption/drinks.csv om alkoholforbrug på verdensplan (pr. indbygger) for 2010.\n",
        "Du kan læse artiklen baseret på dataene her: [Dear Mona Followup: Where Do People Drink The Most Beer, Wine And Spirits?](https://fivethirtyeight.com/features/dear-mona-followup-where-do-people-drink-the-most-beer-wine-and-spirits/)\n",
        "\n",
        "\n",
        "Prøv at beregne det samlede forbrugstal ved at gange tallene pr. Indbygger med befolkningen i landene i 2010\n",
        "https://github.com/datasets/population/blob/master/data/population.csv\n",
        "\n",
        "I Python kan du bruge Contrycode-pakken: https://pypi.org/project/countrycode/ til at omdanne contry-navne til koder for mere præcise joins (contry-navne skrives ofte på forskellige måder)\n",
        "\n",
        "du kan installere pakken enten fra terminal (på din maskine) eller med `!pip install countrycode` fra jupyter (virker også i Colab)\n",
        "\n",
        "\n"
      ]
    }
  ]
}