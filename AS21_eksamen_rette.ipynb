{
  "nbformat": 4,
  "nbformat_minor": 0,
  "metadata": {
    "orig_nbformat": 2,
    "deepnote": {
      "is_reactive": false
    },
    "deepnote_notebook_id": "c2795927-4e28-4459-836c-60c449acde18",
    "deepnote_execution_queue": [],
    "colab": {
      "name": "AS21-eksamen.ipynb",
      "provenance": [],
      "collapsed_sections": [],
      "include_colab_link": true
    },
    "language_info": {
      "name": "python"
    },
    "kernelspec": {
      "name": "python3",
      "display_name": "Python 3"
    }
  },
  "cells": [
    {
      "cell_type": "markdown",
      "metadata": {
        "id": "view-in-github",
        "colab_type": "text"
      },
      "source": [
        "<a href=\"https://colab.research.google.com/github/RJuro/AS2021/blob/main/AS21_eksamen_rette.ipynb\" target=\"_parent\"><img src=\"https://colab.research.google.com/assets/colab-badge.svg\" alt=\"Open In Colab\"/></a>"
      ]
    },
    {
      "cell_type": "markdown",
      "metadata": {
        "tags": [],
        "cell_id": "00000-8c8d4eef-b9d4-499c-b578-19e9dd477d0e",
        "deepnote_cell_type": "markdown",
        "id": "gwmtR6vMabmB"
      },
      "source": [
        "# Eksamen: Anvendt Statistik 2021\n",
        "### Aalborg University Business School, HA 1. Semester\n",
        "#### Roman Jurowetzki\n",
        "\n",
        "#### Rules of the game:\n",
        "\n",
        "- Don't panic! - Hvis koden ikke virker (men virkede før). Gå tilbage, og kør oppefra ned. Også en god ide at tjekke, at koden er fejlfri ved at gøre denne øvelse undervejs.\n",
        "- LÆS!!! hvad der står og hvad du forventes at lave!\n",
        "- De fleste kodefejl er dumme stavefejl. Vær omhyggelig med kommaer, punkter etc.\n",
        "- Hvis der er noget, som slet ikke kan løses, så kan du bare kommentere ud med `#`\n",
        "- Husk, at output skal kunne ses (f.eks. dine plots)\n",
        "- Play fair og lad være med at snyde! - Gruppearbejde er absolut IKKE tilladt.\n",
        "- Tjek AAU mail mht mulige opdateringer fra undervisere undervejs\n",
        "- Brug kun objektnavne, der blev defineret i opgaven\n",
        "- Der afleveres som 👉 `ipynb` (**ikke PDF!**) - dvs, du skal bare downloade den fil du arbejder med fra colab eller bare aflevere den ipynb fil som du har åbent i Jupyter Lab."
      ]
    },
    {
      "cell_type": "code",
      "metadata": {
        "tags": [],
        "cell_id": "00000-99146d64-c6d3-4a5f-ae35-ecc3169330c6",
        "deepnote_to_be_reexecuted": false,
        "source_hash": "2bdc404e",
        "execution_start": 1632862345903,
        "execution_millis": 0,
        "deepnote_cell_type": "code",
        "id": "9XhmD1iiabmH"
      },
      "source": [
        "# importer pakker\n",
        "import pandas as pd\n",
        "import seaborn as sns\n",
        "import matplotlib.pyplot as plt"
      ],
      "execution_count": null,
      "outputs": []
    },
    {
      "cell_type": "markdown",
      "metadata": {
        "tags": [],
        "cell_id": "00002-25c244e8-b423-4411-ad1d-6d4b166e74a3",
        "deepnote_cell_type": "markdown",
        "id": "xxI8eoCoabmJ"
      },
      "source": [
        "# Korean Bakery\n",
        "![](https://source.unsplash.com/surQ2mkZNxw)\n",
        "\n",
        "I denne opgave møder du salgsdata fra en lille bageri, som også startede leverings service i juli 2019. Bageriet ligger i byen Chuncheon i Sydkorea og sælger en del [Angbutter](https://www.chopsticksandflour.com/ang-butter-scone-scone-with-sweet-red-bean-and-butter/) (Scone or Pretzel 😵 with Sweet Red Bean and Butter) - ellers er de fleste ting kendte produkter som også findes i bagerier herhjemme.\n",
        "\n",
        "I opgaven kommer du til at rense og forberede salgsdata, tilføje andre produktoplysninger og foretage forskellige analyser, der kunne hjælpe bageriet med at justere deres output og vagtplaner.\n",
        "\n",
        "Du skal arbejde med 2 filer:\n",
        "- `Bakery_sales.csv` (salgsdata, hver observation er én bestilling)\n",
        "- `Bakery_calories_prices.csv` (oversigt over priser og calorier mht de forskellige produkter)\n",
        "\n",
        "Filerne findes også på:\n",
        "\n",
        "- `https://github.com/SDS-AAU/ASEX2101/raw/main/Bakery_calories_prices.csv`\n",
        "- `https://github.com/SDS-AAU/ASEX2101/raw/main/Bakery_sales.csv`\n",
        "\n",
        "\n",
        "OBS: der er en del celler især i preprocessing delen, som du bare skal køre uden ændring\n",
        "\n",
        "Lidt mere forklaring omkring variable (hvis du vil vide hvad det er for noget)\n",
        "\n",
        "| variable             | explanation                                                                                                                                 |\n",
        "|----------------------|---------------------------------------------------------------------------------------------------------------------------------------------|\n",
        "| total:               | Total Amount.                                                                                                                               |\n",
        "| place:               | customer's place                                                                                                                            |\n",
        "| angbutter:           | It's a pain's name. Pretzel filled with red beans and gourmet butter. you can check [this link](https://www.10000recipe.com/recipe/6927002) |\n",
        "| plain bread:         | plain bread.                                                                                                                                |\n",
        "| jam:                 | peach jam.                                                                                                                                  |\n",
        "| americano:           | americano                                                                                                                                   |\n",
        "| croissant:           | croissant.                                                                                                                                  |\n",
        "| caffe latte:         | caffe laffe.                                                                                                                                |\n",
        "| tiramisu croissant:  | Croissants filled with tiramisu cream and fruit.                                                                                            |\n",
        "| cacao deep:          | Croissant covered in Valrhona chocolate                                                                                                     |\n",
        "| pain au chocolate:   | Pain au chocolate.                                                                                                                          |\n",
        "| almond croissant:    | Croissant filled with almond cream.                                                                                                         |\n",
        "| milk tea:            | Mariage Frères milk tea.                                                                                                                    |\n",
        "| gateau chocolat:     | piece of chocolate cake.                                                                                                                    |\n",
        "| pandoro: pandoro:    | Italian pain.                                                                                                                               |\n",
        "| cheese cake:         | Cheese cake.                                                                                                                                |\n",
        "| lemon ade:           | Lemon ade                                                                                                                                   |\n",
        "| orange pound:        | Orange pound cake.                                                                                                                          |\n",
        "| wiener:              | sausage bread.                                                                                                                              |\n",
        "| vanila latte:        | Brewed with Madagascar vanilla bean.                                                                                                        |\n",
        "| berry ade:           | berry ade.                                                                                                                                  |\n",
        "| tiramisu:            | tiramisu cake.                                                                                                                              |\n",
        "| merinque cookies:    | cookies.                                                                                                                                    |"
      ]
    },
    {
      "cell_type": "markdown",
      "metadata": {
        "tags": [],
        "is_collapsed": false,
        "cell_id": "00003-517629cc-6481-4a45-9b27-0d354e866a25",
        "deepnote_cell_type": "text-cell-h2",
        "id": "Rb1Y1pGeabmL"
      },
      "source": [
        "## Indlæsning og preprocessing"
      ]
    },
    {
      "cell_type": "code",
      "metadata": {
        "tags": [],
        "cell_id": "00001-0b69bcf2-57d8-4ee2-84b8-9304efd841d7",
        "deepnote_to_be_reexecuted": false,
        "source_hash": "bfe1aa3a",
        "execution_start": 1632862345904,
        "execution_millis": 107,
        "deepnote_cell_type": "code",
        "id": "PWOQ0rLxabmM"
      },
      "source": [
        "# 1.1\n",
        "# brug pandas til at åbne datafiler (ingen zip, ingen specielle sep indstillinger)\n",
        "sales = pd.read_csv('https://github.com/SDS-AAU/ASEX2101/raw/main/Bakery_sales.csv')\n",
        "calories = pd.read_csv('https://github.com/SDS-AAU/ASEX2101/raw/main/Bakery_calories_prices.csv')"
      ],
      "execution_count": null,
      "outputs": []
    },
    {
      "cell_type": "code",
      "metadata": {
        "tags": [],
        "cell_id": "00005-f1b5432f-b2af-4636-a1ae-cb52c77d89b2",
        "deepnote_to_be_reexecuted": false,
        "source_hash": "2d90b6f2",
        "execution_start": 1632862346056,
        "execution_millis": 50,
        "deepnote_cell_type": "code",
        "colab": {
          "base_uri": "https://localhost:8080/",
          "height": 341
        },
        "id": "1Ne4WPouabmN",
        "outputId": "965970c4-e8aa-4138-e33b-a91c3f91194a"
      },
      "source": [
        "# 1.2\n",
        "# incpicer de første 5 rækker i datasættet\n",
        "sales.head()"
      ],
      "execution_count": null,
      "outputs": [
        {
          "output_type": "execute_result",
          "data": {
            "text/html": [
              "<div>\n",
              "<style scoped>\n",
              "    .dataframe tbody tr th:only-of-type {\n",
              "        vertical-align: middle;\n",
              "    }\n",
              "\n",
              "    .dataframe tbody tr th {\n",
              "        vertical-align: top;\n",
              "    }\n",
              "\n",
              "    .dataframe thead th {\n",
              "        text-align: right;\n",
              "    }\n",
              "</style>\n",
              "<table border=\"1\" class=\"dataframe\">\n",
              "  <thead>\n",
              "    <tr style=\"text-align: right;\">\n",
              "      <th></th>\n",
              "      <th>datetime</th>\n",
              "      <th>day of week</th>\n",
              "      <th>total</th>\n",
              "      <th>place</th>\n",
              "      <th>angbutter</th>\n",
              "      <th>plain bread</th>\n",
              "      <th>jam</th>\n",
              "      <th>americano</th>\n",
              "      <th>croissant</th>\n",
              "      <th>caffe latte</th>\n",
              "      <th>tiramisu croissant</th>\n",
              "      <th>cacao deep</th>\n",
              "      <th>pain au chocolat</th>\n",
              "      <th>almond croissant</th>\n",
              "      <th>croque monsieur</th>\n",
              "      <th>mad garlic</th>\n",
              "      <th>milk tea</th>\n",
              "      <th>gateau chocolat</th>\n",
              "      <th>pandoro</th>\n",
              "      <th>cheese cake</th>\n",
              "      <th>lemon ade</th>\n",
              "      <th>orange pound</th>\n",
              "      <th>wiener</th>\n",
              "      <th>vanila latte</th>\n",
              "      <th>berry ade</th>\n",
              "      <th>tiramisu</th>\n",
              "      <th>merinque cookies</th>\n",
              "      <th>order_id</th>\n",
              "    </tr>\n",
              "  </thead>\n",
              "  <tbody>\n",
              "    <tr>\n",
              "      <th>0</th>\n",
              "      <td>2019-07-11 15:35</td>\n",
              "      <td>Thur</td>\n",
              "      <td>23800.0</td>\n",
              "      <td>NaN</td>\n",
              "      <td>1.0</td>\n",
              "      <td>NaN</td>\n",
              "      <td>NaN</td>\n",
              "      <td>1.0</td>\n",
              "      <td>NaN</td>\n",
              "      <td>NaN</td>\n",
              "      <td>3.0</td>\n",
              "      <td>NaN</td>\n",
              "      <td>NaN</td>\n",
              "      <td>NaN</td>\n",
              "      <td>NaN</td>\n",
              "      <td>NaN</td>\n",
              "      <td>NaN</td>\n",
              "      <td>NaN</td>\n",
              "      <td>NaN</td>\n",
              "      <td>NaN</td>\n",
              "      <td>NaN</td>\n",
              "      <td>NaN</td>\n",
              "      <td>NaN</td>\n",
              "      <td>1.0</td>\n",
              "      <td>NaN</td>\n",
              "      <td>NaN</td>\n",
              "      <td>NaN</td>\n",
              "      <td>53c4cf92206811ec971c2e2955813ea5</td>\n",
              "    </tr>\n",
              "    <tr>\n",
              "      <th>1</th>\n",
              "      <td>2019-07-11 16:10</td>\n",
              "      <td>Thur</td>\n",
              "      <td>15800.0</td>\n",
              "      <td>NaN</td>\n",
              "      <td>1.0</td>\n",
              "      <td>NaN</td>\n",
              "      <td>NaN</td>\n",
              "      <td>NaN</td>\n",
              "      <td>NaN</td>\n",
              "      <td>NaN</td>\n",
              "      <td>1.0</td>\n",
              "      <td>NaN</td>\n",
              "      <td>NaN</td>\n",
              "      <td>NaN</td>\n",
              "      <td>NaN</td>\n",
              "      <td>NaN</td>\n",
              "      <td>NaN</td>\n",
              "      <td>NaN</td>\n",
              "      <td>NaN</td>\n",
              "      <td>NaN</td>\n",
              "      <td>NaN</td>\n",
              "      <td>1.0</td>\n",
              "      <td>NaN</td>\n",
              "      <td>NaN</td>\n",
              "      <td>NaN</td>\n",
              "      <td>NaN</td>\n",
              "      <td>NaN</td>\n",
              "      <td>53c4d096206811ec971c2e2955813ea5</td>\n",
              "    </tr>\n",
              "    <tr>\n",
              "      <th>2</th>\n",
              "      <td>2019-07-12 11:49</td>\n",
              "      <td>Fri</td>\n",
              "      <td>58000.0</td>\n",
              "      <td>NaN</td>\n",
              "      <td>NaN</td>\n",
              "      <td>NaN</td>\n",
              "      <td>NaN</td>\n",
              "      <td>NaN</td>\n",
              "      <td>NaN</td>\n",
              "      <td>NaN</td>\n",
              "      <td>14.0</td>\n",
              "      <td>NaN</td>\n",
              "      <td>NaN</td>\n",
              "      <td>NaN</td>\n",
              "      <td>NaN</td>\n",
              "      <td>NaN</td>\n",
              "      <td>NaN</td>\n",
              "      <td>NaN</td>\n",
              "      <td>NaN</td>\n",
              "      <td>NaN</td>\n",
              "      <td>NaN</td>\n",
              "      <td>NaN</td>\n",
              "      <td>NaN</td>\n",
              "      <td>NaN</td>\n",
              "      <td>NaN</td>\n",
              "      <td>NaN</td>\n",
              "      <td>NaN</td>\n",
              "      <td>53c4d0fa206811ec971c2e2955813ea5</td>\n",
              "    </tr>\n",
              "    <tr>\n",
              "      <th>3</th>\n",
              "      <td>2019-07-13 13:19</td>\n",
              "      <td>Sat</td>\n",
              "      <td>14800.0</td>\n",
              "      <td>NaN</td>\n",
              "      <td>1.0</td>\n",
              "      <td>1.0</td>\n",
              "      <td>NaN</td>\n",
              "      <td>NaN</td>\n",
              "      <td>NaN</td>\n",
              "      <td>NaN</td>\n",
              "      <td>NaN</td>\n",
              "      <td>NaN</td>\n",
              "      <td>NaN</td>\n",
              "      <td>NaN</td>\n",
              "      <td>NaN</td>\n",
              "      <td>NaN</td>\n",
              "      <td>NaN</td>\n",
              "      <td>NaN</td>\n",
              "      <td>NaN</td>\n",
              "      <td>NaN</td>\n",
              "      <td>NaN</td>\n",
              "      <td>NaN</td>\n",
              "      <td>NaN</td>\n",
              "      <td>1.0</td>\n",
              "      <td>NaN</td>\n",
              "      <td>NaN</td>\n",
              "      <td>NaN</td>\n",
              "      <td>53c4d154206811ec971c2e2955813ea5</td>\n",
              "    </tr>\n",
              "    <tr>\n",
              "      <th>4</th>\n",
              "      <td>2019-07-13 13:22</td>\n",
              "      <td>Sat</td>\n",
              "      <td>15600.0</td>\n",
              "      <td>NaN</td>\n",
              "      <td>2.0</td>\n",
              "      <td>NaN</td>\n",
              "      <td>NaN</td>\n",
              "      <td>NaN</td>\n",
              "      <td>NaN</td>\n",
              "      <td>NaN</td>\n",
              "      <td>1.0</td>\n",
              "      <td>NaN</td>\n",
              "      <td>NaN</td>\n",
              "      <td>NaN</td>\n",
              "      <td>NaN</td>\n",
              "      <td>NaN</td>\n",
              "      <td>NaN</td>\n",
              "      <td>NaN</td>\n",
              "      <td>NaN</td>\n",
              "      <td>NaN</td>\n",
              "      <td>NaN</td>\n",
              "      <td>NaN</td>\n",
              "      <td>NaN</td>\n",
              "      <td>NaN</td>\n",
              "      <td>NaN</td>\n",
              "      <td>NaN</td>\n",
              "      <td>NaN</td>\n",
              "      <td>53c4d1a4206811ec971c2e2955813ea5</td>\n",
              "    </tr>\n",
              "  </tbody>\n",
              "</table>\n",
              "</div>"
            ],
            "text/plain": [
              "           datetime  ...                          order_id\n",
              "0  2019-07-11 15:35  ...  53c4cf92206811ec971c2e2955813ea5\n",
              "1  2019-07-11 16:10  ...  53c4d096206811ec971c2e2955813ea5\n",
              "2  2019-07-12 11:49  ...  53c4d0fa206811ec971c2e2955813ea5\n",
              "3  2019-07-13 13:19  ...  53c4d154206811ec971c2e2955813ea5\n",
              "4  2019-07-13 13:22  ...  53c4d1a4206811ec971c2e2955813ea5\n",
              "\n",
              "[5 rows x 28 columns]"
            ]
          },
          "metadata": {},
          "execution_count": 3
        }
      ]
    },
    {
      "cell_type": "code",
      "metadata": {
        "tags": [],
        "cell_id": "00003-ee21cc85-0558-423c-b9a7-428562b409d0",
        "deepnote_to_be_reexecuted": false,
        "source_hash": "7c0cb8d7",
        "execution_start": 1632862346094,
        "execution_millis": 4,
        "deepnote_cell_type": "code",
        "id": "tg9a7_RDabmO"
      },
      "source": [
        "# (kør uden ændring) det er en god idé ikke at have mellemrum i kolonnenavne\n",
        "sales.columns = [col.replace(' ','_') for col in sales.columns]"
      ],
      "execution_count": null,
      "outputs": []
    },
    {
      "cell_type": "code",
      "metadata": {
        "tags": [],
        "cell_id": "00007-6156d0d0-884c-4d15-9b2f-06216f7e4acd",
        "deepnote_to_be_reexecuted": false,
        "source_hash": "23f2cdc2",
        "execution_start": 1632863511398,
        "execution_millis": 52,
        "deepnote_cell_type": "code",
        "colab": {
          "base_uri": "https://localhost:8080/",
          "height": 240
        },
        "id": "qAz-38QdabmP",
        "outputId": "bf83eda6-45f6-4539-d168-002d3bd0abef"
      },
      "source": [
        "# incpicer de sidte 5 rækker i datasættet ved at bruge .tail() kommandoen\n",
        "sales.tail()"
      ],
      "execution_count": null,
      "outputs": [
        {
          "output_type": "execute_result",
          "data": {
            "text/html": [
              "<div>\n",
              "<style scoped>\n",
              "    .dataframe tbody tr th:only-of-type {\n",
              "        vertical-align: middle;\n",
              "    }\n",
              "\n",
              "    .dataframe tbody tr th {\n",
              "        vertical-align: top;\n",
              "    }\n",
              "\n",
              "    .dataframe thead th {\n",
              "        text-align: right;\n",
              "    }\n",
              "</style>\n",
              "<table border=\"1\" class=\"dataframe\">\n",
              "  <thead>\n",
              "    <tr style=\"text-align: right;\">\n",
              "      <th></th>\n",
              "      <th>datetime</th>\n",
              "      <th>day_of_week</th>\n",
              "      <th>total</th>\n",
              "      <th>place</th>\n",
              "      <th>angbutter</th>\n",
              "      <th>plain_bread</th>\n",
              "      <th>jam</th>\n",
              "      <th>americano</th>\n",
              "      <th>croissant</th>\n",
              "      <th>caffe_latte</th>\n",
              "      <th>tiramisu_croissant</th>\n",
              "      <th>cacao_deep</th>\n",
              "      <th>pain_au_chocolat</th>\n",
              "      <th>almond_croissant</th>\n",
              "      <th>croque_monsieur</th>\n",
              "      <th>mad_garlic</th>\n",
              "      <th>milk_tea</th>\n",
              "      <th>gateau_chocolat</th>\n",
              "      <th>pandoro</th>\n",
              "      <th>cheese_cake</th>\n",
              "      <th>lemon_ade</th>\n",
              "      <th>orange_pound</th>\n",
              "      <th>wiener</th>\n",
              "      <th>vanila_latte</th>\n",
              "      <th>berry_ade</th>\n",
              "      <th>tiramisu</th>\n",
              "      <th>merinque_cookies</th>\n",
              "      <th>order_id</th>\n",
              "    </tr>\n",
              "  </thead>\n",
              "  <tbody>\n",
              "    <tr>\n",
              "      <th>2649</th>\n",
              "      <td>NaN</td>\n",
              "      <td>NaN</td>\n",
              "      <td>NaN</td>\n",
              "      <td>NaN</td>\n",
              "      <td>NaN</td>\n",
              "      <td>NaN</td>\n",
              "      <td>NaN</td>\n",
              "      <td>NaN</td>\n",
              "      <td>NaN</td>\n",
              "      <td>NaN</td>\n",
              "      <td>NaN</td>\n",
              "      <td>NaN</td>\n",
              "      <td>NaN</td>\n",
              "      <td>NaN</td>\n",
              "      <td>NaN</td>\n",
              "      <td>NaN</td>\n",
              "      <td>NaN</td>\n",
              "      <td>NaN</td>\n",
              "      <td>NaN</td>\n",
              "      <td>NaN</td>\n",
              "      <td>NaN</td>\n",
              "      <td>NaN</td>\n",
              "      <td>NaN</td>\n",
              "      <td>NaN</td>\n",
              "      <td>NaN</td>\n",
              "      <td>NaN</td>\n",
              "      <td>NaN</td>\n",
              "      <td>53c881b4206811ec971c2e2955813ea5</td>\n",
              "    </tr>\n",
              "    <tr>\n",
              "      <th>2650</th>\n",
              "      <td>NaN</td>\n",
              "      <td>NaN</td>\n",
              "      <td>NaN</td>\n",
              "      <td>NaN</td>\n",
              "      <td>NaN</td>\n",
              "      <td>NaN</td>\n",
              "      <td>NaN</td>\n",
              "      <td>NaN</td>\n",
              "      <td>NaN</td>\n",
              "      <td>NaN</td>\n",
              "      <td>NaN</td>\n",
              "      <td>NaN</td>\n",
              "      <td>NaN</td>\n",
              "      <td>NaN</td>\n",
              "      <td>NaN</td>\n",
              "      <td>NaN</td>\n",
              "      <td>NaN</td>\n",
              "      <td>NaN</td>\n",
              "      <td>NaN</td>\n",
              "      <td>NaN</td>\n",
              "      <td>NaN</td>\n",
              "      <td>NaN</td>\n",
              "      <td>NaN</td>\n",
              "      <td>NaN</td>\n",
              "      <td>NaN</td>\n",
              "      <td>NaN</td>\n",
              "      <td>NaN</td>\n",
              "      <td>53c88222206811ec971c2e2955813ea5</td>\n",
              "    </tr>\n",
              "    <tr>\n",
              "      <th>2651</th>\n",
              "      <td>NaN</td>\n",
              "      <td>NaN</td>\n",
              "      <td>NaN</td>\n",
              "      <td>NaN</td>\n",
              "      <td>NaN</td>\n",
              "      <td>NaN</td>\n",
              "      <td>NaN</td>\n",
              "      <td>NaN</td>\n",
              "      <td>NaN</td>\n",
              "      <td>NaN</td>\n",
              "      <td>NaN</td>\n",
              "      <td>NaN</td>\n",
              "      <td>NaN</td>\n",
              "      <td>NaN</td>\n",
              "      <td>NaN</td>\n",
              "      <td>NaN</td>\n",
              "      <td>NaN</td>\n",
              "      <td>NaN</td>\n",
              "      <td>NaN</td>\n",
              "      <td>NaN</td>\n",
              "      <td>NaN</td>\n",
              "      <td>NaN</td>\n",
              "      <td>NaN</td>\n",
              "      <td>NaN</td>\n",
              "      <td>NaN</td>\n",
              "      <td>NaN</td>\n",
              "      <td>NaN</td>\n",
              "      <td>53c8829a206811ec971c2e2955813ea5</td>\n",
              "    </tr>\n",
              "    <tr>\n",
              "      <th>2652</th>\n",
              "      <td>NaN</td>\n",
              "      <td>NaN</td>\n",
              "      <td>NaN</td>\n",
              "      <td>NaN</td>\n",
              "      <td>NaN</td>\n",
              "      <td>NaN</td>\n",
              "      <td>NaN</td>\n",
              "      <td>NaN</td>\n",
              "      <td>NaN</td>\n",
              "      <td>NaN</td>\n",
              "      <td>NaN</td>\n",
              "      <td>NaN</td>\n",
              "      <td>NaN</td>\n",
              "      <td>NaN</td>\n",
              "      <td>NaN</td>\n",
              "      <td>NaN</td>\n",
              "      <td>NaN</td>\n",
              "      <td>NaN</td>\n",
              "      <td>NaN</td>\n",
              "      <td>NaN</td>\n",
              "      <td>NaN</td>\n",
              "      <td>NaN</td>\n",
              "      <td>NaN</td>\n",
              "      <td>NaN</td>\n",
              "      <td>NaN</td>\n",
              "      <td>NaN</td>\n",
              "      <td>NaN</td>\n",
              "      <td>53c88308206811ec971c2e2955813ea5</td>\n",
              "    </tr>\n",
              "    <tr>\n",
              "      <th>2653</th>\n",
              "      <td>2020-06-18 14:52</td>\n",
              "      <td>NaN</td>\n",
              "      <td>NaN</td>\n",
              "      <td>NaN</td>\n",
              "      <td>NaN</td>\n",
              "      <td>NaN</td>\n",
              "      <td>NaN</td>\n",
              "      <td>NaN</td>\n",
              "      <td>NaN</td>\n",
              "      <td>NaN</td>\n",
              "      <td>NaN</td>\n",
              "      <td>NaN</td>\n",
              "      <td>NaN</td>\n",
              "      <td>NaN</td>\n",
              "      <td>NaN</td>\n",
              "      <td>NaN</td>\n",
              "      <td>NaN</td>\n",
              "      <td>NaN</td>\n",
              "      <td>NaN</td>\n",
              "      <td>NaN</td>\n",
              "      <td>NaN</td>\n",
              "      <td>NaN</td>\n",
              "      <td>NaN</td>\n",
              "      <td>NaN</td>\n",
              "      <td>NaN</td>\n",
              "      <td>NaN</td>\n",
              "      <td>NaN</td>\n",
              "      <td>53c88376206811ec971c2e2955813ea5</td>\n",
              "    </tr>\n",
              "  </tbody>\n",
              "</table>\n",
              "</div>"
            ],
            "text/plain": [
              "              datetime  ...                          order_id\n",
              "2649               NaN  ...  53c881b4206811ec971c2e2955813ea5\n",
              "2650               NaN  ...  53c88222206811ec971c2e2955813ea5\n",
              "2651               NaN  ...  53c8829a206811ec971c2e2955813ea5\n",
              "2652               NaN  ...  53c88308206811ec971c2e2955813ea5\n",
              "2653  2020-06-18 14:52  ...  53c88376206811ec971c2e2955813ea5\n",
              "\n",
              "[5 rows x 28 columns]"
            ]
          },
          "metadata": {},
          "execution_count": 5
        }
      ]
    },
    {
      "cell_type": "code",
      "metadata": {
        "tags": [],
        "cell_id": "00008-428f58e8-bddb-4c18-83de-5795d4306e3a",
        "deepnote_to_be_reexecuted": false,
        "source_hash": "8e08ff80",
        "execution_start": 1632862346181,
        "execution_millis": 6,
        "deepnote_cell_type": "code",
        "id": "CAHplYBIabmP"
      },
      "source": [
        "# 1.3\n",
        "# drop observationer hvor enten datetime eller day_of_week mangler\n",
        "\n",
        "sales = sales.dropna(subset=['datetime','day_of_week'])\n",
        "\n",
        "# derefter se igen på de sidste 5 rækker ved at køre sidste cell "
      ],
      "execution_count": null,
      "outputs": []
    },
    {
      "cell_type": "code",
      "metadata": {
        "tags": [],
        "cell_id": "00004-da89f917-7463-4587-b2c2-cef40a388ca0",
        "deepnote_to_be_reexecuted": false,
        "source_hash": "9d85c152",
        "execution_start": 1632862346191,
        "execution_millis": 3,
        "deepnote_cell_type": "code",
        "id": "MYjw1OLDabmQ"
      },
      "source": [
        "# (kør uden ændring) Det er måske ikke så nemt at sige noget om 소양동 medmindre du kan læse koreansk - vi oversætter lige\n",
        "sales['place'].replace({'소양동' : 'Soyang-dong', '효자 3동' : 'Hyoja3-dong', '후평 1동' : 'Hoopyeong1-dong', '후평 2동' : 'Hoopyeong2-dong', \n",
        "                           '석사동' : 'Seoksa-dong', '퇴계동' : 'Toegye-dong', '동면' : 'Dongmyeon', '후평 3동': 'Hoopyeong3-dong', \"신사우동\" : 'Sinsawoo-dong',\n",
        "                          \"강남동\" : 'Gangnam-dong', \"효자 1동\": 'Hyoja1-dong', '조운동' : 'Jowoon-dong', '교동' : 'Gyo-dong', '효자 2동' : 'Hyoja2-dong', '약사명동' : 'Yaksamyeong-dong',\n",
        "                          '근화동': 'Geunhwa-dong', '동내면' : 'Dongnae-myeon', '신동면' : 'Sindong-myeon', '교동 ': 'Gyo-dong'}, inplace = True)"
      ],
      "execution_count": null,
      "outputs": []
    },
    {
      "cell_type": "code",
      "metadata": {
        "tags": [],
        "cell_id": "00004-722a3758-8263-45a2-984b-c3f759d3c258",
        "deepnote_to_be_reexecuted": false,
        "source_hash": "9a13286d",
        "execution_start": 1632862346198,
        "execution_millis": 39,
        "deepnote_cell_type": "code",
        "colab": {
          "base_uri": "https://localhost:8080/"
        },
        "id": "_o_yYI0tabmQ",
        "outputId": "594954df-2866-40dc-a99d-7193bab56f09"
      },
      "source": [
        "# 1.4\n",
        "# lad os se på sales dataframes info - især hvad der mangler\n",
        "sales.info()"
      ],
      "execution_count": null,
      "outputs": [
        {
          "output_type": "stream",
          "name": "stdout",
          "text": [
            "<class 'pandas.core.frame.DataFrame'>\n",
            "Int64Index: 2420 entries, 0 to 2419\n",
            "Data columns (total 28 columns):\n",
            " #   Column              Non-Null Count  Dtype  \n",
            "---  ------              --------------  -----  \n",
            " 0   datetime            2420 non-null   object \n",
            " 1   day_of_week         2420 non-null   object \n",
            " 2   total               2420 non-null   float64\n",
            " 3   place               2166 non-null   object \n",
            " 4   angbutter           1973 non-null   float64\n",
            " 5   plain_bread         857 non-null    float64\n",
            " 6   jam                 220 non-null    float64\n",
            " 7   americano           412 non-null    float64\n",
            " 8   croissant           747 non-null    float64\n",
            " 9   caffe_latte         193 non-null    float64\n",
            " 10  tiramisu_croissant  779 non-null    float64\n",
            " 11  cacao_deep          323 non-null    float64\n",
            " 12  pain_au_chocolat    587 non-null    float64\n",
            " 13  almond_croissant    202 non-null    float64\n",
            " 14  croque_monsieur     0 non-null      float64\n",
            " 15  mad_garlic          0 non-null      float64\n",
            " 16  milk_tea            137 non-null    float64\n",
            " 17  gateau_chocolat     196 non-null    float64\n",
            " 18  pandoro             343 non-null    float64\n",
            " 19  cheese_cake         90 non-null     float64\n",
            " 20  lemon_ade           35 non-null     float64\n",
            " 21  orange_pound        519 non-null    float64\n",
            " 22  wiener              355 non-null    float64\n",
            " 23  vanila_latte        209 non-null    float64\n",
            " 24  berry_ade           54 non-null     float64\n",
            " 25  tiramisu            7 non-null      float64\n",
            " 26  merinque_cookies    47 non-null     float64\n",
            " 27  order_id            2420 non-null   object \n",
            "dtypes: float64(24), object(4)\n",
            "memory usage: 548.3+ KB\n"
          ]
        }
      ]
    },
    {
      "cell_type": "code",
      "metadata": {
        "tags": [],
        "cell_id": "00004-0d93aece-d193-45a6-a59d-68966bdbf104",
        "deepnote_to_be_reexecuted": false,
        "source_hash": "3905d4a8",
        "execution_start": 1632862346217,
        "execution_millis": 1,
        "deepnote_cell_type": "code",
        "id": "agkvl-FnabmR"
      },
      "source": [
        "# fjern variabler / kolonner (produkter), som aldrig bliver solgt (eller produceret)\n",
        "sales.drop(['croque_monsieur', 'mad_garlic'], axis=1, inplace=True)"
      ],
      "execution_count": null,
      "outputs": []
    },
    {
      "cell_type": "code",
      "metadata": {
        "tags": [],
        "cell_id": "00009-d85ae62d-b170-4691-8ade-77f877005fc9",
        "deepnote_to_be_reexecuted": false,
        "source_hash": "b56b83b1",
        "execution_start": 1632862346218,
        "execution_millis": 0,
        "deepnote_cell_type": "code",
        "id": "TvfMfLleabmR"
      },
      "source": [
        "# (kør uden ændring) fillna hjælper os med at indsætte værdier, hvor vi mangler\n",
        "sales.place.fillna('onsite-takeout', inplace=True) #antager at bestillinger uden place er kunder, der afhenter\n",
        "sales.fillna(0, inplace=True) # erstatter resten med 0"
      ],
      "execution_count": null,
      "outputs": []
    },
    {
      "cell_type": "code",
      "metadata": {
        "tags": [],
        "cell_id": "00010-2b8d3849-c4f8-4f93-9739-dfc05568bdb2",
        "deepnote_to_be_reexecuted": false,
        "source_hash": "f7d6cd59",
        "execution_start": 1632862346259,
        "execution_millis": 0,
        "deepnote_cell_type": "code",
        "id": "dm7N6A-4abmS"
      },
      "source": [
        "# 1.5\n",
        "# siden bestillinger er \"events\" skal der bruges timestamp som index - sæt datetime index\n",
        "\n",
        "sales.index = pd.to_datetime(sales.datetime)"
      ],
      "execution_count": null,
      "outputs": []
    },
    {
      "cell_type": "markdown",
      "metadata": {
        "tags": [],
        "is_collapsed": false,
        "cell_id": "00014-fd32cd4d-9210-4ef4-8915-2af1e588c543",
        "deepnote_cell_type": "text-cell-h2",
        "id": "zYCKfmqTabmS"
      },
      "source": [
        "## Hvor mange kalorier har er der i vores bestillinger?"
      ]
    },
    {
      "cell_type": "markdown",
      "metadata": {
        "tags": [],
        "cell_id": "00015-a675a2f7-b879-4f19-ada4-1f443b60a0f9",
        "deepnote_cell_type": "markdown",
        "id": "UpzEklcJabmS"
      },
      "source": [
        "Her får du lige lidt kode, som du nok ikke kender. Kort forklaring:\n",
        "Vores `calories` dataframe holder produktnavne, priser og kalorier. I hver bestilling er der flere produkter og hvis vi f.eks vil finde ud af hvor mange calorier er i sådan en bestilling, så skal vi summe calorier for alle købte produkter for hver bestilling.\n",
        "\n",
        "I de fleste virksomheder arbejder man med relationale databaser (f.eks SQL) for at aggregere information som i vores case. Man plejer at have tabeller (dataframes) med kunder, produkter, bestillinger hvor der kan aggregeres (merge/join) mellem dem hvis man vil have en oversigt såsom: bestillinger af en bestimmt produktype fordelt på regioner.\n",
        "\n",
        "#### Plan of attack\n",
        "Vores bestillinger her kommer i et \"wide\" format - men for at aggregere calorier skal det omformes til \"long\", hvor hver række repræsenterer et produkt i én bestilling. Bestillinger har en unik id, som automatisk gentages for hvert produkt, der er bestillt.\n",
        "\n",
        "Vores bestillinger i long format kan eftersølgende \"merges\" med calorie-data og så kan vi gruppere dem igen og udregne hvor mange kalorier der er i hver bestilling."
      ]
    },
    {
      "cell_type": "code",
      "metadata": {
        "tags": [],
        "cell_id": "00010-5661fc2c-7950-4b12-98bb-eac6277d79a2",
        "deepnote_to_be_reexecuted": false,
        "source_hash": "7faf4fd6",
        "execution_start": 1632862346260,
        "execution_millis": 0,
        "deepnote_cell_type": "code",
        "id": "tGxK2QGFabmT"
      },
      "source": [
        "# (kør uden ændring) vi bruger pivot_table for at restrukturere vores data \n",
        "\n",
        "order_product_columns = ['order_id','angbutter', 'plain_bread',\n",
        "       'jam', 'americano', 'croissant', 'caffe_latte', 'tiramisu_croissant',\n",
        "       'cacao_deep', 'pain_au_chocolat', 'almond_croissant', 'milk_tea',\n",
        "       'gateau_chocolat', 'pandoro', 'cheese_cake', 'lemon_ade',\n",
        "       'orange_pound', 'wiener', 'vanila_latte', 'berry_ade', 'tiramisu',\n",
        "       'merinque_cookies']\n",
        "\n",
        "order_product_list = pd.pivot_table(sales[order_product_columns], index='order_id').stack().reset_index()\n",
        "\n",
        "order_product_list.columns = ['order_id', 'product_name', 'count']"
      ],
      "execution_count": null,
      "outputs": []
    },
    {
      "cell_type": "code",
      "metadata": {
        "tags": [],
        "cell_id": "00011-74a66a70-6c97-48b4-80ac-01f3ecf71c86",
        "deepnote_to_be_reexecuted": false,
        "source_hash": "b41be60",
        "execution_start": 1632862346260,
        "execution_millis": 10,
        "deepnote_cell_type": "code",
        "colab": {
          "base_uri": "https://localhost:8080/",
          "height": 203
        },
        "id": "jr3bn-YoabmT",
        "outputId": "fd7467a2-100d-49dd-c428-bead92417a7e"
      },
      "source": [
        "# se på de første 5 rækker - du kan se, at vi nu har objekt_id, navne og antal af produkt per bestilling\n",
        "order_product_list.head()"
      ],
      "execution_count": null,
      "outputs": [
        {
          "output_type": "execute_result",
          "data": {
            "text/html": [
              "<div>\n",
              "<style scoped>\n",
              "    .dataframe tbody tr th:only-of-type {\n",
              "        vertical-align: middle;\n",
              "    }\n",
              "\n",
              "    .dataframe tbody tr th {\n",
              "        vertical-align: top;\n",
              "    }\n",
              "\n",
              "    .dataframe thead th {\n",
              "        text-align: right;\n",
              "    }\n",
              "</style>\n",
              "<table border=\"1\" class=\"dataframe\">\n",
              "  <thead>\n",
              "    <tr style=\"text-align: right;\">\n",
              "      <th></th>\n",
              "      <th>order_id</th>\n",
              "      <th>product_name</th>\n",
              "      <th>count</th>\n",
              "    </tr>\n",
              "  </thead>\n",
              "  <tbody>\n",
              "    <tr>\n",
              "      <th>0</th>\n",
              "      <td>53c4cf92206811ec971c2e2955813ea5</td>\n",
              "      <td>almond_croissant</td>\n",
              "      <td>0.0</td>\n",
              "    </tr>\n",
              "    <tr>\n",
              "      <th>1</th>\n",
              "      <td>53c4cf92206811ec971c2e2955813ea5</td>\n",
              "      <td>americano</td>\n",
              "      <td>1.0</td>\n",
              "    </tr>\n",
              "    <tr>\n",
              "      <th>2</th>\n",
              "      <td>53c4cf92206811ec971c2e2955813ea5</td>\n",
              "      <td>angbutter</td>\n",
              "      <td>1.0</td>\n",
              "    </tr>\n",
              "    <tr>\n",
              "      <th>3</th>\n",
              "      <td>53c4cf92206811ec971c2e2955813ea5</td>\n",
              "      <td>berry_ade</td>\n",
              "      <td>0.0</td>\n",
              "    </tr>\n",
              "    <tr>\n",
              "      <th>4</th>\n",
              "      <td>53c4cf92206811ec971c2e2955813ea5</td>\n",
              "      <td>cacao_deep</td>\n",
              "      <td>0.0</td>\n",
              "    </tr>\n",
              "  </tbody>\n",
              "</table>\n",
              "</div>"
            ],
            "text/plain": [
              "                           order_id      product_name  count\n",
              "0  53c4cf92206811ec971c2e2955813ea5  almond_croissant    0.0\n",
              "1  53c4cf92206811ec971c2e2955813ea5         americano    1.0\n",
              "2  53c4cf92206811ec971c2e2955813ea5         angbutter    1.0\n",
              "3  53c4cf92206811ec971c2e2955813ea5         berry_ade    0.0\n",
              "4  53c4cf92206811ec971c2e2955813ea5        cacao_deep    0.0"
            ]
          },
          "metadata": {},
          "execution_count": 13
        }
      ]
    },
    {
      "cell_type": "code",
      "metadata": {
        "tags": [],
        "cell_id": "00018-c574215b-5067-4ed6-aca1-7aafd3dcf996",
        "deepnote_to_be_reexecuted": false,
        "source_hash": "fb327ab7",
        "execution_start": 1632862346274,
        "execution_millis": 45,
        "deepnote_cell_type": "code",
        "colab": {
          "base_uri": "https://localhost:8080/",
          "height": 203
        },
        "id": "rZpP-pmYabmT",
        "outputId": "2fab43e3-87d2-4497-ba11-f9df3aca1630"
      },
      "source": [
        "# se lige ind i calories dataframe (5 første rækker)\n",
        "calories.head()"
      ],
      "execution_count": null,
      "outputs": [
        {
          "output_type": "execute_result",
          "data": {
            "text/html": [
              "<div>\n",
              "<style scoped>\n",
              "    .dataframe tbody tr th:only-of-type {\n",
              "        vertical-align: middle;\n",
              "    }\n",
              "\n",
              "    .dataframe tbody tr th {\n",
              "        vertical-align: top;\n",
              "    }\n",
              "\n",
              "    .dataframe thead th {\n",
              "        text-align: right;\n",
              "    }\n",
              "</style>\n",
              "<table border=\"1\" class=\"dataframe\">\n",
              "  <thead>\n",
              "    <tr style=\"text-align: right;\">\n",
              "      <th></th>\n",
              "      <th>product_name</th>\n",
              "      <th>price</th>\n",
              "      <th>calories</th>\n",
              "    </tr>\n",
              "  </thead>\n",
              "  <tbody>\n",
              "    <tr>\n",
              "      <th>0</th>\n",
              "      <td>angbutter</td>\n",
              "      <td>4800</td>\n",
              "      <td>600</td>\n",
              "    </tr>\n",
              "    <tr>\n",
              "      <th>1</th>\n",
              "      <td>plain bread</td>\n",
              "      <td>3500</td>\n",
              "      <td>79</td>\n",
              "    </tr>\n",
              "    <tr>\n",
              "      <th>2</th>\n",
              "      <td>jam</td>\n",
              "      <td>1500</td>\n",
              "      <td>56</td>\n",
              "    </tr>\n",
              "    <tr>\n",
              "      <th>3</th>\n",
              "      <td>americano</td>\n",
              "      <td>4000</td>\n",
              "      <td>15</td>\n",
              "    </tr>\n",
              "    <tr>\n",
              "      <th>4</th>\n",
              "      <td>croissant</td>\n",
              "      <td>3500</td>\n",
              "      <td>406</td>\n",
              "    </tr>\n",
              "  </tbody>\n",
              "</table>\n",
              "</div>"
            ],
            "text/plain": [
              "  product_name  price  calories\n",
              "0    angbutter   4800       600\n",
              "1  plain bread   3500        79\n",
              "2          jam   1500        56\n",
              "3    americano   4000        15\n",
              "4    croissant   3500       406"
            ]
          },
          "metadata": {},
          "execution_count": 14
        }
      ]
    },
    {
      "cell_type": "code",
      "metadata": {
        "tags": [],
        "cell_id": "00019-25e8c6bf-c60c-4f47-9ce4-03edda71d328",
        "deepnote_to_be_reexecuted": false,
        "source_hash": "a61b6050",
        "execution_start": 1632862346292,
        "execution_millis": 0,
        "deepnote_cell_type": "code",
        "id": "_xazqvrMabmU"
      },
      "source": [
        "# kør uden ændring: husk, at skifte navne (mellemrum -> _) så det passer sammen med vores kolonner (navne i salg )\n",
        "\n",
        "calories.product_name = calories.product_name.str.replace(' ','_')"
      ],
      "execution_count": null,
      "outputs": []
    },
    {
      "cell_type": "code",
      "metadata": {
        "tags": [],
        "cell_id": "00013-bb867e70-6f09-4933-96f5-7422ca1b5706",
        "deepnote_to_be_reexecuted": false,
        "source_hash": "e20e2549",
        "execution_start": 1632862346294,
        "execution_millis": 3,
        "deepnote_cell_type": "code",
        "id": "2qVfx_8zabmU"
      },
      "source": [
        "# 2.1\n",
        "# order_product_list of calories har begge to product_name kolonnen og vi kan aggregere dem i en ny dataframe\n",
        "\n",
        "orders_calories = order_product_list.merge(calories)"
      ],
      "execution_count": null,
      "outputs": []
    },
    {
      "cell_type": "code",
      "metadata": {
        "tags": [],
        "cell_id": "00014-a3d67089-2886-4f28-b15b-ebaded0f62a5",
        "deepnote_to_be_reexecuted": false,
        "source_hash": "a7ed5901",
        "execution_start": 1632862346301,
        "execution_millis": 1,
        "deepnote_cell_type": "code",
        "id": "FAAfhUqaabmU"
      },
      "source": [
        "# 2.2\n",
        "# husk, at vi skal gange med antal af de enkelte produkter i vores bestillinger f.eks hvis der er 2 corissaner\n",
        "orders_calories['calories'] = orders_calories['calories'] * orders_calories['count']"
      ],
      "execution_count": null,
      "outputs": []
    },
    {
      "cell_type": "code",
      "metadata": {
        "tags": [],
        "cell_id": "00007-85b85815-b340-4a7c-8d44-b7bc11dbcfab",
        "deepnote_to_be_reexecuted": false,
        "source_hash": "9703a791",
        "execution_start": 1632862346303,
        "execution_millis": 15,
        "deepnote_cell_type": "code",
        "id": "kW8WqjrIabmU"
      },
      "source": [
        "# 2.3\n",
        "# beregn summen af calorier per order_od - du kan behandle order_od(er) som grupper\n",
        "orders_calories = orders_calories.groupby('order_id').calories.sum()"
      ],
      "execution_count": null,
      "outputs": []
    },
    {
      "cell_type": "code",
      "metadata": {
        "tags": [],
        "cell_id": "00014-f422e32b-ffbc-4e0f-ab31-5f8b443544d9",
        "deepnote_to_be_reexecuted": false,
        "source_hash": "c55ac84b",
        "execution_start": 1632862346321,
        "execution_millis": 3,
        "deepnote_cell_type": "code",
        "colab": {
          "base_uri": "https://localhost:8080/"
        },
        "id": "RFaB_jVfabmV",
        "outputId": "802ab542-360d-411f-c044-dca4a1e9bfec"
      },
      "source": [
        "# tjek resultatet, det burde være en Pandas Series med order_id som index og summen af calorier per bestilling som værdi\n",
        "\n",
        "orders_calories"
      ],
      "execution_count": null,
      "outputs": [
        {
          "output_type": "execute_result",
          "data": {
            "text/plain": [
              "order_id\n",
              "53c4cf92206811ec971c2e2955813ea5    2265.0\n",
              "53c4d096206811ec971c2e2955813ea5    1390.0\n",
              "53c4d0fa206811ec971c2e2955813ea5    7700.0\n",
              "53c4d154206811ec971c2e2955813ea5     679.0\n",
              "53c4d1a4206811ec971c2e2955813ea5    1750.0\n",
              "                                     ...  \n",
              "53c8002c206811ec971c2e2955813ea5    1195.0\n",
              "53c8009a206811ec971c2e2955813ea5    1290.0\n",
              "53c80108206811ec971c2e2955813ea5    1229.0\n",
              "53c80176206811ec971c2e2955813ea5    1491.0\n",
              "53c801e4206811ec971c2e2955813ea5    2460.0\n",
              "Name: calories, Length: 2420, dtype: float64"
            ]
          },
          "metadata": {},
          "execution_count": 19
        }
      ]
    },
    {
      "cell_type": "markdown",
      "metadata": {
        "tags": [],
        "cell_id": "00023-8ead2ea6-ddd8-4a9f-8f1a-59643669843c",
        "deepnote_cell_type": "markdown",
        "id": "PkqZ5w-NabmV"
      },
      "source": [
        "Du kan nu aggregere tilbage (merge) til vores salgsdata ved at bruge orfer_id som nøgle."
      ]
    },
    {
      "cell_type": "code",
      "metadata": {
        "tags": [],
        "cell_id": "00007-b207c2bb-5d20-4ba1-96ac-3297c591f46e",
        "deepnote_to_be_reexecuted": false,
        "source_hash": "f52494d8",
        "execution_start": 1632862346328,
        "execution_millis": 3,
        "deepnote_cell_type": "code",
        "id": "peEX1FjyabmV"
      },
      "source": [
        "# 2.4\n",
        "# sales og orders_calories skal nu aggregeres hvor order_id bruges som nøgle. \n",
        "# Husk, at orders_calories har den som index\n",
        "sales = sales.merge(orders_calories, left_on='order_id', right_index=True)"
      ],
      "execution_count": null,
      "outputs": []
    },
    {
      "cell_type": "code",
      "metadata": {
        "tags": [],
        "cell_id": "00018-317b97b9-9a25-4fbd-8599-1711b8e15eca",
        "deepnote_to_be_reexecuted": false,
        "source_hash": "d7b1661b",
        "execution_start": 1632865237104,
        "execution_millis": 5,
        "deepnote_cell_type": "code",
        "id": "CPjsxOKXabmV"
      },
      "source": [
        "# en sidste ting: Det er en god idé at have en kolonne der viser antallet af produkter for hver bestilling\n",
        "# og en med calorier per antal af produkter\n",
        "sales['n_items'] = sales.iloc[:,4:25].sum(axis=1)\n",
        "sales['cal_per_item'] = sales['calories'] / sales['n_items']"
      ],
      "execution_count": null,
      "outputs": []
    },
    {
      "cell_type": "markdown",
      "metadata": {
        "tags": [],
        "is_collapsed": false,
        "cell_id": "00027-a2863f53-2ce5-4ccd-b0cf-9f58e2f77d7e",
        "deepnote_cell_type": "text-cell-h2",
        "id": "DJ-kJOZ9abmW"
      },
      "source": [
        "## Analyse"
      ]
    },
    {
      "cell_type": "markdown",
      "metadata": {
        "tags": [],
        "cell_id": "00028-067a2daa-b4ea-4822-891e-ac08529fdb05",
        "deepnote_cell_type": "markdown",
        "id": "7SgjB8EQabmW"
      },
      "source": [
        "Hvis du fik problemer med preprocessing, så kan du arbejde videre herfra ved at åbne `sales_prep.csv` eller `https://github.com/SDS-AAU/ASEX2101/raw/main/sales_prep.csv`\n",
        "Der skal laves datetime-index ved at køre `sales.index = pd.to_datetime(sales.datetime)`\n",
        "\n",
        "**Bonus info**: Der kommer nogle opsamlinger over tid, pandas arbejder med: `D: day; W: week, M: month.`"
      ]
    },
    {
      "cell_type": "code",
      "metadata": {
        "tags": [],
        "cell_id": "00030-704fb5c1-7b2a-4bd4-9849-df7773a73fe6",
        "deepnote_to_be_reexecuted": false,
        "source_hash": "aff124bc",
        "execution_start": 1632862555555,
        "execution_millis": 21,
        "deepnote_cell_type": "code",
        "id": "AnXQ48BZabmW"
      },
      "source": [
        "# alternativ for dig, der fik problemer i preprocessing\n",
        "# sales = pd.read_csv('https://github.com/SDS-AAU/ASEX2101/raw/main/sales_prep.csv')\n",
        "# sales.index = pd.to_datetime(sales.datetime)"
      ],
      "execution_count": null,
      "outputs": []
    },
    {
      "cell_type": "code",
      "metadata": {
        "tags": [],
        "cell_id": "00030-5a0b9a54-00c9-4886-91c4-959d3294bf5a",
        "deepnote_to_be_reexecuted": false,
        "source_hash": "becaeaca",
        "execution_start": 1632864660529,
        "execution_millis": 2367,
        "deepnote_cell_type": "code",
        "colab": {
          "base_uri": "https://localhost:8080/",
          "height": 386
        },
        "id": "0bt-0KDrabmW",
        "outputId": "c63b3b9c-7f06-47e7-f4de-84e4278bc342"
      },
      "source": [
        "# 3.1\n",
        "# tjek fordeling af total variablen ved at plotte histogram (op til dig hvordan)\n",
        "sns.displot(sales.total)"
      ],
      "execution_count": null,
      "outputs": [
        {
          "output_type": "execute_result",
          "data": {
            "text/plain": [
              "<seaborn.axisgrid.FacetGrid at 0x7fe64a3dea10>"
            ]
          },
          "metadata": {},
          "execution_count": 23
        },
        {
          "output_type": "display_data",
          "data": {
            "image/png": "[encoded data removed]",
            "text/plain": [
              "<Figure size 360x360 with 1 Axes>"
            ]
          },
          "metadata": {
            "needs_background": "light"
          }
        }
      ]
    },
    {
      "cell_type": "code",
      "metadata": {
        "tags": [],
        "cell_id": "00031-9950de0e-547a-422c-8407-20ea369d405d",
        "deepnote_to_be_reexecuted": false,
        "source_hash": "90c73f51",
        "execution_start": 1632864854887,
        "execution_millis": 41,
        "deepnote_cell_type": "code",
        "colab": {
          "base_uri": "https://localhost:8080/"
        },
        "id": "aXV2vX9jabmW",
        "outputId": "5d159913-05a2-4040-fccf-19414835d606"
      },
      "source": [
        "# 3.2\n",
        "# ser ud som en eller få oufliers - sorter dataframe mht total - start med højeste \n",
        "sales.total.sort_values(ascending=False)"
      ],
      "execution_count": null,
      "outputs": [
        {
          "output_type": "execute_result",
          "data": {
            "text/plain": [
              "datetime\n",
              "2019-07-26 11:36:00    1293000.0\n",
              "2020-01-15 11:28:00     116500.0\n",
              "2019-12-30 12:23:00      91300.0\n",
              "2020-01-23 11:08:00      77100.0\n",
              "2019-07-26 11:23:00      73200.0\n",
              "                         ...    \n",
              "2019-12-06 11:38:00      13800.0\n",
              "2019-12-06 15:25:00      13800.0\n",
              "2019-12-07 14:02:00      13600.0\n",
              "2019-08-01 11:17:00      13100.0\n",
              "2019-11-22 16:02:00      12800.0\n",
              "Name: total, Length: 2420, dtype: float64"
            ]
          },
          "metadata": {},
          "execution_count": 24
        }
      ]
    },
    {
      "cell_type": "code",
      "metadata": {
        "tags": [],
        "cell_id": "00032-6dae070b-070d-4b5b-8846-30c6a1680716",
        "deepnote_cell_type": "code",
        "colab": {
          "base_uri": "https://localhost:8080/",
          "height": 164
        },
        "id": "1E6MBPOAabmX",
        "outputId": "8d9ed484-a588-47fc-ce0d-2ec9e37a76ed"
      },
      "source": [
        "# 3.3\n",
        "# du kan tjekke outlier bestilling ved at subsette sales med datetime af denne bstilling\n",
        "# dvs. copy-paste datetime-index som string\n",
        "sales['2019-07-26 11:36:00']"
      ],
      "execution_count": null,
      "outputs": [
        {
          "output_type": "execute_result",
          "data": {
            "text/html": [
              "<div>\n",
              "<style scoped>\n",
              "    .dataframe tbody tr th:only-of-type {\n",
              "        vertical-align: middle;\n",
              "    }\n",
              "\n",
              "    .dataframe tbody tr th {\n",
              "        vertical-align: top;\n",
              "    }\n",
              "\n",
              "    .dataframe thead th {\n",
              "        text-align: right;\n",
              "    }\n",
              "</style>\n",
              "<table border=\"1\" class=\"dataframe\">\n",
              "  <thead>\n",
              "    <tr style=\"text-align: right;\">\n",
              "      <th></th>\n",
              "      <th>datetime</th>\n",
              "      <th>day_of_week</th>\n",
              "      <th>total</th>\n",
              "      <th>place</th>\n",
              "      <th>angbutter</th>\n",
              "      <th>plain_bread</th>\n",
              "      <th>jam</th>\n",
              "      <th>americano</th>\n",
              "      <th>croissant</th>\n",
              "      <th>caffe_latte</th>\n",
              "      <th>tiramisu_croissant</th>\n",
              "      <th>cacao_deep</th>\n",
              "      <th>pain_au_chocolat</th>\n",
              "      <th>almond_croissant</th>\n",
              "      <th>milk_tea</th>\n",
              "      <th>gateau_chocolat</th>\n",
              "      <th>pandoro</th>\n",
              "      <th>cheese_cake</th>\n",
              "      <th>lemon_ade</th>\n",
              "      <th>orange_pound</th>\n",
              "      <th>wiener</th>\n",
              "      <th>vanila_latte</th>\n",
              "      <th>berry_ade</th>\n",
              "      <th>tiramisu</th>\n",
              "      <th>merinque_cookies</th>\n",
              "      <th>order_id</th>\n",
              "      <th>calories</th>\n",
              "      <th>n_items</th>\n",
              "      <th>cal_per_item</th>\n",
              "    </tr>\n",
              "    <tr>\n",
              "      <th>datetime</th>\n",
              "      <th></th>\n",
              "      <th></th>\n",
              "      <th></th>\n",
              "      <th></th>\n",
              "      <th></th>\n",
              "      <th></th>\n",
              "      <th></th>\n",
              "      <th></th>\n",
              "      <th></th>\n",
              "      <th></th>\n",
              "      <th></th>\n",
              "      <th></th>\n",
              "      <th></th>\n",
              "      <th></th>\n",
              "      <th></th>\n",
              "      <th></th>\n",
              "      <th></th>\n",
              "      <th></th>\n",
              "      <th></th>\n",
              "      <th></th>\n",
              "      <th></th>\n",
              "      <th></th>\n",
              "      <th></th>\n",
              "      <th></th>\n",
              "      <th></th>\n",
              "      <th></th>\n",
              "      <th></th>\n",
              "      <th></th>\n",
              "      <th></th>\n",
              "    </tr>\n",
              "  </thead>\n",
              "  <tbody>\n",
              "    <tr>\n",
              "      <th>2019-07-26 11:36:00</th>\n",
              "      <td>2019-07-26 11:36</td>\n",
              "      <td>Fri</td>\n",
              "      <td>1293000.0</td>\n",
              "      <td>onsite-takeout</td>\n",
              "      <td>6.0</td>\n",
              "      <td>5.0</td>\n",
              "      <td>0.0</td>\n",
              "      <td>0.0</td>\n",
              "      <td>5.0</td>\n",
              "      <td>0.0</td>\n",
              "      <td>0.0</td>\n",
              "      <td>0.0</td>\n",
              "      <td>5.0</td>\n",
              "      <td>5.0</td>\n",
              "      <td>0.0</td>\n",
              "      <td>0.0</td>\n",
              "      <td>5.0</td>\n",
              "      <td>0.0</td>\n",
              "      <td>0.0</td>\n",
              "      <td>0.0</td>\n",
              "      <td>0.0</td>\n",
              "      <td>0.0</td>\n",
              "      <td>0.0</td>\n",
              "      <td>0.0</td>\n",
              "      <td>0.0</td>\n",
              "      <td>53c4ec66206811ec971c2e2955813ea5</td>\n",
              "      <td>11175.0</td>\n",
              "      <td>31.0</td>\n",
              "      <td>360.483871</td>\n",
              "    </tr>\n",
              "  </tbody>\n",
              "</table>\n",
              "</div>"
            ],
            "text/plain": [
              "                             datetime day_of_week  ...  n_items cal_per_item\n",
              "datetime                                           ...                      \n",
              "2019-07-26 11:36:00  2019-07-26 11:36         Fri  ...     31.0   360.483871\n",
              "\n",
              "[1 rows x 29 columns]"
            ]
          },
          "metadata": {},
          "execution_count": 25
        }
      ]
    },
    {
      "cell_type": "markdown",
      "metadata": {
        "tags": [],
        "is_collapsed": false,
        "cell_id": "00033-ebec3681-9809-4407-adf2-d63ca53e61fb",
        "deepnote_cell_type": "text-cell-p",
        "id": "qP7RMaIEabmX"
      },
      "source": [
        "#### Salg i løbet af dagen"
      ]
    },
    {
      "cell_type": "code",
      "metadata": {
        "tags": [],
        "cell_id": "00033-038ffcfd-5501-4512-af3c-617892bbac0b",
        "deepnote_to_be_reexecuted": false,
        "source_hash": "1ed620ce",
        "execution_start": 1632865307894,
        "execution_millis": 7,
        "deepnote_cell_type": "code",
        "colab": {
          "base_uri": "https://localhost:8080/"
        },
        "id": "8fqkOOzBabmX",
        "outputId": "fa5189f2-a91e-4c17-eb93-8474026d2318"
      },
      "source": [
        "# 3.4\n",
        "# lav en gruppering hvor du kigger på summen af solgte ting n_items for hver time\n",
        "# timer findes i sales.index.hour\n",
        "sales.groupby(sales.index.hour).n_items.sum()"
      ],
      "execution_count": null,
      "outputs": [
        {
          "output_type": "execute_result",
          "data": {
            "text/plain": [
              "datetime\n",
              "11    3360.0\n",
              "12    2423.0\n",
              "13    1971.0\n",
              "14    1515.0\n",
              "15     927.0\n",
              "16     532.0\n",
              "17     102.0\n",
              "22       3.0\n",
              "23       7.0\n",
              "Name: n_items, dtype: float64"
            ]
          },
          "metadata": {},
          "execution_count": 26
        }
      ]
    },
    {
      "cell_type": "markdown",
      "metadata": {
        "tags": [],
        "is_collapsed": false,
        "cell_id": "00030-11fd9d94-3714-427c-94ca-6eff6cc2b51b",
        "deepnote_cell_type": "text-cell-p",
        "id": "wDHjacggabmX"
      },
      "source": [
        "#### Salg per dag, uge, måned"
      ]
    },
    {
      "cell_type": "code",
      "metadata": {
        "tags": [],
        "cell_id": "00018-a0ee1987-4490-4dc3-b663-3c60788b3593",
        "deepnote_to_be_reexecuted": false,
        "source_hash": "4d047b92",
        "execution_start": 1632863127234,
        "execution_millis": 1,
        "deepnote_cell_type": "code",
        "id": "Yj15AzJvabmY"
      },
      "source": [
        "# 3.5\n",
        "# bestillinger skal aggregeres per dag, uge, måned og alle nummeriske værdier summes\n",
        "daily_sales = sales.resample('D').sum()\n",
        "weekly_sales = sales.resample('W').sum()\n",
        "monthly_sales = sales.resample('M').sum()"
      ],
      "execution_count": null,
      "outputs": []
    },
    {
      "cell_type": "code",
      "metadata": {
        "tags": [],
        "cell_id": "00019-178f1184-8bda-460c-bfa2-0855db2861a8",
        "deepnote_to_be_reexecuted": false,
        "source_hash": "e177e9ec",
        "execution_start": 1632856544422,
        "execution_millis": 249,
        "deepnote_cell_type": "code",
        "colab": {
          "base_uri": "https://localhost:8080/",
          "height": 296
        },
        "id": "yEVsgeVjabmY",
        "outputId": "b6a2881d-ba63-4c55-fab4-56c319ef8384"
      },
      "source": [
        "# 3.6\n",
        "# lav en boxplot, der viser fordelinger i daglige salg af angbutter for de forskellige ugedage:\n",
        "# du kan bruge daily_sales.index.day_name() for at tilgå navne på ugedagene i din datetime-index\n",
        "\n",
        "sns.boxplot(x=daily_sales.angbutter, y=daily_sales.index.day_name())"
      ],
      "execution_count": null,
      "outputs": [
        {
          "output_type": "execute_result",
          "data": {
            "text/plain": [
              "<matplotlib.axes._subplots.AxesSubplot at 0x7fe62b2ca2d0>"
            ]
          },
          "metadata": {},
          "execution_count": 28
        },
        {
          "output_type": "display_data",
          "data": {
            "image/png": "[encoded data removed]",
            "text/plain": [
              "<Figure size 432x288 with 1 Axes>"
            ]
          },
          "metadata": {
            "needs_background": "light"
          }
        }
      ]
    },
    {
      "cell_type": "code",
      "metadata": {
        "tags": [],
        "cell_id": "00033-debe060a-d059-46d3-875b-0ad7b976cb74",
        "deepnote_to_be_reexecuted": false,
        "source_hash": "ca5b65f0",
        "execution_start": 1632863075229,
        "execution_millis": 3,
        "deepnote_cell_type": "code",
        "id": "BaO04k9MabmY"
      },
      "source": [
        "# Hvad kan du konkludere? (2-3 punkter)\n",
        "# Svar: \n",
        "\n",
        "# - flere bestillinger søndag (folk hygger)\n",
        "# - Tirsdag er måske lukket\n",
        "# Onsdag og Torsdag større salg men også mere varians"
      ],
      "execution_count": null,
      "outputs": []
    },
    {
      "cell_type": "code",
      "metadata": {
        "tags": [],
        "cell_id": "00034-6a167644-7bbd-46f1-bd44-d046c6e5f64f",
        "deepnote_cell_type": "code",
        "id": "EtGVwka5abmY"
      },
      "source": [
        "# Holder de lukket hver tirsdag? Hvordan kunne man tjekke det? \n",
        "# Beskriv kort strategi og måske kode.\n",
        "\n",
        "# groupby weekday, count bestillinger / dag"
      ],
      "execution_count": null,
      "outputs": []
    },
    {
      "cell_type": "code",
      "metadata": {
        "tags": [],
        "cell_id": "00021-72da76a1-6d7d-4e54-9977-e4118a858f55",
        "deepnote_to_be_reexecuted": false,
        "source_hash": "252fdc7f",
        "execution_start": 1632856544712,
        "execution_millis": 256,
        "deepnote_cell_type": "code",
        "colab": {
          "base_uri": "https://localhost:8080/",
          "height": 296
        },
        "id": "1WUO9Wp_abmY",
        "outputId": "75b779df-c2d5-4873-e460-50c7f8b9cfa9"
      },
      "source": [
        "# 3.7\n",
        "# er der måneder, hvor det går rigtig godt eller omvendt? lav en barplot med total på x \n",
        "# og month_name() - tilgås som day_name() - på y\n",
        "sns.barplot(x=monthly_sales.total, y=monthly_sales.index.month_name())"
      ],
      "execution_count": null,
      "outputs": [
        {
          "output_type": "execute_result",
          "data": {
            "text/plain": [
              "<matplotlib.axes._subplots.AxesSubplot at 0x7fe62b2b0d50>"
            ]
          },
          "metadata": {},
          "execution_count": 31
        },
        {
          "output_type": "display_data",
          "data": {
            "image/png": "[encoded data removed]",
            "text/plain": [
              "<Figure size 432x288 with 1 Axes>"
            ]
          },
          "metadata": {
            "needs_background": "light"
          }
        }
      ]
    },
    {
      "cell_type": "code",
      "metadata": {
        "tags": [],
        "cell_id": "00035-3d91d9cb-c593-47ab-a7fb-c5e3e36b6ae8",
        "deepnote_to_be_reexecuted": false,
        "source_hash": "28bc197e",
        "execution_start": 1632863339385,
        "execution_millis": 225,
        "deepnote_cell_type": "code",
        "colab": {
          "base_uri": "https://localhost:8080/",
          "height": 339
        },
        "id": "kDpC-xboabmY",
        "outputId": "904ece9f-f3fb-4419-96e7-6ec4dea62041"
      },
      "source": [
        "# 3.8\n",
        "# lav en lineplot som viser salgsudvikling per uge over tid index på x, total på y\n",
        "plt.xticks(rotation = 'vertical')\n",
        "sns.lineplot(x = weekly_sales.index, y = weekly_sales.total)"
      ],
      "execution_count": null,
      "outputs": [
        {
          "output_type": "execute_result",
          "data": {
            "text/plain": [
              "<matplotlib.axes._subplots.AxesSubplot at 0x7fe62b1d2890>"
            ]
          },
          "metadata": {},
          "execution_count": 32
        },
        {
          "output_type": "display_data",
          "data": {
            "image/png": "[encoded data removed]",
            "text/plain": [
              "<Figure size 432x288 with 1 Axes>"
            ]
          },
          "metadata": {
            "needs_background": "light"
          }
        }
      ]
    },
    {
      "cell_type": "code",
      "metadata": {
        "id": "df4LBXEJdT1_"
      },
      "source": [
        "# kan vi se effekten af COVID19?\n",
        "# Svar: ja, stigning feb/mar 2020"
      ],
      "execution_count": null,
      "outputs": []
    },
    {
      "cell_type": "code",
      "metadata": {
        "id": "E6x76D1Pe4ll"
      },
      "source": [
        "# Hvorfor sælger de (ifølge data) ikke noget i maj?\n",
        "# Svar: Data for Maj mangler"
      ],
      "execution_count": null,
      "outputs": []
    },
    {
      "cell_type": "markdown",
      "metadata": {
        "id": "0VFUASDmfCfi"
      },
      "source": [
        "#### Geografi"
      ]
    },
    {
      "cell_type": "code",
      "metadata": {
        "tags": [],
        "cell_id": "00037-ba7eaff8-4ac0-4bb0-92ee-c81818866633",
        "deepnote_to_be_reexecuted": false,
        "source_hash": "33dd9267",
        "execution_start": 1632864425590,
        "execution_millis": 12,
        "deepnote_cell_type": "code",
        "colab": {
          "base_uri": "https://localhost:8080/"
        },
        "id": "quY9eaqpabmZ",
        "outputId": "cdc1bf4b-d33e-4580-8bf6-051aa541537f"
      },
      "source": [
        "# 4.1\n",
        "# Geografisk fordeling: Hvor mange bestillinger kommer der fra de forskellige nabolag\n",
        "\n",
        "sales.place.value_counts()"
      ],
      "execution_count": null,
      "outputs": [
        {
          "output_type": "execute_result",
          "data": {
            "text/plain": [
              "Dongmyeon           416\n",
              "onsite-takeout      254\n",
              "Hoopyeong2-dong     254\n",
              "Hoopyeong3-dong     249\n",
              "Hoopyeong1-dong     196\n",
              "Seoksa-dong         169\n",
              "Toegye-dong         146\n",
              "Hyoja2-dong         143\n",
              "Soyang-dong         132\n",
              "Sinsawoo-dong        91\n",
              "Hyoja3-dong          80\n",
              "Gyo-dong             67\n",
              "Gangnam-dong         52\n",
              "Hyoja1-dong          50\n",
              "Jowoon-dong          37\n",
              "Dongnae-myeon        31\n",
              "Geunhwa-dong         29\n",
              "Yaksamyeong-dong     23\n",
              "Sindong-myeon         1\n",
              "Name: place, dtype: int64"
            ]
          },
          "metadata": {},
          "execution_count": 35
        }
      ]
    },
    {
      "cell_type": "code",
      "metadata": {
        "tags": [],
        "cell_id": "00038-b22f63d1-b5a1-4d9a-8a33-f4c6c610ebf6",
        "deepnote_to_be_reexecuted": false,
        "source_hash": "8eeffb4b",
        "execution_start": 1632864425591,
        "execution_millis": 12,
        "deepnote_cell_type": "code",
        "colab": {
          "base_uri": "https://localhost:8080/"
        },
        "id": "sB74HLIdabmZ",
        "outputId": "0e1fdc7f-25e9-48d6-e2f4-88152d1bfbcf"
      },
      "source": [
        "# Det samme igen bare vis andel\n",
        "sales.place.value_counts(normalize=True)"
      ],
      "execution_count": null,
      "outputs": [
        {
          "output_type": "execute_result",
          "data": {
            "text/plain": [
              "Dongmyeon           0.171901\n",
              "onsite-takeout      0.104959\n",
              "Hoopyeong2-dong     0.104959\n",
              "Hoopyeong3-dong     0.102893\n",
              "Hoopyeong1-dong     0.080992\n",
              "Seoksa-dong         0.069835\n",
              "Toegye-dong         0.060331\n",
              "Hyoja2-dong         0.059091\n",
              "Soyang-dong         0.054545\n",
              "Sinsawoo-dong       0.037603\n",
              "Hyoja3-dong         0.033058\n",
              "Gyo-dong            0.027686\n",
              "Gangnam-dong        0.021488\n",
              "Hyoja1-dong         0.020661\n",
              "Jowoon-dong         0.015289\n",
              "Dongnae-myeon       0.012810\n",
              "Geunhwa-dong        0.011983\n",
              "Yaksamyeong-dong    0.009504\n",
              "Sindong-myeon       0.000413\n",
              "Name: place, dtype: float64"
            ]
          },
          "metadata": {},
          "execution_count": 36
        }
      ]
    },
    {
      "cell_type": "code",
      "metadata": {
        "tags": [],
        "cell_id": "00039-3f3c4a6e-1113-4f82-9bbc-bc151eb345d2",
        "deepnote_cell_type": "code",
        "id": "JksHD7ygabmZ"
      },
      "source": [
        "# Hvad er andelen af kunder, der kommer og henter deres søde sager?\n",
        "# Svar: ~10%"
      ],
      "execution_count": null,
      "outputs": []
    },
    {
      "cell_type": "code",
      "metadata": {
        "tags": [],
        "cell_id": "00022-09416ee4-6916-419e-8545-d380ff360fb2",
        "deepnote_to_be_reexecuted": false,
        "source_hash": "4416c029",
        "execution_start": 1632863900156,
        "execution_millis": 16,
        "deepnote_cell_type": "code",
        "colab": {
          "base_uri": "https://localhost:8080/"
        },
        "id": "GxAJe7V7abmZ",
        "outputId": "0a646fd4-0359-48d9-c70b-dab4dcad6b54"
      },
      "source": [
        "# 4.2\n",
        "# hvem spiser mest? Beregn gennemsnit af calorier i bestillinger for de forskellige bydele\n",
        "# sorter fra højeste til laveste\n",
        "sales.groupby('place').calories.mean().sort_values(ascending=False)"
      ],
      "execution_count": null,
      "outputs": [
        {
          "output_type": "execute_result",
          "data": {
            "text/plain": [
              "place\n",
              "Sindong-myeon       2656.000000\n",
              "Dongnae-myeon       2031.419355\n",
              "Seoksa-dong         1948.142012\n",
              "Jowoon-dong         1913.135135\n",
              "Geunhwa-dong        1912.379310\n",
              "Toegye-dong         1881.616438\n",
              "Gangnam-dong        1868.903846\n",
              "Yaksamyeong-dong    1862.434783\n",
              "Hyoja1-dong         1844.440000\n",
              "onsite-takeout      1841.917323\n",
              "Sinsawoo-dong       1836.186813\n",
              "Hyoja2-dong         1744.384615\n",
              "Soyang-dong         1710.469697\n",
              "Dongmyeon           1694.990385\n",
              "Hoopyeong1-dong     1690.020408\n",
              "Gyo-dong            1614.671642\n",
              "Hyoja3-dong         1551.412500\n",
              "Hoopyeong2-dong     1539.858268\n",
              "Hoopyeong3-dong     1537.080321\n",
              "Name: calories, dtype: float64"
            ]
          },
          "metadata": {},
          "execution_count": 38
        }
      ]
    },
    {
      "cell_type": "code",
      "metadata": {
        "tags": [],
        "cell_id": "00039-f468c2ba-fd26-42ea-8d6d-4dead54903b2",
        "deepnote_cell_type": "code",
        "id": "RDiqEHAVabmZ"
      },
      "source": [
        "# Er der nogle bydele hvor vi måske ikke skal stole på disse beregninger \n",
        "# hvis man tager hensyn til den beregning der blev foretaget inden?\n",
        "# Skriv navne på 1 eller 2\n",
        "\n",
        "# Svar: Sindong-myeon; Yaksamyeong-dong"
      ],
      "execution_count": null,
      "outputs": []
    },
    {
      "cell_type": "code",
      "metadata": {
        "tags": [],
        "cell_id": "00025-29fb6023-bae2-4970-bb70-dba6cec20b97",
        "deepnote_to_be_reexecuted": false,
        "source_hash": "260b8fad",
        "execution_start": 1632856544988,
        "execution_millis": 34,
        "deepnote_cell_type": "code",
        "colab": {
          "base_uri": "https://localhost:8080/"
        },
        "id": "yZ0dH7__abmZ",
        "outputId": "46b8ab36-d0f7-4de6-f057-3d59b8c4602d"
      },
      "source": [
        "# 4.3\n",
        "# Får vi et andet billede ved at se på gennemsnit af cal_per_item i de forskellige bydele?\n",
        "sales.groupby('place').cal_per_item.mean().sort_values(ascending=False)"
      ],
      "execution_count": null,
      "outputs": [
        {
          "output_type": "execute_result",
          "data": {
            "text/plain": [
              "place\n",
              "Geunhwa-dong        441.048768\n",
              "Gyo-dong            419.654691\n",
              "Hyoja2-dong         410.539573\n",
              "Toegye-dong         404.651422\n",
              "Hyoja3-dong         403.204643\n",
              "Soyang-dong         400.686440\n",
              "onsite-takeout      400.221219\n",
              "Hyoja1-dong         399.854063\n",
              "Dongnae-myeon       395.885906\n",
              "Gangnam-dong        395.012332\n",
              "Yaksamyeong-dong    394.464251\n",
              "Seoksa-dong         389.225417\n",
              "Jowoon-dong         384.762519\n",
              "Sinsawoo-dong       383.003811\n",
              "Dongmyeon           380.744770\n",
              "Sindong-myeon       379.428571\n",
              "Hoopyeong3-dong     378.624121\n",
              "Hoopyeong1-dong     375.347175\n",
              "Hoopyeong2-dong     367.581837\n",
              "Name: cal_per_item, dtype: float64"
            ]
          },
          "metadata": {},
          "execution_count": 40
        }
      ]
    },
    {
      "cell_type": "markdown",
      "metadata": {
        "tags": [],
        "is_collapsed": false,
        "cell_id": "00050-215e7b1c-6681-46fd-a42f-fba0d08525bd",
        "deepnote_cell_type": "text-cell-h3",
        "id": "RKTpieFaabma"
      },
      "source": [
        "### Kaffee vs Croissant"
      ]
    },
    {
      "cell_type": "markdown",
      "metadata": {
        "tags": [],
        "cell_id": "00051-0c71233f-387e-4ce4-8dec-fa8c29259d7c",
        "deepnote_cell_type": "markdown",
        "id": "Tt07xSkBabma"
      },
      "source": [
        "Folk, der bestiller kaffee bestiller også croissant - ekker hvad?\n",
        "Brug korrelation til at se om der måske er sammenhæng på uge-niveau."
      ]
    },
    {
      "cell_type": "code",
      "metadata": {
        "tags": [],
        "cell_id": "00009-61ab788e-21c8-4c6e-92e3-22c3ad539f56",
        "deepnote_to_be_reexecuted": false,
        "source_hash": "13136428",
        "execution_start": 1632856545368,
        "execution_millis": 0,
        "deepnote_cell_type": "code",
        "id": "fpSFnaKRabma"
      },
      "source": [
        "# 5.1\n",
        "# lav en ny variable 'coffee' i weekly_sales, som summer værdier for americano, caffe_latte og vanila_latte\n",
        "weekly_sales['coffee'] = weekly_sales['americano'] + weekly_sales['caffe_latte'] + weekly_sales['vanila_latte']"
      ],
      "execution_count": null,
      "outputs": []
    },
    {
      "cell_type": "code",
      "metadata": {
        "tags": [],
        "cell_id": "00010-6b22d259-cdb4-4040-a87f-b0ea2cb05553",
        "deepnote_to_be_reexecuted": false,
        "source_hash": "bdc3204f",
        "execution_start": 1632856545369,
        "execution_millis": 20,
        "deepnote_cell_type": "code",
        "colab": {
          "base_uri": "https://localhost:8080/",
          "height": 172
        },
        "id": "3HYNlcZ1abma",
        "outputId": "b3bae4d3-0b69-4584-bd65-ea7256baa42d"
      },
      "source": [
        "# 5.2\n",
        "# beregn en korrelationstable for coffee, angbutter, plain_bread og vroissant\n",
        "weekly_sales[['angbutter','plain_bread','croissant','coffee']].corr()"
      ],
      "execution_count": null,
      "outputs": [
        {
          "output_type": "execute_result",
          "data": {
            "text/html": [
              "<div>\n",
              "<style scoped>\n",
              "    .dataframe tbody tr th:only-of-type {\n",
              "        vertical-align: middle;\n",
              "    }\n",
              "\n",
              "    .dataframe tbody tr th {\n",
              "        vertical-align: top;\n",
              "    }\n",
              "\n",
              "    .dataframe thead th {\n",
              "        text-align: right;\n",
              "    }\n",
              "</style>\n",
              "<table border=\"1\" class=\"dataframe\">\n",
              "  <thead>\n",
              "    <tr style=\"text-align: right;\">\n",
              "      <th></th>\n",
              "      <th>angbutter</th>\n",
              "      <th>plain_bread</th>\n",
              "      <th>croissant</th>\n",
              "      <th>coffee</th>\n",
              "    </tr>\n",
              "  </thead>\n",
              "  <tbody>\n",
              "    <tr>\n",
              "      <th>angbutter</th>\n",
              "      <td>1.000000</td>\n",
              "      <td>0.648669</td>\n",
              "      <td>0.598729</td>\n",
              "      <td>0.448183</td>\n",
              "    </tr>\n",
              "    <tr>\n",
              "      <th>plain_bread</th>\n",
              "      <td>0.648669</td>\n",
              "      <td>1.000000</td>\n",
              "      <td>0.335434</td>\n",
              "      <td>0.559268</td>\n",
              "    </tr>\n",
              "    <tr>\n",
              "      <th>croissant</th>\n",
              "      <td>0.598729</td>\n",
              "      <td>0.335434</td>\n",
              "      <td>1.000000</td>\n",
              "      <td>0.175626</td>\n",
              "    </tr>\n",
              "    <tr>\n",
              "      <th>coffee</th>\n",
              "      <td>0.448183</td>\n",
              "      <td>0.559268</td>\n",
              "      <td>0.175626</td>\n",
              "      <td>1.000000</td>\n",
              "    </tr>\n",
              "  </tbody>\n",
              "</table>\n",
              "</div>"
            ],
            "text/plain": [
              "             angbutter  plain_bread  croissant    coffee\n",
              "angbutter     1.000000     0.648669   0.598729  0.448183\n",
              "plain_bread   0.648669     1.000000   0.335434  0.559268\n",
              "croissant     0.598729     0.335434   1.000000  0.175626\n",
              "coffee        0.448183     0.559268   0.175626  1.000000"
            ]
          },
          "metadata": {},
          "execution_count": 42
        }
      ]
    },
    {
      "cell_type": "code",
      "metadata": {
        "tags": [],
        "cell_id": "00054-95af4641-4334-4412-a615-0d90d5118854",
        "deepnote_cell_type": "code",
        "id": "WjEMLiM1abmb"
      },
      "source": [
        "# Hvad kan vi mulighvis sige om kaffee vs croissaner (og de andre produkter)?\n",
        "# kaffe bliver muligvis mest købt sammen med plain_bread; ikke med croissant"
      ],
      "execution_count": null,
      "outputs": []
    }
  ]
}