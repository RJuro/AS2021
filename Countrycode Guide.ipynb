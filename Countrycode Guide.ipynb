{
 "cells": [
  {
   "cell_type": "markdown",
   "id": "0f5b53de",
   "metadata": {},
   "source": [
    "Vi er først nødt til, at skrive `!pip install countrycode`. Dette installerer `countrycode` pakken på jeres maskine, dette er nødvendigt for, at bruge pakken. "
   ]
  },
  {
   "cell_type": "code",
   "execution_count": 3,
   "id": "dfc3c251",
   "metadata": {},
   "outputs": [
    {
     "name": "stdout",
     "output_type": "stream",
     "text": [
      "Collecting countrycode\n",
      "  Downloading countrycode-0.2.tar.gz (12 kB)\n",
      "Building wheels for collected packages: countrycode\n",
      "  Building wheel for countrycode (setup.py): started\n",
      "  Building wheel for countrycode (setup.py): finished with status 'done'\n",
      "  Created wheel for countrycode: filename=countrycode-0.2-py3-none-any.whl size=13575 sha256=aaa035c3c2e020399141d11d9f0916bde2f43b64104952a829334d03dda28eac\n",
      "  Stored in directory: c:\\users\\sebastian linde\\appdata\\local\\pip\\cache\\wheels\\b2\\1d\\d0\\08437779daf0f2c71d3367ebb2c18ed516069c4050f5855adf\n",
      "Successfully built countrycode\n",
      "Installing collected packages: countrycode\n",
      "Successfully installed countrycode-0.2\n"
     ]
    }
   ],
   "source": [
    "!pip install countrycode"
   ]
  },
  {
   "cell_type": "markdown",
   "id": "8eb6df4a",
   "metadata": {},
   "source": [
    "Når dette er gjort skulle der gerne stå \"Successfully install countrycode-0.2\" nederst i outputtet. Dette er også sådan man installerer andre pakker typisk, så det er en god ting, at skrive bag øret hvis man gerne vil arbejde lidt videre i Python og får brug for andre libaries. "
   ]
  },
  {
   "cell_type": "code",
   "execution_count": 24,
   "id": "5a309682",
   "metadata": {},
   "outputs": [],
   "source": [
    "# Importerer nødvendige libraries:\n",
    "import pandas as pd\n",
    "from countrycode import countrycode"
   ]
  },
  {
   "cell_type": "code",
   "execution_count": 18,
   "id": "d280950c",
   "metadata": {},
   "outputs": [],
   "source": [
    "# Vi importerer lige noget data vi kan arbejde med så guiden giver mere mening.\n",
    "trips_data = pd.read_csv('https://sds-aau.github.io/SDS-master/M1/data/trips.csv')\n",
    "trips = pd.DataFrame(trips_data)"
   ]
  },
  {
   "cell_type": "code",
   "execution_count": 19,
   "id": "bb2b59c6",
   "metadata": {},
   "outputs": [
    {
     "data": {
      "text/html": [
       "<div>\n",
       "<style scoped>\n",
       "    .dataframe tbody tr th:only-of-type {\n",
       "        vertical-align: middle;\n",
       "    }\n",
       "\n",
       "    .dataframe tbody tr th {\n",
       "        vertical-align: top;\n",
       "    }\n",
       "\n",
       "    .dataframe thead th {\n",
       "        text-align: right;\n",
       "    }\n",
       "</style>\n",
       "<table border=\"1\" class=\"dataframe\">\n",
       "  <thead>\n",
       "    <tr style=\"text-align: right;\">\n",
       "      <th></th>\n",
       "      <th>Unnamed: 0</th>\n",
       "      <th>username</th>\n",
       "      <th>country</th>\n",
       "      <th>country_code</th>\n",
       "      <th>country_slug</th>\n",
       "      <th>date_end</th>\n",
       "      <th>date_start</th>\n",
       "      <th>latitude</th>\n",
       "      <th>longitude</th>\n",
       "      <th>place</th>\n",
       "      <th>place_slug</th>\n",
       "    </tr>\n",
       "  </thead>\n",
       "  <tbody>\n",
       "    <tr>\n",
       "      <th>0</th>\n",
       "      <td>0</td>\n",
       "      <td>@lewellenmichael</td>\n",
       "      <td>Mexico</td>\n",
       "      <td>MX</td>\n",
       "      <td>mexico</td>\n",
       "      <td>2018-06-15</td>\n",
       "      <td>2018-06-04</td>\n",
       "      <td>21</td>\n",
       "      <td>-101</td>\n",
       "      <td>Guanajuato</td>\n",
       "      <td>mexico</td>\n",
       "    </tr>\n",
       "    <tr>\n",
       "      <th>1</th>\n",
       "      <td>1</td>\n",
       "      <td>@lewellenmichael</td>\n",
       "      <td>Mexico</td>\n",
       "      <td>MX</td>\n",
       "      <td>mexico</td>\n",
       "      <td>2018-06-03</td>\n",
       "      <td>2018-05-31</td>\n",
       "      <td>19</td>\n",
       "      <td>-99</td>\n",
       "      <td>Mexico City</td>\n",
       "      <td>mexico-city-mexico</td>\n",
       "    </tr>\n",
       "    <tr>\n",
       "      <th>2</th>\n",
       "      <td>2</td>\n",
       "      <td>@lewellenmichael</td>\n",
       "      <td>Mexico</td>\n",
       "      <td>MX</td>\n",
       "      <td>mexico</td>\n",
       "      <td>2017-11-05</td>\n",
       "      <td>2017-11-01</td>\n",
       "      <td>21</td>\n",
       "      <td>-86</td>\n",
       "      <td>Cancun</td>\n",
       "      <td>cancun-mexico</td>\n",
       "    </tr>\n",
       "    <tr>\n",
       "      <th>3</th>\n",
       "      <td>3</td>\n",
       "      <td>@lewellenmichael</td>\n",
       "      <td>Jordan</td>\n",
       "      <td>JO</td>\n",
       "      <td>jordan</td>\n",
       "      <td>2017-08-07</td>\n",
       "      <td>2017-07-24</td>\n",
       "      <td>31</td>\n",
       "      <td>35</td>\n",
       "      <td>Amman</td>\n",
       "      <td>amman-jordan</td>\n",
       "    </tr>\n",
       "    <tr>\n",
       "      <th>4</th>\n",
       "      <td>4</td>\n",
       "      <td>@waylandchin</td>\n",
       "      <td>China</td>\n",
       "      <td>CN</td>\n",
       "      <td>china</td>\n",
       "      <td>2017-03-18</td>\n",
       "      <td>2017-02-17</td>\n",
       "      <td>40</td>\n",
       "      <td>122</td>\n",
       "      <td>Yingkou</td>\n",
       "      <td>china</td>\n",
       "    </tr>\n",
       "  </tbody>\n",
       "</table>\n",
       "</div>"
      ],
      "text/plain": [
       "   Unnamed: 0          username country country_code country_slug    date_end  \\\n",
       "0           0  @lewellenmichael  Mexico           MX       mexico  2018-06-15   \n",
       "1           1  @lewellenmichael  Mexico           MX       mexico  2018-06-03   \n",
       "2           2  @lewellenmichael  Mexico           MX       mexico  2017-11-05   \n",
       "3           3  @lewellenmichael  Jordan           JO       jordan  2017-08-07   \n",
       "4           4      @waylandchin   China           CN        china  2017-03-18   \n",
       "\n",
       "   date_start  latitude  longitude        place          place_slug  \n",
       "0  2018-06-04        21       -101   Guanajuato              mexico  \n",
       "1  2018-05-31        19        -99  Mexico City  mexico-city-mexico  \n",
       "2  2017-11-01        21        -86       Cancun       cancun-mexico  \n",
       "3  2017-07-24        31         35        Amman        amman-jordan  \n",
       "4  2017-02-17        40        122      Yingkou               china  "
      ]
     },
     "execution_count": 19,
     "metadata": {},
     "output_type": "execute_result"
    }
   ],
   "source": [
    "# Ser lige de første 5 rækker.\n",
    "trips.head()"
   ]
  },
  {
   "cell_type": "code",
   "execution_count": 20,
   "id": "99a9e3b6",
   "metadata": {},
   "outputs": [],
   "source": [
    "# Vi fjerner lige de kolonner vi ikke skal bruge her\n",
    "trips.drop(columns=['username', 'country_slug', 'date_end', \n",
    "                    'date_start', 'latitude', 'longitude', \n",
    "                    'place', 'place_slug'], inplace=True)"
   ]
  },
  {
   "cell_type": "code",
   "execution_count": 35,
   "id": "36da2f3c",
   "metadata": {},
   "outputs": [
    {
     "data": {
      "text/html": [
       "<div>\n",
       "<style scoped>\n",
       "    .dataframe tbody tr th:only-of-type {\n",
       "        vertical-align: middle;\n",
       "    }\n",
       "\n",
       "    .dataframe tbody tr th {\n",
       "        vertical-align: top;\n",
       "    }\n",
       "\n",
       "    .dataframe thead th {\n",
       "        text-align: right;\n",
       "    }\n",
       "</style>\n",
       "<table border=\"1\" class=\"dataframe\">\n",
       "  <thead>\n",
       "    <tr style=\"text-align: right;\">\n",
       "      <th></th>\n",
       "      <th>Unnamed: 0</th>\n",
       "      <th>country</th>\n",
       "      <th>country_code</th>\n",
       "    </tr>\n",
       "  </thead>\n",
       "  <tbody>\n",
       "    <tr>\n",
       "      <th>0</th>\n",
       "      <td>0</td>\n",
       "      <td>Mexico</td>\n",
       "      <td>MX</td>\n",
       "    </tr>\n",
       "    <tr>\n",
       "      <th>1</th>\n",
       "      <td>1</td>\n",
       "      <td>Mexico</td>\n",
       "      <td>MX</td>\n",
       "    </tr>\n",
       "    <tr>\n",
       "      <th>2</th>\n",
       "      <td>2</td>\n",
       "      <td>Mexico</td>\n",
       "      <td>MX</td>\n",
       "    </tr>\n",
       "    <tr>\n",
       "      <th>3</th>\n",
       "      <td>3</td>\n",
       "      <td>Jordan</td>\n",
       "      <td>JO</td>\n",
       "    </tr>\n",
       "    <tr>\n",
       "      <th>4</th>\n",
       "      <td>4</td>\n",
       "      <td>China</td>\n",
       "      <td>CN</td>\n",
       "    </tr>\n",
       "  </tbody>\n",
       "</table>\n",
       "</div>"
      ],
      "text/plain": [
       "   Unnamed: 0 country country_code\n",
       "0           0  Mexico           MX\n",
       "1           1  Mexico           MX\n",
       "2           2  Mexico           MX\n",
       "3           3  Jordan           JO\n",
       "4           4   China           CN"
      ]
     },
     "execution_count": 35,
     "metadata": {},
     "output_type": "execute_result"
    }
   ],
   "source": [
    "# Ser lige de første 5 rækker igen\n",
    "trips.head()"
   ]
  },
  {
   "cell_type": "code",
   "execution_count": null,
   "id": "307fec32",
   "metadata": {},
   "outputs": [],
   "source": [
    "# Hvor stor er vores trips"
   ]
  },
  {
   "cell_type": "markdown",
   "id": "ccd591d2",
   "metadata": {},
   "source": [
    "Nu vil vi forsøge, at lave en ny `country_code` kolonne vha. `countrycode` pakken og `country` kolonnen."
   ]
  },
  {
   "cell_type": "code",
   "execution_count": 42,
   "id": "f6731d81",
   "metadata": {
    "scrolled": true
   },
   "outputs": [],
   "source": [
    "country_codes = countrycode.countrycode(codes=trips['country'], origin='country_name', target='iso3c')"
   ]
  },
  {
   "cell_type": "markdown",
   "id": "f5dc8fff",
   "metadata": {},
   "source": [
    "Nu kan vi se vi får countrycodes som output fra den ovenstående funktion. Dette kan vi bruge til, at lave en ny kolonne i DataFramen."
   ]
  },
  {
   "cell_type": "code",
   "execution_count": 43,
   "id": "718af971",
   "metadata": {},
   "outputs": [],
   "source": [
    "trips['country_codes'] = country_codes"
   ]
  },
  {
   "cell_type": "code",
   "execution_count": 44,
   "id": "81e067ad",
   "metadata": {},
   "outputs": [
    {
     "data": {
      "text/html": [
       "<div>\n",
       "<style scoped>\n",
       "    .dataframe tbody tr th:only-of-type {\n",
       "        vertical-align: middle;\n",
       "    }\n",
       "\n",
       "    .dataframe tbody tr th {\n",
       "        vertical-align: top;\n",
       "    }\n",
       "\n",
       "    .dataframe thead th {\n",
       "        text-align: right;\n",
       "    }\n",
       "</style>\n",
       "<table border=\"1\" class=\"dataframe\">\n",
       "  <thead>\n",
       "    <tr style=\"text-align: right;\">\n",
       "      <th></th>\n",
       "      <th>Unnamed: 0</th>\n",
       "      <th>country</th>\n",
       "      <th>country_code</th>\n",
       "      <th>country_codes</th>\n",
       "    </tr>\n",
       "  </thead>\n",
       "  <tbody>\n",
       "    <tr>\n",
       "      <th>0</th>\n",
       "      <td>0</td>\n",
       "      <td>Mexico</td>\n",
       "      <td>MX</td>\n",
       "      <td>MEX</td>\n",
       "    </tr>\n",
       "    <tr>\n",
       "      <th>1</th>\n",
       "      <td>1</td>\n",
       "      <td>Mexico</td>\n",
       "      <td>MX</td>\n",
       "      <td>MEX</td>\n",
       "    </tr>\n",
       "    <tr>\n",
       "      <th>2</th>\n",
       "      <td>2</td>\n",
       "      <td>Mexico</td>\n",
       "      <td>MX</td>\n",
       "      <td>MEX</td>\n",
       "    </tr>\n",
       "    <tr>\n",
       "      <th>3</th>\n",
       "      <td>3</td>\n",
       "      <td>Jordan</td>\n",
       "      <td>JO</td>\n",
       "      <td>JOR</td>\n",
       "    </tr>\n",
       "    <tr>\n",
       "      <th>4</th>\n",
       "      <td>4</td>\n",
       "      <td>China</td>\n",
       "      <td>CN</td>\n",
       "      <td>CHN</td>\n",
       "    </tr>\n",
       "  </tbody>\n",
       "</table>\n",
       "</div>"
      ],
      "text/plain": [
       "   Unnamed: 0 country country_code country_codes\n",
       "0           0  Mexico           MX           MEX\n",
       "1           1  Mexico           MX           MEX\n",
       "2           2  Mexico           MX           MEX\n",
       "3           3  Jordan           JO           JOR\n",
       "4           4   China           CN           CHN"
      ]
     },
     "execution_count": 44,
     "metadata": {},
     "output_type": "execute_result"
    }
   ],
   "source": [
    "trips.head()"
   ]
  },
  {
   "cell_type": "markdown",
   "id": "b9c9b831",
   "metadata": {},
   "source": [
    "Nu er der tilføjet en ekstra kolonne, som indeholder country_codes som er genereret fra `countrycode` pakken efter `iso3c` konventionen. Hvis i skal bruge country codes med kun to tegn kan i bruge `iso2c` i stedet."
   ]
  }
 ],
 "metadata": {
  "kernelspec": {
   "display_name": "Python 3 (ipykernel)",
   "language": "python",
   "name": "python3"
  },
  "language_info": {
   "codemirror_mode": {
    "name": "ipython",
    "version": 3
   },
   "file_extension": ".py",
   "mimetype": "text/x-python",
   "name": "python",
   "nbconvert_exporter": "python",
   "pygments_lexer": "ipython3",
   "version": "3.9.7"
  }
 },
 "nbformat": 4,
 "nbformat_minor": 5
}
