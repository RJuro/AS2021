{
  "nbformat": 4,
  "nbformat_minor": 0,
  "metadata": {
    "colab": {
      "name": "Øvelse1 med Svar.ipynb",
      "provenance": [],
      "collapsed_sections": [],
      "include_colab_link": true
    },
    "kernelspec": {
      "name": "python3",
      "display_name": "Python 3"
    },
    "language_info": {
      "name": "python"
    }
  },
  "cells": [
    {
      "cell_type": "markdown",
      "metadata": {
        "id": "view-in-github",
        "colab_type": "text"
      },
      "source": [
        "<a href=\"https://colab.research.google.com/github/RJuro/AS2021/blob/main/%C3%98velse2_med_Svar.ipynb\" target=\"_parent\"><img src=\"https://colab.research.google.com/assets/colab-badge.svg\" alt=\"Open In Colab\"/></a>"
      ]
    },
    {
      "cell_type": "markdown",
      "metadata": {
        "id": "Rwjxhsd5PLk2"
      },
      "source": [
        "# HA 1. Semester Anvendt Statistik - Øvelse 1\n",
        "## Libraries\n",
        "I Python bruger man **libraries**, eller pakker, som giver mulighed for at bruge funktioner og kode som er skrevet af andre i forvejen. Når man importerer libraries, så importerer man dermed en eksisterende Python kode som man kan bruge. I denne notebook starter vi med at importere nogle få, vigtige, pakker, der giver mulighed for at hente og formatere data, og for at foretage simpel deskriptiv statistik. \n",
        "\n",
        "Den første pakke er **pandas**. pandas bruges til at arbjede med data i Python. Ved hjælp af pandas kan vi hente data fra eksterne kilder, såsom Excel-filer, csv-filer, osv. Ydermere, kan pandas bruges til at rengøre, formattere, og modellere data. \n",
        "\n",
        "Når vi arbejder med data er det vigtigt at kunne visualisere og præsentere det på en måde som er overskuelig og som får leveret den besked man ønsker. Til at gøre dette bruger vi pakken **seaborn**, som er en pakke i Python der bruges til at lave plots og visualiseringer.\n",
        "\n",
        "\n"
      ]
    },
    {
      "cell_type": "code",
      "metadata": {
        "id": "Hn9_Jw-m8waM"
      },
      "source": [
        "# Vi bruger hashtag til at sætte kommentarer i Python. På den måde kan vi sørge for at koden er forståelig og læsbar for andre\n",
        "\n",
        "# Vi importerer libraries eller pakker til Python med forkortelser, da man så skal skrive mindre i koden efterfølgende. \n",
        "import pandas as pd # Pandas er det library der oftest bruges til at arbejde med datasæt, som i Pandas hedder DataFrames eller df.\n",
        "import seaborn as sns # Seaborn er et library der kan bruges til at lave forskellige visualiseringer af data."
      ],
      "execution_count": null,
      "outputs": []
    },
    {
      "cell_type": "markdown",
      "metadata": {
        "id": "riNet-8cnZbK"
      },
      "source": [
        "## Data import i Python\n",
        "I dette fag er det data vi ønsker at arbejde med typisk givet igennem enten Excel-filer eller CSV-filer. CSV-filer minder om Excel filer, men i stedet for, at dataen er i forskellige kolonner er det i en kolonne og opdelt med kommaer. CSV er en forkortelse for Comma Separated Values.\n",
        " \n",
        "I det nedenstående trækkes data fra en fil på **GitHub**, men stien i parantesen kunne også være en sti til en lokal fil på jeres computer."
      ]
    },
    {
      "cell_type": "code",
      "metadata": {
        "id": "ynrgu8Gy9RG-"
      },
      "source": [
        "# Ved at bruge funktionen 'read_csv' fra Pandas pakken kan vi importere data fra csv-filer. \n",
        "HR_df = pd.read_csv('https://raw.githubusercontent.com/STLinde/Anvendt-Statistik/main/HRDataset_v14.csv')"
      ],
      "execution_count": null,
      "outputs": []
    },
    {
      "cell_type": "markdown",
      "metadata": {
        "id": "CG81jLJgoRJ3"
      },
      "source": [
        "## Funktioner i Python\n",
        "For at lære mere om det data vi arbejder med kan vi bruge funktioner i Python. En funktion kaldes ved at skrive navnet på DataFramen, i vores tilfælde HR_df og skrive funktionen direkte efter med punktum som afgrænser. Således: df.funktion(). Funktioner kan også bruges til at ændre dataen og lave beregninger på dataen."
      ]
    },
    {
      "cell_type": "code",
      "metadata": {
        "colab": {
          "base_uri": "https://localhost:8080/",
          "height": 377
        },
        "id": "crPahT_C5amd",
        "outputId": "e9489d86-bb77-4f2c-f0f5-f9607019f1ca"
      },
      "source": [
        "# Når vi har lavet vores DataFrame fra CSV filen, kan vi bruge funktionen \"head()\" til at se de øverste 5 rækker af data i DataFramen. \n",
        "HR_df.head()"
      ],
      "execution_count": null,
      "outputs": [
        {
          "output_type": "execute_result",
          "data": {
            "text/html": [
              "<div>\n",
              "<style scoped>\n",
              "    .dataframe tbody tr th:only-of-type {\n",
              "        vertical-align: middle;\n",
              "    }\n",
              "\n",
              "    .dataframe tbody tr th {\n",
              "        vertical-align: top;\n",
              "    }\n",
              "\n",
              "    .dataframe thead th {\n",
              "        text-align: right;\n",
              "    }\n",
              "</style>\n",
              "<table border=\"1\" class=\"dataframe\">\n",
              "  <thead>\n",
              "    <tr style=\"text-align: right;\">\n",
              "      <th></th>\n",
              "      <th>Employee_Name</th>\n",
              "      <th>EmpID</th>\n",
              "      <th>MarriedID</th>\n",
              "      <th>MaritalStatusID</th>\n",
              "      <th>GenderID</th>\n",
              "      <th>EmpStatusID</th>\n",
              "      <th>DeptID</th>\n",
              "      <th>PerfScoreID</th>\n",
              "      <th>FromDiversityJobFairID</th>\n",
              "      <th>Salary</th>\n",
              "      <th>Termd</th>\n",
              "      <th>PositionID</th>\n",
              "      <th>Position</th>\n",
              "      <th>State</th>\n",
              "      <th>Zip</th>\n",
              "      <th>DOB</th>\n",
              "      <th>Sex</th>\n",
              "      <th>MaritalDesc</th>\n",
              "      <th>CitizenDesc</th>\n",
              "      <th>HispanicLatino</th>\n",
              "      <th>RaceDesc</th>\n",
              "      <th>DateofHire</th>\n",
              "      <th>DateofTermination</th>\n",
              "      <th>TermReason</th>\n",
              "      <th>EmploymentStatus</th>\n",
              "      <th>Department</th>\n",
              "      <th>ManagerName</th>\n",
              "      <th>ManagerID</th>\n",
              "      <th>RecruitmentSource</th>\n",
              "      <th>PerformanceScore</th>\n",
              "      <th>EngagementSurvey</th>\n",
              "      <th>EmpSatisfaction</th>\n",
              "      <th>SpecialProjectsCount</th>\n",
              "      <th>LastPerformanceReview_Date</th>\n",
              "      <th>DaysLateLast30</th>\n",
              "      <th>Absences</th>\n",
              "    </tr>\n",
              "  </thead>\n",
              "  <tbody>\n",
              "    <tr>\n",
              "      <th>0</th>\n",
              "      <td>Adinolfi, Wilson  K</td>\n",
              "      <td>10026</td>\n",
              "      <td>0</td>\n",
              "      <td>0</td>\n",
              "      <td>1</td>\n",
              "      <td>1</td>\n",
              "      <td>5</td>\n",
              "      <td>4</td>\n",
              "      <td>0</td>\n",
              "      <td>62506</td>\n",
              "      <td>0</td>\n",
              "      <td>19</td>\n",
              "      <td>Production Technician I</td>\n",
              "      <td>MA</td>\n",
              "      <td>1960</td>\n",
              "      <td>07/10/83</td>\n",
              "      <td>M</td>\n",
              "      <td>Single</td>\n",
              "      <td>US Citizen</td>\n",
              "      <td>No</td>\n",
              "      <td>White</td>\n",
              "      <td>7/5/2011</td>\n",
              "      <td>NaN</td>\n",
              "      <td>N/A-StillEmployed</td>\n",
              "      <td>Active</td>\n",
              "      <td>Production</td>\n",
              "      <td>Michael Albert</td>\n",
              "      <td>22.0</td>\n",
              "      <td>LinkedIn</td>\n",
              "      <td>Exceeds</td>\n",
              "      <td>4.60</td>\n",
              "      <td>5</td>\n",
              "      <td>0</td>\n",
              "      <td>1/17/2019</td>\n",
              "      <td>0</td>\n",
              "      <td>1</td>\n",
              "    </tr>\n",
              "    <tr>\n",
              "      <th>1</th>\n",
              "      <td>Ait Sidi, Karthikeyan</td>\n",
              "      <td>10084</td>\n",
              "      <td>1</td>\n",
              "      <td>1</td>\n",
              "      <td>1</td>\n",
              "      <td>5</td>\n",
              "      <td>3</td>\n",
              "      <td>3</td>\n",
              "      <td>0</td>\n",
              "      <td>104437</td>\n",
              "      <td>1</td>\n",
              "      <td>27</td>\n",
              "      <td>Sr. DBA</td>\n",
              "      <td>MA</td>\n",
              "      <td>2148</td>\n",
              "      <td>05/05/75</td>\n",
              "      <td>M</td>\n",
              "      <td>Married</td>\n",
              "      <td>US Citizen</td>\n",
              "      <td>No</td>\n",
              "      <td>White</td>\n",
              "      <td>3/30/2015</td>\n",
              "      <td>6/16/2016</td>\n",
              "      <td>career change</td>\n",
              "      <td>Voluntarily Terminated</td>\n",
              "      <td>IT/IS</td>\n",
              "      <td>Simon Roup</td>\n",
              "      <td>4.0</td>\n",
              "      <td>Indeed</td>\n",
              "      <td>Fully Meets</td>\n",
              "      <td>4.96</td>\n",
              "      <td>3</td>\n",
              "      <td>6</td>\n",
              "      <td>2/24/2016</td>\n",
              "      <td>0</td>\n",
              "      <td>17</td>\n",
              "    </tr>\n",
              "    <tr>\n",
              "      <th>2</th>\n",
              "      <td>Akinkuolie, Sarah</td>\n",
              "      <td>10196</td>\n",
              "      <td>1</td>\n",
              "      <td>1</td>\n",
              "      <td>0</td>\n",
              "      <td>5</td>\n",
              "      <td>5</td>\n",
              "      <td>3</td>\n",
              "      <td>0</td>\n",
              "      <td>64955</td>\n",
              "      <td>1</td>\n",
              "      <td>20</td>\n",
              "      <td>Production Technician II</td>\n",
              "      <td>MA</td>\n",
              "      <td>1810</td>\n",
              "      <td>09/19/88</td>\n",
              "      <td>F</td>\n",
              "      <td>Married</td>\n",
              "      <td>US Citizen</td>\n",
              "      <td>No</td>\n",
              "      <td>White</td>\n",
              "      <td>7/5/2011</td>\n",
              "      <td>9/24/2012</td>\n",
              "      <td>hours</td>\n",
              "      <td>Voluntarily Terminated</td>\n",
              "      <td>Production</td>\n",
              "      <td>Kissy Sullivan</td>\n",
              "      <td>20.0</td>\n",
              "      <td>LinkedIn</td>\n",
              "      <td>Fully Meets</td>\n",
              "      <td>3.02</td>\n",
              "      <td>3</td>\n",
              "      <td>0</td>\n",
              "      <td>5/15/2012</td>\n",
              "      <td>0</td>\n",
              "      <td>3</td>\n",
              "    </tr>\n",
              "    <tr>\n",
              "      <th>3</th>\n",
              "      <td>Alagbe,Trina</td>\n",
              "      <td>10088</td>\n",
              "      <td>1</td>\n",
              "      <td>1</td>\n",
              "      <td>0</td>\n",
              "      <td>1</td>\n",
              "      <td>5</td>\n",
              "      <td>3</td>\n",
              "      <td>0</td>\n",
              "      <td>64991</td>\n",
              "      <td>0</td>\n",
              "      <td>19</td>\n",
              "      <td>Production Technician I</td>\n",
              "      <td>MA</td>\n",
              "      <td>1886</td>\n",
              "      <td>09/27/88</td>\n",
              "      <td>F</td>\n",
              "      <td>Married</td>\n",
              "      <td>US Citizen</td>\n",
              "      <td>No</td>\n",
              "      <td>White</td>\n",
              "      <td>1/7/2008</td>\n",
              "      <td>NaN</td>\n",
              "      <td>N/A-StillEmployed</td>\n",
              "      <td>Active</td>\n",
              "      <td>Production</td>\n",
              "      <td>Elijiah Gray</td>\n",
              "      <td>16.0</td>\n",
              "      <td>Indeed</td>\n",
              "      <td>Fully Meets</td>\n",
              "      <td>4.84</td>\n",
              "      <td>5</td>\n",
              "      <td>0</td>\n",
              "      <td>1/3/2019</td>\n",
              "      <td>0</td>\n",
              "      <td>15</td>\n",
              "    </tr>\n",
              "    <tr>\n",
              "      <th>4</th>\n",
              "      <td>Anderson, Carol</td>\n",
              "      <td>10069</td>\n",
              "      <td>0</td>\n",
              "      <td>2</td>\n",
              "      <td>0</td>\n",
              "      <td>5</td>\n",
              "      <td>5</td>\n",
              "      <td>3</td>\n",
              "      <td>0</td>\n",
              "      <td>50825</td>\n",
              "      <td>1</td>\n",
              "      <td>19</td>\n",
              "      <td>Production Technician I</td>\n",
              "      <td>MA</td>\n",
              "      <td>2169</td>\n",
              "      <td>09/08/89</td>\n",
              "      <td>F</td>\n",
              "      <td>Divorced</td>\n",
              "      <td>US Citizen</td>\n",
              "      <td>No</td>\n",
              "      <td>White</td>\n",
              "      <td>7/11/2011</td>\n",
              "      <td>9/6/2016</td>\n",
              "      <td>return to school</td>\n",
              "      <td>Voluntarily Terminated</td>\n",
              "      <td>Production</td>\n",
              "      <td>Webster Butler</td>\n",
              "      <td>39.0</td>\n",
              "      <td>Google Search</td>\n",
              "      <td>Fully Meets</td>\n",
              "      <td>5.00</td>\n",
              "      <td>4</td>\n",
              "      <td>0</td>\n",
              "      <td>2/1/2016</td>\n",
              "      <td>0</td>\n",
              "      <td>2</td>\n",
              "    </tr>\n",
              "  </tbody>\n",
              "</table>\n",
              "</div>"
            ],
            "text/plain": [
              "              Employee_Name  EmpID  ...  DaysLateLast30  Absences\n",
              "0       Adinolfi, Wilson  K  10026  ...               0         1\n",
              "1  Ait Sidi, Karthikeyan     10084  ...               0        17\n",
              "2         Akinkuolie, Sarah  10196  ...               0         3\n",
              "3              Alagbe,Trina  10088  ...               0        15\n",
              "4          Anderson, Carol   10069  ...               0         2\n",
              "\n",
              "[5 rows x 36 columns]"
            ]
          },
          "metadata": {
            "tags": []
          },
          "execution_count": 24
        }
      ]
    },
    {
      "cell_type": "code",
      "metadata": {
        "colab": {
          "base_uri": "https://localhost:8080/"
        },
        "id": "ULxq4tix1HQZ",
        "outputId": "c645a2d9-71cb-4407-8d51-f9565878296a"
      },
      "source": [
        "# Data er ikke altid fuldkommen. Hvilke kolonner har manglende data?\n",
        "# For at se information omkring kolonnenavnene, antallet af tomme celler i hver kolonne, samt data typen i kolonnerne kan vi bruge funktionen \"info()\"\n",
        "HR_df.info()"
      ],
      "execution_count": null,
      "outputs": [
        {
          "output_type": "stream",
          "text": [
            "<class 'pandas.core.frame.DataFrame'>\n",
            "RangeIndex: 311 entries, 0 to 310\n",
            "Data columns (total 36 columns):\n",
            " #   Column                      Non-Null Count  Dtype  \n",
            "---  ------                      --------------  -----  \n",
            " 0   Employee_Name               311 non-null    object \n",
            " 1   EmpID                       311 non-null    int64  \n",
            " 2   MarriedID                   311 non-null    int64  \n",
            " 3   MaritalStatusID             311 non-null    int64  \n",
            " 4   GenderID                    311 non-null    int64  \n",
            " 5   EmpStatusID                 311 non-null    int64  \n",
            " 6   DeptID                      311 non-null    int64  \n",
            " 7   PerfScoreID                 311 non-null    int64  \n",
            " 8   FromDiversityJobFairID      311 non-null    int64  \n",
            " 9   Salary                      311 non-null    int64  \n",
            " 10  Termd                       311 non-null    int64  \n",
            " 11  PositionID                  311 non-null    int64  \n",
            " 12  Position                    311 non-null    object \n",
            " 13  State                       311 non-null    object \n",
            " 14  Zip                         311 non-null    int64  \n",
            " 15  DOB                         311 non-null    object \n",
            " 16  Sex                         311 non-null    object \n",
            " 17  MaritalDesc                 311 non-null    object \n",
            " 18  CitizenDesc                 311 non-null    object \n",
            " 19  HispanicLatino              311 non-null    object \n",
            " 20  RaceDesc                    311 non-null    object \n",
            " 21  DateofHire                  311 non-null    object \n",
            " 22  DateofTermination           104 non-null    object \n",
            " 23  TermReason                  311 non-null    object \n",
            " 24  EmploymentStatus            311 non-null    object \n",
            " 25  Department                  311 non-null    object \n",
            " 26  ManagerName                 311 non-null    object \n",
            " 27  ManagerID                   303 non-null    float64\n",
            " 28  RecruitmentSource           311 non-null    object \n",
            " 29  PerformanceScore            311 non-null    object \n",
            " 30  EngagementSurvey            311 non-null    float64\n",
            " 31  EmpSatisfaction             311 non-null    int64  \n",
            " 32  SpecialProjectsCount        311 non-null    int64  \n",
            " 33  LastPerformanceReview_Date  311 non-null    object \n",
            " 34  DaysLateLast30              311 non-null    int64  \n",
            " 35  Absences                    311 non-null    int64  \n",
            "dtypes: float64(2), int64(16), object(18)\n",
            "memory usage: 87.6+ KB\n"
          ],
          "name": "stdout"
        }
      ]
    },
    {
      "cell_type": "markdown",
      "metadata": {
        "id": "SDRIG_3Iovb7"
      },
      "source": [
        "# Valg af kolonner og summering\n",
        "Når vi arbejder med data er det ofte brugbart, at kunne lave nogle lave nogle summerende beregninger på dataen. Hvis man vil kigge på hvordan fordelingen er på de forskellige værdier i en kolonne kan man bruge funktionen \"value_counts()\". Ved at skrive et punktum efter navnet på DataFramen og efter punktummet angive navnet på den kolonne man vil se på kan man gruppere dataen. Eksempelvis kan man udregne hvor mange der er i hver afdeling ved at skrive:\n",
        "\n",
        "HR_df.Department.value_counts().\n",
        "\n",
        "Her gør vi brug af muligheden for at binde funktioner sammen. Vi skriver først navnet på DataFramen, herefter angiver vi at vi vil kigge på kolonnen \"Department\" og sidst angiver vi at vi gerne vil beregne antallet i hver kategori i kolonnen \"Department\".\n",
        "\n",
        "Når man angiver hvilken kolonne man vil kigge på kan det gøres på to måder:\n",
        "\n",
        "HR_df.Kolonnenavn\n",
        "HR_df[\"Kolonnenavn\"]\n",
        "\n",
        "De to ovenstående stykker kode gør det samme. Og man kan bruge funktioner ved at skrive punktum efter og funktionens navn på begge."
      ]
    },
    {
      "cell_type": "code",
      "metadata": {
        "colab": {
          "base_uri": "https://localhost:8080/"
        },
        "id": "fyZJ7zmB2Nrc",
        "outputId": "1586afd4-26e6-4acc-e4eb-203c3d57cf77"
      },
      "source": [
        "# Hvor mange af medarbejderne er hhv. mænd og kvinder?\n",
        "HR_df.Sex.value_counts()"
      ],
      "execution_count": null,
      "outputs": [
        {
          "output_type": "execute_result",
          "data": {
            "text/plain": [
              "F     176\n",
              "M     135\n",
              "Name: Sex, dtype: int64"
            ]
          },
          "metadata": {
            "tags": []
          },
          "execution_count": 26
        }
      ]
    },
    {
      "cell_type": "markdown",
      "metadata": {
        "id": "v8nhuhmJqXoc"
      },
      "source": [
        "Nogle gange er det gavnligt at beregne procenter (%) når man kigger på summerende statistikker. Dette kan eksempelvis gøres ved, at bruge argumentet \"normalize=True\" i funktionen value_counts(). Argumenter angives i parentesen som afslutter navnet på den funktion man kalder.\n",
        "\n",
        "I det ovenstående eksempel med afdelinger kan vi gøre det på følgende måde:\n",
        "\n",
        "HR_df.Department.value_counts(normalize=True).\n",
        "\n",
        "Her er \"True\" en bestemt datatype der kaldes en Boolean. En **Boolean** datatype kan kun være sand eller falsk, i Python \"True\" eller \"False\". Her er det vigtigt, at det første bogstav er stort og at der ikke bruges anførselstegn eller apostroffer. "
      ]
    },
    {
      "cell_type": "code",
      "metadata": {
        "colab": {
          "base_uri": "https://localhost:8080/"
        },
        "id": "78yUVImo5183",
        "outputId": "be0ea07d-d4af-41f9-f69d-97cc5c54d17e"
      },
      "source": [
        "# Hvor mange procent (%) er der er hver køn?\n",
        "HR_df.Sex.value_counts(normalize=True)"
      ],
      "execution_count": null,
      "outputs": [
        {
          "output_type": "execute_result",
          "data": {
            "text/plain": [
              "F     0.565916\n",
              "M     0.434084\n",
              "Name: Sex, dtype: float64"
            ]
          },
          "metadata": {
            "tags": []
          },
          "execution_count": 28
        }
      ]
    },
    {
      "cell_type": "markdown",
      "metadata": {
        "id": "8ievdMkcrfCG"
      },
      "source": [
        "## Gennemsnit og median\n",
        "I beskrivende statistik beregener vi ofte gennemsnittet af nogle variable ud. Dette kan gøres i Python ved at bruge funktionen \"mean()\"."
      ]
    },
    {
      "cell_type": "code",
      "metadata": {
        "colab": {
          "base_uri": "https://localhost:8080/"
        },
        "id": "ixdf73fU1-9N",
        "outputId": "8dcabe34-9970-4b59-f487-9513945aa975"
      },
      "source": [
        "# Hvad er gennemsnitslønnen for alle medarbejdere?\n",
        "HR_df.Salary.mean()"
      ],
      "execution_count": null,
      "outputs": [
        {
          "output_type": "execute_result",
          "data": {
            "text/plain": [
              "69020.6848874598"
            ]
          },
          "metadata": {
            "tags": []
          },
          "execution_count": 12
        }
      ]
    },
    {
      "cell_type": "markdown",
      "metadata": {
        "id": "g5E1W5JsvklO"
      },
      "source": [
        "En anden statistik der kan give os information omkring hvordan en bestemt variable er fordelt er medianen. Denne kan beregenes i Python ved at bruge funktionen \"median()\"."
      ]
    },
    {
      "cell_type": "code",
      "metadata": {
        "colab": {
          "base_uri": "https://localhost:8080/"
        },
        "id": "rK5PvI2r6k1V",
        "outputId": "7f66c865-fd6d-4219-cb43-194f1cb03486"
      },
      "source": [
        "# Hvad er medianlønnen for alle medarbejderne i vores datasæt?\n",
        "HR_df.Salary.median()"
      ],
      "execution_count": null,
      "outputs": [
        {
          "output_type": "execute_result",
          "data": {
            "text/plain": [
              "62810.0"
            ]
          },
          "metadata": {
            "tags": []
          },
          "execution_count": 34
        }
      ]
    },
    {
      "cell_type": "markdown",
      "metadata": {
        "id": "1p65a0t1v6vo"
      },
      "source": [
        "## Gruppering af data og beregning på grupperet data\n",
        "Hvis man ønsker at beregne for eksempel gennemsnitslønnen fordelt på en bestemt kolonne i dataen kan man bruge funktionen \"groupby()\". Denne skrives direkte efter navnet på DataFramen. For eksempel kan man beregne gennemsnitslønnen for de forskellige stillinger medarbejderne har ved at skrive: \n",
        "\n",
        "HR_df.groupby(\"Position\").Salary.mean()."
      ]
    },
    {
      "cell_type": "code",
      "metadata": {
        "colab": {
          "base_uri": "https://localhost:8080/"
        },
        "id": "FZuomC2m2FhU",
        "outputId": "3f94618c-7776-4ff1-b1bb-46ef52e15653"
      },
      "source": [
        "# Hvad er gennemsnitslønnen for hvert køn?\n",
        "HR_df.groupby(\"Sex\").Salary.mean()"
      ],
      "execution_count": null,
      "outputs": [
        {
          "output_type": "execute_result",
          "data": {
            "text/plain": [
              "Sex\n",
              "F     67786.727273\n",
              "M     70629.400000\n",
              "Name: Salary, dtype: float64"
            ]
          },
          "metadata": {
            "tags": []
          },
          "execution_count": 14
        }
      ]
    },
    {
      "cell_type": "code",
      "metadata": {
        "colab": {
          "base_uri": "https://localhost:8080/"
        },
        "id": "PSmi0h3u2KND",
        "outputId": "595eaf3c-a290-4bc7-c8b3-4f5d7264cdc1"
      },
      "source": [
        "# Hvad er gennemsnitslønnen for hver afdeling?\n",
        "HR_df.groupby(\"Department\").Salary.mean()"
      ],
      "execution_count": null,
      "outputs": [
        {
          "output_type": "execute_result",
          "data": {
            "text/plain": [
              "Department\n",
              "Admin Offices            71791.888889\n",
              "Executive Office        250000.000000\n",
              "IT/IS                    97064.640000\n",
              "Production               59953.545455\n",
              "Sales                    69061.258065\n",
              "Software Engineering     94989.454545\n",
              "Name: Salary, dtype: float64"
            ]
          },
          "metadata": {
            "tags": []
          },
          "execution_count": 30
        }
      ]
    },
    {
      "cell_type": "markdown",
      "metadata": {
        "id": "1ypTOuUEwnV1"
      },
      "source": [
        "For at gå mere i dybden kan man gruppere dataen på mere en én kolonne. Dette gøres ved at angive en liste som argument i funktionen \"groupby()\".\n",
        "En liste er en datatype i Python som angives mellem brackets og afgrænses med komma: [Item1, Item2, ..., Itemn].\n",
        "Når der grupperes på flere kolonner er outputtet af koden en tabel."
      ]
    },
    {
      "cell_type": "code",
      "metadata": {
        "colab": {
          "base_uri": "https://localhost:8080/"
        },
        "id": "DOR2ZqsG6Vt5",
        "outputId": "135b8818-e416-4e1c-fa18-86dfb89b787d"
      },
      "source": [
        "# Hvad er gennemsnitslønnen for hvert køn i hver afdeling?\n",
        "HR_df.groupby([\"Department\", \"Sex\"]).Salary.mean()"
      ],
      "execution_count": null,
      "outputs": [
        {
          "output_type": "execute_result",
          "data": {
            "text/plain": [
              "Department            Sex\n",
              "Admin Offices         F       70926.333333\n",
              "                      M       73523.000000\n",
              "Executive Office      F      250000.000000\n",
              "IT/IS                 F       94593.000000\n",
              "                      M       99006.642857\n",
              "Production            F       59620.420635\n",
              "                      M       60459.253012\n",
              "Sales                 F       72016.666667\n",
              "                      M       66290.562500\n",
              "Software Engineering  F       96906.166667\n",
              "                      M       92689.400000\n",
              "Name: Salary, dtype: float64"
            ]
          },
          "metadata": {
            "tags": []
          },
          "execution_count": 33
        }
      ]
    },
    {
      "cell_type": "code",
      "metadata": {
        "colab": {
          "base_uri": "https://localhost:8080/"
        },
        "id": "t091IkNl6s84",
        "outputId": "1275276d-ac06-4e3d-c1e0-bee7be27041e"
      },
      "source": [
        "# Hvor mange medarbejdere er der i hver kategori af kolonnen \"PerformanceScore\"?\n",
        "HR_df.PerformanceScore.value_counts()"
      ],
      "execution_count": null,
      "outputs": [
        {
          "output_type": "execute_result",
          "data": {
            "text/plain": [
              "Fully Meets          243\n",
              "Exceeds               37\n",
              "Needs Improvement     18\n",
              "PIP                   13\n",
              "Name: PerformanceScore, dtype: int64"
            ]
          },
          "metadata": {
            "tags": []
          },
          "execution_count": 37
        }
      ]
    },
    {
      "cell_type": "markdown",
      "metadata": {
        "id": "cDcTWT3dxzwX"
      },
      "source": [
        "For at filtrere dataen i en DataFrame på specifikke værdier af en kolonne kan det gøres ved at skrive navnet på DataFramen og derefter det filter man vil bruge i brackets: df[df[\"Kolonnenavn\"] == \"Værdi\"]. \n",
        "\n",
        "Hvis vi for eksempelvis gerne vil udregne gennemsnitslønnen for medarbejdere i afdelingen \"Production\" kan vi gøre det på følgende måde: \n",
        "\n",
        "HR_df[HR_df[\"Department\"] == \"Production\"].Salary.mean()"
      ]
    },
    {
      "cell_type": "code",
      "metadata": {
        "colab": {
          "base_uri": "https://localhost:8080/"
        },
        "id": "ctk5_d2J69bd",
        "outputId": "42c336f5-c34a-410f-ba26-9f1dc5e5e241"
      },
      "source": [
        "# Hvad er gennemsnitslønnen for de medarbejdere der har \"PerformanceScore\" \"Fully Meets\"?\n",
        "HR_df[HR_df[\"PerformanceScore\"] == \"Fully Meets\"].Salary.mean()"
      ],
      "execution_count": null,
      "outputs": [
        {
          "output_type": "execute_result",
          "data": {
            "text/plain": [
              "68366.72016460905"
            ]
          },
          "metadata": {
            "tags": []
          },
          "execution_count": 4
        }
      ]
    },
    {
      "cell_type": "markdown",
      "metadata": {
        "id": "HfTyeijDyoZ9"
      },
      "source": [
        "Vi kan også bruge funktionen \"groupby()\" til at se hvordan den ovenstående gennemsnitsløn er fordelt på mænd og kvinder."
      ]
    },
    {
      "cell_type": "code",
      "metadata": {
        "id": "5q-JDs_Ly1Fy"
      },
      "source": [
        "HR_df[HR_df[\"PerformanceScore\"] == \"Fully Meets\"].groupby(\"Sex\").Salary.mean()"
      ],
      "execution_count": null,
      "outputs": []
    },
    {
      "cell_type": "markdown",
      "metadata": {
        "id": "HgB_fZOGy3ST"
      },
      "source": [
        "Når vi filtrerer i en DataFrame som vi lige har gjort, kan det også gøres med mere end et filter. For at gøre dette skal man sætte parantes om de forskellige filtre og skrive & imellem. Eksempelvis hvis vi vil filtrere på kvinder der ikke er i afdelingen Production kan vi gøre som følgende: \n",
        "\n",
        "HR_Df[(HR_df[\"Department\"] != \"Production\") & (HR_df[\"Sex\"] == \"F\")]\n",
        "\n",
        "Her bruger vi \"!=\" i stedet for \"==\". Hvor \"==\" betyder \"er lig med\", så betyder \"!=\" \"er ikke lig med\"."
      ]
    },
    {
      "cell_type": "code",
      "metadata": {
        "colab": {
          "base_uri": "https://localhost:8080/"
        },
        "id": "OZTwZ6-9FENg",
        "outputId": "066b4cb1-b59d-40c4-9b82-83d0193fb935"
      },
      "source": [
        "# Hvad er gennemsnitslønnen for de medarbejdere der har \"PerformanceScore\" == \"Fully Meets\" og \"EmploymentStatus\" != \"Terminated for Cause\" fordelt på køn?\n",
        "HR_df[(HR_df[\"PerformanceScore\"] == \"Fully Meets\") & (HR_df['EmploymentStatus'] != \"Terminated for Cause\")].groupby(\"Sex\").Salary.mean()"
      ],
      "execution_count": null,
      "outputs": [
        {
          "output_type": "execute_result",
          "data": {
            "text/plain": [
              "Sex\n",
              "F     67611.217391\n",
              "M     67943.000000\n",
              "Name: Salary, dtype: float64"
            ]
          },
          "metadata": {
            "tags": []
          },
          "execution_count": 51
        }
      ]
    },
    {
      "cell_type": "markdown",
      "metadata": {
        "id": "rAL6ARDG0IY4"
      },
      "source": [
        "## Visualisering med Seaborn\n",
        "I beskrivende statistik er det meget brugbart at kunne visualisere og plotte forskellige variable. Dette giver et overblik som ikke er nemt at, få ved kun at se værdierne for de forskellige variable. \n",
        "\n",
        "I Python bruger vi pakken Seaborn til at lave disse plots. \n",
        "\n",
        "For eksempel kan vi lave et såkaldt **Swarmplot** som viser hvordan en bestemt variabel er fordelt over hele variablens.\n",
        "\n",
        "Vi kan gøre dette ved at bruge pakken Seaborn og funktionen \"swarmplot()\". Her skrives den data vi vil plotte i parantesen.\n",
        "\n"
      ]
    },
    {
      "cell_type": "code",
      "metadata": {
        "colab": {
          "base_uri": "https://localhost:8080/",
          "height": 384
        },
        "id": "kwo5Nl4R1I6k",
        "outputId": "e958596b-2d55-473d-f571-dffb9679b529"
      },
      "source": [
        "# Lav et boxplot for lønnen i vores datasæt.\n",
        "sns.swarmplot(HR_df.Salary)"
      ],
      "execution_count": null,
      "outputs": [
        {
          "output_type": "stream",
          "text": [
            "/usr/local/lib/python3.7/dist-packages/seaborn/_decorators.py:43: FutureWarning: Pass the following variable as a keyword arg: x. From version 0.12, the only valid positional argument will be `data`, and passing other arguments without an explicit keyword will result in an error or misinterpretation.\n",
            "  FutureWarning\n",
            "/usr/local/lib/python3.7/dist-packages/seaborn/categorical.py:1296: UserWarning: 6.8% of the points cannot be placed; you may want to decrease the size of the markers or use stripplot.\n",
            "  warnings.warn(msg, UserWarning)\n"
          ],
          "name": "stderr"
        },
        {
          "output_type": "execute_result",
          "data": {
            "text/plain": [
              "<matplotlib.axes._subplots.AxesSubplot at 0x7f40b40e6110>"
            ]
          },
          "metadata": {
            "tags": []
          },
          "execution_count": 10
        },
        {
          "output_type": "display_data",
          "data": {
            "image/png": "[encoded data removed]",
            "text/plain": [
              "<Figure size 432x288 with 1 Axes>"
            ]
          },
          "metadata": {
            "tags": [],
            "needs_background": "light"
          }
        }
      ]
    },
    {
      "cell_type": "markdown",
      "metadata": {
        "id": "rxAljHiZ5m6L"
      },
      "source": [
        "Vi kan også lave et **histogram** ved at bruge funktionen \"sns.distplot()\". Her fordeles de forskellige medarbejderes løn i bins (eller kasser), som dækker et interval. Vi angiver antallet af bins som argument i funktionen. For eksempel:\n",
        "\n",
        "sns.distplot(data, bins=20)."
      ]
    },
    {
      "cell_type": "code",
      "metadata": {
        "colab": {
          "base_uri": "https://localhost:8080/",
          "height": 180
        },
        "id": "847hvId-5ocG",
        "outputId": "a4ed4c4b-fc60-48ad-c257-fc8b773430a9"
      },
      "source": [
        "# Lav et histogram med 20 søjler for at se fordelingen af løn i vores DataFrame.\n",
        "sns.distplot(HR_df.Salary, bins=20)"
      ],
      "execution_count": null,
      "outputs": [
        {
          "output_type": "error",
          "ename": "NameError",
          "evalue": "ignored",
          "traceback": [
            "\u001b[0;31m---------------------------------------------------------------------------\u001b[0m",
            "\u001b[0;31mNameError\u001b[0m                                 Traceback (most recent call last)",
            "\u001b[0;32m<ipython-input-1-2e16bb8fadaa>\u001b[0m in \u001b[0;36m<module>\u001b[0;34m()\u001b[0m\n\u001b[1;32m      1\u001b[0m \u001b[0;31m# Lav et histogram med 20 søjler for at se fordelingen af løn i vores DataFrame.\u001b[0m\u001b[0;34m\u001b[0m\u001b[0;34m\u001b[0m\u001b[0;34m\u001b[0m\u001b[0m\n\u001b[0;32m----> 2\u001b[0;31m \u001b[0msns\u001b[0m\u001b[0;34m.\u001b[0m\u001b[0mdistplot\u001b[0m\u001b[0;34m(\u001b[0m\u001b[0mHR_df\u001b[0m\u001b[0;34m.\u001b[0m\u001b[0mSalary\u001b[0m\u001b[0;34m,\u001b[0m \u001b[0mbins\u001b[0m\u001b[0;34m=\u001b[0m\u001b[0;36m20\u001b[0m\u001b[0;34m)\u001b[0m\u001b[0;34m\u001b[0m\u001b[0;34m\u001b[0m\u001b[0m\n\u001b[0m",
            "\u001b[0;31mNameError\u001b[0m: name 'sns' is not defined"
          ]
        }
      ]
    }
  ]
}