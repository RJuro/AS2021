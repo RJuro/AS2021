{
  "nbformat": 4,
  "nbformat_minor": 0,
  "metadata": {
    "colab": {
      "name": "Stat 2020 - reeksamen - stud.",
      "provenance": [],
      "collapsed_sections": []
    },
    "kernelspec": {
      "name": "python3",
      "display_name": "Python 3"
    }
  },
  "cells": [
    {
      "cell_type": "markdown",
      "metadata": {
        "id": "gA5nKImMnF5F"
      },
      "source": [
        "### Anvendt Statisik - Re-eksamen \r\n",
        "### HA E2020"
      ]
    },
    {
      "cell_type": "markdown",
      "metadata": {
        "id": "15AGw5oFnXyS"
      },
      "source": [
        "I denne opgave bliver i introduceret for Amerikanske huspriser, baseret på opslag fra den private salgsdatabase Craigslist\r\n",
        "\r\n",
        "![](https://source.unsplash.com/C0OhW5_W6hw)\r\n",
        "\r\n",
        "Notebook'en guider dig igennem opgaven. Priser fortolkes i amerikanske dollars ($). \r\n",
        "\r\n",
        "Dataset er baseret på datasæt fra http://kaggle.com/\r\n",
        "uploadet i 2019."
      ]
    },
    {
      "cell_type": "code",
      "metadata": {
        "id": "ZzsNtkE3nWrP"
      },
      "source": [
        "# Importer de pakker der skal bruges til at besvare opgaven her\r\n",
        "import pandas as pd\r\n",
        "pd.set_option('display.float_format', lambda x: '%.5f' % x) # slukker for \"scientific notation\"\r\n",
        "\r\n",
        "import seaborn as sns\r\n",
        "sns.set()"
      ],
      "execution_count": null,
      "outputs": []
    },
    {
      "cell_type": "markdown",
      "metadata": {
        "id": "8zLHhPCEpoXq"
      },
      "source": [
        "data findes på digital eksamen - kan også hentes med link fra Github: https://github.com/SDS-AAU/IntroStat/raw/master/Data/housing_cleaned.csv\n",
        "\n",
        "**Hvis der kommer fejl. Og du kommer ikke videre f.eks in DF er ubrugelig** Lad være med at gå i panik! Gem din notebook, (måske) genstart kernel, kør cellerne oppefra ned (I Colab: automatisk med \"Runtime\" --> \"Run before\"; Jupyter Lab \"Run\" --> \"Run all above selected cell\")\n",
        "\n",
        "Besvarelser (tekst) skrives i felter med \"Svar: ...\" ikke som kommentar i kode-celler"
      ]
    },
    {
      "cell_type": "markdown",
      "metadata": {
        "id": "UCN42eXkBR-d"
      },
      "source": [
        "**1**"
      ]
    },
    {
      "cell_type": "code",
      "metadata": {
        "id": "0dvKxvHpmtIf"
      },
      "source": [
        "# Indlæs data (housing_cleaned.csv)\r\n",
        "df = pd.read_csv(xxx)"
      ],
      "execution_count": null,
      "outputs": []
    },
    {
      "cell_type": "code",
      "metadata": {
        "id": "8IhBLZzMp_yz"
      },
      "source": [
        "# vis de første fem rækker af data\r\n",
        "df.xxx"
      ],
      "execution_count": null,
      "outputs": []
    },
    {
      "cell_type": "code",
      "metadata": {
        "id": "GbJ6cZPzqIbc"
      },
      "source": [
        "# vis information om variable og observationer i data \r\n",
        "xxx"
      ],
      "execution_count": null,
      "outputs": []
    },
    {
      "cell_type": "markdown",
      "metadata": {
        "id": "uvuj2socBmgE"
      },
      "source": [
        "**2**"
      ]
    },
    {
      "cell_type": "code",
      "metadata": {
        "id": "wW8aX9PgqUbQ"
      },
      "source": [
        "# giv et overblik over, hvor mange missing der er i hver variabel (med funktion, ikke udledt fra ovenstående)\r\n",
        "xxx"
      ],
      "execution_count": null,
      "outputs": []
    },
    {
      "cell_type": "markdown",
      "metadata": {
        "id": "m22cZpJoBrew"
      },
      "source": [
        "**3**"
      ]
    },
    {
      "cell_type": "code",
      "metadata": {
        "id": "NYFmAdeUrboO"
      },
      "source": [
        "# give et overblik over prisfordeling (min, max, median, std.afvigelse - 1 Pandas funktion) \r\n",
        "xxx"
      ],
      "execution_count": null,
      "outputs": []
    },
    {
      "cell_type": "markdown",
      "metadata": {
        "id": "KrumwaI9B18v"
      },
      "source": [
        "**4**"
      ]
    },
    {
      "cell_type": "code",
      "metadata": {
        "id": "l41bHlPNrsao"
      },
      "source": [
        "# find den række med det dyreste hus/lejlighed. Det er nemmest ved at \r\n",
        "# Ud fra de informationer du har samlet indtil videre: Er det en sansynlig pris eller en fejl (f.eks. dataindsampling, stavefejl)?\r\n",
        "\r\n",
        "df.loc[df['xxx'] == xxx]"
      ],
      "execution_count": null,
      "outputs": []
    },
    {
      "cell_type": "markdown",
      "metadata": {
        "id": "O6mxf71X68aR"
      },
      "source": [
        "Svar: ..."
      ]
    },
    {
      "cell_type": "markdown",
      "metadata": {
        "id": "_MlPeVo9B42a"
      },
      "source": [
        "**5**"
      ]
    },
    {
      "cell_type": "code",
      "metadata": {
        "id": "xIrGJTzGsL1h"
      },
      "source": [
        "# Med udgangspunkt i \"price\", beskær datasættet til 99. percentil (99 ekskl.) - brug dette datasæt fremadrettet!!!\r\n",
        "df = xxx"
      ],
      "execution_count": null,
      "outputs": []
    },
    {
      "cell_type": "markdown",
      "metadata": {
        "id": "Mk-vZCn-B7sn"
      },
      "source": [
        "**6**"
      ]
    },
    {
      "cell_type": "code",
      "metadata": {
        "id": "u_teZJyPsNWm"
      },
      "source": [
        "# give et overblik over prisfordeling (min, max, median, std.afvigelse) i det afgrænsede datasæt for at sikre\n",
        "# at ekstremværdier er ude\n",
        "\n",
        "# Hvor mange observationer blev slettet fra dine data?\n",
        "\n",
        "xxx"
      ],
      "execution_count": null,
      "outputs": []
    },
    {
      "cell_type": "markdown",
      "metadata": {
        "id": "0MaPl5CN8IVs"
      },
      "source": [
        "Svar: ..."
      ]
    },
    {
      "cell_type": "markdown",
      "metadata": {
        "id": "LtfVFWgqCAdw"
      },
      "source": [
        "**7**"
      ]
    },
    {
      "cell_type": "code",
      "metadata": {
        "id": "qfXJWlNYsWMS"
      },
      "source": [
        "# Lav et histogram over prisfordelingen og redegør kort for hvad der kan aflæses.\r\n",
        "\r\n",
        "sns.xxx"
      ],
      "execution_count": null,
      "outputs": []
    },
    {
      "cell_type": "markdown",
      "metadata": {
        "id": "WeNdE30B8L_J"
      },
      "source": [
        "Svar: ..."
      ]
    },
    {
      "cell_type": "markdown",
      "metadata": {
        "id": "xGZfV_oyCOUE"
      },
      "source": [
        "**8**"
      ]
    },
    {
      "cell_type": "code",
      "metadata": {
        "id": "0bo2-m4RuN5f"
      },
      "source": [
        "# Hvor mange forskellige typer udlejningsboliger findes der i data, og hvor mange observationer er der af hver? (brug variablen \"type\")\r\n",
        "xxx"
      ],
      "execution_count": null,
      "outputs": []
    },
    {
      "cell_type": "markdown",
      "metadata": {
        "id": "-osoev4CCjzO"
      },
      "source": [
        "9"
      ]
    },
    {
      "cell_type": "code",
      "metadata": {
        "id": "933zfD2osm32"
      },
      "source": [
        "# Vis median for \"price\" grupperet på \"type\" \r\n",
        "# Hvilken type er det dyreste?  \r\n",
        "df.xxx('xxx').xxx.xxx().xxx(ascending=xxx)"
      ],
      "execution_count": null,
      "outputs": []
    },
    {
      "cell_type": "markdown",
      "metadata": {
        "id": "LYEb9yEXNk4S"
      },
      "source": [
        "Svar: ..."
      ]
    },
    {
      "cell_type": "markdown",
      "metadata": {
        "id": "TS1k2LNBCmGK"
      },
      "source": [
        "10"
      ]
    },
    {
      "cell_type": "code",
      "metadata": {
        "id": "UI9Gn9_6u2Ew"
      },
      "source": [
        "# lav et boxplot over den gennemsnitlige \"price\" fordelt på type\r\n",
        "# Fortolk og samenlign \"appartment\" vs \"house\" ud fra boxplot for de 2 kategorier\r\n",
        "\r\n",
        "sns.xxx(xxx)"
      ],
      "execution_count": null,
      "outputs": []
    },
    {
      "cell_type": "markdown",
      "metadata": {
        "id": "hA4x2CEb8Rjz"
      },
      "source": [
        "Svar: ..."
      ]
    },
    {
      "cell_type": "markdown",
      "metadata": {
        "id": "UolsBzDmCq-v"
      },
      "source": [
        "11"
      ]
    },
    {
      "cell_type": "code",
      "metadata": {
        "id": "4dFknFjuvzAc"
      },
      "source": [
        "# Filtrer igen datasættet, denne gang med udgangspunkt  i de 5 mest udbredte boligtyper (apartment, house, townhouse, condo, duplex)\r\n",
        "# brug dette datasæt fremadrettet!!!\r\n",
        "df = df[xxx.isin([xxx, xxx])]"
      ],
      "execution_count": null,
      "outputs": []
    },
    {
      "cell_type": "markdown",
      "metadata": {
        "id": "zFF1WrzNDfBn"
      },
      "source": [
        "12"
      ]
    },
    {
      "cell_type": "code",
      "metadata": {
        "id": "s_fvgM0IxnXD"
      },
      "source": [
        "# Undersøg om boligerne er dyrere eller billigere hvis hunde er tilladt. \r\n",
        "# Brug krydstabulering på tværs af ovenstående filtrering, og aggreger median \r\n",
        "pd.xxx(xxx, xxx, values=xxx, aggfunc=xxx)"
      ],
      "execution_count": null,
      "outputs": []
    },
    {
      "cell_type": "code",
      "metadata": {
        "id": "v6CzGHRByE3x"
      },
      "source": [
        "#Undersøg ligeledes prisforskel ift. om katte er tilladte?\r\n",
        "pd.xxx(xxx, xxx, values=xxx, aggfunc=xxx)"
      ],
      "execution_count": null,
      "outputs": []
    },
    {
      "cell_type": "markdown",
      "metadata": {
        "id": "zKkd17CbD8sc"
      },
      "source": [
        "13"
      ]
    },
    {
      "cell_type": "code",
      "metadata": {
        "id": "z715Nlq2znFc"
      },
      "source": [
        "# Lav en \"kernel density estimation\" (kde) plot\r\n",
        "# hvor der vises en farve-opdeling på forskellige \"type\"\r\n",
        "# brug her seaborn's displot funktionen https://seaborn.pydata.org/generated/seaborn.displot.html#seaborn.displot\r\n",
        "\r\n",
        "sns.xxx(data = xxx, x=xxx, hue=xxx, kind='kde')"
      ],
      "execution_count": null,
      "outputs": []
    },
    {
      "cell_type": "markdown",
      "metadata": {
        "id": "pnEedmZTD-Sa"
      },
      "source": [
        "14"
      ]
    },
    {
      "cell_type": "code",
      "metadata": {
        "id": "vvC0T6tV0LMl"
      },
      "source": [
        "# Vis og forklar den prismæssige standardafvigelse for \"type\" - hvordan passer det sammen med  hvad der kan ses i boxplot og KDE?\r\n",
        "# Note: Sæt degrees of freedom til 0 (ddof=0)\r\n",
        "df.xxx('xxx').xxx.xxx(ddof=0) "
      ],
      "execution_count": null,
      "outputs": []
    },
    {
      "cell_type": "markdown",
      "metadata": {
        "id": "jjZ6AQYiOHA7"
      },
      "source": [
        "Svar: ..."
      ]
    },
    {
      "cell_type": "markdown",
      "metadata": {
        "id": "zeKGP4RtD_do"
      },
      "source": [
        "15"
      ]
    },
    {
      "cell_type": "code",
      "metadata": {
        "id": "W2EGLfrTeJnk"
      },
      "source": [
        "# giv et overblik over hvor mange observationer der er i hver stat ('state')\r\n",
        "xxx"
      ],
      "execution_count": null,
      "outputs": []
    },
    {
      "cell_type": "markdown",
      "metadata": {
        "id": "lDHgDusMEGuv"
      },
      "source": [
        "16"
      ]
    },
    {
      "cell_type": "code",
      "metadata": {
        "id": "KLIapqZ5cp22"
      },
      "source": [
        "# Generer et datasæt \"df_florida\", hvor der kun er observationer fra staten florida ('fl')\r\n",
        "df_florida = df.loc[df['xxx'] == xxx]"
      ],
      "execution_count": null,
      "outputs": []
    },
    {
      "cell_type": "code",
      "metadata": {
        "id": "_uCsz7RdeBpu"
      },
      "source": [
        "# Tjek hvor mange regioner der er i Florida, samt hvor mange observationer der er i hver\r\n",
        "xxx"
      ],
      "execution_count": null,
      "outputs": []
    },
    {
      "cell_type": "markdown",
      "metadata": {
        "id": "ZIqfQ5TbENX0"
      },
      "source": [
        "17"
      ]
    },
    {
      "cell_type": "code",
      "metadata": {
        "id": "fMmvMW1FeUpP"
      },
      "source": [
        "# Lav en oversigt over gennemsnitsprisen for hver region i Florida, og sorter fra højeste til laveste pris \r\n",
        "df_florida.xxx('xxx').xxx.xxx().xxx(ascending=False)"
      ],
      "execution_count": null,
      "outputs": []
    },
    {
      "cell_type": "markdown",
      "metadata": {
        "id": "4ghSwMSjEPWM"
      },
      "source": [
        "18"
      ]
    },
    {
      "cell_type": "code",
      "metadata": {
        "id": "6ELrbN6Jkf9a"
      },
      "source": [
        "#Find ud af om prisen korrelerer med boligstørrelsen ('sqfeet') for hele datasættet df_florida \r\n",
        "xxx"
      ],
      "execution_count": null,
      "outputs": []
    },
    {
      "cell_type": "markdown",
      "metadata": {
        "id": "QVP-rYowESve"
      },
      "source": [
        "19"
      ]
    },
    {
      "cell_type": "code",
      "metadata": {
        "id": "rsODaaU0g3Ru"
      },
      "source": [
        "# lav et afgrænset datasæt \"df_jv\", med observationer fra regionen Jacksonville, Florida \r\n",
        "df_jv = df.loc[(df['xxx'] == 'xxx') & (df['xxx'] == 'xxx')]"
      ],
      "execution_count": null,
      "outputs": []
    },
    {
      "cell_type": "markdown",
      "metadata": {
        "id": "JGjivbHyEUUB"
      },
      "source": [
        "20"
      ]
    },
    {
      "cell_type": "code",
      "metadata": {
        "id": "tnFcCORvg-82"
      },
      "source": [
        "#Tjek korrelationen mellem pris og boligstørrelse i Jacksonville, Florida\r\n",
        "# Forklar/fortolk forskellen i de to korrelationsberegninger (Florida vs Jacksonville)\r\n",
        "\r\n",
        "xxx"
      ],
      "execution_count": null,
      "outputs": []
    },
    {
      "cell_type": "markdown",
      "metadata": {
        "id": "YyTDntyEg6Nl"
      },
      "source": [
        "Svar: ..."
      ]
    },
    {
      "cell_type": "markdown",
      "metadata": {
        "id": "v4SEnOAOEXrn"
      },
      "source": [
        "21"
      ]
    },
    {
      "cell_type": "code",
      "metadata": {
        "id": "P0xQD2ZNlWmo"
      },
      "source": [
        "# visualiser, ved hjælp af et scatterplot (seaborn relplot), sammenhængen mellem \"price\" og \"sqfeet\" i Jacksonville, Florida\r\n",
        "sns.xxx(x=xxx, y=xxx, data=xxx)"
      ],
      "execution_count": null,
      "outputs": []
    },
    {
      "cell_type": "markdown",
      "metadata": {
        "id": "kllPzd0XEbPc"
      },
      "source": [
        "Den følgende del ser på priser og kriminalitet. Her bruger vi et datasæt med kriminalitetsstatistik fra US storbyer. Disse data skal aggregeres med huspris-datasættet på delstatsniveau. Derafter fortager vi korrelationsberegninger for at se, om prisniveauet korrelerer med kriminalitet.\n",
        "\n",
        "Data kan indlæses fra github: https://github.com/SDS-AAU/IntroStat/raw/master/Data/crime_per_city.csv\n",
        "\n",
        "22"
      ]
    },
    {
      "cell_type": "code",
      "metadata": {
        "id": "vBAAzTTL3WHS"
      },
      "source": [
        "# Indlæs data crime_per_city.csv\n",
        "crime = pd.read_csv(xxx)"
      ],
      "execution_count": null,
      "outputs": []
    },
    {
      "cell_type": "markdown",
      "metadata": {
        "id": "yyTCzQUsGoIH"
      },
      "source": [
        "23"
      ]
    },
    {
      "cell_type": "code",
      "metadata": {
        "id": "KJz6Oh8e5ejW"
      },
      "source": [
        "# beregn gennemsnitsværdier for 'Burglary','Violent Crime' på delstatsniveau ('state_abbr') som ny DataFrame crime_state\n",
        "# 'state_abbr' bliver index i denne DataFrame\n",
        "crime_state = crime.groupby('xxx')['xxx','xxx'].mean()"
      ],
      "execution_count": null,
      "outputs": []
    },
    {
      "cell_type": "markdown",
      "metadata": {
        "id": "2V3k9Dk8Gph8"
      },
      "source": [
        "24"
      ]
    },
    {
      "cell_type": "code",
      "metadata": {
        "id": "rDA4Hfge4uEj"
      },
      "source": [
        "# Generér et merget datasæt \"price_n_crime\" ud fra \"df\" og \"crime_state\".\n",
        "# aggreger huspriser og data om gennemsnitlig kriminalitet på delstatsstatsniveau (brug left_on='state', right_index = True som nøgle)\n",
        "price_n_crime = pd.merge(xxx, xxx, left_on=xxx, right_index = xxx)"
      ],
      "execution_count": null,
      "outputs": []
    },
    {
      "cell_type": "markdown",
      "metadata": {
        "id": "L8xYZywzGq-l"
      },
      "source": [
        "25"
      ]
    },
    {
      "cell_type": "code",
      "metadata": {
        "id": "8iR6mvfr5RVh"
      },
      "source": [
        "# brug price_n_crime DataFrame: beregn og fortolk korrelation for priser vs gennemsnitlige niveauer for indbrudstyveri (burglary)\n",
        "price_n_crime.price.corr(xxx)"
      ],
      "execution_count": null,
      "outputs": []
    },
    {
      "cell_type": "markdown",
      "metadata": {
        "id": "T59Rl_QYhA5p"
      },
      "source": [
        "Svar: ..."
      ]
    }
  ]
}