{
  "nbformat": 4,
  "nbformat_minor": 5,
  "metadata": {
    "kernelspec": {
      "display_name": "Python 3 (ipykernel)",
      "language": "python",
      "name": "python3"
    },
    "language_info": {
      "codemirror_mode": {
        "name": "ipython",
        "version": 3
      },
      "file_extension": ".py",
      "mimetype": "text/x-python",
      "name": "python",
      "nbconvert_exporter": "python",
      "pygments_lexer": "ipython3",
      "version": "3.9.7"
    },
    "colab": {
      "name": "Øvelse 2 - Gapminder.ipynb",
      "provenance": [],
      "collapsed_sections": [],
      "include_colab_link": true
    }
  },
  "cells": [
    {
      "cell_type": "markdown",
      "metadata": {
        "id": "view-in-github",
        "colab_type": "text"
      },
      "source": [
        "<a href=\"https://colab.research.google.com/github/RJuro/AS2021/blob/main/%C3%98velse_2_Gapminder.ipynb\" target=\"_parent\"><img src=\"https://colab.research.google.com/assets/colab-badge.svg\" alt=\"Open In Colab\"/></a>"
      ]
    },
    {
      "cell_type": "markdown",
      "metadata": {
        "id": "364698fb"
      },
      "source": [
        "# Øvelse 2 - Gapminder"
      ],
      "id": "364698fb"
    },
    {
      "cell_type": "markdown",
      "metadata": {
        "id": "a3feddf8"
      },
      "source": [
        "## Varians, Standardafvigelse og Visualisering\n",
        "\n",
        "I denne øvelse kommer vi til at bygge videre på de funktioner og færdigheder i lærte i Øvelse 1. \n",
        "Øvelsen kommer primært til at omhandle varians, standardafvigelse og hvordan vi kan sammenligne variabler. \n",
        "\n",
        "Varians er et mål for hvor meget en variable variere eller svinger. Varians beregnes ved at summere hvor meget hver enkelt datapunkt afviger fra gennemsnittet og tage gennemsnittet. Det vil sige at for at udregne variansen kigger man på hvert eneste datapunkt og trækker gennemsnittet fra, summere differencerne og dividerer med antallet af observationer (n):\n",
        "$$\\sigma^2 = \\frac{1}{n} * ((x_1 - \\bar{x})^2 + (x_2 - \\bar{x})^2 + ... + (x_n - \\bar{x})^2) = \\frac{1}{n} \\sum_{i=1}^{n}(x_i - \\bar{x})^2 $$\n",
        "Hvis det er første gang man støder ind i græske bogstaver, kan ovenstående godt virke lidt uoverskueligt. Varians er typisk betegnet med det græske bogstav sigma i anden potens ($\\sigma^2$). Det første græske bogstav i ovenstående er derfor betegnelsen for variansen. n er antallet af observationer i vores data.\n",
        "Når vi skriver en lige streg (bar) over en variabel er det for, at angive at det er gennemsnittet af variablen vi refererer til. $\\bar{x}$ er betegner derfor gennemsnittet af x.\n",
        "Det sidste græske bogstav vi ser er et stort sigma ($\\sigma$) som er brugt som summations tegn. Her menes der at vi vil beregne $(x_i - \\bar{x})^2$ for alle x mellen i=1 og n, hvor i er nummer et i rækken af x'er vi starter med og n er det totale antal af x'er. Når vi beregner variansen sætter vi differencen mellem det individuelle datapunkt x og gennemsnittet $\\bar{x}$ i anden, for at sørge for, at det er et positivt tal. \n",
        "\n",
        "For at beregne standardafvigelsen tager vi kvadratroden af variansen. Standardafvigelsen er betegnet som $\\sigma$. Forskellen på standardafvigelsen og variansen er at, variansen ikke er i samme størrelsesorden som vores data, fordi differencen er sat i anden. Variansen kan derfor godt være svær at drage konklusioner ud fra i forhold til vores data. Standardafvigelsen forsøger at gøre variansen sammenlignelig med dataen ved at tage kvadratroden af differencerne, og derfor tilbagebringe den til dataens størrelsesorden."
      ],
      "id": "a3feddf8"
    },
    {
      "cell_type": "code",
      "metadata": {
        "id": "32d2ce1e"
      },
      "source": [
        "# Vi importerer igen de nødvendige libraries.\n",
        "import pandas as pd # pandas til at arbejde med data i DataFrames.\n",
        "import numpy as np # numpy til at lave beregninger.\n",
        "import seaborn as sns # seaborn til at lave med visualiseringer.\n",
        "import matplotlib.pyplot as plt # pyplot til at lave visualiseringer\n",
        "\n",
        "sns.set() # Vi bruger seaborns plotstyle."
      ],
      "id": "32d2ce1e",
      "execution_count": null,
      "outputs": []
    },
    {
      "cell_type": "markdown",
      "metadata": {
        "id": "36595058"
      },
      "source": [
        "## Gapminder data\n",
        "\n",
        "Gapminder er en svensk organisation som forsøger, at oplyse omkring verdens tilstand gennem statistik og fremragende visualiseringer. Det er startet af Ola Rosling, Anna Rosling Rönnlund, and Hans Rosling. \n",
        "\n",
        "Hvis i vil have inspiration og en fornemmelse af hvordan simpelt data også kan visualiseres, så kig på de forskellige 'tools' de har hos Gapminder: https://www.gapminder.org/tools/#\n"
      ],
      "id": "36595058"
    },
    {
      "cell_type": "code",
      "metadata": {
        "id": "63b9120f"
      },
      "source": [
        "# Vi importerer vores data.\n",
        "df = pd.read_csv('https://raw.githubusercontent.com/STLinde/Anvendt-Statistik/main/gapminder_full.csv')"
      ],
      "id": "63b9120f",
      "execution_count": null,
      "outputs": []
    },
    {
      "cell_type": "markdown",
      "metadata": {
        "id": "cc7d1c8b"
      },
      "source": [
        "## 1: Overblik, Indledende Data Analyse"
      ],
      "id": "cc7d1c8b"
    },
    {
      "cell_type": "markdown",
      "metadata": {
        "id": "57442808"
      },
      "source": [
        "**NB: Skriv besvarelser og forklaringer på spørgsmålene i tekstboksene under hvert spørgsmål, efter i har skrevet den påkrævede kode og kørt den.**"
      ],
      "id": "57442808"
    },
    {
      "cell_type": "markdown",
      "metadata": {
        "id": "77dbe257"
      },
      "source": [
        "Når man begynder at arbejde med ny data, så er det altid en god idé at skabe sig et overblik over dataen, for at vide hvad man arbejder med. I Øvelse 1 så vi hvordan man kan bruge `head()` og `info()` til at skabe sig et overblik."
      ],
      "id": "77dbe257"
    },
    {
      "cell_type": "code",
      "metadata": {
        "id": "23e9ad05"
      },
      "source": [
        "# 1.1: Hvordan ser de første 5 rækker af dataen ud?\n",
        "# 1.2: Hvilke kolonner indeholder dataen?\n"
      ],
      "id": "23e9ad05",
      "execution_count": null,
      "outputs": []
    },
    {
      "cell_type": "markdown",
      "metadata": {
        "id": "d1629580"
      },
      "source": [
        "*1.1 Svar:*\n",
        "\n",
        "*1.2 Svar:*"
      ],
      "id": "d1629580"
    },
    {
      "cell_type": "code",
      "metadata": {
        "id": "07560d31"
      },
      "source": [
        "# 1.3: Er der manglende data i nogle af kolonnerne?\n",
        "# 1.4: Hvilke datatyper er der i vores dataset?\n"
      ],
      "id": "07560d31",
      "execution_count": null,
      "outputs": []
    },
    {
      "cell_type": "markdown",
      "metadata": {
        "id": "ad1a8177"
      },
      "source": [
        "*1.3 Svar:*\n",
        "\n",
        "*1.4 Svar:*"
      ],
      "id": "ad1a8177"
    },
    {
      "cell_type": "code",
      "metadata": {
        "id": "4ea5f972"
      },
      "source": [
        "# 1.5: I hvilket år starter vores data?\n"
      ],
      "id": "4ea5f972",
      "execution_count": null,
      "outputs": []
    },
    {
      "cell_type": "code",
      "metadata": {
        "id": "a9fbf131"
      },
      "source": [
        "# 1.6: I hvilket år slutter vores data? \n"
      ],
      "id": "a9fbf131",
      "execution_count": null,
      "outputs": []
    },
    {
      "cell_type": "markdown",
      "metadata": {
        "id": "76c4a91d"
      },
      "source": [
        "Det er nogle gange godt at vide hvor mange unikke kategorier kategorier der er i en kolonne i ens data. For at finde ud af det kan vi bruge pandas' indbyggede funktioner `.unique()` og `.nunique()`. Den første funktion `.unique()` returnerer en liste af unikke værdier i en kolonne og den anden funktion `.nunique()` returnerer antallet af unikke værdier i en kolonne. "
      ],
      "id": "76c4a91d"
    },
    {
      "cell_type": "code",
      "metadata": {
        "id": "6bbd47b9"
      },
      "source": [
        "# 1.7: Hvor mange lande er inkluderet i vores DataFrame?\n"
      ],
      "id": "6bbd47b9",
      "execution_count": null,
      "outputs": []
    },
    {
      "cell_type": "markdown",
      "metadata": {
        "id": "15b23d96"
      },
      "source": [
        "Når man arbejder med data i numeriske kolonner er det også tit en god ide, at se på hvordan gennemsnittet og medianen er. "
      ],
      "id": "15b23d96"
    },
    {
      "cell_type": "code",
      "metadata": {
        "id": "8bd3dc7d"
      },
      "source": [
        "# 1.8: Hvad er den gennemsnitlige levetid (life_exp)?\n"
      ],
      "id": "8bd3dc7d",
      "execution_count": null,
      "outputs": []
    },
    {
      "cell_type": "code",
      "metadata": {
        "id": "60d5ea27"
      },
      "source": [
        "# 1.9: Hvad er den gennemsnitlige gdp per capita (gdp_cap)?\n"
      ],
      "id": "60d5ea27",
      "execution_count": null,
      "outputs": []
    },
    {
      "cell_type": "code",
      "metadata": {
        "id": "417b1820"
      },
      "source": [
        "# 1.10: Hvad er den gennemsnitlige levetid per kontinent?\n"
      ],
      "id": "417b1820",
      "execution_count": null,
      "outputs": []
    },
    {
      "cell_type": "code",
      "metadata": {
        "id": "e1440c9c"
      },
      "source": [
        "# 1.11 Hvad er den gennemsnitlige gdp per capita per kontinent?\n"
      ],
      "id": "e1440c9c",
      "execution_count": null,
      "outputs": []
    },
    {
      "cell_type": "markdown",
      "metadata": {
        "id": "0e1196a4"
      },
      "source": [
        "*1.12: Baseret på de ovenstående gennemsnit hvad kan du sige omkring fordelingen af gdp per capita og gennemsnitlig levetid på kontinenterne?*"
      ],
      "id": "0e1196a4"
    },
    {
      "cell_type": "markdown",
      "metadata": {
        "id": "ee5926e1"
      },
      "source": [
        "*1.12 Svar:*"
      ],
      "id": "ee5926e1"
    },
    {
      "cell_type": "markdown",
      "metadata": {
        "id": "22199a8c"
      },
      "source": [
        "## 2: Kvantiler, Varians og Standardafvigelse"
      ],
      "id": "22199a8c"
    },
    {
      "cell_type": "markdown",
      "metadata": {
        "id": "342188c0"
      },
      "source": [
        "I dette afsnit af øvelsen kommer vi til at se på kvantiler indledningsvist, og derefter bevæger vi os over i beregning af varians og standardafvigelse."
      ],
      "id": "342188c0"
    },
    {
      "cell_type": "markdown",
      "metadata": {
        "id": "a01b423b"
      },
      "source": [
        "Som i den netop overståede peergrade kan i beregne kvantiler ved brug af `.quantile` funktionen, dette giver et godt overblik over hvordan dataen er fordelt."
      ],
      "id": "a01b423b"
    },
    {
      "cell_type": "code",
      "metadata": {
        "id": "a2ce7526"
      },
      "source": [
        "# 2.1: Beregn 25., 50., 75., og 97,5. kvantiler for gdp per capita:\n"
      ],
      "id": "a2ce7526",
      "execution_count": null,
      "outputs": []
    },
    {
      "cell_type": "markdown",
      "metadata": {
        "id": "8ba1ad9d"
      },
      "source": [
        "*2.2: Hvad siger dette om fordelingen af gdp per capita?*\n",
        "Svar:"
      ],
      "id": "8ba1ad9d"
    },
    {
      "cell_type": "code",
      "metadata": {
        "id": "6127985c"
      },
      "source": [
        "# 2.3: Beregn 25., 50., 75. og 97.5, kvantiler for levetiden:\n"
      ],
      "id": "6127985c",
      "execution_count": null,
      "outputs": []
    },
    {
      "cell_type": "markdown",
      "metadata": {
        "id": "a9442b99"
      },
      "source": [
        "*2.4: Hvad siger dette om fordelingen af levetiden?* Svar:"
      ],
      "id": "a9442b99"
    },
    {
      "cell_type": "markdown",
      "metadata": {
        "id": "5292bc4f"
      },
      "source": [
        "For at se kvantiler og anden beskrivende statistik om en kollonne i en DataFrame kan man også bruge funktionen `.describe()`."
      ],
      "id": "5292bc4f"
    },
    {
      "cell_type": "code",
      "metadata": {
        "id": "27ebe672"
      },
      "source": [
        "# 2.5: Beregn kvantiler og anden beskrivende statistik for gdp per capita:\n"
      ],
      "id": "27ebe672",
      "execution_count": null,
      "outputs": []
    },
    {
      "cell_type": "code",
      "metadata": {
        "id": "08208978"
      },
      "source": [
        "# 2.6: Beregn kvantiler og anden beskrivende statistik for levetiden: \n"
      ],
      "id": "08208978",
      "execution_count": null,
      "outputs": []
    },
    {
      "cell_type": "markdown",
      "metadata": {
        "id": "702a84f3"
      },
      "source": [
        "Nu bevæger vi os over i beregning af varians og standardafvigelse. Først vil vi 'manuelt' beregne variansen og standardafvigelsen og derefter bruger vi numpy til at løse samme opgave."
      ],
      "id": "702a84f3"
    },
    {
      "cell_type": "markdown",
      "metadata": {
        "id": "d277e994"
      },
      "source": [
        "Variansen er som tidligere beskrevet ved at trække hver individuel observation fra gennemsnittet og sætte differencen i anden, summere det og dividere med antallet af observationer for, at få den gennemsnitlige difference."
      ],
      "id": "d277e994"
    },
    {
      "cell_type": "markdown",
      "metadata": {
        "id": "4287647c"
      },
      "source": [
        "Vi beregner først differencerne i en variabel `diff`, sætter dem i anden i en variabel `diff_sq`, summerer og dividerer med antallet af observationer i variablen `varians`. NB: Når noget skal sættes i anden potens i python bruges `**2`"
      ],
      "id": "4287647c"
    },
    {
      "cell_type": "code",
      "metadata": {
        "id": "ef137124"
      },
      "source": [
        "# 2.7: Udfyld manglende kode så vi beregner variansen for levetiden: \n",
        "diff = df[___] - df[___].___()\n",
        "diff_sq = diff ___\n",
        "varians = sum(___) / len(___)\n",
        "varians"
      ],
      "id": "ef137124",
      "execution_count": null,
      "outputs": []
    },
    {
      "cell_type": "markdown",
      "metadata": {
        "id": "c86c9e80"
      },
      "source": [
        "Ovenfor har vi brugt to nye funktioner `sum()` og `len()`. `sum()` bruges til at beregne summen af en kolonne, liste, array og lignende. `len()` bruges til at beregne hvor mange observationer eller items der er i en kolonne, list, array og lignende. "
      ],
      "id": "c86c9e80"
    },
    {
      "cell_type": "markdown",
      "metadata": {
        "id": "f3afb6a2"
      },
      "source": [
        "Vi kan også bruge numpy til at finde variansen. Her bruger vi funktionen `np.var()`, den giver samme resultat som den udregning vi lige har lavet."
      ],
      "id": "f3afb6a2"
    },
    {
      "cell_type": "code",
      "metadata": {
        "id": "8b2d2056"
      },
      "source": [
        "# 2.8: Beregn variansen vha. numpy for levetiden: \n"
      ],
      "id": "8b2d2056",
      "execution_count": null,
      "outputs": []
    },
    {
      "cell_type": "code",
      "metadata": {
        "id": "d9762759"
      },
      "source": [
        "# 2.9: Beregn variansen vha. numpy for gdp per capita: \n"
      ],
      "id": "d9762759",
      "execution_count": null,
      "outputs": []
    },
    {
      "cell_type": "markdown",
      "metadata": {
        "id": "7a04b515"
      },
      "source": [
        "Variansen er et kvantitativt mål for hvor stor spredning der er i vores data. Den kan dog være svær, at udlede noget af som den er her. Vi vil derfor udregne standardafvigelsen for levetiden pba. vores variabel `varians`. Husk at for at finde standardafvigelsen skal man tage kvadratroden af variansen. Dette kan gøres vha. numpy funktionen `np.sqrt()`"
      ],
      "id": "7a04b515"
    },
    {
      "cell_type": "code",
      "metadata": {
        "id": "9402ab27"
      },
      "source": [
        "# 2.10: Udregn standardafvigelsen af levetiden vha. vores variabel 'varians' og numpy funktionen np.sqrt()\n"
      ],
      "id": "9402ab27",
      "execution_count": null,
      "outputs": []
    },
    {
      "cell_type": "markdown",
      "metadata": {
        "id": "998e1e58"
      },
      "source": [
        "Igen kan vi også udregne standardafvigelsen direkte fra numpy, hvilket gør det noget nemmere. Her bruger vi funktionen `np.std()`."
      ],
      "id": "998e1e58"
    },
    {
      "cell_type": "code",
      "metadata": {
        "id": "f854a2b6"
      },
      "source": [
        "# 2.11: Udregn standardafvigelsen af levetiden vha. numpy\n"
      ],
      "id": "f854a2b6",
      "execution_count": null,
      "outputs": []
    },
    {
      "cell_type": "code",
      "metadata": {
        "id": "2245e6a5"
      },
      "source": [
        "# 2.12: Udregn standardafvigelsen af gdp per capita vha. numpy\n"
      ],
      "id": "2245e6a5",
      "execution_count": null,
      "outputs": []
    },
    {
      "cell_type": "markdown",
      "metadata": {
        "id": "5213a20b"
      },
      "source": [
        "*2.13: Hvad fortæller standardafvigelserne os om spredningen af levetiden og gdp_cap?* Svar:"
      ],
      "id": "5213a20b"
    },
    {
      "cell_type": "markdown",
      "metadata": {
        "id": "d7e1fc54"
      },
      "source": [
        "## 3: Visualisering"
      ],
      "id": "d7e1fc54"
    },
    {
      "cell_type": "markdown",
      "metadata": {
        "id": "24c3f98f"
      },
      "source": [
        "De næste opgaver kommer til at omhandle hvordan vi kan visualisere vores data."
      ],
      "id": "24c3f98f"
    },
    {
      "cell_type": "markdown",
      "metadata": {
        "id": "2aea1dd6"
      },
      "source": [
        "Ved hjælp af matplotlib.pyplot (plt) kan vi kontrollere vores visualiseringer, give dem titler osv."
      ],
      "id": "2aea1dd6"
    },
    {
      "cell_type": "markdown",
      "metadata": {
        "id": "b0b38ad3"
      },
      "source": [
        "For at se spredningen af dataen kan vi bruge et boxplot. Et boxplot viser os kvantiler, median og outliers. \n",
        "For at lave et boxplot kan vi bruge seaborn: `sns.boxplot(data=df, x=kolonne)`"
      ],
      "id": "b0b38ad3"
    },
    {
      "cell_type": "code",
      "metadata": {
        "id": "bf5bff9d"
      },
      "source": [
        "# 3.1: Lav et boxplot af levetiden i 2007:\n",
        "# Brug df[df['country'] == 'Denmark'] som data.\n",
        "plt.figure(figsize=(10,5)) # Vi definerer her størrelsen på vores plot.\n",
        "plt.title('Spredning Levetid') # Vi definerer her titlen på vores plot.\n",
        "\n",
        "sns.boxplot(data=___, x=___)\n"
      ],
      "id": "bf5bff9d",
      "execution_count": null,
      "outputs": []
    },
    {
      "cell_type": "code",
      "metadata": {
        "id": "b6bf68d5"
      },
      "source": [
        "# 3.2: Lav et boxplot af levetiden i 1952:\n",
        "plt.figure(figsize=(10,5)) # Vi definerer her størrelsen på vores plot.\n",
        "plt.title('Spredning GDP per Capita') # Vi definerer her titlen på vores plot.\n",
        "\n",
        "sns.boxplot(data=___, x=___)"
      ],
      "id": "b6bf68d5",
      "execution_count": null,
      "outputs": []
    },
    {
      "cell_type": "markdown",
      "metadata": {
        "id": "89f501b6"
      },
      "source": [
        "*3.3: Hvad fortæller de to boxplots om udviklingen af spredningen i levetid?* Svar:"
      ],
      "id": "89f501b6"
    },
    {
      "cell_type": "markdown",
      "metadata": {
        "id": "5007a18e"
      },
      "source": [
        "Scatterplots kan bruges til at se forholdet mellem to variable. For hver observation dannes der en prik som angiver hvordan værdien for hhv. x-aksen og y-aksen. Vi kan også kategorisere prikkerne med `hue` og `size` i seaborn. Dette giver os et mere nuanceret blik for hvordan forholdet er i forhold til de kategorier vi bruger."
      ],
      "id": "5007a18e"
    },
    {
      "cell_type": "code",
      "metadata": {
        "scrolled": false,
        "id": "e30a19dc"
      },
      "source": [
        "# 3.4: Lav et scatterplot med x som gdp_cap, y som life_exp, hue som continent og size som population.\n",
        "# Brug data fra 2007, df_2007\n",
        "df_2007 = df[df['year'] == 2007] # Vi definerer DataFramen vi skal bruge, men data fra 2007.\n",
        "\n",
        "plt.figure(figsize=(12,8)) # Vi definerer størrelsen på scatterplottet. \n",
        "sns.scatterplot(\n",
        "    x=___,\n",
        "    y=___,\n",
        "    hue=___,\n",
        "    size=___,\n",
        "    sizes=(100, 1000) # Vi definerer størrelserne på \n",
        ")"
      ],
      "id": "e30a19dc",
      "execution_count": null,
      "outputs": []
    },
    {
      "cell_type": "markdown",
      "metadata": {
        "id": "589305a0"
      },
      "source": [
        "*3.5: Hvad kan man udlede af ovenstående plot omkring levetid og gdp per capita?* Svar:"
      ],
      "id": "589305a0"
    },
    {
      "cell_type": "markdown",
      "metadata": {
        "id": "1bf2b2b4"
      },
      "source": [
        "I seaborn kan man bruge `FacetGrid` til at lave flere visualiseringer på en gang. På denne måde kan man angive en kategori for sine visualiseringer og dermed holde forskellige kategorier op mod hinanden. \n",
        "I `FacetGrid` angiver man hvilken DataFrame man vil bruge, hvordan den skal være delt op (kolonner).\n",
        "Derefter bruger man `g.map()` til at angive hvilket plot man vil bruge, hvad x og y værdierne skal være og andre parametre der gør sig gældende for det specifikke plot."
      ],
      "id": "1bf2b2b4"
    },
    {
      "cell_type": "code",
      "metadata": {
        "id": "0972f26b"
      },
      "source": [
        "# 3.6: Udfyld nedenstående facetgrid og histplot, så continent bruges som opdeler i kolonnerne, year bruges som x akse og\n",
        "# levetid som y-akse\n",
        "g = sns.FacetGrid(___, col='___', col_wrap=2, sharex=False)\n",
        "g.map(sns.___, '___', kde=True)"
      ],
      "id": "0972f26b",
      "execution_count": null,
      "outputs": []
    },
    {
      "cell_type": "markdown",
      "metadata": {
        "id": "c10bce3f"
      },
      "source": [
        "*3.8: Hvad fortæller de ovenstående plots os omkring udviklingen af levetid over årene på de forskellige kontinenter?* Svar:"
      ],
      "id": "c10bce3f"
    }
  ]
}